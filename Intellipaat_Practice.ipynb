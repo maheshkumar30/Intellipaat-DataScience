{
  "cells": [
    {
      "cell_type": "markdown",
      "metadata": {
        "id": "view-in-github",
        "colab_type": "text"
      },
      "source": [
        "<a href=\"https://colab.research.google.com/github/maheshkumar30/Intellipaat-DataScience/blob/main/Intellipaat_Practice.ipynb\" target=\"_parent\"><img src=\"https://colab.research.google.com/assets/colab-badge.svg\" alt=\"Open In Colab\"/></a>"
      ]
    },
    {
      "cell_type": "code",
      "execution_count": null,
      "id": "0b42cfdd-ef64-43a3-a6fe-e431305ed96f",
      "metadata": {
        "id": "0b42cfdd-ef64-43a3-a6fe-e431305ed96f",
        "outputId": "3410865c-08d3-467d-9475-3b64d123f8b5"
      },
      "outputs": [
        {
          "name": "stdout",
          "output_type": "stream",
          "text": [
            "Mahesh\n"
          ]
        }
      ],
      "source": [
        "a=\"Mahesh\"\n",
        "print(a)"
      ]
    },
    {
      "cell_type": "code",
      "execution_count": null,
      "id": "f9e801b5-2660-40bf-911d-ddd001009908",
      "metadata": {
        "id": "f9e801b5-2660-40bf-911d-ddd001009908",
        "outputId": "1832b4f0-ab0a-40f5-c268-0ba13c1a4ddf"
      },
      "outputs": [
        {
          "name": "stdout",
          "output_type": "stream",
          "text": [
            "Hello World!\n"
          ]
        }
      ],
      "source": [
        "print(\"Hello World!\")"
      ]
    },
    {
      "cell_type": "code",
      "execution_count": null,
      "id": "26c67f35-2963-46a5-81ab-47b10714ae9f",
      "metadata": {
        "id": "26c67f35-2963-46a5-81ab-47b10714ae9f",
        "outputId": "104fd78a-5c5f-4a1e-b5b6-19ca09090198"
      },
      "outputs": [
        {
          "data": {
            "text/plain": [
              "10"
            ]
          },
          "execution_count": 4,
          "metadata": {},
          "output_type": "execute_result"
        }
      ],
      "source": [
        "x=10\n",
        "x"
      ]
    },
    {
      "cell_type": "code",
      "execution_count": null,
      "id": "2304c955-c194-4004-89b8-cead9f4ee5b4",
      "metadata": {
        "id": "2304c955-c194-4004-89b8-cead9f4ee5b4"
      },
      "outputs": [],
      "source": [
        "x=10\n",
        "y=\"Mahesh\"\n",
        "z=True"
      ]
    },
    {
      "cell_type": "code",
      "execution_count": null,
      "id": "903b84ed-07b0-48be-b006-4880673b2e16",
      "metadata": {
        "id": "903b84ed-07b0-48be-b006-4880673b2e16",
        "outputId": "d951eaf6-afaa-44a1-8009-277311160559"
      },
      "outputs": [
        {
          "name": "stdout",
          "output_type": "stream",
          "text": [
            "<class 'int'>\n",
            "<class 'str'>\n",
            "<class 'bool'>\n"
          ]
        }
      ],
      "source": [
        "print(type(x))\n",
        "print(type(y))\n",
        "print(type(z))"
      ]
    },
    {
      "cell_type": "markdown",
      "id": "e740d22a-d097-4089-b2f5-4941719b2559",
      "metadata": {
        "id": "e740d22a-d097-4089-b2f5-4941719b2559"
      },
      "source": [
        "# List"
      ]
    },
    {
      "cell_type": "code",
      "execution_count": null,
      "id": "36679ec2-4f47-4c0a-b64b-ef4549eb0b3e",
      "metadata": {
        "id": "36679ec2-4f47-4c0a-b64b-ef4549eb0b3e",
        "outputId": "0a4f09b0-ad0c-40e1-d59c-829367f98abe"
      },
      "outputs": [
        {
          "name": "stdout",
          "output_type": "stream",
          "text": [
            "[1, 2, 3, 4]\n",
            "4\n",
            "[2, 3, 4]\n",
            "[4, 3, 2, 1]\n"
          ]
        }
      ],
      "source": [
        "l1=[1,2,3,4]\n",
        "print(l1)\n",
        "print(l1[3])\n",
        "print(l1[1:])\n",
        "print(l1[::-1])"
      ]
    },
    {
      "cell_type": "code",
      "execution_count": null,
      "id": "aa2870c2-c9c6-485d-a7fb-73aa1fc2c288",
      "metadata": {
        "id": "aa2870c2-c9c6-485d-a7fb-73aa1fc2c288",
        "outputId": "25223723-7aa7-4149-d8c8-b15119e6349c"
      },
      "outputs": [
        {
          "name": "stdout",
          "output_type": "stream",
          "text": [
            "['a', 'b', 'c', 'd', 'e', 'mahesh']\n",
            "['a', 'b', 'c', 'mahesh', 'd', 'e', 'mahesh']\n",
            "['a', 'b', 'c', 'd', 'e', 'mahesh']\n"
          ]
        }
      ],
      "source": [
        "l1=[\"a\",\"b\",\"c\",\"d\",\"e\"]\n",
        "l1.append(\"mahesh\")\n",
        "print(l1)\n",
        "l1.insert(3,\"mahesh\")\n",
        "print(l1)\n",
        "l1.remove(\"mahesh\")\n",
        "print(l1)"
      ]
    },
    {
      "cell_type": "code",
      "execution_count": null,
      "id": "15f34caa-7ec3-4e8d-85c2-a2c281fd588a",
      "metadata": {
        "id": "15f34caa-7ec3-4e8d-85c2-a2c281fd588a",
        "outputId": "450d21db-ecfb-484e-a55e-dcee08a616ef"
      },
      "outputs": [
        {
          "name": "stdout",
          "output_type": "stream",
          "text": [
            "6\n",
            "1\n",
            "5\n"
          ]
        }
      ],
      "source": [
        "print(len(l1))\n",
        "print(l1.count(\"mahesh\"))\n",
        "print(l1.index(\"mahesh\"))"
      ]
    },
    {
      "cell_type": "markdown",
      "id": "5eb76301-b66e-4cd6-a3f2-99ef8c249fd7",
      "metadata": {
        "id": "5eb76301-b66e-4cd6-a3f2-99ef8c249fd7"
      },
      "source": [
        "# Tuple"
      ]
    },
    {
      "cell_type": "code",
      "execution_count": null,
      "id": "16baf419-c62e-4f59-bb23-99db7d5022d7",
      "metadata": {
        "id": "16baf419-c62e-4f59-bb23-99db7d5022d7",
        "outputId": "a451d197-7c8d-4915-a771-036a32d4d85a"
      },
      "outputs": [
        {
          "data": {
            "text/plain": [
              "2"
            ]
          },
          "execution_count": 33,
          "metadata": {},
          "output_type": "execute_result"
        }
      ],
      "source": [
        "t1=(1,2,3,4,5,6)\n",
        "t1.count(2)\n",
        "t1.index(3)\n"
      ]
    },
    {
      "cell_type": "markdown",
      "id": "e2dd6c47-dc1f-4fbd-a149-b478723ea5ed",
      "metadata": {
        "id": "e2dd6c47-dc1f-4fbd-a149-b478723ea5ed"
      },
      "source": [
        "# String"
      ]
    },
    {
      "cell_type": "code",
      "execution_count": null,
      "id": "e43cb111-8669-463e-82b6-56f8332c744e",
      "metadata": {
        "id": "e43cb111-8669-463e-82b6-56f8332c744e",
        "outputId": "16219676-f0e5-4015-89f5-f4e0551c804f"
      },
      "outputs": [
        {
          "name": "stdout",
          "output_type": "stream",
          "text": [
            "Mahesh Kumar\n"
          ]
        }
      ],
      "source": [
        "a=\"Mahesh Kumar\"\n",
        "print(a)"
      ]
    },
    {
      "cell_type": "code",
      "execution_count": null,
      "id": "eb2b14d7-4bf4-4804-a3f9-eeda75501e31",
      "metadata": {
        "id": "eb2b14d7-4bf4-4804-a3f9-eeda75501e31",
        "outputId": "991153fb-5649-4134-93e0-d06b0f56d0de"
      },
      "outputs": [
        {
          "name": "stdout",
          "output_type": "stream",
          "text": [
            "12\n"
          ]
        }
      ],
      "source": [
        "print(len(a))"
      ]
    },
    {
      "cell_type": "code",
      "execution_count": null,
      "id": "c7d1ed6f-a726-4963-ba9c-c3a025567aa7",
      "metadata": {
        "id": "c7d1ed6f-a726-4963-ba9c-c3a025567aa7",
        "outputId": "dcce5dc0-6454-499a-bee6-b9b948aa91d4"
      },
      "outputs": [
        {
          "name": "stdout",
          "output_type": "stream",
          "text": [
            "Mahesh\n",
            "Kumar\n"
          ]
        }
      ],
      "source": [
        "First_name=a[:6]\n",
        "Second_name=a[7:]\n",
        "print(First_name)\n",
        "print(Second_name)"
      ]
    },
    {
      "cell_type": "code",
      "execution_count": null,
      "id": "acfe3d60-e3d4-43b2-984e-dc49022890af",
      "metadata": {
        "id": "acfe3d60-e3d4-43b2-984e-dc49022890af",
        "outputId": "2a2a8d9e-0ad2-4240-8855-4481b18dd35f"
      },
      "outputs": [
        {
          "name": "stdout",
          "output_type": "stream",
          "text": [
            "this is the class for python\n",
            "This is the class for python\n",
            "This Is The Class For Python\n",
            "False\n",
            "True\n"
          ]
        }
      ],
      "source": [
        "x=\"This Is THE class for python\"\n",
        "y=x.lower()\n",
        "print(y)\n",
        "z=x.capitalize()\n",
        "print(z)\n",
        "a=x.title()\n",
        "print(a)\n",
        "b=x.isupper()\n",
        "print(b)\n",
        "c=y.islower()\n",
        "print(c)"
      ]
    },
    {
      "cell_type": "code",
      "execution_count": null,
      "id": "ffe8ac65-97ee-4ee4-9689-6c435f978448",
      "metadata": {
        "id": "ffe8ac65-97ee-4ee4-9689-6c435f978448",
        "outputId": "fbb1a732-66e9-4b01-c743-27c6acbd95c1"
      },
      "outputs": [
        {
          "name": "stdout",
          "output_type": "stream",
          "text": [
            "m\n"
          ]
        }
      ],
      "source": [
        "x=\"       m                 \"\n",
        "print(x.strip())"
      ]
    },
    {
      "cell_type": "markdown",
      "id": "4742b0eb-075d-40a1-85ef-02b0f39a4e56",
      "metadata": {
        "id": "4742b0eb-075d-40a1-85ef-02b0f39a4e56"
      },
      "source": [
        "# Sets"
      ]
    },
    {
      "cell_type": "code",
      "execution_count": null,
      "id": "aeb552fa-68d2-4839-b428-bf784ea15269",
      "metadata": {
        "id": "aeb552fa-68d2-4839-b428-bf784ea15269",
        "outputId": "a565e29c-02fb-434a-cf71-46df8e787efd"
      },
      "outputs": [
        {
          "data": {
            "text/plain": [
              "6"
            ]
          },
          "execution_count": 47,
          "metadata": {},
          "output_type": "execute_result"
        }
      ],
      "source": [
        "x={1,2,3,4,6,7}\n",
        "len(x)"
      ]
    },
    {
      "cell_type": "code",
      "execution_count": null,
      "id": "7a1f3f62-4c01-45fa-a871-6271aa502b55",
      "metadata": {
        "id": "7a1f3f62-4c01-45fa-a871-6271aa502b55"
      },
      "outputs": [],
      "source": [
        "x.add(10)"
      ]
    },
    {
      "cell_type": "code",
      "execution_count": null,
      "id": "9dbeb5a8-405e-404e-8d5c-0f8498004ebc",
      "metadata": {
        "id": "9dbeb5a8-405e-404e-8d5c-0f8498004ebc",
        "outputId": "ed1f372a-6359-4a14-e5c4-d9a03b933bf5"
      },
      "outputs": [
        {
          "name": "stdout",
          "output_type": "stream",
          "text": [
            "{1, 2, 3, 4, 6, 7, 10}\n"
          ]
        }
      ],
      "source": [
        "print(x)"
      ]
    },
    {
      "cell_type": "code",
      "execution_count": null,
      "id": "2661d0cd-0fe7-492e-af19-78ebda50760d",
      "metadata": {
        "id": "2661d0cd-0fe7-492e-af19-78ebda50760d",
        "outputId": "02501838-483f-464a-bb09-f1edc873eead"
      },
      "outputs": [
        {
          "name": "stdout",
          "output_type": "stream",
          "text": [
            "2\n"
          ]
        }
      ],
      "source": [
        "z=x.pop()\n",
        "print(z)"
      ]
    },
    {
      "cell_type": "code",
      "execution_count": null,
      "id": "b7f153d3-2e36-4dba-9e5d-977ea0940017",
      "metadata": {
        "id": "b7f153d3-2e36-4dba-9e5d-977ea0940017",
        "outputId": "a9f2b71a-8baa-4315-a9cd-96b7bab5b98a"
      },
      "outputs": [
        {
          "name": "stdout",
          "output_type": "stream",
          "text": [
            "{1, 2, 3, 4, 5, 6}\n",
            "{3, 4}\n"
          ]
        }
      ],
      "source": [
        "s1={1,2,3,4}\n",
        "s2={3,4,5,6}\n",
        "print(s1.union(s2))\n",
        "print(s1.intersection(s2))"
      ]
    },
    {
      "cell_type": "code",
      "execution_count": null,
      "id": "e15662ec-ee71-40d9-8010-68974b365ae9",
      "metadata": {
        "id": "e15662ec-ee71-40d9-8010-68974b365ae9",
        "outputId": "5d4f80f7-bc8e-4dde-ffe3-b70346337d32"
      },
      "outputs": [
        {
          "name": "stdout",
          "output_type": "stream",
          "text": [
            "{1, 2, 3, 4, 5, 6}\n",
            "{3, 4}\n",
            "{1, 2, 5, 6}\n"
          ]
        }
      ],
      "source": [
        "print(s1 | s2)\n",
        "print(s1 & s2)\n",
        "print(s1 ^ s2)"
      ]
    },
    {
      "cell_type": "markdown",
      "id": "1a9b5308-3887-481f-b09d-c0301e7d82c8",
      "metadata": {
        "id": "1a9b5308-3887-481f-b09d-c0301e7d82c8"
      },
      "source": [
        "# Dictionary"
      ]
    },
    {
      "cell_type": "code",
      "execution_count": null,
      "id": "f15b47df-59d0-48f5-90d9-6cb1953886af",
      "metadata": {
        "id": "f15b47df-59d0-48f5-90d9-6cb1953886af",
        "outputId": "a61e415d-06d7-4187-b055-9ec01967838d"
      },
      "outputs": [
        {
          "name": "stdout",
          "output_type": "stream",
          "text": [
            "{'Name': 'Mahesh', 'Age': 22, 'Branch': 'CSE(AI)'}\n"
          ]
        }
      ],
      "source": [
        "d={\"Name\" : \"Mahesh\",\n",
        "   \"Age\": 22,\n",
        "   \"Branch\": \"CSE(AI)\"}\n",
        "print(d)"
      ]
    },
    {
      "cell_type": "code",
      "execution_count": null,
      "id": "75ae5bdc-df93-4405-a8ff-c6351f2bd87c",
      "metadata": {
        "id": "75ae5bdc-df93-4405-a8ff-c6351f2bd87c",
        "outputId": "2009001c-5dfe-4b8b-81d6-1565938edef8"
      },
      "outputs": [
        {
          "name": "stdout",
          "output_type": "stream",
          "text": [
            "{'Name': 'Mahesh', 'Age': 22, 'Branch': 'CSE(AI)', 'Place': 'Yemmiganur'}\n"
          ]
        }
      ],
      "source": [
        "d[\"Place\"]=\"Yemmiganur\"\n",
        "print(d)"
      ]
    },
    {
      "cell_type": "code",
      "execution_count": null,
      "id": "aa8460da-f1b7-4b33-9710-f591ed4c4dcd",
      "metadata": {
        "id": "aa8460da-f1b7-4b33-9710-f591ed4c4dcd",
        "outputId": "887e5fbd-77d2-457b-979b-10b7234e48d5"
      },
      "outputs": [
        {
          "data": {
            "text/plain": [
              "dict_keys(['Name', 'Age', 'Branch', 'Place'])"
            ]
          },
          "execution_count": 59,
          "metadata": {},
          "output_type": "execute_result"
        }
      ],
      "source": [
        "d.keys()"
      ]
    },
    {
      "cell_type": "code",
      "execution_count": null,
      "id": "1914b3f8-f82b-4bf1-aab2-a621befa8d29",
      "metadata": {
        "id": "1914b3f8-f82b-4bf1-aab2-a621befa8d29",
        "outputId": "1db5c0b0-044c-4d2c-d215-96b982e4c01f"
      },
      "outputs": [
        {
          "data": {
            "text/plain": [
              "dict_values(['Mahesh', 22, 'CSE(AI)', 'Yemmiganur'])"
            ]
          },
          "execution_count": 61,
          "metadata": {},
          "output_type": "execute_result"
        }
      ],
      "source": [
        "d.values()"
      ]
    },
    {
      "cell_type": "code",
      "execution_count": null,
      "id": "cab16238-f735-4693-b715-891076349061",
      "metadata": {
        "id": "cab16238-f735-4693-b715-891076349061",
        "outputId": "ec15b482-1581-4060-f1d7-d6505a770c06"
      },
      "outputs": [
        {
          "data": {
            "text/plain": [
              "dict_items([('Name', 'Mahesh'), ('Age', 22), ('Branch', 'CSE(AI)'), ('Place', 'Yemmiganur')])"
            ]
          },
          "execution_count": 62,
          "metadata": {},
          "output_type": "execute_result"
        }
      ],
      "source": [
        "d.items()"
      ]
    },
    {
      "cell_type": "markdown",
      "id": "744dd86a-ccd7-49dd-9fb5-ebb6087d2aac",
      "metadata": {
        "id": "744dd86a-ccd7-49dd-9fb5-ebb6087d2aac"
      },
      "source": [
        "# Conditional Statements\n",
        "1. if\n",
        "2. if else\n",
        "3. if elif else\n",
        "4. nested if"
      ]
    },
    {
      "cell_type": "code",
      "execution_count": null,
      "id": "7d5628c4-ba12-401a-97aa-39170d7ee4ed",
      "metadata": {
        "id": "7d5628c4-ba12-401a-97aa-39170d7ee4ed",
        "outputId": "356d663b-baad-42ae-bfe5-4a06dfbf9cb7"
      },
      "outputs": [
        {
          "name": "stdin",
          "output_type": "stream",
          "text": [
            "Enter your age: 22\n"
          ]
        },
        {
          "name": "stdout",
          "output_type": "stream",
          "text": [
            "Your are eligible to vote\n"
          ]
        }
      ],
      "source": [
        "age=int(input(\"Enter your age:\"))\n",
        "if age >= 18:\n",
        "    print(\"Your are eligible to vote\")\n",
        "else:\n",
        "    print(\"you are not eligible to vote\")"
      ]
    },
    {
      "cell_type": "code",
      "execution_count": null,
      "id": "a4360e1e-d856-4e43-b1c5-3db9a037b9d3",
      "metadata": {
        "id": "a4360e1e-d856-4e43-b1c5-3db9a037b9d3",
        "outputId": "3164e764-b0f3-4fd8-e417-d9794750f4fe"
      },
      "outputs": [
        {
          "name": "stdin",
          "output_type": "stream",
          "text": [
            " 72\n",
            " 93\n"
          ]
        },
        {
          "name": "stdout",
          "output_type": "stream",
          "text": [
            "Good\n"
          ]
        }
      ],
      "source": [
        "marks=int(input())\n",
        "att=int(input())\n",
        "if att>=90:\n",
        "    if marks >=90:\n",
        "        print(\"Exellent\")\n",
        "    elif marks >= 70:\n",
        "        print(\"Good\")\n",
        "    elif marks >=50:\n",
        "        print(\"Try to get more marks\")\n",
        "    elif marks<50:\n",
        "        print(\"Fail\")\n",
        "else:\n",
        "    print(\"Attendence Low\")"
      ]
    },
    {
      "cell_type": "markdown",
      "id": "8f1acb09-a71b-4734-827f-9b233e41337b",
      "metadata": {
        "id": "8f1acb09-a71b-4734-827f-9b233e41337b"
      },
      "source": [
        "# Looping Statements\n",
        "1. for\n",
        "2. while\n",
        "3. nested for"
      ]
    },
    {
      "cell_type": "code",
      "execution_count": null,
      "id": "015bb41e-4349-4e48-9d68-ad7722cdbd74",
      "metadata": {
        "id": "015bb41e-4349-4e48-9d68-ad7722cdbd74",
        "outputId": "880bc95a-721c-4523-cd76-0532953bdcbc"
      },
      "outputs": [
        {
          "name": "stdout",
          "output_type": "stream",
          "text": [
            "1\n",
            "51\n",
            "101\n",
            "151\n",
            "201\n",
            "251\n",
            "301\n",
            "351\n",
            "401\n",
            "451\n",
            "501\n",
            "551\n",
            "601\n",
            "651\n",
            "701\n",
            "751\n",
            "801\n",
            "851\n",
            "901\n",
            "951\n"
          ]
        }
      ],
      "source": [
        "for i in range(1,1000,50):\n",
        "    print(i)"
      ]
    },
    {
      "cell_type": "code",
      "execution_count": null,
      "id": "4bd708d8-b3d3-42d8-b3eb-643fa0746ff4",
      "metadata": {
        "id": "4bd708d8-b3d3-42d8-b3eb-643fa0746ff4",
        "outputId": "56fb4f1d-eae9-4e27-9391-806c2963a4e5"
      },
      "outputs": [
        {
          "name": "stdout",
          "output_type": "stream",
          "text": [
            "Mahesh 35\n",
            "Kumar 22\n",
            "Aryan 10\n",
            "Raj 12\n"
          ]
        }
      ],
      "source": [
        "l1=[\"Mahesh\",\"Kumar\",\"Aryan\",\"Raj\"]\n",
        "l2=[35,22,10,12]\n",
        "for i,j in zip(l1,l2):\n",
        "    print(i,j)"
      ]
    },
    {
      "cell_type": "code",
      "execution_count": null,
      "id": "977d1c23-3adc-4ce8-904e-34f9ee09fc36",
      "metadata": {
        "id": "977d1c23-3adc-4ce8-904e-34f9ee09fc36",
        "outputId": "2dbf3054-f478-4ef0-d1d8-bff34195161d"
      },
      "outputs": [
        {
          "name": "stdout",
          "output_type": "stream",
          "text": [
            "0 Mahesh\n",
            "1 Kumar\n",
            "2 Aryan\n",
            "3 Raj\n"
          ]
        }
      ],
      "source": [
        "l1=[\"Mahesh\",\"Kumar\",\"Aryan\",\"Raj\"]\n",
        "l2=[35,22,10,12]\n",
        "for i,j in enumerate(l1):\n",
        "    print(i,j)"
      ]
    },
    {
      "cell_type": "code",
      "execution_count": null,
      "id": "f7f22f51-3a58-4be4-b5c0-90755e46fc6c",
      "metadata": {
        "id": "f7f22f51-3a58-4be4-b5c0-90755e46fc6c",
        "outputId": "72808c42-16a5-4b4f-c3d2-cc89eb2156d6"
      },
      "outputs": [
        {
          "data": {
            "text/plain": [
              "{'Name': 'Mahesh', 'Age': 22, 'Branch': 'CSE(AI)', 'Place': 'Yemmiganur'}"
            ]
          },
          "execution_count": 76,
          "metadata": {},
          "output_type": "execute_result"
        }
      ],
      "source": [
        "d"
      ]
    },
    {
      "cell_type": "code",
      "execution_count": null,
      "id": "d003bb1f-25b1-47fe-8e7c-51b1de11a548",
      "metadata": {
        "id": "d003bb1f-25b1-47fe-8e7c-51b1de11a548",
        "outputId": "07212d70-1abe-4a8b-acb3-81b521865422"
      },
      "outputs": [
        {
          "name": "stdout",
          "output_type": "stream",
          "text": [
            "Name is mapped with Mahesh\n",
            "Age is mapped with 22\n",
            "Branch is mapped with CSE(AI)\n",
            "Place is mapped with Yemmiganur\n"
          ]
        }
      ],
      "source": [
        "for i,j in d.items():\n",
        "    print(i,\"is mapped with\",j )"
      ]
    },
    {
      "cell_type": "code",
      "execution_count": null,
      "id": "a15523f8-492f-464e-b8a0-1607f87b31de",
      "metadata": {
        "id": "a15523f8-492f-464e-b8a0-1607f87b31de",
        "outputId": "05407a2f-f5ae-4ce2-b58f-037abc0840b1"
      },
      "outputs": [
        {
          "name": "stdout",
          "output_type": "stream",
          "text": [
            "1\n",
            "2\n",
            "3\n",
            "4\n",
            "5\n",
            "6\n",
            "7\n",
            "8\n",
            "9\n",
            "10\n"
          ]
        }
      ],
      "source": [
        "i=1\n",
        "while i<=10:\n",
        "\n",
        "    print(i)\n",
        "    i+=1"
      ]
    },
    {
      "cell_type": "code",
      "execution_count": null,
      "id": "ca3050dc-1e4c-46b6-bd37-03d74cd1f639",
      "metadata": {
        "id": "ca3050dc-1e4c-46b6-bd37-03d74cd1f639",
        "outputId": "0aa793b0-21ec-491f-a1d5-c0c46f3d81a0"
      },
      "outputs": [
        {
          "name": "stdout",
          "output_type": "stream",
          "text": [
            "11\n"
          ]
        }
      ],
      "source": [
        "print(i)"
      ]
    },
    {
      "cell_type": "code",
      "execution_count": null,
      "id": "1b3fd07e-41f0-4efa-a469-5eeb02910ecc",
      "metadata": {
        "id": "1b3fd07e-41f0-4efa-a469-5eeb02910ecc",
        "outputId": "924b9630-7e83-4aad-aeb3-61442916ed7e"
      },
      "outputs": [
        {
          "name": "stdout",
          "output_type": "stream",
          "text": [
            "2 and 1\n",
            "2 and 2\n",
            "2 and 3\n",
            "2 and 4\n",
            "2 and 5\n",
            "2 and 6\n",
            "2 and 7\n",
            "2 and 8\n",
            "2 and 9\n",
            "2 and 10\n",
            "Next Iteration\n",
            "3 and 1\n",
            "3 and 2\n",
            "3 and 3\n",
            "3 and 4\n",
            "3 and 5\n",
            "3 and 6\n",
            "3 and 7\n",
            "3 and 8\n",
            "3 and 9\n",
            "3 and 10\n",
            "Next Iteration\n",
            "4 and 1\n",
            "4 and 2\n",
            "4 and 3\n",
            "4 and 4\n",
            "4 and 5\n",
            "4 and 6\n",
            "4 and 7\n",
            "4 and 8\n",
            "4 and 9\n",
            "4 and 10\n",
            "Next Iteration\n",
            "5 and 1\n",
            "5 and 2\n",
            "5 and 3\n",
            "5 and 4\n",
            "5 and 5\n",
            "5 and 6\n",
            "5 and 7\n",
            "5 and 8\n",
            "5 and 9\n",
            "5 and 10\n",
            "Next Iteration\n",
            "6 and 1\n",
            "6 and 2\n",
            "6 and 3\n",
            "6 and 4\n",
            "6 and 5\n",
            "6 and 6\n",
            "6 and 7\n",
            "6 and 8\n",
            "6 and 9\n",
            "6 and 10\n",
            "Next Iteration\n"
          ]
        }
      ],
      "source": [
        "for i in range(2,7):\n",
        "    for j in range(1,11):\n",
        "        print(f'{i} and {j}')\n",
        "    print(\"Next Iteration\")"
      ]
    },
    {
      "cell_type": "markdown",
      "id": "616e1bfe-f71d-444a-b5b2-0d1979ba6c8f",
      "metadata": {
        "id": "616e1bfe-f71d-444a-b5b2-0d1979ba6c8f"
      },
      "source": [
        "# Control Flow Statements\n",
        "1. break\n",
        "2. continue\n",
        "3. pass"
      ]
    },
    {
      "cell_type": "code",
      "execution_count": null,
      "id": "a3c66fb3-0f30-4007-ae9d-1112e86c6a2d",
      "metadata": {
        "id": "a3c66fb3-0f30-4007-ae9d-1112e86c6a2d",
        "outputId": "2a719d9b-1c30-4a92-fe44-7ef158739bc3"
      },
      "outputs": [
        {
          "name": "stdout",
          "output_type": "stream",
          "text": [
            "1\n",
            "2\n",
            "3\n",
            "4\n"
          ]
        }
      ],
      "source": [
        "for i in range(1,11):\n",
        "    if i==5:\n",
        "        break\n",
        "    print(i)"
      ]
    },
    {
      "cell_type": "code",
      "execution_count": null,
      "id": "d8a24b6f-94e7-4b3c-a5d4-70ce0176fc27",
      "metadata": {
        "id": "d8a24b6f-94e7-4b3c-a5d4-70ce0176fc27",
        "outputId": "da7c703e-311b-4500-b6d5-40f359fb7170"
      },
      "outputs": [
        {
          "name": "stdout",
          "output_type": "stream",
          "text": [
            "1\n",
            "2\n",
            "3\n",
            "4\n",
            "6\n",
            "7\n",
            "8\n",
            "9\n",
            "10\n"
          ]
        }
      ],
      "source": [
        "for i in range(1,11):\n",
        "    if i==5:\n",
        "        continue\n",
        "    print(i)"
      ]
    },
    {
      "cell_type": "code",
      "execution_count": null,
      "id": "900deb38-4e71-4e89-b618-9eee09a88e14",
      "metadata": {
        "id": "900deb38-4e71-4e89-b618-9eee09a88e14",
        "outputId": "38ff07bd-d04f-4f6b-804c-e83e14d9600d"
      },
      "outputs": [
        {
          "name": "stdout",
          "output_type": "stream",
          "text": [
            "1\n",
            "2\n",
            "3\n",
            "4\n",
            "5\n",
            "6\n",
            "7\n",
            "8\n",
            "9\n",
            "10\n"
          ]
        }
      ],
      "source": [
        "for i in range(1,11):\n",
        "    if i==5:\n",
        "        pass\n",
        "    print(i)"
      ]
    },
    {
      "cell_type": "markdown",
      "id": "0b06b66f-be80-4420-b626-07f39185e02b",
      "metadata": {
        "id": "0b06b66f-be80-4420-b626-07f39185e02b"
      },
      "source": []
    },
    {
      "cell_type": "code",
      "execution_count": null,
      "id": "eb5b2dcb-c416-467c-84d7-3244a65d922c",
      "metadata": {
        "id": "eb5b2dcb-c416-467c-84d7-3244a65d922c"
      },
      "outputs": [],
      "source": []
    },
    {
      "cell_type": "markdown",
      "id": "0026828a-c9ad-4519-9608-354ba24f6515",
      "metadata": {
        "id": "0026828a-c9ad-4519-9608-354ba24f6515"
      },
      "source": [
        "# Functions"
      ]
    },
    {
      "cell_type": "code",
      "execution_count": null,
      "id": "a6330fba-8c02-4809-b903-3bc786144d0c",
      "metadata": {
        "id": "a6330fba-8c02-4809-b903-3bc786144d0c",
        "outputId": "c400e655-51ad-4dba-bd64-f4d6486e7be0"
      },
      "outputs": [
        {
          "name": "stdout",
          "output_type": "stream",
          "text": [
            "770\n"
          ]
        }
      ],
      "source": [
        "def mul(x,y): #parametrized function\n",
        "    print(x*y)\n",
        "mul(22,35)"
      ]
    },
    {
      "cell_type": "code",
      "execution_count": null,
      "id": "01d19efe-ea9a-4c02-b994-f51ea9b28f1a",
      "metadata": {
        "id": "01d19efe-ea9a-4c02-b994-f51ea9b28f1a",
        "outputId": "ddd0218d-ba52-4cf0-bb92-68c696138146"
      },
      "outputs": [
        {
          "name": "stdout",
          "output_type": "stream",
          "text": [
            "Hello World\n"
          ]
        }
      ],
      "source": [
        "def display():\n",
        "    print(\"Hello World\")\n",
        "display()"
      ]
    },
    {
      "cell_type": "code",
      "execution_count": null,
      "id": "c2f8cd6a-e76f-453f-8551-60374101eb31",
      "metadata": {
        "id": "c2f8cd6a-e76f-453f-8551-60374101eb31",
        "outputId": "4053af98-65b4-4560-fd7e-73ddf7e930a6"
      },
      "outputs": [
        {
          "name": "stdout",
          "output_type": "stream",
          "text": [
            "2.0\n"
          ]
        }
      ],
      "source": [
        "def mul(y,x=10):\n",
        "    print(x/y)\n",
        "mul(5)"
      ]
    },
    {
      "cell_type": "markdown",
      "id": "232ca4d8-c0e7-4f29-890f-fc1710af094f",
      "metadata": {
        "id": "232ca4d8-c0e7-4f29-890f-fc1710af094f"
      },
      "source": [
        "## *args\n"
      ]
    },
    {
      "cell_type": "code",
      "execution_count": null,
      "id": "066fc325-574d-4dca-b6e5-509f63255502",
      "metadata": {
        "id": "066fc325-574d-4dca-b6e5-509f63255502",
        "outputId": "2a70cc03-3f87-4b6c-bd46-725b4e49a84b"
      },
      "outputs": [
        {
          "name": "stdout",
          "output_type": "stream",
          "text": [
            "8\n",
            "<class 'tuple'>\n"
          ]
        }
      ],
      "source": [
        "def num(*args):\n",
        "    print(sum(args))\n",
        "    print(type(args))\n",
        "\n",
        "num(1, 2, 2, 3)\n"
      ]
    },
    {
      "cell_type": "markdown",
      "id": "b7a519a6-5855-409a-a943-55b763a635f0",
      "metadata": {
        "id": "b7a519a6-5855-409a-a943-55b763a635f0"
      },
      "source": [
        "## ** kwargs"
      ]
    },
    {
      "cell_type": "code",
      "execution_count": null,
      "id": "1d959944-2a0a-4bcb-9aea-33c33011fb23",
      "metadata": {
        "id": "1d959944-2a0a-4bcb-9aea-33c33011fb23",
        "outputId": "f47ad1c6-10a8-41e7-cfd8-4462b3d23804"
      },
      "outputs": [
        {
          "name": "stdout",
          "output_type": "stream",
          "text": [
            "{'name': 'Mahesh', 'age': 10}\n"
          ]
        }
      ],
      "source": [
        "def d(**kwargs):\n",
        "    print(kwargs)\n",
        "d(name=\"Mahesh\",age=10)"
      ]
    },
    {
      "cell_type": "markdown",
      "id": "9157a76b-0f1d-4dc7-8fbb-a673d7e43cd8",
      "metadata": {
        "id": "9157a76b-0f1d-4dc7-8fbb-a673d7e43cd8"
      },
      "source": [
        "## Lambda function"
      ]
    },
    {
      "cell_type": "code",
      "execution_count": null,
      "id": "1c80d13b-fc13-4dad-9042-129b55bc83d3",
      "metadata": {
        "id": "1c80d13b-fc13-4dad-9042-129b55bc83d3",
        "outputId": "f689b039-7625-4413-bdaf-169be7e542a6"
      },
      "outputs": [
        {
          "name": "stdout",
          "output_type": "stream",
          "text": [
            "hello 10\n"
          ]
        }
      ],
      "source": [
        "x=lambda x=10:print(f'hello {x}')\n",
        "x()"
      ]
    },
    {
      "cell_type": "code",
      "execution_count": null,
      "id": "a604a1d4-ceb3-49f1-ace5-138c45a4c8db",
      "metadata": {
        "id": "a604a1d4-ceb3-49f1-ace5-138c45a4c8db",
        "outputId": "de140074-ddff-4e25-b388-f650efe4268b"
      },
      "outputs": [
        {
          "name": "stdout",
          "output_type": "stream",
          "text": [
            "40\n"
          ]
        }
      ],
      "source": [
        "def add(x,y):\n",
        "    print(x+y)\n",
        "add(10,30)"
      ]
    },
    {
      "cell_type": "code",
      "execution_count": null,
      "id": "3eec61da-48c9-465b-8bda-09ed175a83aa",
      "metadata": {
        "id": "3eec61da-48c9-465b-8bda-09ed175a83aa",
        "outputId": "6bded816-fcc4-4430-fad1-3ac7fc9b2301"
      },
      "outputs": [
        {
          "name": "stdout",
          "output_type": "stream",
          "text": [
            "30\n"
          ]
        }
      ],
      "source": [
        "result=add(10,20)"
      ]
    },
    {
      "cell_type": "markdown",
      "id": "724bc7da-7d70-4e4d-9493-67cfa2059e3d",
      "metadata": {
        "id": "724bc7da-7d70-4e4d-9493-67cfa2059e3d"
      },
      "source": [
        "# Python Practice"
      ]
    },
    {
      "cell_type": "markdown",
      "id": "118a7b03-9960-43ad-aaac-8d5ec1434418",
      "metadata": {
        "id": "118a7b03-9960-43ad-aaac-8d5ec1434418"
      },
      "source": [
        "## 1.Palindrome"
      ]
    },
    {
      "cell_type": "code",
      "execution_count": null,
      "id": "873d2307-ed74-440f-a9b7-3e9829c97a9b",
      "metadata": {
        "id": "873d2307-ed74-440f-a9b7-3e9829c97a9b",
        "outputId": "2989d70a-13b8-4c46-cd52-6e12984990b8"
      },
      "outputs": [
        {
          "name": "stdout",
          "output_type": "stream",
          "text": [
            "addition of two numbers  30\n",
            "subtraction of two numbers  -10\n",
            "Multiplication of two numbers  484\n",
            "Divsion of two numbers  2.0\n"
          ]
        }
      ],
      "source": [
        "def add(x,y):\n",
        "    return f\"addition of two numbers  {x+y}\"\n",
        "def sub(x,y):\n",
        "    return f\"subtraction of two numbers  {x-y}\"\n",
        "def mul(x,y):\n",
        "    return f\"Multiplication of two numbers  {x*y}\"\n",
        "def div(x,y):\n",
        "    return f\"Divsion of two numbers  {x/y}\"\n",
        "a=add(10,20)\n",
        "print(a)\n",
        "b=sub(10,20)\n",
        "print(b)\n",
        "c=mul(22,22)\n",
        "print(c)\n",
        "d=div(22,11)\n",
        "print(d)\n"
      ]
    },
    {
      "cell_type": "code",
      "execution_count": null,
      "id": "c0ff69e4-cdfe-4e72-b93e-3739221345d8",
      "metadata": {
        "id": "c0ff69e4-cdfe-4e72-b93e-3739221345d8",
        "outputId": "56112cbf-5637-49cb-a09f-c0ac34b2ad0e"
      },
      "outputs": [
        {
          "name": "stdin",
          "output_type": "stream",
          "text": [
            "Enter the number: 10\n",
            "Enter the number: 10\n",
            "Enter the opertation from the given choice(+,-,*,/) /\n"
          ]
        },
        {
          "name": "stdout",
          "output_type": "stream",
          "text": [
            "Division 1.0\n"
          ]
        }
      ],
      "source": [
        "def add(x,y):\n",
        "    return f\"addition of two numbers  {x+y}\"\n",
        "def sub(x,y):\n",
        "    return f\"subtraction of two numbers  {x-y}\"\n",
        "def mul(x,y):\n",
        "    return f\"Multiplication of two numbers  {x*y}\"\n",
        "def div(x,y):\n",
        "    return f\"Divsion of two numbers  {x/y}\"\n",
        "x=int(input(\"Enter the number:\"))\n",
        "y=int(input(\"Enter the number:\"))\n",
        "opp=input(\"Enter the opertation from the given choice(+,-,*,/)\")\n",
        "if opp == '+':\n",
        "    print(\"Addition\",x+y)\n",
        "elif opp == \"-\":\n",
        "    print(\"Subtraction\",x-y)\n",
        "elif opp == \"*\":\n",
        "    print(\"Multiplication\",x*y)\n",
        "else:\n",
        "    print(\"Division\",x/y)"
      ]
    },
    {
      "cell_type": "code",
      "execution_count": null,
      "id": "ac780408-7596-4c67-8fef-09c017b876c3",
      "metadata": {
        "id": "ac780408-7596-4c67-8fef-09c017b876c3",
        "outputId": "6c7702e0-975e-4d91-e073-95db9f6c910f"
      },
      "outputs": [
        {
          "name": "stdin",
          "output_type": "stream",
          "text": [
            " 1111\n"
          ]
        },
        {
          "name": "stdout",
          "output_type": "stream",
          "text": [
            "Palindrome 1111\n"
          ]
        }
      ],
      "source": [
        "list1=input()\n",
        "if list1[::] == list1[::-1]:\n",
        "    print(\"Palindrome\",list1)\n",
        "else:\n",
        "    print(\"Not Palindrome\")\n",
        "# print(list1)\n",
        "# print(list1[::-1])\n",
        "\n"
      ]
    },
    {
      "cell_type": "code",
      "execution_count": null,
      "id": "ae791c78-78f1-4cfd-94a8-e6107f48efc9",
      "metadata": {
        "id": "ae791c78-78f1-4cfd-94a8-e6107f48efc9",
        "outputId": "4d6052b2-0735-47b0-c104-e31259bd6b06"
      },
      "outputs": [
        {
          "name": "stdout",
          "output_type": "stream",
          "text": [
            "[1, 2, 3, 4]\n"
          ]
        }
      ],
      "source": [
        "li=[1,1,2,2,3,4]\n",
        "a=list(set(li))\n",
        "print(a)"
      ]
    },
    {
      "cell_type": "code",
      "execution_count": null,
      "id": "6fb4a51a-bbfe-4a06-be0a-d95a3e965a71",
      "metadata": {
        "id": "6fb4a51a-bbfe-4a06-be0a-d95a3e965a71",
        "outputId": "faa324f0-1bdc-4570-c664-89f3db3bd576"
      },
      "outputs": [
        {
          "name": "stdout",
          "output_type": "stream",
          "text": [
            "['1']\n"
          ]
        }
      ],
      "source": [
        "def dup(x):\n",
        "    a=list(set(x))\n",
        "    print(a)\n",
        "dup(\"1\")"
      ]
    },
    {
      "cell_type": "markdown",
      "id": "d20ca873-04b6-44e7-82f6-7364ad5c2e80",
      "metadata": {
        "id": "d20ca873-04b6-44e7-82f6-7364ad5c2e80"
      },
      "source": [
        "## Armstrong Number\n",
        "1. Count the numbers\n",
        "2. Uni digits\n",
        "3. if we put \"(1**digit)==(1**3)\" and same for all units\n",
        "4. \"digit**3\"=number\n",
        "5. sum of these = actual value ==> armstrong\n",
        "* step 1 ==> count the numbers\n",
        "* step 2 ==>we have to split the unidigit number\n",
        "* step 3 ==> now i want each time one digit from"
      ]
    },
    {
      "cell_type": "code",
      "execution_count": null,
      "id": "cba37c3a-7555-4e2c-93e8-af28fd1d5def",
      "metadata": {
        "id": "cba37c3a-7555-4e2c-93e8-af28fd1d5def",
        "outputId": "8aa72200-171b-40e3-ecc7-e3d57d44b768"
      },
      "outputs": [
        {
          "name": "stdin",
          "output_type": "stream",
          "text": [
            " 153\n"
          ]
        },
        {
          "name": "stdout",
          "output_type": "stream",
          "text": [
            "Armstrong number\n"
          ]
        }
      ],
      "source": [
        "n=int(input())\n",
        "a=len(str(n))\n",
        "s=sum(int(digit)**a for digit in str(n))\n",
        "if n == s:\n",
        "    print(\"Armstrong number\")\n",
        "else:\n",
        "    print(\"Invalid\")\n"
      ]
    },
    {
      "cell_type": "code",
      "execution_count": null,
      "id": "74a1f303-8ea2-4219-8091-6c2cc729eda6",
      "metadata": {
        "id": "74a1f303-8ea2-4219-8091-6c2cc729eda6",
        "outputId": "3958ed0b-e59b-4e39-84d8-826f587436d1"
      },
      "outputs": [
        {
          "data": {
            "text/plain": [
              "153"
            ]
          },
          "execution_count": 8,
          "metadata": {},
          "output_type": "execute_result"
        }
      ],
      "source": [
        "1+125+27"
      ]
    },
    {
      "cell_type": "code",
      "execution_count": null,
      "id": "8972bda5-bfb8-4776-825c-fc681247f773",
      "metadata": {
        "id": "8972bda5-bfb8-4776-825c-fc681247f773",
        "outputId": "b29e8147-f31f-4387-e50b-04f1027398b6"
      },
      "outputs": [
        {
          "name": "stdin",
          "output_type": "stream",
          "text": [
            " 232\n"
          ]
        },
        {
          "name": "stdout",
          "output_type": "stream",
          "text": [
            "Not Armstrong\n"
          ]
        }
      ],
      "source": [
        "n=int(input())\n",
        "length=0\n",
        "for i in f\"{n}\":length+=1\n",
        "temp=n\n",
        "s=0\n",
        "while temp!=0:\n",
        "    digit=temp%10\n",
        "    s+=((digit)**(length))\n",
        "    temp=temp//10\n",
        "if n == s:\n",
        "    print(\"Armstrong\")\n",
        "else:\n",
        "    print(\"Not Armstrong\")\n"
      ]
    },
    {
      "cell_type": "markdown",
      "id": "3e932a52-84bd-4aad-a59f-c92f70c6dce4",
      "metadata": {
        "id": "3e932a52-84bd-4aad-a59f-c92f70c6dce4"
      },
      "source": [
        "## Fibnocci series\n",
        "1. n1=0\n",
        "2. n2=1\n",
        "3. n3=n1+n2\n",
        "4. f(n)=f(n-1)+f(n-2)"
      ]
    },
    {
      "cell_type": "code",
      "execution_count": null,
      "id": "b36eba84-af6b-4ff1-b873-a6440f975256",
      "metadata": {
        "id": "b36eba84-af6b-4ff1-b873-a6440f975256",
        "outputId": "1ee77f14-cb4a-4d35-8625-9bd299e77ac6"
      },
      "outputs": [
        {
          "name": "stdin",
          "output_type": "stream",
          "text": [
            " 3\n"
          ]
        },
        {
          "name": "stdout",
          "output_type": "stream",
          "text": [
            "fib series\n",
            "1\n",
            "1\n",
            "2\n"
          ]
        }
      ],
      "source": [
        "n=int(input())\n",
        "a,b=0,1\n",
        "print(\"fib series\")\n",
        "for i in range(n):\n",
        "    a,b=b,a+b\n",
        "    print(a)\n",
        "\n"
      ]
    },
    {
      "cell_type": "markdown",
      "id": "3c1f00ca-6734-40f4-9761-38e504ddbcc2",
      "metadata": {
        "id": "3c1f00ca-6734-40f4-9761-38e504ddbcc2"
      },
      "source": [
        "## Anagrams"
      ]
    },
    {
      "cell_type": "code",
      "execution_count": null,
      "id": "a2b404a0-ae7a-44a1-a25e-4ba92eae173d",
      "metadata": {
        "id": "a2b404a0-ae7a-44a1-a25e-4ba92eae173d",
        "outputId": "53ac7802-77dd-4791-bd2a-17058a5626e8"
      },
      "outputs": [
        {
          "name": "stdin",
          "output_type": "stream",
          "text": [
            " listen\n",
            " silent\n"
          ]
        },
        {
          "name": "stdout",
          "output_type": "stream",
          "text": [
            "Anagrams\n"
          ]
        }
      ],
      "source": [
        "a=input()\n",
        "b=input()\n",
        "sor1=sorted(a)\n",
        "sor2=sorted(b)\n",
        "if sor1 == sor2:\n",
        "    print(\"Anagrams\")\n",
        "else:\n",
        "    print(\"Not Anagrams\")"
      ]
    },
    {
      "cell_type": "code",
      "execution_count": null,
      "id": "7eeb3b49-ec3b-481d-a8c1-09f6624315ae",
      "metadata": {
        "id": "7eeb3b49-ec3b-481d-a8c1-09f6624315ae",
        "outputId": "e6d27ac0-e6d1-476e-e5c6-760d7cfa9ebb"
      },
      "outputs": [
        {
          "name": "stdout",
          "output_type": "stream",
          "text": [
            "['a', 'e', 'h', 'h', 'm', 's']\n"
          ]
        }
      ],
      "source": [
        "a=\"mahesh\"\n",
        "print(sorted(a))"
      ]
    },
    {
      "cell_type": "markdown",
      "id": "e3b04095-8aa9-47b7-8a7c-583593a1343d",
      "metadata": {
        "id": "e3b04095-8aa9-47b7-8a7c-583593a1343d"
      },
      "source": [
        "## Vowels"
      ]
    },
    {
      "cell_type": "code",
      "execution_count": null,
      "id": "c5704dbf-06e7-4dfb-a4d4-6f15d1ae8122",
      "metadata": {
        "id": "c5704dbf-06e7-4dfb-a4d4-6f15d1ae8122",
        "outputId": "f1e0626c-7bf2-4713-dc52-2a913d4a7eb2"
      },
      "outputs": [
        {
          "name": "stdin",
          "output_type": "stream",
          "text": [
            " mahesh kumar\n"
          ]
        },
        {
          "name": "stdout",
          "output_type": "stream",
          "text": [
            "a\n",
            "e\n",
            "u\n",
            "a\n",
            "4\n"
          ]
        }
      ],
      "source": [
        "str1=input()\n",
        "vo=\"a,e,i,o,u\"\n",
        "count=0\n",
        "for i in str1:\n",
        "    if i in vo:\n",
        "        count += 1\n",
        "        print(i)\n",
        "print(count)\n",
        "\n",
        ""
      ]
    },
    {
      "cell_type": "code",
      "execution_count": null,
      "id": "13e75056-3e74-4e33-8f29-82ab7edabecc",
      "metadata": {
        "id": "13e75056-3e74-4e33-8f29-82ab7edabecc",
        "outputId": "4229f356-1273-437a-881b-f3a78d328d12"
      },
      "outputs": [
        {
          "name": "stdout",
          "output_type": "stream",
          "text": [
            "{'name': 'Mahesh'}\n"
          ]
        }
      ],
      "source": [
        "def Bill(**kwargs):\n",
        "    print(kwargs)\n",
        "Bill(name=\"Mahesh\")"
      ]
    },
    {
      "cell_type": "code",
      "execution_count": null,
      "id": "35632dba-8374-4c4a-9243-81a1c2e0c9be",
      "metadata": {
        "id": "35632dba-8374-4c4a-9243-81a1c2e0c9be",
        "outputId": "a817c739-14e5-4520-97bb-7b2d12cc7339"
      },
      "outputs": [
        {
          "name": "stdout",
          "output_type": "stream",
          "text": [
            "{'maggi': 80, 'milk': 80, 'bread': 40, 'Bath': 100}\n",
            "maggi : 80\n",
            "milk : 80\n",
            "bread : 40\n",
            "Bath : 100\n",
            "Total bill =300\n"
          ]
        }
      ],
      "source": [
        "def Bill(**kwargs):\n",
        "    print(kwargs)\n",
        "    total=sum(kwargs.values())\n",
        "    for k,v in kwargs.items():\n",
        "        print(f\"{k} : {v}\")\n",
        "    print(f\"Total bill ={total}\")\n",
        "Bill(maggi=80,milk=80,bread=40,Bath=100)\n",
        "\n",
        "\n"
      ]
    },
    {
      "cell_type": "markdown",
      "id": "589bdb4b-8100-46d8-917d-8cad05621eb6",
      "metadata": {
        "id": "589bdb4b-8100-46d8-917d-8cad05621eb6"
      },
      "source": [
        "## Prime"
      ]
    },
    {
      "cell_type": "code",
      "execution_count": null,
      "id": "b6a1044e-79b4-4970-90b6-a4f93e7158ae",
      "metadata": {
        "id": "b6a1044e-79b4-4970-90b6-a4f93e7158ae",
        "outputId": "c15f679d-a626-4e0e-9491-bb2a98f340f9"
      },
      "outputs": [
        {
          "name": "stdin",
          "output_type": "stream",
          "text": [
            " 22\n"
          ]
        },
        {
          "name": "stdout",
          "output_type": "stream",
          "text": [
            "not prime\n"
          ]
        }
      ],
      "source": [
        "n=int(input())\n",
        "if n>1:\n",
        "    for i in range(2,int(n**0.5)+1):\n",
        "        if n%i==0:\n",
        "            print(\"not prime\")\n",
        "            break\n",
        "\n",
        "    else:\n",
        "        print(\"Prime\")\n",
        "else:\n",
        "    print(\"Not Prime\")"
      ]
    },
    {
      "cell_type": "markdown",
      "id": "8fc02919-6533-4064-b68a-740528817b6f",
      "metadata": {
        "id": "8fc02919-6533-4064-b68a-740528817b6f"
      },
      "source": [
        "## Use class to create calculator having 4 methods Addition,Subtraction,Multiplication and Division.\n",
        "  ## **Constructor should be taking the num1 and num2 Values"
      ]
    },
    {
      "cell_type": "code",
      "execution_count": null,
      "id": "1cd8264a-cdfd-40ef-b818-70f7445e26bb",
      "metadata": {
        "id": "1cd8264a-cdfd-40ef-b818-70f7445e26bb"
      },
      "outputs": [],
      "source": [
        "class Calculator:\n",
        "    def __init__(self,num1,num2):\n",
        "        self.num1=num1\n",
        "        self.num2=num2\n",
        "    def Add(self):\n",
        "        print(f\"Addition of {self.num1} + {self.num2} = {self.num1+self.num2}\")\n",
        "    def Sub(self):\n",
        "        return f\"Subtraction of {self.num1} - {self.num2} = {self.num1-self.num2}\"\n",
        "    def Mul(self):\n",
        "        return f\"Multiplication of {self.num1} * {self.num2} = {self.num1*self.num2}\"\n",
        "    def Div(self):\n",
        "        return f\"Addition of {self.num1} / {self.num2} = {self.num1/self.num2}\"\n",
        ""
      ]
    },
    {
      "cell_type": "code",
      "execution_count": null,
      "id": "0f432699-a21c-487e-b1ad-083b69431697",
      "metadata": {
        "id": "0f432699-a21c-487e-b1ad-083b69431697",
        "outputId": "fb1fca2f-181f-4ffb-aba9-584bda569f41"
      },
      "outputs": [
        {
          "name": "stdout",
          "output_type": "stream",
          "text": [
            "Addition of 10 + 22 = 32\n",
            "None\n"
          ]
        },
        {
          "data": {
            "text/plain": [
              "'Addition of 10 / 22 = 0.45454545454545453'"
            ]
          },
          "execution_count": 18,
          "metadata": {},
          "output_type": "execute_result"
        }
      ],
      "source": [
        "ob=Calculator(10,22)\n",
        "res=ob.Add()\n",
        "print(res)\n",
        "ob.Sub()\n",
        "ob.Mul()\n",
        "ob.Div()\n"
      ]
    },
    {
      "cell_type": "code",
      "execution_count": null,
      "id": "cffaefa8-9d9c-4111-804a-cd7aacf9baff",
      "metadata": {
        "id": "cffaefa8-9d9c-4111-804a-cd7aacf9baff",
        "outputId": "edd33551-6577-41c4-8576-d703ecdbcfb3"
      },
      "outputs": [
        {
          "name": "stdin",
          "output_type": "stream",
          "text": [
            "Enter your Marks for Physics:  55\n",
            "Enter your Marks for Chemistry:  47\n",
            "Enter your Marks for Biology:  70\n",
            "Enter your Marks for Maths:  69\n",
            "Enter your Marks for Computer:  99\n"
          ]
        },
        {
          "data": {
            "text/plain": [
              "[55, 47, 70, 69, 99]"
            ]
          },
          "execution_count": 27,
          "metadata": {},
          "output_type": "execute_result"
        }
      ],
      "source": [
        "\n",
        "sub=[\"Physics\",\"Chemistry\",\"Biology\",\"Maths\",\"Computer\"]\n",
        "marks=[]\n",
        "for i in (sub):\n",
        "    x=int(input(f\"Enter your Marks for {i}: \"))\n",
        "    marks.append(x)\n",
        "marks\n",
        ""
      ]
    },
    {
      "cell_type": "code",
      "execution_count": null,
      "id": "65113175-fbeb-40ff-828b-dc88698c6a69",
      "metadata": {
        "id": "65113175-fbeb-40ff-828b-dc88698c6a69",
        "outputId": "0c018daf-88ae-4cff-ea10-5405301398e0"
      },
      "outputs": [
        {
          "name": "stdout",
          "output_type": "stream",
          "text": [
            "Physics : 55\n",
            "Chemistry : 47\n",
            "Biology : 70\n",
            "Maths : 69\n",
            "Computer : 99\n"
          ]
        }
      ],
      "source": [
        "for i,j in zip(sub,marks):\n",
        "    print(f\"{i} : {j}\")"
      ]
    },
    {
      "cell_type": "markdown",
      "id": "9765fb54-8e6c-4a49-9042-176b3a582714",
      "metadata": {
        "id": "9765fb54-8e6c-4a49-9042-176b3a582714"
      },
      "source": [
        "## we have to create a class:Walmart\n",
        "* Two attribute:item,price(constructor)\n",
        "* Two methods:discount(x)"
      ]
    },
    {
      "cell_type": "code",
      "execution_count": null,
      "id": "55faf38c-3746-407f-9e77-92690732292b",
      "metadata": {
        "id": "55faf38c-3746-407f-9e77-92690732292b"
      },
      "outputs": [],
      "source": [
        "class Walmart:\n",
        "    def __init__(self,item,price):\n",
        "        self.item=item\n",
        "        self.price=price\n",
        "    def discount(self,discount):\n",
        "        self.discount=discount\n",
        "        dis=(self.price*(self.discount/100))\n",
        "        price=self.price-dis\n",
        "        print(f\"price after discount {price}\")\n",
        "    def details(self):\n",
        "        print(f\"Discount price {self.discount}% and your final price{price}\")\n",
        "\n",
        ""
      ]
    },
    {
      "cell_type": "code",
      "execution_count": null,
      "id": "57fc6416-1427-434f-bbaa-49f3f184d606",
      "metadata": {
        "id": "57fc6416-1427-434f-bbaa-49f3f184d606",
        "outputId": "4000959c-5b40-4d2a-dd6e-09a1e7cfc1cb"
      },
      "outputs": [
        {
          "name": "stdout",
          "output_type": "stream",
          "text": [
            "price after discount 720.0\n"
          ]
        }
      ],
      "source": [
        "ob=Walmart(\"chair\",800)\n",
        "ob.discount(10)\n"
      ]
    },
    {
      "cell_type": "code",
      "execution_count": null,
      "id": "4aabc2a0-3670-40a2-8264-7b13271e8e82",
      "metadata": {
        "id": "4aabc2a0-3670-40a2-8264-7b13271e8e82"
      },
      "outputs": [],
      "source": [
        "class Walmart:\n",
        "    def __init__(self,item,price):\n",
        "        self.item=item\n",
        "        self.price=price\n",
        "    def discount(self,discount):\n",
        "        self.discount=self.price-(self.price*(discount/100))\n",
        "        # dis=(self.price*(self.discount/100))\n",
        "        # price=self.price-dis\n",
        "        # print(f\"price after discount {price}\")\n",
        "        print(self.discount)\n",
        "    def details(self):\n",
        "        print(f\"Discount price 10% and your final price {self.discount}\")\n",
        "\n",
        ""
      ]
    },
    {
      "cell_type": "code",
      "execution_count": null,
      "id": "99fcf739-cfa9-4371-b3ce-71b9fe0945ab",
      "metadata": {
        "id": "99fcf739-cfa9-4371-b3ce-71b9fe0945ab",
        "outputId": "3a6f8058-95b4-4801-cade-255e2ba7a1d3"
      },
      "outputs": [
        {
          "name": "stdout",
          "output_type": "stream",
          "text": [
            "720.0\n",
            "Discount price 10% and your final price 720.0\n"
          ]
        }
      ],
      "source": [
        "ob=Walmart(\"Chair\",800)\n",
        "ob.discount(10)\n",
        "ob.details()"
      ]
    },
    {
      "cell_type": "markdown",
      "id": "7a405aa4-38bc-4bf9-b79a-db811c07bc81",
      "metadata": {
        "id": "7a405aa4-38bc-4bf9-b79a-db811c07bc81"
      },
      "source": [
        "## **Now -> Create a new class -> CollectiveDiscount**\n",
        "1. Take items as a list -> Attribute\n",
        "2. method -> addItems() -> It will take name of the item and price to add up in my list\n",
        "3. method -> itemsDiscount() -> apply the discount on the item present in the list\n",
        "4. method -> display() -> info on the items discount\n",
        "## **Hint:We will use Inheritance**"
      ]
    },
    {
      "cell_type": "code",
      "execution_count": null,
      "id": "596b4a8b-4b88-4e48-8157-d695ebe7f8d6",
      "metadata": {
        "id": "596b4a8b-4b88-4e48-8157-d695ebe7f8d6"
      },
      "outputs": [],
      "source": [
        "class CollectiveDiscount:\n",
        "    def __init__(self,items,price):\n",
        "        self.items=items\n",
        "        self.price=price\n",
        "    def addItems(self, new_items, new_price):\n",
        "        self.items += new_items\n",
        "        self.price += new_price\n",
        "    def itemsDiscount(self,discount):\n",
        "        self.discount=self.price-(self.price*(discount/100))\n",
        "    def display(self):\n",
        "        print(f\"Items {self.items}\")\n",
        "        print(f\"Original Price{self.price}\")\n",
        "        print(f\"Final price {self.discount}\")"
      ]
    },
    {
      "cell_type": "code",
      "execution_count": null,
      "id": "fe12fdff-4bee-48d0-84ef-b69b53b7e688",
      "metadata": {
        "id": "fe12fdff-4bee-48d0-84ef-b69b53b7e688",
        "outputId": "40970b94-f2c5-4e45-e711-3de55c072ee8"
      },
      "outputs": [
        {
          "name": "stdout",
          "output_type": "stream",
          "text": [
            "Items 10\n",
            "Original Price50000\n",
            "Final price 45000.0\n"
          ]
        }
      ],
      "source": [
        "ob=CollectiveDiscount(10,50000)\n",
        "ob.itemsDiscount(10)\n",
        "ob.display()\n"
      ]
    },
    {
      "cell_type": "code",
      "execution_count": null,
      "id": "da584d23-161f-4193-950b-1a17f1909e59",
      "metadata": {
        "id": "da584d23-161f-4193-950b-1a17f1909e59"
      },
      "outputs": [],
      "source": [
        "class CD:\n",
        "    def __init__(self):\n",
        "        self.items=[]\n",
        "        self.price=0\n",
        "    def Items(self,item,price):\n",
        "        self.items.append((item,price))\n",
        "        self.price += price\n",
        "    def Dis(self,discount):\n",
        "        self.discount=self.price-(self.price*(discount/100))\n",
        "    def display(self):\n",
        "        print(\"Items purchased\")\n",
        "        for item,price in self.items:\n",
        "            print(f\"{item} : {price}\")\n",
        "\n",
        "        print(f\"Original price {self.price}\")\n",
        "        print(f\"Price after discount {self.discount}\")\n",
        "\n",
        "\n",
        ""
      ]
    },
    {
      "cell_type": "code",
      "execution_count": null,
      "id": "565cc41d-e8a0-4d73-8bab-2d6ed314ae6a",
      "metadata": {
        "id": "565cc41d-e8a0-4d73-8bab-2d6ed314ae6a",
        "outputId": "dced2632-2578-452e-a19f-15f49dcec4c9"
      },
      "outputs": [
        {
          "name": "stdout",
          "output_type": "stream",
          "text": [
            "Items purchased\n",
            "Laptop : 51000\n",
            "Mouse : 600\n",
            "Bag : 1000\n",
            "Original price 52600\n",
            "Price after discount 47340.0\n"
          ]
        }
      ],
      "source": [
        "ob=CD()\n",
        "ob.Items(\"Laptop\",51000)\n",
        "ob.Items(\"Mouse\",600)\n",
        "ob.Items(\"Bag\",1000)\n",
        "ob.Dis(10)\n",
        "ob.display()"
      ]
    }
  ],
  "metadata": {
    "kernelspec": {
      "display_name": "Python 3 (ipykernel)",
      "language": "python",
      "name": "python3"
    },
    "language_info": {
      "codemirror_mode": {
        "name": "ipython",
        "version": 3
      },
      "file_extension": ".py",
      "mimetype": "text/x-python",
      "name": "python",
      "nbconvert_exporter": "python",
      "pygments_lexer": "ipython3",
      "version": "3.11.8"
    },
    "colab": {
      "provenance": [],
      "include_colab_link": true
    }
  },
  "nbformat": 4,
  "nbformat_minor": 5
}