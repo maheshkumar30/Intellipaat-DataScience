{
  "nbformat": 4,
  "nbformat_minor": 0,
  "metadata": {
    "colab": {
      "provenance": [],
      "include_colab_link": true
    },
    "kernelspec": {
      "name": "python3",
      "display_name": "Python 3"
    },
    "language_info": {
      "name": "python"
    }
  },
  "cells": [
    {
      "cell_type": "markdown",
      "metadata": {
        "id": "view-in-github",
        "colab_type": "text"
      },
      "source": [
        "<a href=\"https://colab.research.google.com/github/maheshkumar30/Intellipaat-DataScience/blob/main/PythonBasic16thSept2025.ipynb\" target=\"_parent\"><img src=\"https://colab.research.google.com/assets/colab-badge.svg\" alt=\"Open In Colab\"/></a>"
      ]
    },
    {
      "cell_type": "markdown",
      "source": [
        "# **Programming Language**\n",
        "* It is a medium to communicate with machine (your machine)\n",
        "* We have different types of programming languages (Java, C++/C, JavaScript, **Python**)\n",
        "* We need to follow grammar rules (keyword alert: Syntax)\n",
        "* Keywords(fixed terms) -> for, while, if, else, elif"
      ],
      "metadata": {
        "id": "CR8WpbwHTOzb"
      }
    },
    {
      "cell_type": "markdown",
      "source": [
        "## **What is python and why python**\n",
        "* Python is an interpreter(Line by line execution of code), high level programming language\n",
        "* Python is case sensitive\n",
        "* It is very similar to english\n",
        "* It is having the large number of libraries/package/modules\n",
        "* Python is having one of the largest community"
      ],
      "metadata": {
        "id": "11p7GpJcXTyK"
      }
    },
    {
      "cell_type": "markdown",
      "source": [
        "##**The places where we can use python**\n",
        "* Data Science: Scipy, Sklearn, Numpy, Pandas\n",
        "* Data Visualization: Matplotlib, seaborn, plotly\n",
        "* Game Dev: Pygame\n",
        "* Backend Dev: Django, Flask\n",
        "* Machine Learning/AI : Tensorflow, keras"
      ],
      "metadata": {
        "id": "8wgF8defbcqH"
      }
    },
    {
      "cell_type": "code",
      "source": [
        "print('hello')"
      ],
      "metadata": {
        "colab": {
          "base_uri": "https://localhost:8080/"
        },
        "id": "mdAg5pCQU44e",
        "outputId": "ca79ef40-e681-45d3-b6f7-29131fe128d0"
      },
      "execution_count": null,
      "outputs": [
        {
          "output_type": "stream",
          "name": "stdout",
          "text": [
            "hello\n"
          ]
        }
      ]
    },
    {
      "cell_type": "code",
      "source": [
        "# hello i am aryan -> This is my single line comment\n",
        "# Comment -> Non executable line of code"
      ],
      "metadata": {
        "id": "BYvtOL5sWjpC"
      },
      "execution_count": null,
      "outputs": []
    },
    {
      "cell_type": "markdown",
      "source": [
        "##**Variables**\n",
        "It is a container that stores different types of data (Numeric, Text)"
      ],
      "metadata": {
        "id": "XfwaX3xtgTvP"
      }
    },
    {
      "cell_type": "code",
      "source": [
        "number = 10\n",
        "print(number) # To print variable value, we pass name of the variable without inverted comma\n",
        "\n",
        "# Keyword alert: type() -> Gives you the datatype of a variable\n",
        "print(type(number))"
      ],
      "metadata": {
        "colab": {
          "base_uri": "https://localhost:8080/"
        },
        "id": "TRuTj-N8f_f7",
        "outputId": "6eeb84a9-ff20-4279-ae3c-ee87bdfe31fa"
      },
      "execution_count": null,
      "outputs": [
        {
          "output_type": "stream",
          "name": "stdout",
          "text": [
            "10\n",
            "<class 'int'>\n"
          ]
        }
      ]
    },
    {
      "cell_type": "code",
      "source": [
        "Name = 'Gaurav'\n",
        "print(Name)\n",
        "print(type(Name))"
      ],
      "metadata": {
        "colab": {
          "base_uri": "https://localhost:8080/"
        },
        "id": "rSwIijo7gx7x",
        "outputId": "6342639d-2055-4913-c200-d21eea6ef248"
      },
      "execution_count": null,
      "outputs": [
        {
          "output_type": "stream",
          "name": "stdout",
          "text": [
            "Gaurav\n",
            "<class 'str'>\n"
          ]
        }
      ]
    },
    {
      "cell_type": "markdown",
      "source": [
        "**Rules to write the name of variable**\n",
        "* Variable are case sensitive\n",
        "* Keywords must not be used as a variable name (with, for, in, if)\n",
        "* You cannot start a variable with a number but can end it with number\n",
        "* We cannot use symbols or give white spaces between multiword variables except Underscore(_)"
      ],
      "metadata": {
        "id": "p5EowkQdhfpf"
      }
    },
    {
      "cell_type": "code",
      "source": [
        "a1 = 10\n",
        "A = 20\n",
        "print(a1)\n",
        "print(A)"
      ],
      "metadata": {
        "colab": {
          "base_uri": "https://localhost:8080/"
        },
        "id": "uxNJVMW3hSBr",
        "outputId": "6dafba9a-cbc3-42f1-d240-5dd7c223f306"
      },
      "execution_count": null,
      "outputs": [
        {
          "output_type": "stream",
          "name": "stdout",
          "text": [
            "10\n",
            "20\n"
          ]
        }
      ]
    },
    {
      "cell_type": "code",
      "source": [
        "# for = 5 -> You will syntax error"
      ],
      "metadata": {
        "id": "d1YtNDD3hpP5"
      },
      "execution_count": null,
      "outputs": []
    },
    {
      "cell_type": "code",
      "source": [
        "full_name = 'Aryan Raj'\n",
        "print(full_name)"
      ],
      "metadata": {
        "colab": {
          "base_uri": "https://localhost:8080/"
        },
        "id": "toJ-vOboh20t",
        "outputId": "425c439f-7765-40b8-c955-638ad3c4569b"
      },
      "execution_count": null,
      "outputs": [
        {
          "output_type": "stream",
          "name": "stdout",
          "text": [
            "Aryan Raj\n"
          ]
        }
      ]
    },
    {
      "cell_type": "markdown",
      "source": [
        "**Bonus**"
      ],
      "metadata": {
        "id": "GntTEcE5iop1"
      }
    },
    {
      "cell_type": "code",
      "source": [
        "import keyword # One built in library in python\n",
        "\n",
        "keyword.kwlist"
      ],
      "metadata": {
        "colab": {
          "base_uri": "https://localhost:8080/"
        },
        "id": "ZAlWkiiSiR7M",
        "outputId": "22ff92af-f708-4b31-f3e5-85985713880d"
      },
      "execution_count": null,
      "outputs": [
        {
          "output_type": "execute_result",
          "data": {
            "text/plain": [
              "['False',\n",
              " 'None',\n",
              " 'True',\n",
              " 'and',\n",
              " 'as',\n",
              " 'assert',\n",
              " 'async',\n",
              " 'await',\n",
              " 'break',\n",
              " 'class',\n",
              " 'continue',\n",
              " 'def',\n",
              " 'del',\n",
              " 'elif',\n",
              " 'else',\n",
              " 'except',\n",
              " 'finally',\n",
              " 'for',\n",
              " 'from',\n",
              " 'global',\n",
              " 'if',\n",
              " 'import',\n",
              " 'in',\n",
              " 'is',\n",
              " 'lambda',\n",
              " 'nonlocal',\n",
              " 'not',\n",
              " 'or',\n",
              " 'pass',\n",
              " 'raise',\n",
              " 'return',\n",
              " 'try',\n",
              " 'while',\n",
              " 'with',\n",
              " 'yield']"
            ]
          },
          "metadata": {},
          "execution_count": 8
        }
      ]
    },
    {
      "cell_type": "markdown",
      "source": [
        "###**Data Types**\n",
        "---\n",
        "There are Three basic data:\n",
        "* Numeric Data\n",
        "* Text Data\n",
        "* Boolean Data"
      ],
      "metadata": {
        "id": "6bcMS-mtjDQz"
      }
    },
    {
      "cell_type": "markdown",
      "source": [
        "###**Numeric Data Type**\n"
      ],
      "metadata": {
        "id": "daR5BU4ZXOoz"
      }
    },
    {
      "cell_type": "code",
      "source": [
        "# Integer (int): positive and negative number including 0\n",
        "num1= 10\n",
        "num2 = -50\n",
        "\n",
        "print(num1,num2)\n",
        "print(type(num1),type(num2))"
      ],
      "metadata": {
        "id": "2U9KQtaYixva",
        "colab": {
          "base_uri": "https://localhost:8080/"
        },
        "outputId": "51f4d0a8-e88e-4f63-8fea-a0c063406657"
      },
      "execution_count": null,
      "outputs": [
        {
          "output_type": "stream",
          "name": "stdout",
          "text": [
            "10 -50\n",
            "<class 'int'> <class 'int'>\n"
          ]
        }
      ]
    },
    {
      "cell_type": "code",
      "source": [
        "# Float - Positive and Negative number includes zero\n",
        "x = 2.5\n",
        "y = -9.8\n",
        "\n",
        "print(x,y)\n",
        "print(type(x),type(y))"
      ],
      "metadata": {
        "colab": {
          "base_uri": "https://localhost:8080/"
        },
        "id": "VgK6AmjFXWbU",
        "outputId": "c376ae69-349d-4e82-d298-ddf7e1957eef"
      },
      "execution_count": null,
      "outputs": [
        {
          "output_type": "stream",
          "name": "stdout",
          "text": [
            "2.5 -9.8\n",
            "<class 'float'> <class 'float'>\n"
          ]
        }
      ]
    },
    {
      "cell_type": "code",
      "source": [
        "# Complex data -> if we have an expression like (a+bj) where, a and b are real numbers and j is imaginary\n",
        "eq = 2 + 3j # we have to use j only\n",
        "print(eq)\n",
        "print(type(eq))"
      ],
      "metadata": {
        "colab": {
          "base_uri": "https://localhost:8080/"
        },
        "id": "SFe5dUMwXwOl",
        "outputId": "e7123f1a-fafe-4f8a-efad-c68673bef433"
      },
      "execution_count": null,
      "outputs": [
        {
          "output_type": "stream",
          "name": "stdout",
          "text": [
            "(2+3j)\n",
            "<class 'complex'>\n"
          ]
        }
      ]
    },
    {
      "cell_type": "markdown",
      "source": [
        "###**Text data**\n",
        "* String\n",
        "* To write the string data we use \" \" or ' '"
      ],
      "metadata": {
        "id": "DataBHl0YcEV"
      }
    },
    {
      "cell_type": "code",
      "source": [
        "name = \"Gaurav\"\n",
        "print(type(name))\n",
        "val = 'x'\n",
        "print(val)"
      ],
      "metadata": {
        "colab": {
          "base_uri": "https://localhost:8080/"
        },
        "id": "qKmXIOP1YQL7",
        "outputId": "80c6875f-4b2e-45de-e45d-07f1b2f6c447"
      },
      "execution_count": null,
      "outputs": [
        {
          "output_type": "stream",
          "name": "stdout",
          "text": [
            "<class 'str'>\n",
            "x\n"
          ]
        }
      ]
    },
    {
      "cell_type": "markdown",
      "source": [
        "###**Boolean data**\n",
        "True and False | 1 and 0 respectively\n",
        "* **Note: T and F should be capital**"
      ],
      "metadata": {
        "id": "mSMp1-zLZVq1"
      }
    },
    {
      "cell_type": "code",
      "source": [
        "x = True\n",
        "y = False\n",
        "print(x,y)\n",
        "print(type(x))\n",
        "\n",
        "# bonus\n",
        "result = 15>20\n",
        "print(result)\n",
        "type(result)"
      ],
      "metadata": {
        "colab": {
          "base_uri": "https://localhost:8080/"
        },
        "id": "N2HS6Fj-ZK2V",
        "outputId": "a7aec4b2-1a2b-484f-efeb-f77083b06ef4"
      },
      "execution_count": null,
      "outputs": [
        {
          "output_type": "stream",
          "name": "stdout",
          "text": [
            "True False\n",
            "<class 'bool'>\n",
            "False\n"
          ]
        },
        {
          "output_type": "execute_result",
          "data": {
            "text/plain": [
              "bool"
            ]
          },
          "metadata": {},
          "execution_count": 13
        }
      ]
    },
    {
      "cell_type": "code",
      "source": [
        "# bonus\n",
        "date = '17th sept'\n",
        "date"
      ],
      "metadata": {
        "colab": {
          "base_uri": "https://localhost:8080/",
          "height": 36
        },
        "id": "O_5uOiv2aDKj",
        "outputId": "f058d2a9-72ab-418d-9b7d-ceb2f97ee4c7"
      },
      "execution_count": null,
      "outputs": [
        {
          "output_type": "execute_result",
          "data": {
            "text/plain": [
              "'17th sept'"
            ],
            "application/vnd.google.colaboratory.intrinsic+json": {
              "type": "string"
            }
          },
          "metadata": {},
          "execution_count": 14
        }
      ]
    },
    {
      "cell_type": "markdown",
      "source": [
        "###**Type Casting**\n",
        "To change the data from one datatype to another"
      ],
      "metadata": {
        "id": "iv39wCSBbIIF"
      }
    },
    {
      "cell_type": "code",
      "source": [
        "# syntax = nameOfTheDatatype(variable|value)\n",
        "x = 25\n",
        "print(type(x))\n",
        "y = float(x)\n",
        "print(type(y))\n",
        "print(y)\n",
        "z = str(x)\n",
        "print(type(z))\n",
        "print(z)"
      ],
      "metadata": {
        "colab": {
          "base_uri": "https://localhost:8080/"
        },
        "id": "swMWTK66aYA4",
        "outputId": "accf986b-a396-4045-b1ec-ea3412164787"
      },
      "execution_count": null,
      "outputs": [
        {
          "output_type": "stream",
          "name": "stdout",
          "text": [
            "<class 'int'>\n",
            "<class 'float'>\n",
            "25.0\n",
            "<class 'str'>\n",
            "25\n"
          ]
        }
      ]
    },
    {
      "cell_type": "markdown",
      "source": [
        "**Note: Text values cannot be converted into numeric values**"
      ],
      "metadata": {
        "id": "EDBqta4Eb0D7"
      }
    },
    {
      "cell_type": "code",
      "source": [
        "x = '10' # but not 'xyz'\n",
        "z = int(x)\n",
        "print(z)"
      ],
      "metadata": {
        "colab": {
          "base_uri": "https://localhost:8080/"
        },
        "id": "3iE-RyOLba6G",
        "outputId": "9d9de523-111c-4f9d-da8f-b68861f8728c"
      },
      "execution_count": null,
      "outputs": [
        {
          "output_type": "stream",
          "name": "stdout",
          "text": [
            "10\n"
          ]
        }
      ]
    },
    {
      "cell_type": "code",
      "source": [
        "# bonus\n",
        "# keyword alert: help() -> to learn about something in python\n",
        "# help(int)"
      ],
      "metadata": {
        "id": "tU_nGBTfb_iN"
      },
      "execution_count": null,
      "outputs": []
    },
    {
      "cell_type": "markdown",
      "source": [
        "##**Sequential Data Types**\n",
        "* When we have order between the elements/values\n",
        "* List, Tuple and String"
      ],
      "metadata": {
        "id": "DCL8MVxyc26N"
      }
    },
    {
      "cell_type": "markdown",
      "source": [
        "###**List**\n",
        "* A data type that stores multiple values/elements of any data type\n",
        "* It follows the order of indexing\n",
        "* List is mutable (change the element/update)\n",
        "* To create a list [ ] square brackets"
      ],
      "metadata": {
        "id": "vKWXEAjQda_n"
      }
    },
    {
      "cell_type": "code",
      "source": [
        "x = ['a','b','c','d']\n",
        "print(x)\n",
        "print(type(x))"
      ],
      "metadata": {
        "colab": {
          "base_uri": "https://localhost:8080/"
        },
        "id": "gPZy8BsUcOef",
        "outputId": "984a605f-ffc1-4a56-f408-c881498f078e"
      },
      "execution_count": null,
      "outputs": [
        {
          "output_type": "stream",
          "name": "stdout",
          "text": [
            "['a', 'b', 'c', 'd']\n",
            "<class 'list'>\n"
          ]
        }
      ]
    },
    {
      "cell_type": "markdown",
      "source": [
        "**Indexing** -> It tells you about position of the elemen in a list\n",
        "* The indexing will start from 0\n",
        "* Negative index starts from -1 (represent the last element)"
      ],
      "metadata": {
        "id": "4u7C64Lffm47"
      }
    },
    {
      "cell_type": "code",
      "source": [
        "list1 = ['a','b','c','d',5,6,True,False]\n",
        "print(list1[2]) # To print the value that is present at 2nd index\n",
        "print(list1[-1]) # To print the last element of the list"
      ],
      "metadata": {
        "colab": {
          "base_uri": "https://localhost:8080/"
        },
        "id": "JT3dS7Oke8za",
        "outputId": "55c7fd85-87f1-4a24-c8e9-0a398dab19fc"
      },
      "execution_count": null,
      "outputs": [
        {
          "output_type": "stream",
          "name": "stdout",
          "text": [
            "c\n",
            "False\n"
          ]
        }
      ]
    },
    {
      "cell_type": "markdown",
      "source": [
        "###**Slicing**\n",
        "* Out of the complete data, we try to extract small piece of it\n",
        "* [start: stop: step]\n",
        "* Start will be the index value from where you start slicing\n",
        "* Stop will be +1 to the index where you want to end slicing"
      ],
      "metadata": {
        "id": "EVoDoMPQgxOA"
      }
    },
    {
      "cell_type": "code",
      "source": [
        "x = ['a','b','c','d','e']\n",
        "x[1:4]"
      ],
      "metadata": {
        "colab": {
          "base_uri": "https://localhost:8080/"
        },
        "id": "VzeRPoMdf9uj",
        "outputId": "dd456144-a054-429b-8cc1-7bd94decb602"
      },
      "execution_count": null,
      "outputs": [
        {
          "output_type": "execute_result",
          "data": {
            "text/plain": [
              "['b', 'c', 'd']"
            ]
          },
          "metadata": {},
          "execution_count": 20
        }
      ]
    },
    {
      "cell_type": "code",
      "source": [
        "# To slice the values from the begining (we can keep the start value as empty)\n",
        "print(x[0:3])\n",
        "print(x[:3])"
      ],
      "metadata": {
        "colab": {
          "base_uri": "https://localhost:8080/"
        },
        "id": "5MBUUEE8hT92",
        "outputId": "4dc57c66-7515-4651-8eb7-d5fe5abf0586"
      },
      "execution_count": null,
      "outputs": [
        {
          "output_type": "stream",
          "name": "stdout",
          "text": [
            "['a', 'b', 'c']\n",
            "['a', 'b', 'c']\n"
          ]
        }
      ]
    },
    {
      "cell_type": "code",
      "source": [
        "# Whenever we want to go till the end of the element (we can keep the stop value as empty)\n",
        "print(x[1:])"
      ],
      "metadata": {
        "colab": {
          "base_uri": "https://localhost:8080/"
        },
        "id": "zQ12kJsSiaYD",
        "outputId": "2112c4a5-c954-48cd-b11d-49124cb2f978"
      },
      "execution_count": null,
      "outputs": [
        {
          "output_type": "stream",
          "name": "stdout",
          "text": [
            "['b', 'c', 'd', 'e']\n"
          ]
        }
      ]
    },
    {
      "cell_type": "code",
      "source": [
        "# Full list\n",
        "x[:]"
      ],
      "metadata": {
        "colab": {
          "base_uri": "https://localhost:8080/"
        },
        "id": "sO2Lq1NvizYp",
        "outputId": "fea76be1-2143-45b2-e9c9-1d80e8b2a0fb"
      },
      "execution_count": null,
      "outputs": [
        {
          "output_type": "execute_result",
          "data": {
            "text/plain": [
              "['a', 'b', 'c', 'd', 'e']"
            ]
          },
          "metadata": {},
          "execution_count": 23
        }
      ]
    },
    {
      "cell_type": "code",
      "source": [
        "# Step parameter\n",
        "x = [1,2,3,4,5,6,7]\n",
        "print(x[::2]) # For Odd numbers\n",
        "print(x[1::2]) # For even"
      ],
      "metadata": {
        "colab": {
          "base_uri": "https://localhost:8080/"
        },
        "id": "a6m2M7w9i6La",
        "outputId": "e5e2c075-ce2c-4e18-fc71-6b90dc1eaf3d"
      },
      "execution_count": null,
      "outputs": [
        {
          "output_type": "stream",
          "name": "stdout",
          "text": [
            "[1, 3, 5, 7]\n",
            "[2, 4, 6]\n"
          ]
        }
      ]
    },
    {
      "cell_type": "code",
      "source": [
        "x = ['a','b','c','d','e']\n",
        "print(x[1:4:1])\n",
        "print(x[::2])"
      ],
      "metadata": {
        "colab": {
          "base_uri": "https://localhost:8080/"
        },
        "id": "v_Y4bhb0jXiV",
        "outputId": "3ab74a08-6b33-4b96-d2d3-70bc9f57ea2b"
      },
      "execution_count": null,
      "outputs": [
        {
          "output_type": "stream",
          "name": "stdout",
          "text": [
            "['b', 'c', 'd']\n",
            "['a', 'c', 'e']\n"
          ]
        }
      ]
    },
    {
      "cell_type": "markdown",
      "source": [
        "**Methods in List**"
      ],
      "metadata": {
        "id": "7uWO9BmJoTj-"
      }
    },
    {
      "cell_type": "code",
      "source": [
        "# .append() -> It adds the elements by the end of the list\n",
        "# It adds one element at a time\n",
        "myList = ['Tea','Maggi','Juice','Rice','Coffee']\n",
        "myList.append('Milk')\n",
        "myList"
      ],
      "metadata": {
        "colab": {
          "base_uri": "https://localhost:8080/"
        },
        "id": "qFsX6KOIkDwd",
        "outputId": "6cb72ae5-ac0d-44ea-b99b-90c68411fea6"
      },
      "execution_count": null,
      "outputs": [
        {
          "output_type": "execute_result",
          "data": {
            "text/plain": [
              "['Tea', 'Maggi', 'Juice', 'Rice', 'Coffee', 'Milk']"
            ]
          },
          "metadata": {},
          "execution_count": 26
        }
      ]
    },
    {
      "cell_type": "code",
      "source": [
        "# .extend() -> it will add multiple elements by the end of list\n",
        "yourList = ['Toys','Books','Cat','Dog']\n",
        "myList.extend(yourList)\n",
        "myList"
      ],
      "metadata": {
        "colab": {
          "base_uri": "https://localhost:8080/"
        },
        "id": "Tp0tjiG0rrn1",
        "outputId": "85bf62bd-a0b1-4667-9900-fe9f39ad4b64"
      },
      "execution_count": null,
      "outputs": [
        {
          "output_type": "execute_result",
          "data": {
            "text/plain": [
              "['Tea',\n",
              " 'Maggi',\n",
              " 'Juice',\n",
              " 'Rice',\n",
              " 'Coffee',\n",
              " 'Milk',\n",
              " 'Toys',\n",
              " 'Books',\n",
              " 'Cat',\n",
              " 'Dog']"
            ]
          },
          "metadata": {},
          "execution_count": 27
        }
      ]
    },
    {
      "cell_type": "code",
      "source": [
        "# .insert(index,element) - It insert the element between the list\n",
        "myList.insert(2,'Cold Drinks')\n",
        "myList"
      ],
      "metadata": {
        "colab": {
          "base_uri": "https://localhost:8080/"
        },
        "id": "9xF1K5oar_wj",
        "outputId": "46a70de2-74d6-4931-9d31-291e88fe1a71"
      },
      "execution_count": null,
      "outputs": [
        {
          "output_type": "execute_result",
          "data": {
            "text/plain": [
              "['Tea',\n",
              " 'Maggi',\n",
              " 'Cold Drinks',\n",
              " 'Juice',\n",
              " 'Rice',\n",
              " 'Coffee',\n",
              " 'Milk',\n",
              " 'Toys',\n",
              " 'Books',\n",
              " 'Cat',\n",
              " 'Dog']"
            ]
          },
          "metadata": {},
          "execution_count": 28
        }
      ]
    },
    {
      "cell_type": "code",
      "source": [
        "# .remove(element) - It deletes the value permanently\n",
        "myList.remove('Milk')\n",
        "myList"
      ],
      "metadata": {
        "colab": {
          "base_uri": "https://localhost:8080/"
        },
        "id": "uoN_I6WAs6ZO",
        "outputId": "b0cd6945-024e-4cca-fba0-62577c5c0f56"
      },
      "execution_count": null,
      "outputs": [
        {
          "output_type": "execute_result",
          "data": {
            "text/plain": [
              "['Tea',\n",
              " 'Maggi',\n",
              " 'Cold Drinks',\n",
              " 'Juice',\n",
              " 'Rice',\n",
              " 'Coffee',\n",
              " 'Toys',\n",
              " 'Books',\n",
              " 'Cat',\n",
              " 'Dog']"
            ]
          },
          "metadata": {},
          "execution_count": 29
        }
      ]
    },
    {
      "cell_type": "code",
      "source": [
        "# remove will not return any value\n",
        "x = myList.remove('Coffee')\n",
        "print(myList)\n",
        "print(x)"
      ],
      "metadata": {
        "colab": {
          "base_uri": "https://localhost:8080/"
        },
        "id": "z3up7twltxpb",
        "outputId": "461a05a9-6868-4adf-860f-b536bf92fcfe"
      },
      "execution_count": null,
      "outputs": [
        {
          "output_type": "stream",
          "name": "stdout",
          "text": [
            "['Tea', 'Maggi', 'Cold Drinks', 'Juice', 'Rice', 'Toys', 'Books', 'Cat', 'Dog']\n",
            "None\n"
          ]
        }
      ]
    },
    {
      "cell_type": "code",
      "source": [
        "# .pop(index) -> It removes the value and also return it so that we can store it in a variable\n",
        "x = myList.pop(2)\n",
        "print(myList)\n",
        "print(x)"
      ],
      "metadata": {
        "colab": {
          "base_uri": "https://localhost:8080/"
        },
        "id": "J5XgeY-duGPj",
        "outputId": "cae5060d-a6fe-4a01-cc7c-40a21692647f"
      },
      "execution_count": null,
      "outputs": [
        {
          "output_type": "stream",
          "name": "stdout",
          "text": [
            "['Tea', 'Maggi', 'Juice', 'Rice', 'Toys', 'Books', 'Cat', 'Dog']\n",
            "Cold Drinks\n"
          ]
        }
      ]
    },
    {
      "cell_type": "markdown",
      "source": [
        "###**Tuple**\n",
        "* It stores multiple values of different datatypes\n",
        "* It also follows the order of indexing\n",
        "* **Tuples are immuatable (cannot modify)**\n",
        "* We can create tuples by using round brackets\n",
        "* We can have duplicated values also"
      ],
      "metadata": {
        "id": "DZHY-_LDfyy9"
      }
    },
    {
      "cell_type": "code",
      "source": [
        "tup1 = (1,2,3,4,'a','b','b')\n",
        "print(tup1)\n",
        "print(type(tup1))"
      ],
      "metadata": {
        "id": "oZm3XudVug4p",
        "colab": {
          "base_uri": "https://localhost:8080/"
        },
        "outputId": "dd6cd07e-839d-45c3-a373-ee19900f30b5"
      },
      "execution_count": null,
      "outputs": [
        {
          "output_type": "stream",
          "name": "stdout",
          "text": [
            "(1, 2, 3, 4, 'a', 'b', 'b')\n",
            "<class 'tuple'>\n"
          ]
        }
      ]
    },
    {
      "cell_type": "code",
      "source": [
        "print(tup1[3])"
      ],
      "metadata": {
        "colab": {
          "base_uri": "https://localhost:8080/"
        },
        "id": "Ai5dOpz2geT-",
        "outputId": "34b944ce-8d07-4f05-816a-d29beb9175cd"
      },
      "execution_count": null,
      "outputs": [
        {
          "output_type": "stream",
          "name": "stdout",
          "text": [
            "4\n"
          ]
        }
      ]
    },
    {
      "cell_type": "code",
      "source": [
        "# tup1[3] = 50 -> it is immutable"
      ],
      "metadata": {
        "id": "6lUZgtIDgoak"
      },
      "execution_count": null,
      "outputs": []
    },
    {
      "cell_type": "markdown",
      "source": [
        "**Methods of Tuple**"
      ],
      "metadata": {
        "id": "8vq1li5Ig2X6"
      }
    },
    {
      "cell_type": "code",
      "source": [
        "# .index() -> Gives you the index of an element\n",
        "tup1.index('a')"
      ],
      "metadata": {
        "colab": {
          "base_uri": "https://localhost:8080/"
        },
        "id": "7SHyUTAogrpR",
        "outputId": "09ff20f7-33b1-4b92-dd16-9bc566eb15f9"
      },
      "execution_count": null,
      "outputs": [
        {
          "output_type": "execute_result",
          "data": {
            "text/plain": [
              "4"
            ]
          },
          "metadata": {},
          "execution_count": 35
        }
      ]
    },
    {
      "cell_type": "code",
      "source": [
        "# .count() -> it will count the frequency of a particular element\n",
        "tup1.count('b')"
      ],
      "metadata": {
        "colab": {
          "base_uri": "https://localhost:8080/"
        },
        "id": "fWoNx6TdhCQL",
        "outputId": "4405c26c-5ae1-4344-face-a6cbe2b3abf0"
      },
      "execution_count": null,
      "outputs": [
        {
          "output_type": "execute_result",
          "data": {
            "text/plain": [
              "2"
            ]
          },
          "metadata": {},
          "execution_count": 36
        }
      ]
    },
    {
      "cell_type": "code",
      "source": [
        "# Keyword alert : len() -> Function\n",
        "len(tup1)"
      ],
      "metadata": {
        "colab": {
          "base_uri": "https://localhost:8080/"
        },
        "id": "Oo7FxrZfhO5h",
        "outputId": "07d297cc-60bb-49ad-ff9d-a412b3a8ce42"
      },
      "execution_count": null,
      "outputs": [
        {
          "output_type": "execute_result",
          "data": {
            "text/plain": [
              "7"
            ]
          },
          "metadata": {},
          "execution_count": 37
        }
      ]
    },
    {
      "cell_type": "markdown",
      "source": [
        "###**String**\n",
        "* text data type\n",
        "* follows indexing\n",
        "* immutable datatype"
      ],
      "metadata": {
        "id": "8BRfugP3hkBF"
      }
    },
    {
      "cell_type": "code",
      "source": [
        "fullName = 'Aryan Raj'\n",
        "fname = fullName[:5]\n",
        "lname = fullName[6:]\n",
        "print(fname)\n",
        "print(lname)"
      ],
      "metadata": {
        "colab": {
          "base_uri": "https://localhost:8080/"
        },
        "id": "Q-hzuU1_hb1f",
        "outputId": "101d9ca3-4aef-4f0f-f03d-5bb6345d57a2"
      },
      "execution_count": null,
      "outputs": [
        {
          "output_type": "stream",
          "name": "stdout",
          "text": [
            "Aryan\n",
            "Raj\n"
          ]
        }
      ]
    },
    {
      "cell_type": "code",
      "source": [
        "# Concatenation (+)\n",
        "Name = fname +' '+lname\n",
        "Name"
      ],
      "metadata": {
        "colab": {
          "base_uri": "https://localhost:8080/",
          "height": 36
        },
        "id": "F9KJS-Tdi0jW",
        "outputId": "b4352080-186a-4374-8bd5-f931b1420c06"
      },
      "execution_count": null,
      "outputs": [
        {
          "output_type": "execute_result",
          "data": {
            "text/plain": [
              "'Aryan Raj'"
            ],
            "application/vnd.google.colaboratory.intrinsic+json": {
              "type": "string"
            }
          },
          "metadata": {},
          "execution_count": 39
        }
      ]
    },
    {
      "cell_type": "code",
      "source": [
        "# Name[2] = 'B' -> immutable"
      ],
      "metadata": {
        "id": "xs6PT2XHjMk5"
      },
      "execution_count": null,
      "outputs": []
    },
    {
      "cell_type": "markdown",
      "source": [
        "**String Methods**"
      ],
      "metadata": {
        "id": "TwjxQPbyjlUe"
      }
    },
    {
      "cell_type": "code",
      "source": [
        "x = 'Deevesh'\n",
        "# .lower() -> Convert all element in lower case\n",
        "x.lower()"
      ],
      "metadata": {
        "colab": {
          "base_uri": "https://localhost:8080/",
          "height": 36
        },
        "id": "IiIl9uHCjg5e",
        "outputId": "d0e4bee3-eaea-4d9f-d0e5-ab2768197d5c"
      },
      "execution_count": null,
      "outputs": [
        {
          "output_type": "execute_result",
          "data": {
            "text/plain": [
              "'deevesh'"
            ],
            "application/vnd.google.colaboratory.intrinsic+json": {
              "type": "string"
            }
          },
          "metadata": {},
          "execution_count": 41
        }
      ]
    },
    {
      "cell_type": "code",
      "source": [
        "# .upper() ->  convert all elemnet into upper case\n",
        "x.upper()"
      ],
      "metadata": {
        "colab": {
          "base_uri": "https://localhost:8080/",
          "height": 36
        },
        "id": "cyjHHB7-j0U1",
        "outputId": "3ef96b5b-4ff5-4fe1-8a6c-2718789f6944"
      },
      "execution_count": null,
      "outputs": [
        {
          "output_type": "execute_result",
          "data": {
            "text/plain": [
              "'DEEVESH'"
            ],
            "application/vnd.google.colaboratory.intrinsic+json": {
              "type": "string"
            }
          },
          "metadata": {},
          "execution_count": 42
        }
      ]
    },
    {
      "cell_type": "code",
      "source": [
        "# .capitalize() -> It will capitalize the first letter of a string\n",
        "y = 'hii i am aryan'\n",
        "y.capitalize()"
      ],
      "metadata": {
        "colab": {
          "base_uri": "https://localhost:8080/",
          "height": 36
        },
        "id": "vqpBC5Qij8wP",
        "outputId": "a5a6eb4d-c3f4-45d3-e27c-00ed6f7ce1fb"
      },
      "execution_count": null,
      "outputs": [
        {
          "output_type": "execute_result",
          "data": {
            "text/plain": [
              "'Hii i am aryan'"
            ],
            "application/vnd.google.colaboratory.intrinsic+json": {
              "type": "string"
            }
          },
          "metadata": {},
          "execution_count": 43
        }
      ]
    },
    {
      "cell_type": "code",
      "source": [
        "# .title() -> it will capitalize all the first charecter of the string\n",
        "y.title()"
      ],
      "metadata": {
        "colab": {
          "base_uri": "https://localhost:8080/",
          "height": 36
        },
        "id": "Q0kOKhSakIo1",
        "outputId": "e84b5be3-4e6c-42f1-c4d8-2bcf45d61ead"
      },
      "execution_count": null,
      "outputs": [
        {
          "output_type": "execute_result",
          "data": {
            "text/plain": [
              "'Hii I Am Aryan'"
            ],
            "application/vnd.google.colaboratory.intrinsic+json": {
              "type": "string"
            }
          },
          "metadata": {},
          "execution_count": 44
        }
      ]
    },
    {
      "cell_type": "code",
      "source": [
        "# split() -\n",
        "data = 'Durgesh,Abhinav,Aryan,Gouri'\n",
        "y = data.split(',') # -> It returns the list of seperated elements\n",
        "y"
      ],
      "metadata": {
        "colab": {
          "base_uri": "https://localhost:8080/"
        },
        "id": "Ia-rLRXskahK",
        "outputId": "15d7baed-85db-4c21-fec2-73cf098a1a94"
      },
      "execution_count": null,
      "outputs": [
        {
          "output_type": "execute_result",
          "data": {
            "text/plain": [
              "['Durgesh', 'Abhinav', 'Aryan', 'Gouri']"
            ]
          },
          "metadata": {},
          "execution_count": 45
        }
      ]
    },
    {
      "cell_type": "code",
      "source": [
        "# strip() -> It will remove the white spaces from the string\n",
        "z = '     Aryan    '\n",
        "z.strip()"
      ],
      "metadata": {
        "colab": {
          "base_uri": "https://localhost:8080/",
          "height": 36
        },
        "id": "kOXDwo2okxi7",
        "outputId": "ca0f720b-0dd2-4744-de1a-bfaa90f98937"
      },
      "execution_count": null,
      "outputs": [
        {
          "output_type": "execute_result",
          "data": {
            "text/plain": [
              "'Aryan'"
            ],
            "application/vnd.google.colaboratory.intrinsic+json": {
              "type": "string"
            }
          },
          "metadata": {},
          "execution_count": 46
        }
      ]
    },
    {
      "cell_type": "markdown",
      "source": [
        "###**Sets**\n",
        "* Collection of unique elements\n",
        "* There is no order between the elemens\n",
        "* mutable\n",
        "* we can create sets {}"
      ],
      "metadata": {
        "id": "EhPMlj0SltD9"
      }
    },
    {
      "cell_type": "code",
      "source": [
        "s1 = {1,2,3,4,4}\n",
        "print(s1)"
      ],
      "metadata": {
        "colab": {
          "base_uri": "https://localhost:8080/"
        },
        "id": "0fzEtuw-liyP",
        "outputId": "49d5d405-8f43-478b-c4dd-80039fa83fea"
      },
      "execution_count": null,
      "outputs": [
        {
          "output_type": "stream",
          "name": "stdout",
          "text": [
            "{1, 2, 3, 4}\n"
          ]
        }
      ]
    },
    {
      "cell_type": "code",
      "source": [
        "s2 = {0,1,2,3,'Apple','True',True,False}\n",
        "print(len(s2))\n",
        "print(s2)"
      ],
      "metadata": {
        "colab": {
          "base_uri": "https://localhost:8080/"
        },
        "id": "1w-H5WfzmO3G",
        "outputId": "9a209dbf-225e-4ef7-988d-394e345bc0de"
      },
      "execution_count": null,
      "outputs": [
        {
          "output_type": "stream",
          "name": "stdout",
          "text": [
            "6\n",
            "{0, 1, 2, 3, 'True', 'Apple'}\n"
          ]
        }
      ]
    },
    {
      "cell_type": "code",
      "source": [
        "# s2[4] -> Not sequenced (no index)"
      ],
      "metadata": {
        "id": "f0hrSzKQmeR2"
      },
      "execution_count": null,
      "outputs": []
    },
    {
      "cell_type": "markdown",
      "source": [
        "**Methods in sets**\n"
      ],
      "metadata": {
        "id": "7n7n5cVNnvUF"
      }
    },
    {
      "cell_type": "code",
      "source": [
        "# .add(element)\n",
        "s1.add(0)\n",
        "s1"
      ],
      "metadata": {
        "colab": {
          "base_uri": "https://localhost:8080/"
        },
        "id": "NIBEwwiunCIZ",
        "outputId": "e4f2a72d-1f16-4f0b-c379-f7e361aabff9"
      },
      "execution_count": null,
      "outputs": [
        {
          "output_type": "execute_result",
          "data": {
            "text/plain": [
              "{0, 1, 2, 3, 4}"
            ]
          },
          "metadata": {},
          "execution_count": 50
        }
      ]
    },
    {
      "cell_type": "code",
      "source": [
        "# .remove(element)\n",
        "s1.remove(4)"
      ],
      "metadata": {
        "id": "6nBrAU7Jn0Ii"
      },
      "execution_count": null,
      "outputs": []
    },
    {
      "cell_type": "code",
      "source": [
        "s1"
      ],
      "metadata": {
        "colab": {
          "base_uri": "https://localhost:8080/"
        },
        "id": "X_WDxXC2n9_4",
        "outputId": "e1846add-5a83-4250-fd3d-fcceeef7f8a4"
      },
      "execution_count": null,
      "outputs": [
        {
          "output_type": "execute_result",
          "data": {
            "text/plain": [
              "{0, 1, 2, 3}"
            ]
          },
          "metadata": {},
          "execution_count": 52
        }
      ]
    },
    {
      "cell_type": "code",
      "source": [
        "# .union() -> All elements present in both set\n",
        "s1 = {1,2,3,4}\n",
        "s2 = {3,4,5,6}\n",
        "print(s1.union(s2))"
      ],
      "metadata": {
        "colab": {
          "base_uri": "https://localhost:8080/"
        },
        "id": "q-_y21FYn-7U",
        "outputId": "60fa965d-f5bb-495a-f42b-b7c69417bfa3"
      },
      "execution_count": null,
      "outputs": [
        {
          "output_type": "stream",
          "name": "stdout",
          "text": [
            "{1, 2, 3, 4, 5, 6}\n"
          ]
        }
      ]
    },
    {
      "cell_type": "code",
      "source": [
        "# .intersection() -> All the common elements between both set\n",
        "print(s1.intersection(s2))"
      ],
      "metadata": {
        "colab": {
          "base_uri": "https://localhost:8080/"
        },
        "id": "Ly1P8W1Voags",
        "outputId": "b53b75c1-c6d2-401c-c2b3-c276e3c57809"
      },
      "execution_count": null,
      "outputs": [
        {
          "output_type": "stream",
          "name": "stdout",
          "text": [
            "{3, 4}\n"
          ]
        }
      ]
    },
    {
      "cell_type": "markdown",
      "source": [
        "###**Dictionary**\n",
        "* mainly used for mapping purpose\n",
        "* Key value pair\n",
        "* Mutable\n",
        "* {key : value}\n",
        "* It helps you to create DataFrame (Table)"
      ],
      "metadata": {
        "id": "sbQPp0aloqDI"
      }
    },
    {
      "cell_type": "code",
      "source": [
        "dict1 =  {\n",
        "    'FirstName': 'Aryan',\n",
        "    'LastName' : 'Raj',\n",
        "    'Domain' : 'AIE',\n",
        "    'Age' : 28\n",
        " }\n",
        "print(dict1)"
      ],
      "metadata": {
        "colab": {
          "base_uri": "https://localhost:8080/"
        },
        "id": "RTeR7uqWolPj",
        "outputId": "03d01719-b3fe-4e59-c385-b3b8f5a9216b"
      },
      "execution_count": null,
      "outputs": [
        {
          "output_type": "stream",
          "name": "stdout",
          "text": [
            "{'FirstName': 'Aryan', 'LastName': 'Raj', 'Domain': 'AIE', 'Age': 28}\n"
          ]
        }
      ]
    },
    {
      "cell_type": "code",
      "source": [
        "print(dict1['Age'])"
      ],
      "metadata": {
        "colab": {
          "base_uri": "https://localhost:8080/"
        },
        "id": "mMziT3yNpS58",
        "outputId": "f0644b7e-cbe6-4f4c-f7cf-bd17e9980d41"
      },
      "execution_count": null,
      "outputs": [
        {
          "output_type": "stream",
          "name": "stdout",
          "text": [
            "28\n"
          ]
        }
      ]
    },
    {
      "cell_type": "code",
      "source": [
        "dict1['Domain'] = 'GenAI'"
      ],
      "metadata": {
        "id": "0kBhNcqVpwUf"
      },
      "execution_count": null,
      "outputs": []
    },
    {
      "cell_type": "code",
      "source": [
        "dict1"
      ],
      "metadata": {
        "colab": {
          "base_uri": "https://localhost:8080/"
        },
        "id": "2EQswd7sqBYH",
        "outputId": "27d193a0-4cd7-490f-e962-a2c44ca2fcb6"
      },
      "execution_count": null,
      "outputs": [
        {
          "output_type": "execute_result",
          "data": {
            "text/plain": [
              "{'FirstName': 'Aryan', 'LastName': 'Raj', 'Domain': 'GenAI', 'Age': 28}"
            ]
          },
          "metadata": {},
          "execution_count": 58
        }
      ]
    },
    {
      "cell_type": "markdown",
      "source": [
        "**To add new key value pair**"
      ],
      "metadata": {
        "id": "9kfz7y_NqGZx"
      }
    },
    {
      "cell_type": "code",
      "source": [
        "dict1['FavCol'] =  'Purple'\n",
        "dict1"
      ],
      "metadata": {
        "colab": {
          "base_uri": "https://localhost:8080/"
        },
        "id": "IcGEtTn7qCUU",
        "outputId": "f13bbb74-f8c1-4908-e41f-cabb56b003e7"
      },
      "execution_count": null,
      "outputs": [
        {
          "output_type": "execute_result",
          "data": {
            "text/plain": [
              "{'FirstName': 'Aryan',\n",
              " 'LastName': 'Raj',\n",
              " 'Domain': 'GenAI',\n",
              " 'Age': 28,\n",
              " 'FavCol': 'Purple'}"
            ]
          },
          "metadata": {},
          "execution_count": 59
        }
      ]
    },
    {
      "cell_type": "code",
      "source": [
        "# To remove any key value pair\n",
        "dict1.pop('FavCol')"
      ],
      "metadata": {
        "colab": {
          "base_uri": "https://localhost:8080/",
          "height": 36
        },
        "id": "q9w5x9xdqPgz",
        "outputId": "0d3ab9bb-6a0e-4ad7-8af8-819501544bbe"
      },
      "execution_count": null,
      "outputs": [
        {
          "output_type": "execute_result",
          "data": {
            "text/plain": [
              "'Purple'"
            ],
            "application/vnd.google.colaboratory.intrinsic+json": {
              "type": "string"
            }
          },
          "metadata": {},
          "execution_count": 60
        }
      ]
    },
    {
      "cell_type": "code",
      "source": [
        "dict1"
      ],
      "metadata": {
        "colab": {
          "base_uri": "https://localhost:8080/"
        },
        "id": "228wTCqWqay1",
        "outputId": "01ddae57-50d7-46c7-82fa-3af481330510"
      },
      "execution_count": null,
      "outputs": [
        {
          "output_type": "execute_result",
          "data": {
            "text/plain": [
              "{'FirstName': 'Aryan', 'LastName': 'Raj', 'Domain': 'GenAI', 'Age': 28}"
            ]
          },
          "metadata": {},
          "execution_count": 61
        }
      ]
    },
    {
      "cell_type": "code",
      "source": [
        "# we can also use del keyword\n",
        "del dict1['Age']\n",
        "dict1"
      ],
      "metadata": {
        "colab": {
          "base_uri": "https://localhost:8080/"
        },
        "id": "clJz4dkyqd6t",
        "outputId": "3b105544-792d-44f0-e780-701549b69fd2"
      },
      "execution_count": null,
      "outputs": [
        {
          "output_type": "execute_result",
          "data": {
            "text/plain": [
              "{'FirstName': 'Aryan', 'LastName': 'Raj', 'Domain': 'GenAI'}"
            ]
          },
          "metadata": {},
          "execution_count": 62
        }
      ]
    },
    {
      "cell_type": "markdown",
      "source": [
        "**Methods in Dict**"
      ],
      "metadata": {
        "id": "-kDs6mj1re2s"
      }
    },
    {
      "cell_type": "code",
      "source": [
        "# .keys() : Give you all the keys in dict\n",
        "dict1.keys()"
      ],
      "metadata": {
        "colab": {
          "base_uri": "https://localhost:8080/"
        },
        "id": "KPiLZPkjqqeP",
        "outputId": "8294f67d-fe81-4342-fce0-e692fcfb1ede"
      },
      "execution_count": null,
      "outputs": [
        {
          "output_type": "execute_result",
          "data": {
            "text/plain": [
              "dict_keys(['FirstName', 'LastName', 'Domain'])"
            ]
          },
          "metadata": {},
          "execution_count": 63
        }
      ]
    },
    {
      "cell_type": "code",
      "source": [
        "# .values() : Give all the values in dic\n",
        "dict1.values()"
      ],
      "metadata": {
        "colab": {
          "base_uri": "https://localhost:8080/"
        },
        "id": "GlNOKFCArlL6",
        "outputId": "6e5c2173-61f9-4cba-96cb-c92459682101"
      },
      "execution_count": null,
      "outputs": [
        {
          "output_type": "execute_result",
          "data": {
            "text/plain": [
              "dict_values(['Aryan', 'Raj', 'GenAI'])"
            ]
          },
          "metadata": {},
          "execution_count": 64
        }
      ]
    },
    {
      "cell_type": "code",
      "source": [
        "# .items(): Give both key value together\n",
        "x = dict1.items()\n",
        "print(x)"
      ],
      "metadata": {
        "colab": {
          "base_uri": "https://localhost:8080/"
        },
        "id": "uXhwTBWyruBc",
        "outputId": "650b757d-a738-49d6-bb5a-9bfcde8cc015"
      },
      "execution_count": null,
      "outputs": [
        {
          "output_type": "stream",
          "name": "stdout",
          "text": [
            "dict_items([('FirstName', 'Aryan'), ('LastName', 'Raj'), ('Domain', 'GenAI')])\n"
          ]
        }
      ]
    },
    {
      "cell_type": "code",
      "source": [
        "dict1.items()"
      ],
      "metadata": {
        "colab": {
          "base_uri": "https://localhost:8080/"
        },
        "id": "rBWCf8iiRS6r",
        "outputId": "75480d25-5004-424f-d9ad-5fc6c8a7d7da"
      },
      "execution_count": null,
      "outputs": [
        {
          "output_type": "execute_result",
          "data": {
            "text/plain": [
              "dict_items([('FirstName', 'Aryan'), ('LastName', 'Raj'), ('Domain', 'GenAI')])"
            ]
          },
          "metadata": {},
          "execution_count": 66
        }
      ]
    },
    {
      "cell_type": "code",
      "source": [
        "# Bonus ->\n",
        "my_tuple = (1, 2, [3, 4, 5]) # [3, 4, 5] -> 10\n",
        "print( my_tuple)\n",
        "\n",
        "my_tuple[2][0] = 10\n",
        "my_tuple[2].append(6)\n",
        "\n",
        "print( my_tuple)"
      ],
      "metadata": {
        "colab": {
          "base_uri": "https://localhost:8080/"
        },
        "id": "ma_CwqBKr1hw",
        "outputId": "b7893427-15eb-45a9-d491-885d2c2f08a8"
      },
      "execution_count": null,
      "outputs": [
        {
          "output_type": "stream",
          "name": "stdout",
          "text": [
            "(1, 2, [3, 4, 5])\n",
            "(1, 2, [10, 4, 5, 6])\n"
          ]
        }
      ]
    },
    {
      "cell_type": "code",
      "source": [
        "print(type(dict1))"
      ],
      "metadata": {
        "colab": {
          "base_uri": "https://localhost:8080/"
        },
        "id": "KQGFUH4kscfO",
        "outputId": "bfc1eb25-e26b-43f7-9329-db6161d8cfcd"
      },
      "execution_count": null,
      "outputs": [
        {
          "output_type": "stream",
          "name": "stdout",
          "text": [
            "<class 'dict'>\n"
          ]
        }
      ]
    },
    {
      "cell_type": "markdown",
      "source": [
        "##**Operators**\n",
        "The symbol that specify what task to be done (Operation to be done on operands(Values))\n",
        "\n"
      ],
      "metadata": {
        "id": "Kh2OyPMtsn01"
      }
    },
    {
      "cell_type": "markdown",
      "source": [
        "###**Arithimatic Operator**\n",
        "Any mathematical calculation"
      ],
      "metadata": {
        "id": "6Cl6F0nftJag"
      }
    },
    {
      "cell_type": "code",
      "source": [
        "# Bonus -> Format string\n",
        "x = 5\n",
        "y = 10\n",
        "print('X is',x,'and y is',y)\n",
        "print(f'X is {x} and y is {y}')"
      ],
      "metadata": {
        "colab": {
          "base_uri": "https://localhost:8080/"
        },
        "id": "3D14OHaztfrp",
        "outputId": "79b05eba-92ea-498a-8957-cb0df1bfa7b7"
      },
      "execution_count": null,
      "outputs": [
        {
          "output_type": "stream",
          "name": "stdout",
          "text": [
            "X is 5 and y is 10\n",
            "X is 5 and y is 10\n"
          ]
        }
      ]
    },
    {
      "cell_type": "code",
      "source": [
        "# Arithmatic operator\n",
        "x = 5\n",
        "y = 2\n",
        "# Add (+)\n",
        "print(f'Add: {x+y}')\n",
        "# Subs (-)\n",
        "print(f'Subs: {x-y}')\n",
        "# mul (*)\n",
        "print(f'mul: {x*y}')\n",
        "# div (/): no matter what value you pass, it will give you the float as an output\n",
        "print(f'div: {x/y}')\n",
        "# floor Div (//) - it removes values after decimal\n",
        "print(f'floorDiv: {x//y}')\n",
        "# Exponential (power operator) (**)\n",
        "print(f'Exponential: {x**y}')\n",
        "# Modulus opp (%) -> Gives remainder\n",
        "print(f'Modulus: {x%y}')"
      ],
      "metadata": {
        "colab": {
          "base_uri": "https://localhost:8080/"
        },
        "id": "tT-sBTzGskEX",
        "outputId": "e52198b3-7b2e-4354-d058-828807f78b04"
      },
      "execution_count": null,
      "outputs": [
        {
          "output_type": "stream",
          "name": "stdout",
          "text": [
            "Add: 7\n",
            "Subs: 3\n",
            "mul: 10\n",
            "div: 2.5\n",
            "floorDiv: 2\n",
            "Exponential: 25\n",
            "Modulus: 1\n"
          ]
        }
      ]
    },
    {
      "cell_type": "markdown",
      "source": [
        "###**Comparisional Operator**"
      ],
      "metadata": {
        "id": "oNLrhSLjvD8E"
      }
    },
    {
      "cell_type": "code",
      "source": [
        "x =5\n",
        "y = 10\n",
        "z = 10\n",
        "# <,>,<=,>=, ==, !=\n",
        "print(x>y)\n",
        "print(y==z)\n",
        "print(y>=z)\n",
        "print(z!=y)"
      ],
      "metadata": {
        "colab": {
          "base_uri": "https://localhost:8080/"
        },
        "id": "JqgyjiX3tXBK",
        "outputId": "605542e5-53b7-4f07-e565-c8be614b3585"
      },
      "execution_count": null,
      "outputs": [
        {
          "output_type": "stream",
          "name": "stdout",
          "text": [
            "False\n",
            "True\n",
            "True\n",
            "False\n"
          ]
        }
      ]
    },
    {
      "cell_type": "markdown",
      "source": [
        "**Assignement operator**"
      ],
      "metadata": {
        "id": "apo0FTwIy80Z"
      }
    },
    {
      "cell_type": "code",
      "source": [
        "# =, +=, /=, -=\n",
        "x = 5 # here we assigned the value of x as 5\n",
        "x /= 2 # x = x/2\n",
        "x"
      ],
      "metadata": {
        "colab": {
          "base_uri": "https://localhost:8080/"
        },
        "id": "u3aF7MBJuMEh",
        "outputId": "bea1e231-d2f2-44d7-ff1f-f5125dee4649"
      },
      "execution_count": null,
      "outputs": [
        {
          "output_type": "execute_result",
          "data": {
            "text/plain": [
              "2.5"
            ]
          },
          "metadata": {},
          "execution_count": 72
        }
      ]
    },
    {
      "cell_type": "markdown",
      "source": [
        "###**Logical Operator**\n",
        "![image.png](data:image/png;base64,iVBORw0KGgoAAAANSUhEUgAABN4AAAIjCAYAAADcLdbbAAAAAXNSR0IArs4c6QAAAARnQU1BAACxjwv8YQUAAAAJcEhZcwAADsMAAA7DAcdvqGQAAKEDSURBVHhe7d1Pq1xHmufxK1suVI0a9DLEUBSFpmiMF7WoF2IaI4wwvZjFvJBZFMYYjSi8mBdSC2OGQlMYU4hZ1qIXvWiEWnSJslye+V1lWEfnnj9PxIl4Tvz5fuBw8+bNmzfznIgnIn55Mu+tFy9e/Hh1klevXl1v9+7du1yDkl6/fn318uXLq7t3717dvn37ci1K0v4W7XOUR03x9/z586s7d+5cbyiPmuKLmuKPmuKLmuKLubi/3DXl/v37l0vL/umf/unqq6++unw3HsZNX9QUf6k15b3LVwAAAAAAsOB//+//fbm0znIbAOMheAMAAAAAAAAKIHgDAAAAAAAACiB4AwAAAAAAAAogeAMAAAAAAAAKIHgDAAAAAAAACrj14sWLHy+X3fHvhn3x74b98W/6fVFT/OX+N/3YRk3xRU3xR03xRU3x1dpc/Mh/6Dz63z1z/XdQ7fMc+5r/VjqWf/qnf7pcSpd6H3u/N/0563t/qfMUgreB0DH9MaH1RU3xxyLZFzXFFzXFHzXFFzXF19ZcfB7sWIKevdsQFgFjWAvr5tdbb4d1BG/YRfDmjwmtL2qKPxbJvqgpvqgp/qgpvqgpeU2DrqXQS9eFM7AIxQDUai2wswZ5PSN4wy6CN39MaH1RU/yxSPZFTfFFTfFHTfFFTbnJEp4FhGcA8MZeWNdLSEfwhl0Eb/6Y0PqipvhjkeyLmuKLmuKPmuKrx5oyD8MIzwCgDtPw7V/+5V+uv7YWyBG8YRfBmz8Wyb6oKf5YJPuipviipvijpviqqabEBmZCaAYAbVPwpi0EcbUjeMMugjd/LJJ9UVP8sUj2RU3xRU3xR03xlaOmEJgBAI4K4VvtZ8ARvGEXwZs/Fsm+qCn+WCT7oqb4oqb4o6b4CMGX2rdof6+FYdPrCcwAACV99dVXVYdvycHbv//7v58avH3//fdX//iP/3i5BiUpePvrX/969fOf/5zgzYn2t2ifozxqir//+I//uB54Pvjgg8s1KIma4oua4o+a8tbTp08vl97aCr6WfkZQBgBozXfffXe5VJ/Uecqtv/zlL6cFb3//+9+vfvzxx6v333//cg1K0r7WPn/vvfeubt26dbkWJWl/i/Y5yqOm+Pvhhx+u6wlt3Ac1xW4ptIih31c90ab9/eDBg8tP8ip1v606o6aktBXr7+zd7mg7BWp0pK7lrokaN1VTYtc+S49D/fXx48eX75bp9x4+fHj5bjzTcbMHR2r0Wb/bA/WhWvtR6jzl1DPe9CqyXk3mlWQfnPHmj7NTfFFT/OlVH73iE3u6NdLUVFP2zqSJOdPGclsCCh9nB4FasG0tkGkHGMXeW60sb8VKfbvW2XUgp5zzlC+++OLqd7/73eW7ZdrnT548uXw3Hubi5U3HQa3vtb/Vvufj49rcqpUzoR89elTlP1xIrSl8xttA+Iw3f3weky9qij8+j8lXak2ZT7JiJmOtTNAAoDbT4EuXNRfXFsbM+c+RX855ikI3S/Cmz6gaFXNxX7nW91vzxK2flaTQrcbgLfkz3gjexkHw5o/gzRc1xR/Bmx9NdNS+5dtvv73+OrU1SQIApNkKx/a+n2Mu7o/gzRdzcV9n15S1UC7XnLTG8I3gDbsY7P0RvPmipvgjeIuzNxHJNVEBALwRG5bthWdHMBf3R/Dmi7m4r1ZqynROqz5kneMSvGVCx/TFYO+P4M0XNcXfyMHbVki29TMAwD5rIDa9vmRolgNzcX8Eb76Yi/tqtaZobvzxxx9fvtv27Nmzy6U6ELxhF4O9P4I3X9QUf70Eb4RoAJBHSmAmtYdmOTAX90fw5ou5uK+Wa4qlP4n6U03jA8EbdjHY+yN480VN8Vdr8BYCMkI0ALALi5ut+jgPFUYIzHJhLu6P4M0Xc3FfrdeU+/fvXy6tq+3tpgRv2MVg74/gzRc1xZ9H8LYWlhGiARjNWsiVev3SPEVv/9mqqTV+5k4rmIv7I3jzxVzcV+s1ZW+8kdr6FMEbdjHY+yN480VN8Zcy+IQBdj7QTr/fG4SBkqZhhcbO+ZhJ+8RaoDV15DaW381haZ5iOQOhts/caQVzcX8Eb76Yi/tqvaZY+pTUNOYQvGEXg70/gjdf1BR/Gnz+/Oc/X9cUgjRMWYODs25noXqiCeHjx48v15RZVLXcP3I/du1z1ZOleUrOYyu5769F83mKjqflA68J3tIwF/dH8OaLubiv1muKdcyp6UxrgjfsYrD3R/Dmi5qSR1hIzxfUa9ejTfPQYS2EiL2+F1uTwdEXViXlXCRjH8GbL+bi/gjefDEX99VDTWntc94I3rCLwd4fwZsvaspN05BsHpiF7+fXow3T4GspBNv7Obbtfe5ITZPAnhC8+ZrPUwgWymIu7o/gzRdzcV891BRLv5JaXvAheMMuBnt/BG++Rqgpa2HZ9HuCtHbshWPzn1NT/PA5V+cgePM1ryl7gbOMHiwcwVzcH8GbL9b3vgje/BG8YReDvT8Wyb5aqymEaH2Zh2RT4fv59bGoKT7U73i73TkI3nzNa4oleONsz3TMxf0RvPlife+rl5rS0ttNCd6wi8HeH4tkX2fWlK2wLHy/t5hBPTxCtBTUFB/qqwRv5yB48zWvKZbFj0KFM+pfD5iL+yN488X63hfBmz+CN+xisPfHItnX0ZqyFpgF0+8J0doxXSDOF4vh+1YWkdQUPwQQ5yB48zWvKbT7spiL+yN488X63lcvNaWlvkXwhl21dcxegoutySeLZD9qT6onaudhfy+1McKztk3727zvhe+3+mTrqCl+CCDOQfDma1pTNCZazvSk3acjePNH8OaL9b2vkYI3qeGdBgRv2FWyY2qyNg8xCDiOq3liG/PYch1/2lF/pu3Icnl0BG9+CN7OQfDmKyV44y3W6Qje/BG8+WJ976uXmmIdf2qYdxG8YdfRjqkOEYKP+VcAkDAYzgfF6fdnD5gtI3jzQ/B2DoI3XwRvvgje/BG8+WJ976unmmKZd9XwOW8Eb9gV0zHDoDIN2wCMJ4QK83AhfK+a8tFHH7FIdjJdJKMsgrdzELz5mtYUQoXyCN78Ebz5Yn3vq6eaohd+9nIHgrdEdExfax2TkA0YwzQgmIcF4fv59XtYJPsiePPTyiuvvaGm+CJ480Xw5o/gzRfre1891RRL/5Kzz7omeMOu0DF///vfX3dMgjagbdOQbB6Yhe/n1+fGItkXwZufVl557Q01xde0plja/OihwlEEb/4I3nyxvvdF8OaP4A2rQgMmaAPqNQ3I5mFZ+H5+fQ1YJPsiePND8HYOaoqv2OCNNn8MwZs/gjdfrO999VZTWni3AcEb3qFBgaANOIclRJMag7RYLJJ9Ebz5IYQ4BzXFF8GbL4I3fwRvvljf+yJ485daU967fEUHNBBo0qQGG4I3AOk0eZpuodCHTROrsOm057BNr58ODOqTYcKm+wMAAAAAvAnV9rSacXDGW+PCIn7v1RdgRPNwaynsml5XIgxT31zqnyG8ax1np/jijDc/nP1zDmqKL8548+V1dormHTqW2jS30TErMcdpAWe8+WJ976u3M94sfUzO/Jy31JpC8NYwa8P0FAb1+eC+NNj3MAGwHAM9z6OT1BaS/fljLHF8t+5TP6utpuy1jx4WMCySfRG8+bHU9x76cG2oKb6mNcXyFh8FCl7zt6U+2HqfK71I1lxMAeqSUesVwZsv1ve+egvetmrYFMFbJDpmGkvRL0kDSph0zb+OhgG4LrXVlL1FTA9tg0WyL4I3P9T3c1BTfNUYvFkWXq2GSKUXyXtnLZ65WD0LwZsv1vdvTduK2kWJ2tlb8Ca1vQg0l1pT+Iy3hqjzhs9v8xImNmrc08+vCteXKiJA67YmvoHlNgAAjMQyz9VtPOfDLdCcYm9ewT4DfCgED3VKm763nMkFmxbXUARvjQidtiQFaPOQbRqw4SbLfiFcwRbaBwAAb1jCo8BjbtwSy35jzgGUt3bmqa4jfNvXa+5A8NaAUhOLEKqFoC2cyUbIBhxn7UdMggEAeCN2vkv4Foc5xzG84I49Ov5bbUA/o2Zts/SzFvchwVvlcnbOR48eXT18+PDqyZMnnM0GOKBvAX1jgQXkldKnCN/esM452FdAOcwLsIbgrXJHB8cQroWgTcEbYUA+1n1JER6TpX3QNoA6MVaiFNV9av9NR/YJYRI1C2gF9WqbMguL1sZRgrfKpTSoedhmbbwA/LH4AoD+aaGlf5ClLXzI9vx7jQeMCelYzPKCH4BxtFbLCN4qFtuYCNvqxSQHAIDxhMBtKxTSHEHbNJALQRzscgVvuh9tLe5/gjfULvSvVvvYHusaXM8f63o8g5fgrWKxDU7FK2zww6n9WGNtG/RZAOhPWFym0LgwPRNuBDme55HFrH43hKTaQgh65D69MSdFreb9K/QxbcCcpZa1NjYSvHVkOklraZIA9IrgDWgX/RdHqF3kmIuFuV0t87rag52woI+1dbxS7/MM1uPTyvNBH7b6V65aWRPLWW963jimtX1I8Fa51LeMtjRJaF3tk1Cci/aBkWgSFDZgZLnnYLq/kmeG9NRnU/Y9c2agnL3+NWL/Y560rccXPwneOsYkoh4U13ERvGEEqnEac8JZ12Gj9mFEavcl2r7uU2/Vol/ti50D7+3TlubUzDswpbbbwvjcUh/b02No5I3gDc2hQwP1o5/u0z5iP9VJx0WT+Pmkee164KjpQlJBVNhqWVCWbvM1PMfajVx3LAvW3PtH7ZE2WZ9QK7WFYxS2UD9H7iulELzl0duLCARvgAMKK7bQPpZpv2hCOF1Qa2OSWJe946Gf93zM6L9+Qj0IbWq+7/W9tjMXlOExlKbn6PF3ahOzEOu57tQi9MkwPq/1O12nbcQ2ewbtZ2sNDMfQclvYWWoV/WFbb/uQ4K1yRxtTb0lxjdjH2GJtHwy+79L+WArZdL2uG3XRWRsdA8txaHVCT32vQ+rCMPX3jvD8W6qDI7J+/nHuY9HKmGPdP0efj/bv0j6eXq+voQ9q2wrnkE/K/g3Hh7lVHr2FRrVqaR8SvHUs9R8zAMiH4C3N3oJS+4sJ4vliJvcstLBHbeTDDz+8+tWvfvVT/9Z1R9uOfj9XvQiPR/cXthRfffXVT5vGidSQ9+i+aVHM/HbE/WN1pD+Evrkm9JG12+h6jk0ZR2qdfm/ruCG/HONSr3p78ZPgrVOalBC8AWhRzEL2yAQTx8XseybyWKN2ND8LJvcCMNzfkXqhxxI23U/YQs0K3+/R/CyEbdrmIVyM8HhGY53jjrhvpIYF615faPHY1LBft1hr0J5R60pO1hqV43j1ytrfWtmHBG8dUKMMQZu2Z8+emTs7juutKCC/2idqNUmZNBK+nSNln3OcsMRzgZca5qntrv2efhbCN4u1MUHXhwAO22LmuSMGCKXnHdTybWftn5xtXfc1Yt/Jifm/j1bqEcFbB9Spp8EbgLpYBl4mscfELHqRR0qbba2d03fL08LOex+m/M29Bajuz1KH1Kb22pV+HnP226iLY+uclz66jP2CPaoto9aXHCw1nP27zToOtoDgDXDCBAdbaB9vHJmAEL7Vjwkm5s5qE7XXi9jwbcQxxPqC896+GXX8PfK8eaF/21ltqsTfVY1m7MZZLGNgKzWc4K0DPSXBreIY1CVMErTVUIxZONkd2Qf6XSaHflKPFe0cwdn9Nebv5xrnY++Ht53mkaOttTTX83isR8O3lvbnVK2P2zq2pjz+WubTrbH2Eeaux7TSNgneAHTl8ePH1wNY2HRWg7Yzi7J1kjP6pCbH8w/HHfVi8g5ROzjaV8MZT+Fz0WIXlNSL9rW2sFW7n89TdN1ZdTH87enjCY9pT+h/qY78LtIdqZeAt57WUARvlWuhEcFWFDiW5X366afXE9o57Xvehli/XJM6JofwRG1Pc7SfhkW/No3B2lIWlNbHkSskiHlsalvUs33WY3PmvtTf1n/u/eSTT67nKV988cX1ddrCC4Q5XijU78b8fvib4bFMH5Me7959hT6YIqYv1KTWx2057uGx66tqZcyx0/2rbSCOZR/H9NnRtFonlhC8AeiCBq29gevMCUNPA0cLmBzWq6Vj8+DBg8sl5GSp14EWh/pv7WGRGL5fW8yEBWVMzbW2ydSAIYUeUwhEsM3zuMTS8VOAZTmOoV/EHvfwN7SFIE1bDpb70f6PPQa9z4ms9S2nlL8Ze+zU1mLaZsAceNsZ7aU3LexDgjfACUW1LOuk9iyWScfobSTn81d7oM8BdbIu3FQ3Q+3UVy0QrQu4mPDN+nhiw4VYehzarEHNlPW5tk51fam2W55/7D6dit2/qccx0O8p9Nobx3SbI8/LwnL/sQGOnlfpxz0K7Ue1NcucZ6kdxx47jlsca+2wHL9R9TK+EbwBGfRSEFqlwaqHAWvkQdf63GP6GpOYso7UPSbu44qp10eDrhKLyaOPSX9HWzgrSVs4Wyn8LFYvcxDr81gKm6y/u7R/c48VucIwPa6t+9LPPMa5mP4a0xZz7KPRaR/G7Me146NjV6JexvBoy2ew9olen38Oln3Ywv4jeAPQPOsE4OiC6YiYySjWhbebWcROSAGUZ+2TqplH66Z+P6ZeWBwdR7Q40N/S17Adpbo4mnl9P3N8nyoRhs2fa5D775xB+6s1NYUAOf9OTB9aa5NrLI+z53lyTW2mVy3sP4I3IAPrYFFLUQgDpterpSXp8Vufw5mDemttxJvleYd9qMmhdX/GTAzhp5V2bv2Mt1H7bSztJ+u+yhWklKgXtYQ8UtNj8TY/XpZ9UXJMiGnfsfS4WxjPYp+/bt/C86pRifYWE+Jz3OwsY1Cp2tED6xheO4I3YCAq6tO3s+h7hW8tB3DWgb+VxcmIA29oizFijieTw/qM2M5h74uaZOecaPcavOlxtDK21aTEmBDmUyXpcZ8xnlnbWGpdP+t54SbVSuZX52FutMw6hte+/wjeAEdnF4S1AdJjwliCHrd1n9awOMm5kOxFmHBbjuN0/8VMDpkYAueLqdePHj26XMpDtSJ3vTh7TIl5Tj2btinr/pi3w9jxZ06/7zWHSnm+R5T4JyVLWhqna5nLpTwOy++oXXkc8xbo+WkLn8MZttiTFlJrE+LUvv8I3oBMahmI16gY7RWk1sI364DP4qROao8xk7Z5H4s5rr1PDs9wtOZxTMZiPd56e6/1Lb4l1D5xV9179uxZl+NajnmUZb/kPsYp96fnqsca+5yn42buNqDHEh6XNrWzmMd3dL/2NibUXku2xLStHsdyPafpO4TmdGy1ad1kff6xfR3v6mH/EbwBg7BMAHSblgZQ66Qm9+Q0lWXQsD6nHuRoa9Zj21K7RntG6reprPvo4cOHl0t5hTBhjx6n5bF6jyvh8Xv/3V5NxwTL8d4av2P6v87m/Pzzz6+ePHlyfSx1RlnMWWUyfexb4Zj1PnUf2sJjSWlnMftgjZ4XY3WcmHYTQ/drbQO9HbfY57N1e10fc3ZcuH2O/oT6ELwBmVgGvxYK6dYAUhPrviw1KSllpME29rkuHcuYxUEL7bolrfWtVGeefdWLmHpdw/62Pt7YcCKF/kY4w83j77Vmfqys+8h7PFDbDqHWvI1Pf5ZCvxuCsxCihe8tcsw7cu1Pxuk4JcfhmPbYynHT49Q2fcvotP2Hn8ea/57uM5wxp8sxfUy3JXy7ydLWa99nBG8AbkgdeDxZH19NC5WSE6Tebe27Whda2Makchy11OuWaoVqXgjcECfmOHvVIR3PvTmAHveRNtrLHKOFsdqyr3sY42LqT+3HTY8vbIGOkUKucN2R5zC9b93nUTnuA3UheAMcnTkIa/CMmZRNB5DaaD9a9qVlouvJ+lh6mKx5OrpYwTlo52OorV5ba4XlMccsSmPp71Ov0pRoR15ziZJtqhRrH7ei3duVbpe55lfWMaCkrcenn+Vow7nuJ/DqC/o72hT21Xq2naV91Pi4pwjegEy8JmVHxE7oQiGujfUxtTiBldoHjhxin2Ou/lVje25ZC3XvKMtbH0fos6V51Wvr36nhmKpejda2ctQU631Y9+/e/eWug5Y2mrNdeLUx61tfhbG6HjG1udbjZmnjuR57a2eq6XmHTftJm55DrceyZQRvaMa0ICCNJocxEx8Jxbg1eq65J8M51PiYWrC33zQxtO5bJhP50J6xx9rfPNtSzr9VOjD0Ovugt75sPS5e48FZc1eP4xrTx2s7Lq2LPb6p7bD140Z7Wqb9srZvtn52BmtbrzknIHhD9dTpwwdUhlNga3w1oZWCEDPxCWoqvtp/NRdVnKeHQRnoibVexy4ej7L8vVJ1QuNv7Bhc45yndrH7uLSex52YPq7jYu3vNS36586sIWeI6U81H7ctOqa11Q1rX0mh9tnqsdpSc78jeEPVNNlcKgrqVExE02lgiR1cdBxqKNDWx1Db4BmMNlnLxbLfrMdc+5d9XAeOA6TWem2RsjBKGYNHmfPE7s+tGpKrXe3dT8nFce2sNXy6D637q8dQoASv9mftT48fP75cesPaRko9D/19y2PQ39dzXHueWz+bs95ui+6j5LG17JPa+qBXWy+F4A3VUmffKgr6WYuDsqXQeYgZQALt77P3uXXwbLk419JGSop5jjHH0tqmR9jHHlqfBFnwGW/prONFy+0o9bHHjsFqYzWEb7T1dGfsO0v7PPK4Uvp4TNtvcZ7vzat+xtSrefjWEj1PfSxPaKfawn+Ytu7r8Hup9HeO/L6Fpd/Hti3dJ2PEOoI3bApBi3dHCn+3NV6DXy4pA8OZx6aHYt5aG2mNtT23WF9qRHvGUT20odTnEDsGawzkbH+72PnNmr3jm7sN97ZwXdo/I4zVvR1HsR63moI3SxtSG522U10O9Tm1juj3FODNQzxLvfBoOzn/hvaxPhZK45O2cDn386hl36UieMOi0IH0VVvoSJbidZQ6jPXv1Ny5WhEGghihXXiz/s3Y5+PJMmgIbTud9fif0YaBkVjqWM312spa12W+T/T8Y3+f2mVXU/uyjuuW28W0mVL0OC2Pde0YtDxW17D/A8/HEtOfYo5bTftzi7UPB3pe2rTfwmZ9rrF/K4b1vi3Hey0f0N/wyg5aQfCGG9RB1jrJ1s9yibn/mAHAg6WYliykqcJgEMOjLaTQ28JaGcC31NhOcop5frHH09qWe9/HXnrob1ssbzUV2tO7at4ftT02nRER049qHX/PsHcsj84TrcclVx20ts2cdZfaNY4cxzq2T7XQvqz9yfJc9u6rlTmqnsfec7Gc1ZZzvLIcp5rbG8EbbvDsQHOWDjxlLZTYp4EgdjAt2Rbm1C4sbcO6SD4T7TZOyv6ytOUzB2f97dB/whZeGdRmbe81ONKe6QugDbyh8C1GqBW9KdEeYuc2KSyP23K8rMfUup9K9i/LY9XfX3sM1uPSYzvPqeQxXhJ73M6ey1j+vnUf5rov72M2l6NPxcxT9ffoxwRvWGDpROo81s5mFXufsZPUWuTebzlpMI2doNZWTFsI3lAP77arvxc++yL0nbCpNoTL+rm2Up+TAZSmdrznrMWHpT/FjIW5ngfhW31i50R7ttqefmZpm2cv2nOKDXFQh1aOW865k/W+cgVvNbd57QvNTWPkGK+stS/ncc+J4K0DZxQVybkY1P3EdEYV/BonHj1MhrRvYyeaOnaxBTiWpX0odOvljLdaB40zpPSr2iaF+jvhczNjqS2of2l7+vTp5dqy9DdDXZ5v4WdBat3roV6iPdO2m0uutqz7GT18K1EXYuc0Kax/Y6v9WY+jx/OxsByrvcda21jdKu82kfu4nT0fsPz9Vp5LLlvPI7U/evXjEuN8DgRvlfPuvLF/L1fYEtMR9RhrmXT0Svs3dh+ryOUMY+dqLaKl9P58PZ5f7olhLD1Hbbr/HH9D9/Xpp58W+W9h4TGqD4ez7LSF66db+Jk26WWSucXyHHvvsyWc0XbUhi3Oatcpc5zQN7EuZd6oYxHTDiy3XasTYbxoyd4+te4/67Gpaf9Y20VtxzTn48l53GL6WQzvv229L+u+q7Gua+53pB0dfU6l2ooHgrfKndG4YicnYfGVSh3Q2oG1P2p+i6n1eOUc+EpRO4htC3peRwvyEuv9PXr06HKpbi0PGt6O7Kuz9rNq2jy8yumLL77I0s/0uMJjDZdj7jP091Sx9QVtsbSlWmthyuPK+VxSxt/Qh7HMo95Y2sDaWcvWY6e/UVO/2dqv1n1ufT5Hxzzk5dGnaqG2Z2l/rewTS59ber45554jInjrQO6BSEUjpnDo76cuvvS7MZ1vpCJfg9i2EKg9HFmQz8VMSFvAJNOH9rNlX+ecAHhNKELdTWkjenzTsO2IUMOpzWiB2qulz5Rsz9Y+mzL+5ujTPYvdn6XawfysZR2zmHZREz0evSAexlttuu7Zs2em8VfC7+2hba+z7mtrO7OqrT3O5Xq+JdqeZd/lPl4x9Le1hXFF88Ya9qe1rdeI4A2LVAxiiqk6YkrQEtPxwsDegzMLaazYthDoOeYs0nt6aRt419Hjav39HJMqtfUc9xNDddf6N0Odzv0YU+5Px6WlPkt96UPJ/lmijaSMv3qOJZ+nh9h9aZ1npMxlYljvX8FbeMwxx6vWuqnHpDl62FL2s/V5ec0pW1Nju4hx5uO3/G1ru8v9PM5u72HOWGJMKTlO1VonCN46UKpxaeCMKSB6HDHhm25rfeyxj+VMrTzOGNr/KRMp0XGOOdZz+j3L76Y+vpql7rPaeT4vz3Zx1vGyTIr08yP9cE+PdS9Wr/21JM92o+NjOUZ6TDW155Tx11ITRmXdl6ntwHr/n3zyyU9nHluljGc1teUt1udGnV1nPdY592FKm5yrvY1a91fs8zjjeAU5jttRI45RBG+VO7sYxZ5lpuJgCd/U2WIKWQ0FYnQ6BqnHIbSLkgv/1pzdt1uRYz9Z2m3rEwA9/rXnsPWzHHSMYo8TNR3erH2gxraZMv6W7vcl1TA+praDUo89pc62xvL8amrTlsfrOec9q330Pp5b1rUSux+sx6tUGyp13PQ2c6uU/lxbv4tB8IZdsR0zhCxr9POYjtZaQT9r4POgY6EwNlVoGzEBnKWtaJ+3tt97bietOmtCr7agvqXtSFvW45/3q9h6myI83pjHnfoca2ataXjLa5/p71j/VmrbLN2mQ42IcVZNq5llP+pYHmkHJdrCkbmX5fnWwPo4qLXH5N5/sXWpJdYamtrvLb/TUnsPdcraJkbrywRvlathENJjiB3w9XjWilXMRFAdN6WQ1a7lQhPaw5HjoudvDeBa3ldHjfzcgxz9v+ZJofqSNj1GbeF7vWKor7GmL3qEflaSjk/Yv9ZjleOYemvxMeOtmMVTKo82EupEDMaRm/b2Y+w+nsvdFlLGgik9n7XHpOuP3n8u1v1Gm67PkT5TsnZa7nutPel669iR+vyPPL6j9JiP1rop1ZHwfKz3q+cW+/xarhMEbzBRI48dmFWs5gVL31s7gv5mzoKAfEJ7sBa/NWoLWwGcta302k5qHDRyOON5WdqqdYKVix7T1uNK7WehzpYO3dTvpuOC9bjGPh/giJh5RwtjiR5j73MjjxoR6pf+Vth0Xcx/41yT8xjpfnLsDz3X6X2F5zut4WezPk/vsboV1v1X29wyR/s+Ym1/WNuZHv/ZzyFVrjq1NFe13ndt7bEkgrcGWDqzR6PV44gdoFW0poUrZrDMVQy81XK8PISJ3FHaH0shQcyg15oWH7O3nPuoxv1teUy6zdKEZov6TanQTf1dmxan076vPjzS5AltmM9BtqiP1VgnloR+2Cuv4xDqa9hy7tMc95X7OOu+9DzDGdU57zsX62NivLnJ2m9K7Lsjbalkf0+977UTApYcee41tHfVglR6/GsvVlifW0w2EKPGGkHwhihhkhIjTHxjFoLqrCULMfLRsVKbyHG8Uoov7QQWHhOA2LYYc/saFkn6+2Gbi9lvR/bxWazHisVgnJL7S+0spq2d3b9irfXFKbXbmDoTW8Ow7cjcyHJ8e9RSra2xv5z5mFLaa+nHa73/6Vihy9b2pfs/+hxy1/FYuu+UM30tNcraJmL7c8n9URLBWwNqa1x6PCnhW0wRSynetbAerxomDbmENnE0gJvuE1227KNW28qI7QTHqK0/evTo8l0e1nao2631tZj6HsQEImjTkbHgKLWvmDamx5rj8Xo/Z/XJrTGwxPjoNSad2X5y0XNIedFk77j2zHrcWxlDvOdw1v1X4nG13GbDmKGTRGLalsdz9tqvqlXhbFi1o7BJuBxq0/xdD2vC7+8ZZa1D8NaJMwp7qUKgDo82qV2kTDKxrsfByPqcrAO2laVdek7mU57fw4cPrx48eHD57hj9fetjWNt3OpYp+2yUSdbILG2rRDsIC6gYLc871DfDQinQdSlnMKCMcDzmx2ku3G6t3o7C+vwZR9KV2nexbdejRlkfk8aNmP2i+83x+HU/a48x19+Iob+nWhW2ULu0bT3WJaUeu/c+yYXgDcliO5+FOvUoep4wqF0cnTxaFk4qvK0WX2n5sbfI2udS+2bM8Txy7L/88svLpXT6+6q3lueq26493pTQTfR3W6uBlmPW2nM6W+79FXu2gvQw7wj9WeNuL8GNpb+1Rs/pyZMnV59//vn1Vx2zsBG4vWU99tTbm1rrN632cz3unP1V9xVqgS5r66UmWJ5D6lxyS431geCtAZaidFbjCsUhBz3PVgvwXC/P4yi1DQ0i1v0xbUtMqJCLBvT79++b21QLbe9o3VW/tFrrv9qvR/YVfRySox3E9vFA/SjneM3YDwudtay2Mt3wFvsjnXXflQg6JHZu4nGsj86XlpS4z1ALdN8l7r92I8wJCd5wWK4CMWKRGYEGkemrOGuD7PRn1uLbeptZ2xdTI4cTlv2zJSzGS00wz6S2n9r+p6GbpX0tHQft06P7tcfjgres7fNojUtti0f60BFH69oo2E9js/RNxpBlZ/cda131fJw5a73ui/pkZ933udc7Na6fCN4aYO3cZzYwdaojRa23IkZBvkn7RMc5hHDhe228xQI5aTKe8paz4Egt9ez7of/E0O2PPsbUoGNJSwsn6no8yz5LbQP6vdRgPaXvWFieb4m/26OY/kbfHFeNi+uzWftDqX1n/Sxaz1qY62+VGjt6l7tGt1rzCd6QzZFiNOKkaeTJgo53OANuqc1YFlK6jxHaTY/tpORzUtvRduRveOzzXG03pubO+5v1eU4fa9i/ufTWvnt7PkdZ23lsmzrSDtfGnRz0fLfuWz/P1fdHYDlO7M8+WfsoNfcm674r2XcUvm3RY/Tuu9Oz/VPoMVv3Ld5lOdYj9OVb//qv//rj5bK777///urHH3+8+tnPfna5Bmt+/etfXy6te/To0Wah077WPv/ggw+ubt26dbk2vy+++OLq8ePHl+/s9IHhuf5b39ks+0DPNceHpPfI0t6X9l9rNeXp06dXn3766eW7dX/84x8vl+rzt7/97er27dtX771nfx3Hcnwlpiaov6nf5ZJaj6z1b69er9H+lmkbT603se0v9z4OUveFh2lNoa7Hs7YxCe1sq6YcbYNqZ2pvpek567lP1do2pjVl6XHPefZXS5/zOqa5eM3Fe5CrPabMUyxqHhP2HlvJxxXGzT/96U/Xj2F+DM/sswp3Pvvss8t3NtpXerz6WqMWaoqlr0jMeseyllAbL3HcUmvKqWe8vf/++5dL2GNpNK9fv75cOldqcdIAe2RCXRNLsr83mRiVdb8sDdrUlHP88MMPl0t5WeqIaoYG31pqhwZii5yv7KkvbE1i9bMjE+zUfWx9NbuWsWvJtKZYji11/V0xcwHNAdQvtA+nNUXtLkc/3+snOam/aQt/82gfrIlnf907ZmpfWz9H2yxjiLUmlJinWMf7M6hfbO2/kv0mjJv6+6EWhnqoYOXMPhsek3V+oseq26esa/GWdX+3JKWm3Hrx4sVpZ7y9evXqert3797lGqzR5xXtLdT2ToHVZOnly5dXd+/eLTpY6HHq8abq4VRe6z7QZ5vhXdZ9Fz4nbqrFmqLPKNqz9Fxr8fz586s7d+5cb1aW5yxb/SP3Wx7nUuuQ9XHpeKa87UE1XFTH59R39LfDWKG/oW3reViPRayw/3Ic6zNNawp1PU3pvmpRcw0927Sm5JhrljCvbXLG48jBay7eA2vt2Ku5KfMUC8vjSx3rc5k/Ro9+08pcfKmuiGXuVJNWaoplPhjTPs9cP6XWlFPPeIOdpdHsTZa87A1Ce+aDRIusnbyWY1YTy7EPgyLGVHONOLNd6m9rkqFFiDZdPmPiOJ04Wf9+6zUf685og4H+tvoC40XbQm0Lm47pme0KPmo/xpa6cvY8P9TAsNFv3prPmcJ21twJcVrof3MEb8hKDTxHI9ci7MhZc0BPegporc9lbUBVXag5pLFMBGqS+/FqsjqdsFonrwRvfTtjETNvi2if6lVrNRbH7PVh2gPQBvoqwVtXalic51w86flY3vbQsp6fWyrLPulpMcVAZKe2cbTPWBfjR/5OS8c052Nd27fW/lp7+GbdV9T1m9QGvPqF/hZndqRhPEJttvqx2qvOTgJQP8v40vv8ieCtES1MhnIsiud0f62Gb0xg4/VecHHMkfbhuRhvqe/n2h+6n7X7sv4Nznrrm0ff22qHyINxGt4Urs3HVfVzQjcALSF4QzbWRVPKorT2t5chD+uEvqdQk4C2LE3Ovc9+sfytmsKBo49Fv793H9a/QZ3vl2pdqYWy2hdnuQF9CrVDfTxs9HWgLZb1TswLO7nvzwPBWyOsi/OzGpj+rvVva/BMGTC1IGtpUdZiQTibZX9Y+0JPRmwnR4+zakzY5jz251bAoOdWUzte20979Du5F0C113jq+jHaf+obudp/aLs52yAAAEBuBG/IwrpYCpPj1Ilya+Eb4hC89e9IKGGtGaG+rN3eo52tBQx6TFuh3Fm29tdceA7W20vM/VPj+xb6htpDaj8L7SmmXQEAgHNYx/ueX7wkeOvMGY1Vf9P6d6cT5NQJsxZlvfzH056LSyzrvkhdqKEta8d5K7RSPdk7A8uznek+9HhbeXuMHts0EJluuk5beA66rhSCtzGE9jZvc2vmbVAbAABACwjeGlJyoXOEdZG0NEnWdVsL6TVaPNf+TxdqPV6tG3G/EtC+peOvhbfqhi5rmy7G91jr1aj9N+zPEIiETddZ9u8W/b51v9YavlkeP/01zrzNffPNN1dffvnlT9+rbxO2+aB9AwDOZB1jWhyvCN5wiBq0tVGvTZjVcTS5tnSgKf3dVv/j6VTrjz8Xy36IbSMt6PE5eQh1Q1vuxTjHpBzrvuWst7GpnYQNAAC0b/QxneCtIZbG6h3iHDnbbUrPLSV8k1r/4ykLhjgEkPBg6ZecVVNOzL4lfAMAAEAPCN6QTEGJNSyxLrZSz17RAq3VRRqB0xuW/UCYCQ+0s7KsNb7VF1So6QAAAOW0OFcneOuM54Q/d+gW6Pap4Vtt/3SBBbyNtS31uD+tz4nFfB579SWl9iBOzD7mrDfAD+MRAKCUM9ZxNY1XBG8NqS10KBW8yd7ieI0e0/3795kUdqrH4A3LSh7rUF+mf0OXU+sO4ln3M8EbAADAGHpewxO8IYk6haVjHFk8a2Gmt56mqOVz3x48eHC5tI6QkH0Af6G+aAv/JZXQzU/Mvq4pfLOOadQ0AAAABARvDalpwm9dCB1dyOo5a0GcEuDpMXK2RBtKh7jAGtrVeazjA3UcqAvBMgDgbJY5fE3jFcEboqkBW4OSHIta3UfP4RsTWJscbQlAPVo9682Cuo5WMdYCAJAfwVuHSk/4rfef+21bLb4VzPJWU9jaFIsBoD8tnvVGLQIAAEAMgrfG1DDhtwZvJR6rFmmx4duZZx5Yg7czH+PZRn7ugaWvjLSfCDbGEVPPecspAABAmyxrmZ7XAARviKIOc3an0UJNZ79hLIQxfYgNztE/a5uoJXwmKEfPGGsBAC1obT5G8NaYsxuY9YyD0otr7Qfr5761MIkceZFmaVMtHEPY7dUHgvWxEMYCbSFYBgAgDsEbslNI4hGU6G9YPvft7EUdn/MGvEt9cilcW7se/SN8AwAAGFvPJ1sQvCFKja9yasG2tGjTdc+ePbt8h1pZ2hSL8v5oYFX/VNAWNh3nngdcrLMc+5bqAGcEAQAAvDX63IjgrTGWRWmpRm293zMWR/qbS4v4GljOeBu1ELE4hWpa2DC2rZqtn9XSRmirGB1jNwDgbJb5WE3jFcEbzKwN98xFif522NCP3o8n7RV40w/0Asq0P+iyQrdaXkgBesd4BORDfwIQELzBzBK8McCkGfXVY9qU3ahtBOPRGcsK4MJZzLWFbtaaRJ8FgH5R4zEStfcjbd76uz2v+wjeGlP7hJ+Q5Cb+ucI6Ji0AAAAAUJ/f/e53V/fv37/6+OOPrzdd1nWId+vFixc/Xi67e/Xq1fV27969yzWwUIPfo7ME5iHY69evr16+fHl19+7dq9u3b1+utUv9uyPT/pZf//rX11+3jLjvVMD3wreYt5m1WlM0gO0NYmobaiO1ef78+dWdO3euN5QXaorqOMpbqymW8ZC3yKahpvia1xSNyRqb9+iMVMQ7OhdHvFI1peW5W0ktzsVbPhFANUX7W+07Z03RPtlq35rfxKxbdV97+1n3FzNv2nuMQe7xKrWmELw1KDWsIHjzFxO8LR2z3uVuU63WlJYnbyySfRG8+VqrKblfNMBb1BRfSzWF+V45BG/+Rg7e9sapNam/J2rj2r799tvLNfkceVwYm/qi5mQ5xi2Ct4GcFbztDTC1BgNnChPazz77jEXajPaH5VV1grc3au1fLJJ9Ebz5WqspBG/lUFN8Ebz5Injzl7umhNqvedveOCB744DlPoKY2wK4KcfYRfA2kFqDNxYZN4UJ7e9///tmg5VS1IYtwVvM6cGt1pS9viUEbxCCN19rNcXSZxkT01BTfBG8+SJ4i7e15rEEUarhlrOvCLWAMRx96ynB20BSF+k5Bvu1v80CY1lM8CYjfWZKajve0mpNKRFCemGR7IvgzddaTSlRv/AGNcUXwZuvVoO3I+HX0Z8DQE5Hxy+Ct4GkTvhzDfZhgAxfCdzWhQntn//852aDlVIsZ24SvL2L4A0Eb77WagrBWznUFF8Eb75yBm9rc6ituVXK7wBATwjeYGaZ8Mt8kc7p7f6mE1omsu+yBG+xZ1K2WlO0HwjeYEHw5mutpqSOw9hHTfGVGrzxTodtWwGXaorm4fO5+NbvAADyIHiDWeoineDNX2zwNtJEtkQQ2WpNSe3TNWCR7IvgzddaTWm5z9aOmuJrqaaUeGGsRmvPMeb6vf0EAKiH1pVaXx5B8DYQDfIEb22YTmhHmchaEby9ldqna8Ai2RfBm6+1mtJyn60dNWVbbNCzd3vNDbVN97d+Z+/3jpwtEPscAADIIce7ywjeBpMSWhC8+Zsuki1vTcqRwrdAk27LopXg7V0EbyB487VVU0q8eIB+aspSuLQVOMXeHgAwtjC/0Bp/aW3PGPJWOLElxwkuBG+DIXhrQ2zwJiOcIaGBoETQ1HJNaXURT/Dmi+DN11ZNIXgrw7OmrC1KYq5nYQOgN0fGrQcPHtw4izaHEmNpD+Pz2vreuu7ckuOdWFrvWcbJ1PWv5f5zPI8pgrfBWCb880ZG8OaP4G3dXhvWYKhFa4yWawrBGywI3nxt1ZSUcRj7pjUlJgALln5mmfQDQG5bc7bY+Vzp2+fS8ly8RUvr+6OhW865i2WupLYau+YLCN6M6JjpUhoZwZu/6SJZx8tyltcoZ0jsDQop+6HlmkLwBguCN19bNeWMyV5t1p7/1n5Z+tnefgSAJXtzIv1cNVzrnr21j2V+Nb1Nq/O20lqei7dovr63zE225Jy36HGUXvueMRcjeBtMSiMjePM3XyRzhsS71tpx6j5ouaYQvMGC4M3XVk05Y7Jntfa49h5v6u8BGNfWvMQyZzn6+3tKzVMI3pa1PBdv0XR9/8knnySP1yXmK5Z5khx5txfBmxEdM53lFNJ5IyN48zdfJNe8UDuL9kdoy2Fykvr8W64pBG+wIHjztVVTYsbhtbq/Nx5s/XzvdwGMaW2esDV/SP1ZCwjefLU8F29RWN9/9tlnV0+fPr1ca1dq3ak5ita9e9Q/1E9SpWQiRxG8DcbSyOYNmeDN33yRnHLcYNdyTSF4gwXBW7qUkEvjprbQvqe3IfgCEEtjuGrKfB6+Nbav/ay2+UCtCN58sb73pXqigKum0E2sZ7sd7SNnrK0J3gaT0sgI3vwRvPlquaYQvMGixeAtJfCay3EfAGCxNM6ujb0xtxXm4v5KzFM05ljO5hnlH6ZNlZiLhzF+a6yf9rutPtgby9pyTvun5FrT+phyPA7L38r9fAneBmNt0NOCz2DvLyV4kxEH6hxarimewVtqSLH0e9rfqict1JTU511S7PFUHddWKuiM2Uc17k8Ab1nqi+qJzGv4Xv/WfaeMRznGsFzOeCzMxf0RvPk6OhfXvg31Z3o5Rejj4ayumupPDtZ2OFXyLLfAsqaRHOsay9paf4PgreFF8tmsHY3g7Vzz4C3luMGu5pqyNnEI1+vr2m2C+eC0d3sAQF2WFhlrC4+Y26aaz1NEYwtzlTKYi/sjePOVMhcPwYnl5ISjVEN7CeKsAVfgEbpZgjDRvs8Rhln+Xq6/FRC8DSal4DPY+1ua0PKZEOWUqinzgGsp8LLcBgBQv6Xxd2tMjr19TQjefDEX90fw5ss6Fw9hiSWkKUV1WkFUK/V6Su0vZq3hsba09gvJ9XgI3oxKLZJHERvgMNj7Sw3ePF6R6NFWTZkOTvOBau97AEA91ibrua4fCcGbL+bi/s4K3lRfci72W7G3vrcEJd5aW3dZa3TgEbqJNQzM2TcI3oz2Oia2EbzVb2lCaylKBG/rpvtuvh+//vrr669q35bCDwDIb22Cb7le46ZquCa0a7dHPgRvvpiL+ysRvJ2x2G/F2vpedUX7rNb5eUtrL2vAJV6hm6VPBDkf0xl9keBtQLFnTjHY+1ua0FoKREvFP9V0wJgPHls/AwCk2Zropvws18R5qsQiGesI3nwxF/dH8OZraX1vrSlna6GmxexLr/VkzGPK3S/O6IsEbwOypN3TDsdg7y81eGtpsJ62wXl73PoZAGA9vFq7Pkj9vdoRvPlamqeI5cVdgrd4zMX9Ebz5WlrfW+pJDVqoaZb1v3i2P+tjEj2mnPMU/V1L6Jfz2BK8DYjgrX6pwZucUfyn7WnetrZ+BgCtW5sIauzUmLn0c0stn47D2Efw5utI8JZ7ATUC5uL+StQUyxrMM/ioyXx9HxPKnK2F4M0aYnrV55jjW2I+pL9N8GZA8HZM7KstDPb+lia0XgViWgTnBTF8P78eALztTQwtE8cc97Fkb55iGYcJ3uIQvPkiePPFXNzfWcHbqLV/Pm7mPtttreYcXdPofmsPSvUcLWtIr+dimQMFpR6TdZ8QvO1MaLHN0tinjZzB3l+uCW0YTJYGla2fAbmEtjinuiI11ZS1x9qKrb5ccn/H7DfrbVs/FnvzlNhxGPsI3nwRvPliLu6P4M3XfNxMDd5UW0J9mV62CMcmjM+WNVIL9czS7sTjuVjmP1OlHpP2B8Gbwd6EFttiJ/wM9v7mE9pQLC0FAmOYDkJ7g6luO719ygCW8jtbWCT7Wlsko4y9eUrsOIx91BRfBG++mIv7I3jzNR03raFIEPZX7v0WjpXG66Xj1kots7Q7jzlHynEt1Resj4XgbWdCi23WhjYN3v7Lf/kvDPaZTAvfvAiG77XPnz59en0Z/ZgPzkuDteU2U5YFfMmBKxWLZF8Eb7725imWfis5J3y9o6b4Inizm/Z1Pe+U507w5o/gzdd03LSuVcVznJweu1ZqmHVfetRlS/sP9FhKBoHW/ULwtjOhxbaYYjY37ZC6HL4v3VFrNC0c8yKy9TO0a97+5+bXefQLywJej6P0q1ixWCT7InjztTdPsY7DBG921BRfazXFsrAaJVhY6+cpYzLBm78SNYVget103LS+OCWjBpVW1n1Zer5hGRumSveDM+ZhBG8Dsja0GDUu7PfMO/9SMZhet/RztGlayHVZE1ptoRDOf14zy4BaY/9kkeyL4M3X3jzFOg4TvNlRU3wRvO3b2hex+4DgzR/Bm6/puGkNi6TGOW5NLDW59D60PIYpjz5wxjyM4G1QqR9YuUUdZK2TxHSecFtrB1273fz6mA6PNkzb1VIb2/t50HJNIXiDBcGbL0tNYQGWFzXFF8HbNu2DvUVdzH4gePNH8OZrOm4SvOVzdk2ODd1KPpYpS40WgjfDhBbbSgRvwBFhkjGfbEy/LzURabmmELzBguDNl6WmsADLi5rii+Btm2VsXtoP2ndr+081RaHbRx99dLmm3LwI+WvKGQv9lkzHTUv/CWqc49bkrLlGzDEMPMcGgjcjy4QW22LTZ8BqWrjnRXzrZ2dquaZYBjbta4K3sRG8+bLUFMtk2HMS2jpqii+Ct22WsXm6D2IXqHNhThXus6Y5VqsI3nxNx82YdWqNc9yanBG8WerfnPdxbCl4e+/yFUDHVATDFibKYVNxDJuKUtim189/Z3p/ADAy6iB6RLu2C4vTo6GbaBEZFpJhQ3voP/GsAR3KUy1T7UmpaVonemqprxG8AY1RgQnbPBCbhmWEaAAAoBQWyuVZz+aAH9p9XXQ8tE0D8BBaj3ascjzfsA9T7kvrTNaT6wjeGkfj7puOLyEaAADAmEKogDqMFuacSfs6tP+whVBNb73UFr6f3ib8XvhZD8es9NpO+037U19T1B661dAGCN6ADKaB1zQIe/jw4dWXX375U1A2DdD0c4uaixgAjM5So3uY9AM4DzWkLczd06mthxBoK1SzCvfXOkubin2eYZ8eCdyk9tCtFgRvg1DQ89133119/vnnV0+ePKFzrNB+Cds0QNMWwrN5gKZt+rPp7zx69OjqwYMHP90nsMbSPph4AwAwHsZ/jEDtPARtOel+R+lDln2n20wDzSO09mWNa0Pw1rjYhh5CoN47iZ5b2KZBmLZpSGYN0LRN79MLEy0AaB+1HGhTLX3Xc+6JbZY2wfFKkztwm2p9HNZa1EL7cOm5hpAtnN12dH/o8WjtTFu3u/XixYsfL5fdWf5NP7ap0yix3qOO8fr16+t/G69/GX/79u3r60Onm3e+rc54tKOuWeq4lutq7vBr/6ZfYo4dbFquKa22h9z/pt/LWh2rfQKxVVOQn6WmUMvzyl1TwkJOxyn0e/VzbdaFTM/Wagrt2r4PPOgF4drHp1rlrikKLvaMfLym46b6T6i7ZwsnUrQsZn+qDYpuH8bBXGrbl959MrWmELx1wNrYdLbbPHhDWXuLZAbvvFquKa0ucloM3sKrflZr/W/p+pjbpiB482WpKa323VodqSk6FmFRYunjPSzEjiJ4W2fdB1uWar9eCJ+/AL6FdnoMwZuv6bgZExSV1sMxiZ2/llDjfiR4M7BMaLGP4K1eOYI3Jlx2LdeUVhc5rQVvlj7nZW0CML9++r3at2h/1zbx6ZG1prAQyyempoQFiOpn6uJu9DGW4G2ddR8EoR2pn4f2OG2Xul5zcdWU3/zmN4vh27RN6/bamAMek3OeYm0TI7/QMh03awne1I80BvfgrHlszWOl9xyM4G1g1vBGH/RP8OZrL3izDEg1F7ratFxTWp3MtRS81fBKYSlhcZZrUoE3rDXFOg5Ty/et1RTVyDBe5uzHox8Xgrdt1kXudD/EjDXTmq3L4XtqeT4Eb76m42bsvEvtPtT5XHqr8bH79Cjtu2ltqlErwRv/XKEDDM7t4tgBfnJP5moSFgOekzG8RS3PLywu1K41qQ7tO3cb77ku4Djrgj20o9g2qt8LW2jvYaNtYjRHx1L9vrYQtils6Sl0k/DcSgt/RxtznDwI3oDKMfEC8hihL+UOJQAPIXTQ9uGHH1796le/+ul7xkC0JFd71f2EsBn1sBxfQop02ndLZybpe23TMEi306azC8MWrus9MCr53MK+DfsQ+RC8daDXooI3WHQAeYwygWCh5o9xOI7GNbVTBQslz2azYGGBLdb2EeZqueds1HOMRuPpXqCmTbcbeezNPXbp/rSvw75FfgRvgyC8qROFDQFtAejbyONwCNXmQdvZ+4QFBlrAHL4eHAvUQmOXwsgjY5jGwGnghrII3oATWYslAz0C2kK6MMHoHUECzqQaFYI2hWzawvc11a9R6kEq6kgctW8p0aYY99tC34EXtbUnT55c/7dkK/2O6lQI2xgH/RC8DYJBu20cPyAPTTCOvkIIzFnaU691PIRqNbxtdEtYYIS3MLHYyGOE+UnMeFFibGG8agvHC94+//zz6wBO45ra37wN6nv9LLxtl/HvHLdevHjx4+WyO+u/6cc2TXo00d3z3XffXf/beP3L+Nu3b1+uRUlr/6Z/Ssdub+KqAkmR3Nd6TdGidU9toVHOf9Nfg7W+uHR9zG29UCvystYUHXPLOKxJb8v0PEP7ri1Ym5ouPOgP27bmKS2OSSVY5mkS9oW1Hljo/nS/SJdznkKf2DcdN2NfhBl936V4/fr18Ot7736ZWlMI3jpgHeAJ3vwRvPlqvaYQvPXJUqN1TLWt1YK9GiHUifxiakrPCzK1Py2eLO3wDKHdh34EO4K3fdbgbV6D9TthC2L7EEHEcQRvvqbjJsFbeQRv7QRvvNW0A9ZGFDvYw4fl+HHsgHZZ+q/qgBZsmhgsbTpTStsf//jH6y28XWD6M0I3lKD2aw0evISAY9r2tbFgQwmp7WqprutF8G+++eb6bWH6PrTbsAWhfaf+beTHXBzAEQRvAACcLGVCP1+ooX4tLtxizlbwEoI2oFWhfs+DOV5IaR/j8lvsC+AtgreB8EpNuzh2AFC3XhcYnuOPdR8yJqJGtEsAwBqCt07wikK7Rjx2mpzONwDAWDT+hTN+dJaPvlowZqBGtMu+WY4v6zEAawjeAGQVgrTwgara9PlA2vThl9rC99OtxrczAYCVZcE1+sI8vEV0GrTp++m+e/DgweUSUAfCFCANfQd4i+CtExS2dlmP3dkLNkugNg3VprcLv7sl3HZklrZwdjsAMJbUz5pSPQtB2/Rzq+ZBG9ATxmgAwBKCt4EwGcAWtY9pWDYP1VIDtRjhPgGgRy3WtxCW7Qm3m5/NZvndKcsZb4wTPngxKB77o18cWwBHELyhayEgCqFRrYPmmZNb7Z8QrIX9pU1/74z9xcQGQIt6PosrBGp6jmELodoZZ7MxTsBTz30bedFWjqG2o2cEbwN5+vTp5ZK/EH5Nz54qEe7ovkJwpL8TLoe/E/4u3mB/AAAstKBU+Ba2ELTlZv2Mt5xzBwBAGYSRwBsEb52ouahNw68gBGQKfuaBXNjC7+1t0/uY/t6avZ+f4YzjF8LI2jBAA2iRtXYRGG0jeANQI0vNYQ57DPsPKVppN7f+7d/+7cfLZXfff//99fYP//APl2uQSmezffLJJ5fv1n399ddXP/vZz65u3759uaYs6+M6w5/+9KfLpXL+9re/Xf3www9XP//5zy/XLPviiy+uty1ajDx58uTy3XGffvpplQuXI8el9ZpiOSaPHj263mrxn//5n1cffPDB9YZl1jpoafvWmoI8YmvKr371q8uldV9++SWLiw2qKR999NHlu3W11cJWbdWUFsekUix9W/bmaj/++OPVX//6V9e5+OhyzVOo7zbzcTNmvcH+i0dN8R+rUmvKrb/85S+nBW9///vfrxvL+++/f7kGR3z44YeXS+t0ptd//a//9erWrVuXa8r67LPPTn2L65bPP//c/Mp6KrVxee+97ZNLHz9+fL3t+eabby6Xjqvx2Bw9Jq3XFMsxefjw4fVWCy3YVE/22vjIdEx1bPdY+re1piCP2JpiGYdr68O1UU3RW1j/z//5P5drlrEf89iqKS2OSaVY50yaw2gus0b1RPtc+9trLj66XPMUS333WFvUbj5uWtc4wv6LR03xH6tSa8qtFy9enBa8vXr16nq7d+/e5Rocobda7lFB+81vfuOWiFse01nCB0WX9PLly+uvd+/evf66Rim93ia7Rx9gnUstb7nVMdCW47OCWq8pagN7r9iU+lylVM+fP7+6c+fO9YZlOfu3taYgj9ia0mIfro1qimWhpnFD4ziO2aoptOe3LPsi2Krlr1+/vt7n2t+c8eYjxzzFOo57rC1qNx83Y9Yb7L941BT/sSq1pvCSOYYUwh6cL3xINwAAVtYQBMiBOSMsaCc3xczx2X/oGcHbYCynyedUa6BS2+OyDjQ5FxraB6n7QY9XW7gPbQrQtOmVXm3W+67hrDsAQD1YfAHAWKj76B3BW0dqLFgKX2p7XDU+prOEwEz7Y7rp+rDNAzVt4brp7cLvBroOcab7DwBGZa2FnPWGGtEugXdZ1gTMgdE7gjcUF4KdM4VwKOZMrBqVmMzp2IQgzRKoxbDsa854i8OEHqgXCwdf1EN4oW+PzVJraCPrwppijfadZc0AtIzgrSM1F3yFOeFMqaNhjkUo4NpC2FZ7Qa/5+JVG+AZgFIRFNiOPiagP7RE4Jqz/5nS91odA7wjeBuP9GW9zIRALZ1bFnIGm351v+t3ppvubBnzacB72PwAghcb4PYSYqJGl7aIt1Jo8wvovrNPCV2AEBG84nXWCEgr0vGhPt5b1usiwHBfOeAMAxGIxXBYB0rss8xn22bg49jbaT9rUn9hnGAnB22DOPuNtibXoMsHuG8cXABCwIENtLMFb6y8CAwDKIHjrSMuTVCbY/bJOQgne0CvqGxCPF+XaMNr+35rTcAYPAGANwRuqYJmo9D6563kfMBEF9hEgAPHoN/CkcE0fdTKd1+iyrre+0Ij2WOoMc10AWwjeOmIt+DW+3dSCyXW7LG2T4wsAmGIhixqpXSp8m/9DLwAA1hC8oQpMrkHwBgCY4kUbAADQA4I3VMEavPU8we55H3B8bVhkAkAcaiKAkqw1xjrXBeCvhv5J8NaZ3hfuTLDbRPAGAIjFQhYAAGxpZf1I8IZqMMHuG8cXABCDF20AAEAPCN5QDcsEu/fJdc/7gOMLoHfUuXOwTwGcyfoiAYBxEbx1pvdJP5PrvnF8AQBTLGgBnIm5KYAcCN5QDSbXfeP4AgBi9f6CIgAA6N+tFy9e/Hi57O7Vq1fX27179y7X4Kjf/e5319sWTWK/+uqry3d1uX///uXSOj32VkKcly9fXn+9e/fu9dc9luP3L//yL9dbi0of39ZrihaPH3/88eW7dc+ePbtcOt/z58+v7ty5c71hXa62H1tTcExsTWmxD9dmXlMs46KwT9Ns1RTLvq95Tlmj169fX+9z7e/bt29frkVJR+cpqul74T794K2z5uJnvADj+TfX5oeqKdrfat85akrqGuxM3vlBak0heOtM6xNUS8dpKXgqEby1PLgTvG0jeOsXwVubYmsKwdtx85rCPi2L4M0XwZs/j+Ct5RfFJSZA2rut2ri26f6OuX+JvT38WdZqS7eZX2e5nz0EbwatL5JrpELV8gS1t8GN4O1dpY9v6zWlxf5L8GaTq+0TvPmKrSmtj8E1WKop3pPqkRC8+SJ489dC8LZ2/3t/V/ZuY7kPoBbzcXz6/dplgjeD1hfJNVJxbXnS39skj+DtXaUnL63XlBb7L8GbTa62T/DmK7amtD4G14DgzRfBmy+CN38ewZv6wbT+LN1+7z4AxFO/s/StGoI3/rlCZ6wNquXi3/PAZTl+LT//XAWvV+wfALjJ8mIM9RPAmqdPn17Pn8MWQuXppoBtvin0t8y75/c5/VthA5BfS32L4A1VYeIMJif72EcA8FbqWdIA6hZCq7BNw62wLYVl0+3DDz+8+uSTT965zdL9zP+WNgDIheANVbEGbxog0ScmOhgVLzwAy7behr31MwDnmwZZ87BL2zQQm4dm059pW/r96f1rA4Aa8RlvHdLAtDfw1DxR1UC7p5WJdsrnMVmef6ufZaN2qfa5J/Xzj3qoKa0dfz7jzSYsELZYjiuf8eYrtqaUrnEj2KopYW4Tvqq/EFgfw2e8+Wr5M96ma4vpZdn6GQCcjc94AxYwiQbQm70XCggQgH2hn4QX3+gzQDoFZNpCwBq2cHZZOOssbOF6bfPfCfdF6AYAyzjjrUMaEPcGvprPGAuD+BZNtlt4hZUz3m4q+fx6qCmtHX/OeLNTXVZ9noupZ5zx5iu2pqwd4znOeFtHTfHFGW++Sp/xFub/03XA2mUAac6cg9OH0+RcO6XOUwjeOtT6RMny+KWFhUup4K3m4HRPyefXQ00heOufJk2qceEYxrR1gjdfsTVFx5bg7Rhqii+CN1+pwVtYbE8X3UvXASVZ555q52rfqXPV2N9L/Ts9KBHmW2vK3u3Wfn5GzSJ462CRXKPWJ0rqjJaFS03hw5qURXLrZyzuKfn8eqgpBG/YQvDmK7amWMcvgrd11BRfBG++5ovkMB+azouWrsOYtuZ61nmg5XY555Q9zMVbUvos2tLmdW6pFgZHamLOeRfBG37Sw0Spl7O+CN5uInjbRvCGLQRvvmJrimobwdsx1BRfBG/5Tec4S5f35kBoz3ROtjY/i72+VT3MxVvSevCWYl5X98YpIXijYxZhmShJzRN/grftSVkLz32NpX2mPr8eagrBG7YQvPlKqSmWPkzwto6a4ovgzWa+0AvC5b15G+qyNIdauk7Hde/YjtIHrHqYi7dkxOBtSv3T+wVPgjf85IwGmFvJcMZTyiK5l+e+xvL8UicxPdQUgjdsIXjzlVJTWuvDtaGm+BoteJuGKEuBSrhu6Wc437xuLtXR+XVq4x999FFSTen9xfASepiLt4TgjeDNhI5ZxhkNMDfLZE9qP2ugVPDW2kR3quTz66GmELxhC8Gbr5SaQvB2DDXFV6vB2zQMmQcjWz/D+aa1b14H975PcaSmELzF62Eu3hKCN4I3EzpmGWc0wNwskz0heGtPyefXQ00heMMWgjdfKTWF4O0YaoqvM4O3vYBs7+c4z7R+LdWyvZ97OlJTqOfxepiLt4TgjeDNhI5ZTusDhbUT1T7YEbzdZHl+klIge6gplldXa2r3LJJ9Ebz5SqkpLNSOoab4yhG86WyfpXFret3euIZzhXo0r0vT71utWQRvvnqYi7eE4I3gzYSOWU4PA4XlOdR+ejfB200lC2QPNcUSvNXU7lkk+yJ485VSU1ioHUNN8RHGGbVvXZ7vb123NxahbqHGTGvN2uWeEbz56mEu3hKCN4I3EzpmOT2EVq0FEEtSFslnFBBPJZ9fDzWF4A1bCN58pdQUFmrHUFP2zceIpTFjet3emIJ2hLoxrx9r1yO9pqjfWOar1PN39TAXbwnBG8GbCR2znNYW70t6OPOL4O2mks+vh5rSWt9lkeyL4M1XSk0heDum95oyr+9L9d5yG/RnKTxbug5xSgdvrc7HS+lhLt4Sgrf9fqr6mTMvIHjDO1pbvC+xBG9S84BH8Las1MK0h5pC8IYtBG++UmoKwdsxtdWUpXp85DqMZdrPdVmLZG0fffTR9SKZOlAewZuvHubiLRk9eDvjRB2CN7yjh+CthwGP4G2ZZWGa8vx6qCkEb9hC8OYrpaYQvB2To6bMa+haTbXeDpiah2lBuLzVt0dfJJ+B4M1XD3PxlhC8EbyZ0DHLOaMRltD6AiZ1kdz7wm2vfaa2zR5qCsEbthC8+UqpKQRv8aY1T21c9eTp06eXa95aqo2EZThi2g/nfXLrZ6kI3vwRvPnSmPn1119f/fa3v71cg5II3gjeTHpYJNfqjEZYgmUBU1MIMUfwtm4rYEp9bj3UFII3bCF485VSU3qt37GhV+ztgVTzvrT1/dn9juDNX+o8pZe1lKf5PtP+CfPVs/terwjeCN5Melgk1+qMRlhCayHEHMHbtvnxPXose6gpBG/YQvDmK6WmnFm/Y8Ou2NsDJU37xLx/bP2sJQRv/gjefFjmr6Hv6msvffpsBG8EbyY9LJJrZWmEUvvp0Wd0ppwI3mw0UOd4Lj3UFII3bCF485VSUyz1W/13WvPW+nzs9cBZ5mP40pg+vS7HmN8igjd/BG/lWfZVjCP1YT6+9o7gjeDNpIdFcq00KdcCfk8PwZvU+jxSF8mthS+16KGmELxhC8FbXlt9TT/ThFbbvH3v/R7QmulCNVxWW95rz7kXNL0jePOXOk+xnsFF+7ftK08jrZEI3gjeTAjeylHx6yF4a/15ELz5InjzR/Dmq5fgzTpBt9xu7zbWvwW0ahqayfx7mV43vbxVUywLGuYicQje/JUM3mj/b1jO9PZW+xo3l9FriqWfErz9fwRvZfXydsWWnwfBmy+CN38Eb75CTfnzn/98/TVFbBBlvX3s/QJ4Yy0UC+bX5ZzvbM1TmIu8pf2wty/Ccdk6PgRv/gjeyrPsK2+jHBuCN/9+SvCGG0YK3motrgRvvnqoKa2dYVAyeMs9ict1f0fvJ/fzAuDLGoRZb3cmgrd1YSzeG5OX6Fhrv8yPOcGbP4K38ixzV2+jHBuCN4I3E4K3snoJ3loe+FKDN8sAVutzPlPpmpIrMNm6H/3M8nf2jn2ux7qm9P0DQE7WEMx6u14QvL0rzL1yhQhqP9O3OBG8+SN482HZX55GOTYEbwRvJgRvZbV8ptiUJYSaT2xqUTJ4q/U5T+0VQusAbb2dBh+ZDzw1TQQAAPuWAq8j12EZwdsbep7acgVuU9N9RPDmL3WR3MsJDJ4s6xcvoxwbgjeCNxOCt7J6mTBZi3iNH6LZYvA2bTPz9rPUnvbaGACgX7HB197tUye0SEPw5hMWhDkqwZs/gjdfWtt//fXX159Fq/pxxjpBx6T2kxNyGb2mnNFPCd5wQy8TJj0HPZc9BG/bQluYtoml6wAA/VibbOa6PjeCN1+jB28eoZsQvJ2H4M3X0vp+ut4ovfZovSbFIngjeDMheCvLMplopTjtdSp1phpf2SgZvIkmcksDWOlBDQCQz9KEcGuSGHv7lhC8+Ro5eLPOtXIgeDsPwZuv2PW9pR9qH+/tZ8ttekTwRvBmQvBWlrWQ1RhYze09l1oHvtTgTRNdy1l+AIAywpiiSe10Mrs31uyNu8JibR3Bm69RgzfLHDmX6Vyb4M1fSk2xzsNrfLfN2UoEb8K+XkbwRvBmQvBWlqWQTScDtVt7PjUvYPaCtzChXfsKACPbq+2W2r91m73fT5mncJbEMQRvvkYM3vScPF/cnPZ3gjd/BG++YsdN675m3FxG8EbwZpIyoYVdb8FboAIdJoK1T/b+8Ic/XH/99ttvr7+Gxx2+AoA36+QjdpJS6n7PlDJPIXg7huDN14jBm+V5rQn9Vl/n9zH/XrfRvpn2dYI3fwRvvkqNmy3WGg8j15Sz+inBG26wBG/CoJEuTLLWvgKoQ46Qo4b70Jj54MGDxUUy8iu1gCB4W0fw5mvE4M3SR6fC87M8z7C/1vo3wZs/gjdfKeNmr7XGA8EbwZtJSseEHYNGHtqP08Fg/j0Qw7LYtrSvpfvxWMjP/4YGew30uRbJHs+hZVuLZOSXMk8heDuG4M0Xwdu6Es+N4M1fqeBNNby1dw15SBk3e32XlgeCN4I3k5SOCbuzGmOLtK+mk8v59yjDsvCMWZxq8NE2LYS5Fre57mdPa5MPFsm+CN58pcxTCN6Ooab4Gi140/OxzI1LPS+CN38pNYUgKF3KuGnZ38Ka9SaCN4I3k5SOCbuzGmONwsRx7SvWhcXh2iIx9vqSeqgprU32WCT7InjzlVJTCN6Ooab4InhbVmpuTPDmj+DNV8q4adnfQvB2E8EbwZtJSsdEnJEWAPMwTV/DZbwrHO/pcV+6rjU91JTWJnsskn0RvPlKqSkEb8ccqSnTMZ/9a0PwtqxUHyV480fw5it1Ls7YmYbgbbuel+inBG9Y1FsRCxPA6ddwGW8XGtPjuXRdr3qoKZZBRGp51Y/gzRfBm6+UmsLi4ZhQU/TfwKfj+9rlI7bGylGOD8HbOrWB3As2gjd/KfMUS9sv0T56kDoXt4ydrdUbDyPXlLMCcoI3LGp1AaDBLgx408t4F4P+u3qoKWrrBG9YQ/DmK6WmELzZzcf32sb7EY4Twdu23M+P4M1fqeCttbbvJXUuzj5PQ/DWTvD23uUrBnbWJFd/N3QYbSq4WrBo0+Vw/VmPz5sKQxhQtFkm+yzcAAAt2Bvraxzvw+NDP2LnTRx/wIelb46yJkSfCN46V0MwMw3YWppw56TjoG0arCl911lLYdP3058DANAyje1hzG91rNdjxthY7AN1oC+iZQRvyMYSsPVaMNeCtT/+8Y/Xmy7Pg7W9UHTv5wDqpnq3tAEjCON+D+i3AFAW6x7EsozNNbUrgjdEUyMPE2ptowRs6rjapsHa9Gy12GAtBxYDwPlCTZy+4BBq4tKmn+n2QK/CXADoAXMtLCEoysu6P+mPaBXBW+eODgphQTldVOpruK63ifU0WNO2Fa4x4ALjCvVvWhNjJoM91k8gYGGEmjF/wx5qWL04NmgVwRuuC5i2sBAMAds8ZOul0O2Fa9OfMTkDMKVaGM5Y03ZEjvsAatTTwkjzAOYCAFAetRY9I3jD9QS5t4BtGq6FM9UI1wCkmtZJAGPQ/EBzBuAojSFhe/z48U9zbm0aW7T1MP8GjrCsyegnaNWtFy9e/Hi57O7Vq1fX27179y7XILcwqPdIxTkU6PnXWrx8+fL66927d6+/xtDAoonYHoWJeKOHmtLacX/+/PnVnTt3rrdeWY9JCtWsmIX9kZqCeCk1RWdE7tExr228yinn3GNtfF/af3v9VL+jF9ymwiJuvphbum2PtmqKJQwKL2K2JLZ9qi2EOj3dH/N9s/Uzq+nfQh4p8xTqeLojc3Fr32Tt89br16+v67hq+O3bty/XjuGsfpq69iF461zs5KI26ijTzjL/vnYEb756qCmtHfcRgjfL4jOV6lnMIovgzVdKTWHB9kZMv5mO7drfuvyb3/zm+nsrxsw0BG/1aXGf1ix2nmKtJQRvy47Mxdn38QjettUUvPFW0861UJT0GMMkQ5s6iCbG2nR5+jOKLABPWpxZw4MUqmtAj9Ymu2E8XxvrHz58yFjfEI5Vfi2/YD4S2n5+1n1acl4GlELwBjcqpnsTbm0MZBgZ7b8upUM3jjd6Fsb66ZjPWN8OFrfnYd8DQF8I3pCdJWBjwr2PfYQtTMp9lNjP0xoJjIDxDABgwdwIvSJ461zpyW5YPGqbvrIdrmOyXR4BDFCHeS1c20KNBAD4a2FuyvwZWMfbsWFd/9ZUSwneYKJGu7SoDNdpY5IAYESqf9N6SC0EAKTSOIK6Mc4DiEXwhnesBWycxQYAy6iJANCOmmt2mGvjPLyT5FzW/slxQmsI3nBNRY6ADQDiMfkDAFg9ePDgeo6tLcy5tYUzp4GREbyhVwRvA7AUMEK2OlmOCwMPUA61EQCwRmNE2KYhmja9mB228A6S77777urzzz+/evLkyTsvdmsD8AZzL/SI4A0AAADAMGIX9rr9NEAL2zRcm4Zo2kIgR4gAxLH0GU48GJvl+NdWewneAABYweQPACAEaGNgTG8DxwmtIXgbAAtHAAAA4A1CNBxB+ymL/YseEbwBFWPgAerHCxcA0DfqPODHsv5hjTS2FmsywRvQOCaDQDlM7AAAAHzt/cORvZ8Dtc3hCd4AADhIAfh0AwAAQJrwD0qWbP0MqBXB2wAshYmFIlAP+mw9rBO7jz/++J3t/v371185TgBQHxbtQP3CfwsO/VVf9T1nu6FFBG8Aivnd7373ThjB2UAYidq62r36AQCgbcxfEBDc+lHIpgDu2bNnPwVxgKUe19ZPb/37v//7j5fL7l69enX1/fffX/3jP/7j5RqUoIb5ySefXL5b9913310uIZe//vWv119//vOfX3+NpQX7F198cfluXW3HTo95K2wIr1g9ePDgck0evdQU9de9AUX779GjR5fvzvMf//EfV3fu3Ln64IMPLtf0x3I89uTqo0drCuKk1JRf/OIXl0vrnjx5wsJtRWpNYa6TZqum9N6WLc9vKsdzff369fU+1/6+ffv25VqUFFtTqOHHsL73NWpNObOfps5Tbv3lL385LXj7+9//fvXjjz9evf/++5drUMqHH354ubTum2++uVzq29OnT6+3cPnhw4fZA6BAbVzeey/t5FI9vs8+++zy3bqajt3jx4+vNyvt+1zHoJeaomMe2uga7TNtZ/vhhx+ubt26ldzGWxDbppfkOl5HawripNQUy3j7+eefFxt3WpdaU1ocL2uwVVN6b8uWsXYqx3NVPdE+1/5WO0d5sTWFGn5ML3PxVoxaU87sp6nzlFPPeFMarlScRLy8kV+90avgYVubYKlT6gyi3M//6Nkprb2Cbz1Db0mOY9BLTdk7Y1C0n9Rnz6ZXffSKj1756ZXleOzR2Yk53h7BGW++UmoKZ0sck1pTOOMtzchnvMWezZyjjnPGm7/YmkINP4b1va8Ra4p1vC/VT1PnKbdevHhx6ltNtd27d+9yDUrRB33v0fvmWx5E1AnDBGp62UrPXfsgp5cvX15/vXv37vXXWHoO+oyoPfrcg7NZH+seHYfUAK6XmqKQxxK85W6vKZ4/f3498PQcvFmOx55c9fVoTUGclJoywnhbUmpNaWm8rMlWTem9LcfWds1NcgRv2ufa3wRvPmJrCjX8mF7m4q0YsaacPd6nzlN4rwqao84WJkvqdBogtelyuF63iRXuF2ly7btQTLWlHEcgtxyTayboAAAAwJgI3gZhWfTVEnLocYQQLGw5A7aWWBfrZ++HcMxy0v2F465jjXf13vZrcjQ0y/EWUwBAXrwgAgDwQvAGFwpOQnC2t4WznUK4NkLA1rrSwVhoP6X/Ti1YDPQhvC2J4A0A6sNYiznreoO2A5zH0k9r7KMEbyguhGctYCBN4xWMttSW0JfY2qDPfyF0A4B+8CIwACAVwRuKai10I3iz03ENZyd6InzDGagNANAfajsAwAPB2yAsE4sSr+S18uqg9o/OUGmV535W6BXe9qm/a/3b2r/8Fygb6z5qpX8BANpiHV9aH9OZkwBAW1pd/xC8oaiaO4YmW+GtYDWHbrVNClPONtNzCFuOAI7ACQAAAAAwV9v6WQjeUFRNjV6PJYRsz549u/7KZzDFSX2L53wfhwAuHIcaiyMwRRsFgP4wBwQAeCB4Q1FnLFZDwKYthDvToI0FdLrUM8229rl+pmMTE8AxUYY36gasaCtAW6x9lr7dP8s8l3YAIAXBG35S4u17JYMu3e9WwFbyb8POegx0O0sAp5+NcFwtz5G33AIAcIx1TjHC3AMAUAbB2yDOnCzEnMm0R/cTQrZRArbRJnrhGC+1mxCyAmcYrS8CwAjCXHKL6j9jANAnvZBdasM5aqzXt168ePHj5bK7V69eXW/37t27XINS1PE//vjjy3frFGiVtFWALI9PSj/GnF6+fHn99e7du9dfU+hz1fY+W03FxSOQ0jGKHUQsE9ot+nvW4tlTTbHs66P7Nofnz59f3blz53rrnaUvBkvBcQ45agrsUmqKpe+Wah89SK0p2uc1zHNas1ZTRtyfW303V599/fr19T7X/r59+/blWpQUU1NqmnO36qy5uPrutP/O+/Ja3z7LWj2ZXj+/zdLvjFhTzp5npc5TOOMNrtQB1jZrgFBb4RxJyr7XsT3i6O+3atTn3QvqFAC0ZWmhprkpQTlwLs2ptIVgVJvCl/v37/+06fvpz8PvhK0288cXtulz0HOabvPnq+2TTz65evz48Y3n3LNWnx/BG6phndT0XkwAK/qCr7PPLgQAlKWQTWfxhU11n9ANKCOEREth01LINL3d6HPgsO+0KXj74osvftpP0/03vW6678IGPwRvg2gh1CJ4AwAAAHAGyxqDIHZdCHOePn36TkimbR4IbQVqrPXyCftT2/xYTI/H9DqOQxkEb6iK5YyS0YqAZYCnMI6J4+6PCTcAAOhdCF60hcBmK7gJ4c2nn3569dlnn934nXBfqNP8eM+Pb/h+eiy1wY5/rjAQdZo9Z3+OhTqwOvUeBXQtvO0rxwehW/eJxwccW9rQnOcHL/dUU2o67ltG+ucKEiaQe0rVKP65gq+UmqJ+uzcZ5TOj1pX85wra59r3eIt/ruCLf67gL6amWOp3K2uQYPp85s9t62eA1dJ8Zn6dZc5jnRednWmkzlMI3gbSQvAmlsepx9jC5JngjeAtVU3HfQvB27JSNYrgzVdKTbEs3GoYa2t1pKbsjVGtLZg9ELz5Injz13rwNn08S49tft3e4wdaprmTpY0vzbHUb3PMvQjesKvGwWSJdWHbwmSP4I3g7YgWwvLRgjc588UBgjdfKTWF4O2YIzVla/5Qqk+2juDNF8Gbv7ODt+n9Ld33/Lq9vw8gXY65QOo8hc94Q7Ms4VwPalmcpUwE9h677nO6AS0gMAHqtLYg1nWEbgBy0Hw1hPzaFNaFTS/Mzbfpz6e/FzbmwoCf0H/PwBlvA1HB3yvosa/ilKKBak8tj3VLrrNTLPuj9BkUajtqQ7F0jEK722t/evy6ferz6K2mtNAPRjzjLUyWt6gNl1joc8abr5SaYhlrS9frluWqKdNjwL5exxlvvjjjzce0/2t/q57oP23OzWv1Xu1G/UK9n9b9rTGg9Piw1ab22h/tsZwjY1fqPIXgbSAtBW+Wha3UPuEjeEuT2g57qykt9NkRgzfZ65Ol+iPBm6+UmkLwdsyoNeUsBG++CN7WzevmWh213g79CePmdPxcuq5X07YeLuur6orqCX3B7sg8jOANuyxh1tmL+MAavNXyeNcQvKVJPa691RSCt3rpuKhGLR2fkseE4M1XSk1pod/WjODNF8Gbr56Ct6U6d+Q6jGstPFu7Hm8t1ZRp/wqXl64bGcEbirKEWWqAaog1aOFtdns8g7fS+8KymMwpZTLfW02x9Nmz+8Doi+Rp+Kb6WfpYELz5SqkpBG/HELz5OhK81TRnbMVZwdtSTdqqU/Of7dU0YEkINuYBx9r1iHekpkz7dbg8/9or3mqKoloL3iyPV2p+tTXXIvnshZz+tuWV75wI3trosyySfRG8+UqpKQRvx1BTfBG8+VpbJC/VjK06svazvdoDpJgGZPOwbP6z3ubitSsd5oeaoq/Tyy07OgcjeMOuFhbxU5bHKzUvYAje0hG8EbzhJoI3Xyk1heDtGGqKr7Wa0sL4422pX2/19djbA6XNQ7K5vZ9b9DYXr91ZZ9HKtJ7Na1ut9S/H/IvgDbtanES1/nZTgrc0qc+lt5pi6bNy5lmfLJJ9Ebz5SqkpBG/HUFN8tR68rfW1vT6Y+nvA2fbCsfl1S7cpqbe5eO3ODN5KsNRuy9poaY6Va95F8IZdaqiW8KSmt25aFjBS69tNewnexBKC5nDkefRWU1rosyySfRG8+UqpKQRvx1BTfOUK3vbavGUut3Yby+8Crag9ODuqt7l47XoL3vZoPDh7bUTwhl01NNRYlomf1LqIybVIjp0Al2A9FqnC8TtyHHurKS30WRbJvgjefKXUFIK3Y0atKUfDpdTf16JN27fffnu55o2jjwfoVUxw1lpolkNvc/HaEbwtI3iboWP6qqGhpmj57aY9BW/W9jOlxzSfdITvS0xGeqwplvav415if1oQvPkiePOVUlNaC96OBixHf39O+1uLh/kCIvffyanmxwbgjbX5aKB+bOnLta2TatPjXLxmBG/LCN5m6Ji+amioKSyLGKlxIBw9ePMOhHqsKQRvmCJ485VSU44Gb0u/u3d/Wz/f+10AqNVeWBZs3c46T1GtbHGdVJse5+I1I3hbRvA2Q8f0pY75i1/84vLdujMX8UssoZPU9riF4I3g7ajaz/gkePNF8OYrpqaEgEu1ei/sCnVx73YA0JKlOd+R63IgePPV41y8ZgRvywjeZuiYvloN3qTVt5t6Bm9SsshYC92U9+Skx5qifb63OCd4GwfBW3nT/vb1119fj51q39Pr9/okANRuba5vvb62tcKanMGbnnPJF7l7wPreF8HbMoK3GTqmr96DN6ntVahci+QaioxYj0NA8HYcwRumCN7iTPvOvB9t/QwAarA0H9+ao8fefgTWeUoN7y7pAet7XwRvywjeZuiYvloO3qxnfNX22AneCN6OsrR9grdxjB68rYVla5cBoKS1Oefa9Q8ePLiep2jMnC6Sa5t394TgzRfre18Eb8sI3mbomL7UMdVQnz59erlm2ZmL+DXWTlbbYx85eDtjctJjTal9Ikjw5qvX4C2EZfPQbO16ANizFmZthVwpvxNjtEVyDQjefLG+90XwtozgbYaO6avl4E0soU9tA2LORbLl+ZcO3tR+rAvgM45FjzWF4A1TrQVva8HZ2vUA+rQXXG39PPVnNSJ480fw5ov1vS+Ct2UEbzN0TF+tB2+WAVFKh08xvIM3TQZKTkKtx0BKP5YlPdaU2ts9wZuvWoI3AjWgHkfG2l/+8pfXi7X5gk19eK8f6+9qvug91reM4M0fwZsv1ve+CN6WEbzN0DF9tR68WTtaTY+f4I3g7agaBpgtBG++SgVvYYE9X2ivXQ9IiRq/FgTV7Mh+8B4n59ZqCiFEGQRv/gjefLG+90XwtozgbYaO6Usd83/8j/9x9fjx48s1y2oN3qS1t5v2FryJit3eIvysNtRjTalhgNlC8ObLWlOmfdRyGfVbqu2Wer93m9JjRixqii+CN18Eb/4I3nyxvvdF8LaM4G2GjunLGrzVPKhYBkU5K4SY8w7evAKvrfDtrNBNeq0ptYSuS1gklzfta19//fV1LZ/u7/BzgrR2qK+Gbe6MflwTaoovgjdfBG/+rDXF8sIybX4f63tfBG/LCN5m6Ji+Rgrezgx/pnIGb5YJgefz1mPRsQiPKfzdM/d7rzWF4K1907671I/3fo5zqE9p7NRkdt6/1r6vrVa3hprii+DNF8Gbv5zBG7V7H+t7XwRvywjeZuiYvnoI3qSmM7/29By81ajXmkLwdq55v1vqh5bb4Hyhj8z7yvT76eWUmkKtPobgzRfBmy+CN38Eb76OzMWX9v98vMa7CN6WEbzNHOmYiGcN3qSWt2ouaWkySPDmq9eaUvOxr3WRvLS/LNft7WfUYy0sk/D90Ql7Sk2hVh9D8OZrbZ5COy6D4M0fwZuvmHEzrOcs6zrt96Njeo8I3pYRvM2kTGiRTh3zD3/4w9Vnn312uWYdwVseOYM3y/MefULQa00ZIXhben5HrkO7lkKzpes8pNQUFm/HELz5InjzRfDmj+DNl2XctKxplmgOoP3vPReoGcHbMoK3mZQJLdL1ErzJ3lvvznrb3Zx38KbnPPLbPnqtKbVNBqePRW1cA8/Tp08v17xr6XHvPRf0KdTkaW1euq4mKTWFxdsxBG++CN58Ebz5I3jztTVupgZucxyHtwjelhG8zaRMaJGup+Btq9PVVIwJ3nz1WlNijv3apHFrMrn0s63bA1NL4dnSdS1KqSks3o4hePNF8OaL4M0fwZuvtXHTMpeNwbF4g+BtGcHbTMqEFulCx/zwww8v16yr5YyxLep4KuDTQbK2Ikzw5qvGmrI3ibP8fO82QE5rodn0+9rHh1xSagqLt2MI3nwRvPkiePNH8OZrady07NtYo695AoK3ZQRvMykTWqTrLXhrAcGbr3lN2RvkLZOArdvknkQAJawFZmuX8VbKPIXF2zEEb74I3nwRvPkjePM1HzdLhG5B7e/Q8kDwtozgbSZlQot0BG/+cgZvNRSaFPPBdmnwjRmQY24L9OjBgwc/Ta7mdTp8T/3OI2WewuLtGII3XwRvvgje/OUM3lgfbdP+05ipdv7b3/7WtE+PIHgjeFuiPlryRBSCN+yKCd6mi7ewIV5vwVsYPOeD6PT7+c8A3DStqUv1de3nOWsK9hG8+SN487VWU2jHZRC8+bPWlL1/3CYEb+ss78zJScdh5Hf5BARvN5VuGwRv2BU6pv65wtp/INwSBpowyWLg2ZdzkWwpNBITvIVJ9XxyvXY9gJu1b6kWWm6TImdNwT6CN38Eb77WagrtuAyCN38Eb+VZ6kUM7eO9++NYvDFaTanho5cI3rDraPC2JBQ8fZ1exhs5F8kagCzBWyg08wErfJ9zYARaMq9Na7XKersz5Kwp2Efw5o/gzddaTaEdl0Hw5o/grSzVCcv6ZEuoI/N6shaycBzeIni7SW2D4G2G4M1XieBtSyiI0yI6WpGMXSTPJ7nz7/cKDdCTeb1Yqx9L1/daa2JrCo4hePNH8OZrrabQjssgePNH8FaWpVZssdSR6f2z/99F8HaT2gjB2wzBm6/QMX//+99fffHFF5drzzMtnPMiaimqe7c5MghssdxvuI32ucwLYanHBpzJ2o+Xrrf0eRC8eSN481cqeNMxCcdF9Yaa8wbBmy+CN38Eb2UdCd7Yn8cRvN2kNkXwNkPw5qu24A2An7WJzdaEZ+ln8+tKLZKxjODNF8Gbv9w1ZWuSzqKP4K2Etf2mtkbw5o/grSxLELKEfZkHwdtNalcEbzMEb74I3oD6bE06pj/TRL7GRRDBmy+CN18Eb/5y1hTLBH30Y0HwFi/sl+n+0eW9/SWPHj26+ud//meCN0cEb2VZ6uzc6HU3J4K3mwjeFhC8+SJ4A95lDb3W7N0m5+SshoFmCcGbL4I3XwRvZSzVslAv1cZVTz766KPr7y3mAYjs1cupkY8HwdsyPfd5u9rbH1YPHjy4HqsJ3nwQvJVlmZ9OnTFX7RnB202l2xjBG3YRvKEG8wlLzARm77Zq46opGnxi7rcFNQw0SwjefBG8+SJ4y8+yf7yNfDxGD96mgdr0cmkjtzlvlnmKjrva/J5nz55dLiGw7ruA8DIvgrebSq+HCN6wK3TMP//5z1effPLJ5dp1arReExC0ZzpozgfQrZ+V1HNNsQw04j0pJHjzRfDmK6WmELytqzF0C0ZdUI8SvOm5hOczvXwmQhwfBG/lWc4WFK0JONstL4K3m0q3M4I37IoN3sLgEiYnoZHXMFlBfiEgmwdl0+/nP6tNzzWl1kkhwZsvgjdfKTWF4G2ZtYadheCtz+DN+qLVGQhxfBC8lWcN3jjbLT+Ct5vUxmoM3t67fAVWqfGGBqxNg064rAlX+DnqE45NmByHbXoswzY9ptMt3AfH+FzW/b+3UAKAM1Cb4K3m0A0AMBaCtwHlWMCHIGYe4kzDm3Ab69/Dsul+tO5La5gGAMDoGA/T1L7fag7daHPoibU90+4xMt5qOpDpqai/+MUvLteuU2CTu0BOw7y1y1M1vkK+t0+mP1f71mm/81N/l+7Dsq+1PzgVfl3vNcVyKn8IV73wVlNfvNXUV0pN4a2my2o++2jUMVPWakrr/+HROl86S837rje81bQ8a31n/+XHW01vUm1VjS0lde1D8DaQGoK33KaLmxofa+5FMhODbb3XlBoX9ARvvgjefKXUFIK3dZZ94230AITgzd/Dhw+v/tt/+29DLJJrQPBWHsHbeQjebqo1eOOtplhV2+R4iTpW2ACgVqqnYbKgyf180/Ut1FzgiFqCmhB8ahHI/KFPtR7XJ0+eXAdvwIj2AhMLzZXCBrSE4G1QTDTbZD1uDEZ9shx/jn09QtCmM0dCuBYCtvmm68NtgJ4pfNOm4Es1LWweQtgWgjf0raZjrDZO0Ns2jt26nPtmOi8KcyNtmkuF+dR0022BFhC8AQCQSZgoanIYLsdI+R2gNVqkKRQJIZw2hRLavvnmm6s//elP15enP9/aCDSwRG3M2i5CmwyXcwptHfUivDnG2mc0v7EGa+Hn4fZLdL1uC7SA4A3o0NoAhf5x7M+hyWFq2DZ39PeBXmgxZ9mANSGcnbYXBWEhDAuB7zQYyzWO6m/pfkOgB+DNZ31agzUr5k1oAcHboJiototjNy6OfZ3C5BHAeaiPWBMCsLCF4G3aZkIQkEsI9miXGMWZbZ05GFpA8IZVnDlTJyZxQD0I3YB2MK/Bkhxn3ASao+kMOs5yw2hYnwDbCN6ADrG46JN1UsPx96H9XCJ0Y/IKAG1i/AX8MW9CCwjeAABIUOpMN86UAAA/ucMywjfAF8EbWkDwhlVMHNrFsRsbx99Hif08/9whAPlQG7Ekd82lnWFEZ81d9Hd5wRItIHgbFAu7dnHsxsbxb1uYIC5tfC4QkI7aiFShLufC535iRN41OPRb/RMToAUEb0BjrAMbr7gCdZgGa9P/qDffAKRjbMQRqsFbbUg/58WRflnqgnewhLfhWtg0h1I/nM6ngFYQvAGdYnHRJ8vEj2PvwzLhm04aAZyP+og1WshrU90Om2r3NHCz1nLOesOILHPUqekcSds0WJuGa2GLvX+gJgRvg7IWLiaodWLgAdpADQX8MDbiKLWhEMCFRT8Am5gaHII2gjWMguANADpD2OPDOkHkeAA+WLTBgyWMo+4D2+gjGA3BG9Agy+KCAa1PLCzrQfAGtIf+CA+0M4woZo5KH8FoCN6wiaLYLo5dnwh76mI5HnzWD1APaiOOYhwGlsUEb8BoCN4GRnFsF8cOqIO1LxK+AeUxNsKDtZ0RvAHb6CMYCcEb0CAmfdjDsfdB8AbUg7ERXgh5gWUxfYNajJEQvAEdY0DrExP+esQcC8I3oA6MjTjKUvtpZxgRc1RgGcHbwJg0tI2B7V0KNb744ourzz77jHYLV5b/cCcEb0B5jI2oBXMRYBt9BCMheAPQLAUZH3/88dX9+/d/Ct6ePn3603W9DuiE5nWxBm9C+AaURX30M3LIScA7Ho45gCMI3oBGjbi40POZh21bz1G3AzzEhG8AzkXwBi+0tTZwnPJ58ODB5RKAKYI3bGIgalsPx0/hmjYFbQrS9sK2Od1+RPRdX7zdFKiD9awUauQ69s0+zn4ClsUEb9QajITgbWBMGtrW6/HTIDwN28JlvEXfrRPhG3A+gjfUhHaGEXHWG3DTrb/85S8/Xi67+/vf/371448/Xr3//vuXa1CS9rX2+XvvvXd169at68/C0gfR7/nmm28ulxBL+1u0z0v48MMPL5fWff7551UPgGqH0y23hw8fXm+9qeXY//DDD9f1pFQbb43luEjqsSldU/CulHmKxtW9WtZrXcohR02x9EOOwRtLNUXtl/nhvpS+Pp+LozxLTelhPl0Lte/Hjx9fPXny5HLNNtaZx4xWU9S2tG1RP1V/LSV1nnLr3/7t304L3r7//vvr7R/+4R8u16Ck169fX/3tb3+7+vnPf37dWPQq3Keffnr56bo//elPl0t1m55FEiZC8wEyvBLudcbQX//61+sF289+9rPLNXn96le/ulxa9+jRo+vtbGpv4ZVfHZ+9yWouGvh7nChZjr3Hc//P//zPqw8++OB6w9X1P/jQZpHSN0vXFLwrZZ7yySef7Na3WupyjXLUFEs/1Dzgyy+/vHw3rqWa0tv8sJSUdjafi6M8S02pZU7VA42Z6hf/83/+z8s120avI0eNVlNqGN9T5ym3Xrx4cVrw9urVq+vt3r17l2tQkjrmy5cvr+7evXt1+/bt6+v0Vr49X331lVtQFSMEbSlv2wrPR28NK/nctL9F+7wEfebZ3tsY9Bw9P/g9BGxhO5OOrdpvjyx91+PYP3/+/OrOnTvXG96wHJvg2bNnl0s2pWsK3pUyT6mxLrckR03RvMAyN4jtfz1aqilqv5Z/TjT6/rO0s/k8ZGkujrIsNaXl9VBtwrhpfQcAdfiY0WpKSt3NLXWewntV0BRNBtXZjn72VwiFwof1t8oyAdhbAOakfZnyDxBK0KK219BNmPzVKyZQabn+ALWy1sezxykA6JVlLsRcFiMheEMzpqFOTro/Fr/HaQFTw37UZ6kocONsErSAhT+QH8EbPNT24ifQGubqGAnB2+BamDTo74cz3ErpOXjzOn5n7kMN3Nr0OREK3kZ4BY0Jf72YSAIAgJGFufka/WyE+ToQELyhagoOLJ8zkkOLIYV1wOoxgNFz15lt+myIvcEd8GZtj4SjQBmWPsjZ7gBQjurw0mfjMW/HiAjeUDXPSXGLr7qMHLxJi8fME6GOP+1zFvNAO6iTSDX6HAywUD9R+BZeLA8vmAOjIXgbXM3BhSYqXpMVApzjvPfh6BNZ2uz51AYVsmnTmbl6S3z4HErCN+Bc1oUdoQgAlMe8FaMjeMOusyalnn+35VdeahnIju5DPQ/dR3hVzGLkcMN63FlU5hcCt2nIdmQ/E9IBQL8Yh/tAcATgCII3dCcEOGHT92FbEm7TKstj95r06fTxvcejn4djMz3tXJenx8uCwAJnKPHflQHkpzFlD30ZR1jnK6gXwSgADwRv2NXagKTHOw93wjYNeLSN8jkDnsdwur+n2zxg07Y1YbUeFyZM29g/eZX4Zy8s/IFzUScBAEBJBG+D6/WVuq1J9DSU64H1GHouLPSY5lss6++MvGBK2a84plR7Y+EP5McLOCiNcRgAYEHwhi6NNInuNaAieMNIaMdAGZaxhP6HkmhfAACCN3RptElOr6+4Ws5WGHlCy4LSX6m+xnECyqBOAgCAsxG8Dc66iDxjUtprmFRCrwsLaxvgM7LgpVRdYuEPlME4AgAAzkbwhm6xkH1Xz8Eb1tEP8rJ+PqTarm4X04Y5VkB+1j5I/0MKS/uibQEACN5QLUIXu573FW83XUcfOYfapP47r/Z/2EIgF/6D7/S/91qxOAPKsPRD+h8AACiF4A2mxftZE9IjwcJIk2jrfup1n4y6YBr9uJ9J+17hWthCyHakZgEog1oJAADORPAGDKTFRYV1wcTn86BGMUEci36gDGs/JDgHAAAlELyhakcmwaMtYntdMLAQOo5Apw0cJ6CcvbebMtYAAIBSCN7AZLMTluPY6sK+5+d2FP23fhwj4Hzh7eBL1Ef1lnEAAIASCN5gclaocWTBytkjNxG8Af5i6hjtGChHwZsCttAn9TVcBwAAUArBG6p2JHgbDftqTJbjTpgDAG+oZipom/73YcRjzvGGZT+wr9rHMQRwFMEbTM5cuOcY7PT49eH72noNIaz7qcXnb10YETChdbRhAGejDsXZm6MQ7taN9g7AA8Ebqn8V58jj+/jjj6/u379//TUEb7qsbdSBtufnzeRpGfvlXCy6xsKZEcBYVOPX6ryupyYAAAje0LW1wEHXK3zrTc+TOyauy9gvfeF4AkB7FLCFzw/UFsK4tUAOADAWgjeYF3pnnTVTciGqM+B6YtlXrZ79ZHluT58+vVwaR+39F29YF18l6x0AoBzVb4Vv4bMDCd0AAAHBG6pXciE6YhjR83MeMXhDPwjdAAAAgP4QvKF6nKlj1/PZT9bnRvi2jH50LsvZD5wdMQ76IwAAwDgI3mB21kKht7eDlkTwNib2TRvWwjddFz4bCAAAAEBfCN5wreYFX8mQiDNM+sPnvC3jDJs6qOY8e/bsp88BCp8FROgGAAAA9OnWixcvfrxcdvfq1avr7d69e5drUNLr16+vXr58eXX37t2r27dvX659Q//hc29hrsXhGUHV/fv3L5fy8ng+2t+ife5FZwjunSWoRb4W/K2xtNOHDx9e/ff//t8v343hzGP+/Pnzqzt37lxvKO+MmjKylHlKzzXYAzXF11JNoQ2XszUXRxl7NYX2nlet63vrC9BHXqg+60Vu1ZXc9URtPkXs78Xevob+mjpPIXgbyNZgb2nEZwVvlrDFSh1Rm9fzqDV4E5110xrLc3vw4MHV//pf/+vy3RjOPOYskn0RvPlKmadY+mPpSWHLqCm+CN58Ebz5I3jzFTNuLq3v9tZ8az8/K/SCD/VBsRzn0v2V4A27jgZvZw06lse2RSGbHnvosJ4I3vKyPLcRgzcNQgqo9xC8tY/gzVfKPMVSp84aT1tATfFF8OaL4M0fwVte8+Bj/r3auLZvv/32cs0bBGPwVPKEodR5Cp/xhuod7ThnhW5nsT5XBsB+cMwBAACwRPO/6RbCxummF3Cnmz7qZ2mb325+P1988cXV48ePb/xNwFNojzXhjLeBHD3jTc48Syq1A5VMvPecdXaKBsY9Z+6XI/ae2+eff37129/+9vLdOCzHXK/W5g6hOTvFF2e8+eKMN3/UFF+c8eaLM9787dUUhUd7wdDZc+bp41t6rPPrCLqAN2p6tw9nvOFa7sV4CS08xlr0vK+2Jj6PHj26fqspljERAwAA8KO513QLwfZ0m55BFs4sm27Tny/9/vxvAKgPwRuaQfBmZ9lXrQ7MCt6WztzS9QreRkX/AAAAyE9z5qXAaxqIhW0rNNO2dD+EZkD/eKvpQLZOb1eh12Cw5+wP5A8DVAwFEme9HeKst4VZ91OL/2Bhy8g1xXLMS/QF3hbmi7ea+kqpKWf1xV5QU3zxVlNfvNW0jKXAKlynGq59rW3rdgD6UmqcSp2nELwNZG+w16sye9R41YjPYpkMzp05OTxrkWwNUs8+nrmNXFPOWiixSPZF8OYrpaac1Rd7QU3xRfDma7TgbSvUKvEzAAhKrXMJ3rCrh+DNGijNnXVm15mLZMvxPPvDYnMbuaZYFkqSuy+wSPZF8OYrpaYQWhxDTfGVK3iLDUNqDk+OznO3fj938JayH3Mfq5qPJRAjte8frRlHqKZoKzFmpvbtGmpCyTUuwRt25QjeaghqLI9zjuBtWQ3HM6eRa4oGuTPeLs4i2RfBm6+UmkLwdgw1xUdYGKl9i/Z3uE5fa1g4ARjPVohV4metyx3mn8E63oSxae/2pedYBG/YtdcxtWjfa8g1BDWWxzk3YvA24uJv9JpyxlmrLJJ9Ebz5SqkpBG/HUFPeWpvrxFwfO18CgBhLc8pf/vKXN2r40u1yzkdH1UPwFqOGORbBG3b1ErxZOtxc7rDBqvbgTc4KJUsYvaYQvPWP4M1XSk2x1N7Sk8KWlaoppQOovfvf+jnhGABv07ng2rxwfr1l/jj6XNwbwdtNpedYBG/YRfCWL2ywOnORrGN5xlsPzzR6TTnj7cUEb74I3nyl1BTrpLDEWFo6wCl5/4RPAGAzXdMsrW/m13mugUafi3sjeLtJ7Z3gbYaO6WuvY9bQkK1iP+ftrMDw7EXyaJ/zNnpNOSM8J3jzdXaYn1upsCXX/WrclKdPn15/BQDgCEsoNr1u6ec1Y33vi+DtptJ5BcEbdvUUvMV+zttZ4RLBm6/Ra8oZfbj14O1oQJMr4LHeTwiC9iZXuR4XAAC4GYCtBWLW2/WK9b0vgrebcq915gjesCtH8CY1vDXR+liDUYM3y34qXZw8jV5TYo53rsBJ+1v1JGWwz/UYAAAApkLgNX3BaikE01xibz7R04vUpbG+90XwdhPB2wI6pq+9jqlBp5XPBLN0uqmzwqUWgjfp5XPePGtKTOgTGxCVvG8AAICzLYVgsnZ9sPTzrd/ZWyS38hnXrWB974vg7abS636CN+zqKXiTmM95K90B1xC8Hbc2GVq6Xm1cWyiEMaFUzG0BAEC6vXClBr3OC6z7PsftajjOBG++WN/7Ini7SXWH4G2GjunL0jEtYZYacg0DqTVUktIdcM3ZwZucdUynk5ilCc3ezwEAgK8wF7CMy2FeVcOcsBWjLZJrQPDmi/W9L4K3m0qv+wnesIvgjeBtjXVCESYm8wnK2vUAACCvpTnY1rxs6/ZL8xSN5S29A6IlBG/+CN58sb73RfB2U+l1P8EbdvUWvInl8UrpDrimhuDNOqGYmt6eMA0AgGWW+dDebdZ+7jHXInjzRfDmL0fwVtPap3as730RvN2kvkrwNkPH9GXpmK296mN5vFK6A645K3gL+0RfwwYA6FepRaHHYnP6NzRuao4SO6Fd4/H4W7Y0T9GcgeCtDII3fwRvvljf+yJ4u0l9leBtho7pq8fgzdL5pHQHXLM0oT0qHJ/pcVq6DgBqlnsRU2JRpHHzl7/8ZVQNVx22jEuEFstSJ7RIQ/Dmi+DN315Nae3dPrVjfe+L4O0mgrcFdExfPQZvYhkwWwnelgI0Xd47JgDOcXQiHvv7GjNVv7cmVyUWByXuswUp8xTVa0KLdARvvgjefBG8+SN488X63hfB203qqwRvM3RMX5aOWUNjjmV5zGcNmNMJbQjPpiHa0nVA7aZ9SXVFYgb7XH3x6P2cUROOWloko5yUeQqhxTEEb76WagptuByCN38Eb75Y3/sieLtJfZXgbYaO6avX4M0yQfSYHOpxTAM0XdY+f/r06eUajChmopYyqZv/jtrdXh+WXH2CRbIvgjdfKfMUy5gkhBbLqCm+CN58Ebz5I3jzxfreF8HbTaWzCoI37Oo1eJOtx51rsNREVFsQLk+vg6+l46p2rvYde8xjbp+jPZViXTDl6hcskn0RvPlKmadY+yChxTJqii+CN18Eb/4I3nyxvvdF8HaT+irB2wwd05elY7Y82dJjn3ZEdbqYz6LT7299xTHTCcvS5GVtQrN2/RJqyhuek0gWyb4I3nyl1BSNGYQW6agpvgjefBG8+SN488Vc3BfB203qqwRvM3RMX70HbxZ6ftMgbf497MIEZD4RWbveAzXlDcskMtc/SWGR7IvgzVdKTel9HC2NmuJrraZYxhHacDyCN38Eb76Yi/sieLtJfZXgbYaO6WuE4G0epM2/x7al0Gztco2oKW+oD++1e4K3NhG8+UqtKSzk0lFTfB0J3mjD8Qje/BG8+WIu7ovg7Sb11RqDt/cuX4Fr1kHlrDArBGmh0ylg0KZBU5suh59pI3R7c0ytxzUUqhDKaAu/b70PnI9jBQAAAAB1IHhDVSzB2jRcC7cfUQjDpiGZQjNtOiMxbOE6whhMEUoDAFBOmKMy3gJ1COvHsIYEPPFW04FYT0W1nHIdgp4U80kIk5JlIVgLwuXUAC0MNFuOHNcaUFPesBxryfGWcd4W5ou3mvpKrSmWcZQXRJZRU3zxVlObME+dz1fn89kt2lcPHjy4+ud//mfeauqIt5r6qm0uHubDS/Pi1tc9MtpbTVVndRLOFvVV9dlSUucpBG8DsXZMNea9ycNeodLvzycje/c5kjB4TwdxXS45qFvCmNKFqjRqyhvqa3uDkhC8tYfgzVdqTWEhl46a4mv04C3MTedz1unX3BS+ad8RvPkgePNVw1x8K2ybaz18I3i7qfR6luANu3IHb2rU84lKqUlKS8LArK9q39rXH3300ekDNsHbOCyDkuSYSLJI9kXw5iu1prCQS0dN8TVC8Dad+4R56tnz1dYX+y0hePNVci4e+nI4FtNjEtahlrBtruXjS/C2LMfJBWsI3rDL2jEtAc3I5sV+qfgHNS2SayhUpVFT3vKaSLJI9kXw5iu1prCQS0dN8bVWU6wvwtYcHtU+n215vtUSgjdfJebia2uYUH+O9vOWg3CCt2U1Bm/8cwVcUyMOE5SaJyleNLiGIqxNA646sDZd1hZ+ptsyGKNFe4sqAGksYwL9DygnzGtrRg0A9qmfrAUtudatrOPggeBtcKGYaRspdNsK1kK4Nv15DwXZ+hyYCPaBSQQAYFSjzGeB3tGX0QuCt8EpcOsxaFHoMA3XwllqPQdrwBRtGkDrND8JLwqGLbxYOH/RUJtuz4tHkNrbQZinAlinul4afRFe+Iy3gczfA95y6BYK5LRQ1lg4a/s8pt4/x4Ka8lZYiG7RcdbxPoLPY/LFZ7z5Sq0plvE1vPCDt1Szvv7666unT59erjkmzAvChpt6/Yw3y3znTC3PtVrDZ7z5OjoXV93R5hG69TAO8xlvy3SiTSl8xhu6owEuFERtGvSmZ6xpm/6cATGPvYk2+sGxBspgPLILLxJo8auvuUI3CYs3TdJ1/yFMovbhTA8fPrx68ODB5TsAoVaHOq3LJU3Xj4AXgjecZilYm4dr05+zkDmOfTgOjjVQN8Kft6Fb6UVWoH2uRV3Y0C/NG2swn+t+991318EbgDdjQKjHpceB0Be1xgz9EfBE8DYwj4X5fMKxF6x5PCYAb7H4B3AGz8BtSQjhsKz1+ViYW8bIMQ8Nf3dtrguMLoRt4SznkvNQ9efQH0NfBM5C8IbDQlEL2164hvOw/8fBsQZQKy201kI3z7fgbT0O7Kv9hZswJ9V4uDRXnc5Xw5w1RbhP3Ue4DOAt1VltHmGbTPs4/RG1IHgb2NHJgX6XcK0/tU+kkRfHG4C3rbqT8zPeLKiBfdOcdLoAn85Vj85XdT+EbcCyedimraQQroc+yXoUtSF4G5wKkyYjYQISihaA9jHpAM5h6XsjBj7TRRjQKvXvsLgHcNPjx49dwrYpjan0SdSM4A3XE4jwauD0FUGMiVf/+8HiH0AtvBdhQCm8qAWs+/TTT6+DNwDvInhDMhbs7WGyiDn68fk4BhjBkdBNY5e28MJg2ML1YUvBC40AkIfmMyXmNNb6zos7qBnBGwAADsIZP3qr3XQL/91r+n3Ywu+UmswCHlLarhZaejtf+CzZ6Rn5YZuera9tftu9xZrlNqOy7BdqEoCp3MGXanSo60DrCN6QjAkXUDfrgpK+XFYI20KItkfHI2zhd0IQ9+tf//r6bRwhlOPY1Ykw512Wdj+Xug/1e9pCMBcWbeF60c/CBkxZ2h11dzyWdoE8+2lau6c12lKvU8YawAvBGxYxwPTJelyZVPaBfny+EJzlpP/6GEI5BXAK9eizbeK4+VAt1EJuupgjdEMq+i2QV6jJoT4zf0WPCN4wjLBQDRtv4wLeoO2XEeqLB9UzjiNqRdtEK1jwA+liXtCYh217v2vtm17zLiAWwRsWWYtbzZPpsOidfm5SuE6bHnu4rJ+FnwM9YRFxjlBfPBFuoEa0S7Skh/kv7DiO+T158uRy6abYsG2K+SxaR/CG7mixG/N5SlMpv9May8DFRKQfHO9znFFHeq9draHvvZH6HKlL52KRu432CSx78ODB1TfffPPTZ2seCdvmLL9L30StCN5wSG3FLUdwxuIVAIA8WAT1rcfjS+g4Do51Odq3Ct+Ohm2xGHNQK4I3rGppMFKRDWe5AYjDJCW/M/YpCwgAOM5SSxk3AX/WeQ79EzUieEMXcgduFGz0gjBmHJ6vKGMfi/c3Up8j4zBqRvscC8e7DgRvaBnBG1a1smBXcc1dYAkr0AsmKW3QcdJbMsKmEE3XhW1PuD1QE+oKWmStpbRvwB9zHbSK4A2H1DDpyP0Yej9rhAELS1hAnEv7X5v6pzbVoWkQpw8l1tcvv/zy6tGjR+/cLmwAgOOs8yTGTcCfpX/y0UOo0a1//dd//fFy2d33339/9eOPP1797Gc/u1yDkrSvtc8/+OCDq1u3bl2uXffFF19cPX78+PLdMv3nGi0Ez2R5nFYPHz68XtTm8re//e36a01tvJXjmoKasuzTTz+9evr06eW7ZWr3av+x1MZv37599d57vI4TaF9rn8ey9Lsaa0rPjtQU69j0xz/+8XKpP0fH5573TS22akrJsaN2pZ577Fwcx+3NU379619fLq3T2KwxGvtKz8Wt48oox2y0mmKdY5ecP6SufU5dKb3//vuXS6iRGtSevUmJB8vjnNIrJZosaQtnjYTvtfWuleOagpqyzPLq4JFX7n/44YfLJUjqRK/VftezIzXF0u96R5vu3+vXry+X+mLpvwoA0AbmKX5Kz8WtazXOSEVJKTXl1osXL0474+3Vq1fX27179y7XoCRNjl6+fHl19+5dU/iigvXxxx9fvlunt0CdSacTx5xS7Pl4tb9F+7wWrRzXFNSUZZY+okWG3soY6/nz51d37ty53vCW/styir1+V2NN6dmRmtJzrbXS8z+y+Ol539Riq6ZYjl+vb3W3zi1j22jsXBzH7c1TLOO15ke8mGLjMRcfuTbNjVZTaphbpa59eG8QMBjrxCEmzET7jiyOkQeT+r5Yj2fPfY+6glZZF+zMlQB/lvGVvonaELxhVa+LBhYCLPCn1B7C1iuONwBvOWrqCPUZAAD0j+ANzYsNFZjA2/ZZK/tpujALH7iqV7l0GvJ809sJ5tv8Nj22j15DdAB9m9bmtbqteh/GAOQ1+os2lrPeOKsG8McZqWgRwRsOO3uyy9k8ZdS0iNFj0eAZArW1Bdg0eAsLsem2R7cJC7kRWfYRALueXuSIVfJ56b7DFsaFkWv3mXptvzHYBwCAPQRv2NRjqMXEvI3jGhZTIVzT99o8Jrg9thECagCezggjwjgB5GA9q4bgDfBn6Z/0TdSE4A1dIFSIY91fZw1YniHbmt4Wb/QRX+xv4BwEbwAAIXjrT8vza4I3bGqlccc+TgqxzRn7SX+ThdM56BdAXpaxiX6XH/vUT+/7ms95A+pkXfsxHqAWBG84rMWCRhGuN1StZQLbSuicE/0CQC7Uk/aNOA6mInwDfBG8oTUEb+hC6uRQxThso7HsszP2Sy3HorcFBwsoAKOg3iEX6+e8AfBX61oG56vxuBO84bAaGnbsJFuvTM7/I6Y2ivO7Rt0fX3311eVSP6x9hD6QBwt/WPXY5858TgQlyI23mwJ1InhDSwjesGmkxaMK80jhW63H9szHpcm1QreRQxMmKEA+I9eSo1L2nWo4wVs+1mPAuPEG4RvgizEWLSF4Q9M0yQlnr+VC8PYu7/2RaxDV/YRFWNgUqs23Z8+e/bTpNj0P4kxQALRiXp+ndTvUdNW0ea0HcrO2KwJIwJdlXsvcF7UgeMMma7E6Y7IRQrfcrzDmvr/WtTqRnC/GtOm6+TYSy/Nl4QDkY60x9Lt907odavo8iANKsbQv+jHgb69vMjagFgRvaJImNyUDslEmT9ZFoadcAyQT4DTstzxS+laoazqDN2x89iRadLTN1jg2YR016i1evAV8ad2wNmZs/QzwRvCGLHqbdI1SpC3P84xjmyN8YyFwE5OP+s0XbWrHCt9YzAE4A+PGG9Z5CbUa8BfOfla90qb+GjagFgRv2FXjpKtkqEKR7gfh27usfZn9Vh8Wc+2y9Dv63LtqnHcAhG9AvTRu8PEDqBnBGzChok2hftcZC8Jcx4DFbBr223ElggMWcxjFgwcPLpeAehAIAwBSEbxhl2Wi4b1Qzz35CYGbXiUZiXU/thy+4V0sHACURp3ph+VYjvJijbVd60USXsACAEwRvKFJmvzkCGZ0P8+ePfvptOTRWCeRrQZvTHxvYhHVLmt/RV3oc/E44w21ss5N6NMAgCmCN2RxVjAzYlg2kqPHl4lvGvZbnQjeMAJCN9TMOi/howEAAFMEb9hV82JPE6Bwxpo2XY55vAQM/S/mOcY4S86+xYsMAGo12jhLPe6LZaxmLgngKII3dEGDZhg4ew+Scqt5wpFjcstk6V3W/sF+q4P6QNjQL/rbW5zxVhfmVDdZ6jH7DQAwRfCGXb0v1Fnw1I3AIS+CNz+pCy/9ntq9zuAldGvfiAvwI8+Z4K1No40Ze3WZug0AmCJ4Q3diJzsEDPvO3EdHJ68c35tGDAJaoLY+8j97AVAfxotlqtFr+2brZwCAMRG8IRsCjja1MDk8EkLQLm+yHHM+GNofC7U+WY9rb7UqtT1zxlubRhxrw+cLq61r01wlbAAATBG8waS1BWHMpIdgpn5HJ7Eff/zxT9v9+/dXN/2c9oBcWqubOBfBG32mVpbjohdrRhw/tW9CAEfoBgBYQ/CG4Y0etFgXOmfvpyOTWT32sG3RzxW+9X62l3VfctbbMYQICGgLNuynOlmPi8ZPAABwE8EbTCyTrrODmSleccQRBE44A6EDepLSnukD7WP8BADgJoI34P+rKTQ8QwvBqneYyllv9Asgl9ZevMqB4A0AAOANgjd0i7Pe+sMx9UXwdhxBAkYW0/7pK/WKGXsZNwAAuIngDZt01k/Y9rQ82WKi2AbP4K33RaD1+fG2oWOs+5nQAT2OQzHtmhdW6kYtAwAgHcEbVsWEbjViEm9nmSjXsij0Oq69Lx5YHAF+Ru1v1nqt/UNNqpv1+HAcAQC4ieANixSy9HCmCxPA/ngEb6OEtpbnydmgx1hr0ChtDtt67G+Wtk37r5+O0V49s9wGAIBULecTBG9Y1EPoJkwA+1Rqkab7DRveIHg7RjXI0p6oVX0b+fiq/W89/72fox5fffXV6rFi7AQAlNT6iUEEb8imxomzdRLIpL8tKZN7HWP9nhYO8+3Zs2fX22gLB2u7J3w7Zm8/j9TmsK3XvqY6O2/nod7S/tsSxk3VtTCuchwBANhG8IZsap10WR6XNYDoleX517YgTGlv+p2wWJhuo7I+d4K3Y7SftVBdojZZa+1EXiPXGlE7Dy9yjPhCR09CTQuBKscRLRu9NgOtaH09QvCGw8IErNaBSxPCrce2tiBG3Zjo58GE04f2s8KG6UI1hA8AAKBevAAJ4CiCNyyyLsbDK561L97XHuNeKIe6xYQWTJqWWdo/+y4f7e8QvGEs9DUAAIA01rmz5ls1ru9vvXjx4sfLZXevXr263u7du3e5BiW9fv366uXLl1d37969un379uXaZfrgQsuHF7a4gNTCxqszan+L9nnNtE8+/vjjy3frdIZObe7fv3+5tK/Gx382a19f23fPnz+/unPnzvWG8lqpKb3IOU+x9DWNTaOfhU1NuWkrkD0a1mpuqK3U/k6db9W4aMohZi6OPPZqCrU5L9b3vkarKXtrVo++mjpPIXgbSGzHtAYahBnrCN7Ks0yYAtrqTUePPYtkXwRvvnLOUyx9jcVdHzVlKQw7ch1sYsO6mNvnum+CN38Eb75Y3y/X8dgaYjViTdH+VZ+d72evE4II3rArtmNaA40Wz3rzQvDmwxISM2laZ9l/2ndLkwaCN18Eb75yz1NUZ7eClbV+NpIaasr0GM2P1973QKzUPn+0VuSoNS3UK4I3X2vjZkytjK2rJe/7DFv9avozXdb6Xvtb7Vvr+xb6ZE46nt7PmeANu1IScc56O6alRbLlWNd6nC2TJgLidZZjv7b/CN58Ebz5yj1P0QRRtWpp4k+NeiNHTZnv39jvAfjJvWie359quNY9a2sf9X9LDWi5Ph+tcdTIds37Q/h+7Xovod/p73r/7aMI3rArJXizBBrCgmFZb8FbzWdjbLVVPWZeqVy3dxaOrPVxgjdfBG++Ss1T1N9CvQqTztYmnqWEmvLtt99ernljXqOm3+/VLwAAsG8+FwnfT68/Ml8J85/5uN1SlkDwhl0Eb/4I3nwttVfa5j5LP1/bjwRvvgjefDFPOWYrLJPp9/OfAQCAes1DOUs4t/VifytrNoI37EoJ3sT6dtNWOosngjdfoab83//7f6+Luh5rzY+3FpbgTftx6axBgjdfBG++mKe8tRWSbf0MAACMKazD9FXzg705QgsfX0Xwhl2pwZtlUS4EbzcRvPmipqSx9vGlwZDgzRfBm69ea0qY+M4nwNPv9ybHAAAAObWQJxC8YVdq8CbWs974JwvvInjzRU1JowV26n+1JXjzRfDmq/aashWUEaIBAICWELwVwiLZ15HgjbPe0hC8+aKmpCF4awfBmy+vmrIVmgkhGtZYx+S126l9P336NHpeGIM2CwCw0Fi19NE2NSF4w64jwZtw1ls8gjdf1JQ0WhQRvLWB4M3XH/7wh+uxc2l/74UJSz8ngBjXfOxcG0utt8ul5pqS2l+svxd7//RfACiLM94KYZHs62jwxllv8QjefFFT0qUef4I3XyMFb7kWz1s/ZyGNPXtB2NKYWPM4OUeYX8ZabdFcXPMUjZnTuXhKLcpVv6iDqI21hsbW2tK1ee/+Y/ra0m2t17Ws9rWmELxh19HgTTjrLQ7Bmy9qSjqCtzYcrSnWCdrRyeGa3iaIaMO8bm19X/MYVwLBm68cc/Ha5KjrpcYG3a/2ufSyv2PkqGex9xHC5VBTRqup3uY1Zd6Xpt9v/awGaitaa9SO4A27cgz2nPUWp6UJLcFbutoGrhSWt5ou9esWg7ecx+vofcX+/nQB0UO7A6zmY8/W9zWPU7UhePOVYy6OOLxA6Iv1va8cNWU+nwzfT6/3mHO2cLabELxhV67B3nrWG+EbwVtOWwU//ExtXNu8EFoGC48BBQBGthWWib7XuKk5ym9+85vLtSippXlKDwje/BG8+WJ978u7pkzXS7o8/z6Fxn5lBmetMWMRvGFXro5pPetNnaeF00VLamlCmyN4Wyq4a0U45rYAgHpMx4H5mLD1MwsWyb4I3nwRvPmjpvhife+rxpoyXc/p8vx70fxgurWE4A27vIM3Gf2st1YmtCqCOqbTwrhkWhj3bgsAqN+0rs8nv1s/K4VFsi+CN18Eb/6oKb5Y3/uipvgjeMOunB0zJnwb+R8teExo5wHYUiBmuQ0AoG0hHKshQEvFItkXwZsvFsn+qCm+WN/7oqb4I3jDrtwd0/pZb5rkj/qW05gJ7TQM2wrKCM0AoG9bQVlLIVoKFsm+CN58sUj2R03xxfreFzXFH8EbduXumLzldJsCMrVv+fbbb6+/CiEaALRvK/Ra+1ns9SNikeyL4M0Xi2R/1BRfrO99UVP8EbxhV4mOaT3rTXoJ30JYthSgEaQBgJ+9wOrIz/Uz5in+WCT7InjzxSLZHzXFF+OmL2qKP4I37CrRMWPOepOawzcCNQB4w3oGlvV2Uuq2JTFP8cci2RfBmy8Wyf6oKb4YN31RU/wRvGFXqY4ZG75pQaXwzWthRaAGoIQjNSz1dzVmqn5ri70Pr5rbE+Yp/lgk+yJ488Ui2R81xRfjpi9qij+CN+wq2TFj3nIaaBEYzn5LXRDOAzQCtTFN24/a+bR9W9tWahtM/b0affzxx4t9Z+lM1XA71RTt7xYmtD0cKxbJvpin+GOR7Iua4otFsj9qii/GTV/UFH8Eb9hVsmNqEa5F+xFhUby2wBddXgoGUK+lsGMrAIm9/RQ15TidvTrtZ0uh2xQTWl8skn1RU/xRU3xRU3yxSPZHTfHFuOmLmuKP4A27SnfM2Lecol7zoMsahlkDslKoKf6Y0PpikeyLmuKPmuKLmuKLRbI/aoovxk1f1BR/BG/Y5dExCd/OlxKanR2Y5UJN8ceE1heLZF/UFH/UFF/UFF8skv1RU3wxbvqipvgjeMMur45J+JZHCMP2grNeQrMcqCn+mND6YpHsi5rij5rii5rii0WyP2qKL8ZNX9QUfwRv2OXZMfX5UEc/860na0EZAVpe1BR/TGh9sUj2RU3xR03xRU3xxSLZHzXFF+OmL2qKv7SacnX1/wDyTb1uqmtfVQAAAABJRU5ErkJggg==)"
      ],
      "metadata": {
        "id": "4yrmLWkEzdZR"
      }
    },
    {
      "cell_type": "markdown",
      "source": [
        "* AND, OR and NOT"
      ],
      "metadata": {
        "id": "489FNLe70Tzq"
      }
    },
    {
      "cell_type": "code",
      "source": [
        "# and - If both statement are true then only we get True as an ouput\n",
        "x = True\n",
        "y = True\n",
        "print(x and y)"
      ],
      "metadata": {
        "colab": {
          "base_uri": "https://localhost:8080/"
        },
        "id": "MeTVK2WczMgY",
        "outputId": "9dd1f48f-0a9e-45ba-db87-a26702f7f3ab"
      },
      "execution_count": null,
      "outputs": [
        {
          "output_type": "stream",
          "name": "stdout",
          "text": [
            "True\n"
          ]
        }
      ]
    },
    {
      "cell_type": "code",
      "source": [
        "# Or -> if both statments are False then only we get false as an output\n",
        "x = True\n",
        "y = False\n",
        "print(x or y)"
      ],
      "metadata": {
        "colab": {
          "base_uri": "https://localhost:8080/"
        },
        "id": "GeYsi6u40caM",
        "outputId": "ce3d49d8-45c2-4703-c90d-83c7c4cb15ea"
      },
      "execution_count": null,
      "outputs": [
        {
          "output_type": "stream",
          "name": "stdout",
          "text": [
            "True\n"
          ]
        }
      ]
    },
    {
      "cell_type": "code",
      "source": [
        "# not -> It gives you opposite value\n",
        "x = True\n",
        "print(not x)"
      ],
      "metadata": {
        "colab": {
          "base_uri": "https://localhost:8080/"
        },
        "id": "zgH1z30U0uzx",
        "outputId": "a2c29ad4-7167-4f64-db1c-9352d67f1642"
      },
      "execution_count": null,
      "outputs": [
        {
          "output_type": "stream",
          "name": "stdout",
          "text": [
            "False\n"
          ]
        }
      ]
    },
    {
      "cell_type": "code",
      "source": [
        "# Bonus\n",
        "a = True\n",
        "b = False\n",
        "c = True\n",
        "result = (a or b) and not c\n",
        "# a or b = True\n",
        "# not c = False\n",
        "# True and False\n",
        "print(result)"
      ],
      "metadata": {
        "colab": {
          "base_uri": "https://localhost:8080/"
        },
        "id": "B_u-N8HL02mq",
        "outputId": "64fe57c9-b738-4ede-982b-5e725c3bb171"
      },
      "execution_count": null,
      "outputs": [
        {
          "output_type": "stream",
          "name": "stdout",
          "text": [
            "False\n"
          ]
        }
      ]
    },
    {
      "cell_type": "markdown",
      "source": [
        "###**Membership Operator**\n",
        "It tells about the value whether they are the member of list or not\n",
        "* Keywords: in, not in\n",
        "* case sensitive"
      ],
      "metadata": {
        "id": "ChxaVWM31SxZ"
      }
    },
    {
      "cell_type": "code",
      "source": [
        "fruitBasket = ['Apple','Kiwi','Grapes','Mango']\n",
        "print('Apple' in fruitBasket)\n",
        "print('Plum' not in fruitBasket)"
      ],
      "metadata": {
        "colab": {
          "base_uri": "https://localhost:8080/"
        },
        "id": "BNxq7d4U1P3-",
        "outputId": "69d5a45b-1540-4fe9-bf35-092b9a2a0482"
      },
      "execution_count": null,
      "outputs": [
        {
          "output_type": "stream",
          "name": "stdout",
          "text": [
            "True\n",
            "True\n"
          ]
        }
      ]
    },
    {
      "cell_type": "markdown",
      "source": [
        "###**Identity Operator**\n",
        "It tells about the value whether they share the same referene adress or not\n",
        "* keyword: is, is not"
      ],
      "metadata": {
        "id": "5LvxZl2A2yKi"
      }
    },
    {
      "cell_type": "code",
      "source": [
        "x = [1,2,3]\n",
        "y =[1,2,3]\n",
        "print(x is y)\n",
        "z = x\n",
        "print(z is x)"
      ],
      "metadata": {
        "colab": {
          "base_uri": "https://localhost:8080/"
        },
        "id": "YLnMdt3V1m2t",
        "outputId": "334afb85-16a1-4264-814a-93621b1c945e"
      },
      "execution_count": null,
      "outputs": [
        {
          "output_type": "stream",
          "name": "stdout",
          "text": [
            "False\n",
            "True\n"
          ]
        }
      ]
    },
    {
      "cell_type": "markdown",
      "source": [
        "##**Conditional Statement**\n",
        "To make decisions and execute particular section of code\n",
        "* Keyword: if, elif else"
      ],
      "metadata": {
        "id": "HnZUvBYA35wX"
      }
    },
    {
      "cell_type": "code",
      "source": [
        "# if: When we have only one condition to check (we use if)\n",
        "age = 15\n",
        "if age >= 18:\n",
        "  print('You are an adult')"
      ],
      "metadata": {
        "id": "83mp1vvP2CcO"
      },
      "execution_count": null,
      "outputs": []
    },
    {
      "cell_type": "code",
      "source": [
        "# else: If my other conditions are not True (else block will execute)\n",
        "age = 15\n",
        "if age>=18:\n",
        "  print('You are an adult')\n",
        "else:\n",
        "  print('You are under 18')"
      ],
      "metadata": {
        "colab": {
          "base_uri": "https://localhost:8080/"
        },
        "id": "Uty2oqMsqfD2",
        "outputId": "7318a484-b2ca-4db4-9297-6427adc5fa50"
      },
      "execution_count": null,
      "outputs": [
        {
          "output_type": "stream",
          "name": "stdout",
          "text": [
            "You are under 18\n"
          ]
        }
      ]
    },
    {
      "cell_type": "code",
      "source": [
        "# elif: When we have multiple conditions\n",
        "x = int(input('Enter you age: ')) # By default it always take values as string\n",
        "if x >= 13 and x <= 19:\n",
        "  print('you are a teenager')\n",
        "elif x >=20:\n",
        "  print('You are an adult')\n",
        "else: # when all conditions are false\n",
        "  print('You are a minor')"
      ],
      "metadata": {
        "colab": {
          "base_uri": "https://localhost:8080/"
        },
        "id": "g-hHWpzwsGjY",
        "outputId": "f1f492ea-8d93-4ea1-b3e0-feff0af731cf"
      },
      "execution_count": null,
      "outputs": [
        {
          "output_type": "stream",
          "name": "stdout",
          "text": [
            "Enter you age: 13\n",
            "you are a teenager\n"
          ]
        }
      ]
    },
    {
      "cell_type": "markdown",
      "source": [
        "##**Looping**\n",
        "A process to repeat a task for given range, sequence or condition\n",
        "\n",
        "in python we have 2 types of loop\n",
        "* For loop\n",
        "* While loop"
      ],
      "metadata": {
        "id": "LLB4SSh5uXpQ"
      }
    },
    {
      "cell_type": "code",
      "source": [
        "print('Happy new year')\n",
        "print('Happy new year')\n",
        "print('Happy new year')\n",
        "print('Happy new year')\n",
        "print('Happy new year')"
      ],
      "metadata": {
        "colab": {
          "base_uri": "https://localhost:8080/"
        },
        "id": "laRist31s2FE",
        "outputId": "d7571387-f6b7-4422-8281-fd6e8693b995"
      },
      "execution_count": null,
      "outputs": [
        {
          "output_type": "stream",
          "name": "stdout",
          "text": [
            "Happy new year\n",
            "Happy new year\n",
            "Happy new year\n",
            "Happy new year\n",
            "Happy new year\n"
          ]
        }
      ]
    },
    {
      "cell_type": "markdown",
      "source": [
        "**For Loop**\n",
        "* When we have a given range or squence (list, tuple, String, dictionary)\n",
        "* Here we have near to no chances of having infinite loop"
      ],
      "metadata": {
        "id": "esfD-sCdvEqU"
      }
    },
    {
      "cell_type": "code",
      "source": [
        "# keyword alert: range()\n",
        "# (start , stop, step)\n",
        "# range(1,11,2)\n",
        "for i in range(1,11): # apart from i you can use any variable\n",
        "  print(f'The value of i is {i}')"
      ],
      "metadata": {
        "colab": {
          "base_uri": "https://localhost:8080/"
        },
        "id": "nwzGbizws6c3",
        "outputId": "691e9870-c91a-4cf4-f170-2e30ed9c0dab"
      },
      "execution_count": null,
      "outputs": [
        {
          "output_type": "stream",
          "name": "stdout",
          "text": [
            "The value of i is 1\n",
            "The value of i is 2\n",
            "The value of i is 3\n",
            "The value of i is 4\n",
            "The value of i is 5\n",
            "The value of i is 6\n",
            "The value of i is 7\n",
            "The value of i is 8\n",
            "The value of i is 9\n",
            "The value of i is 10\n"
          ]
        }
      ]
    },
    {
      "cell_type": "code",
      "source": [
        "for i in range(5):\n",
        "  print(i)"
      ],
      "metadata": {
        "colab": {
          "base_uri": "https://localhost:8080/"
        },
        "id": "Z0j2JzBgwolK",
        "outputId": "20bd008f-278a-465d-f76a-aba932b2b65e"
      },
      "execution_count": null,
      "outputs": [
        {
          "output_type": "stream",
          "name": "stdout",
          "text": [
            "0\n",
            "1\n",
            "2\n",
            "3\n",
            "4\n"
          ]
        }
      ]
    },
    {
      "cell_type": "code",
      "source": [
        "for i in range(1,11,2):\n",
        "  print(i)"
      ],
      "metadata": {
        "colab": {
          "base_uri": "https://localhost:8080/"
        },
        "id": "G6jC20RSxneU",
        "outputId": "259c6691-37b9-4a4f-dd2e-229998173139"
      },
      "execution_count": null,
      "outputs": [
        {
          "output_type": "stream",
          "name": "stdout",
          "text": [
            "1\n",
            "3\n",
            "5\n",
            "7\n",
            "9\n"
          ]
        }
      ]
    },
    {
      "cell_type": "code",
      "source": [
        "list1 = ['Samita','Aryan','Pranav','Vibhuti','Soumen']\n",
        "for i in list1:\n",
        "  print(i)"
      ],
      "metadata": {
        "colab": {
          "base_uri": "https://localhost:8080/"
        },
        "id": "jJThrWvTx7DQ",
        "outputId": "53cdb4d0-c47c-4f6d-8d87-b6004903540f"
      },
      "execution_count": null,
      "outputs": [
        {
          "output_type": "stream",
          "name": "stdout",
          "text": [
            "Samita\n",
            "Aryan\n",
            "Pranav\n",
            "Vibhuti\n",
            "Soumen\n"
          ]
        }
      ]
    },
    {
      "cell_type": "markdown",
      "source": [
        "**While Loop**\n",
        "* Whenever we want to execute the block of code till a given condition is True\n",
        "* We have chances of getting infinte Loop"
      ],
      "metadata": {
        "id": "Bh6yItomyvoT"
      }
    },
    {
      "cell_type": "code",
      "source": [
        "# print 1- 10 --> Using while loop\n",
        "x = 10\n",
        "while x>=1: # If x ==11 then it will terminate\n",
        "  print(x)\n",
        "  x = x - 1"
      ],
      "metadata": {
        "colab": {
          "base_uri": "https://localhost:8080/"
        },
        "id": "8-CITH1iymxb",
        "outputId": "f12e0b62-9da9-4219-97ba-9c8677f07d95"
      },
      "execution_count": null,
      "outputs": [
        {
          "output_type": "stream",
          "name": "stdout",
          "text": [
            "10\n",
            "9\n",
            "8\n",
            "7\n",
            "6\n",
            "5\n",
            "4\n",
            "3\n",
            "2\n",
            "1\n"
          ]
        }
      ]
    },
    {
      "cell_type": "code",
      "source": [
        "print(x)"
      ],
      "metadata": {
        "colab": {
          "base_uri": "https://localhost:8080/"
        },
        "id": "StNz3GpX0JEz",
        "outputId": "a346109e-7563-4c9d-8ad6-c76e3c76676e"
      },
      "execution_count": null,
      "outputs": [
        {
          "output_type": "stream",
          "name": "stdout",
          "text": [
            "0\n"
          ]
        }
      ]
    },
    {
      "cell_type": "code",
      "source": [
        "# print(0 -10)\n",
        "x = 1\n",
        "while x<=10:\n",
        "  print(x)\n",
        "  x = x + 3"
      ],
      "metadata": {
        "colab": {
          "base_uri": "https://localhost:8080/"
        },
        "id": "V8_T19wv0Q5r",
        "outputId": "9042077a-8e54-4e49-f814-6f042d93ffb9"
      },
      "execution_count": null,
      "outputs": [
        {
          "output_type": "stream",
          "name": "stdout",
          "text": [
            "1\n",
            "4\n",
            "7\n",
            "10\n"
          ]
        }
      ]
    },
    {
      "cell_type": "markdown",
      "source": [
        "##**Control Statements**\n",
        "* Break, Continuem, Pass"
      ],
      "metadata": {
        "id": "gpygOlif4QPR"
      }
    },
    {
      "cell_type": "markdown",
      "source": [
        "**Break** - Stops the execution of code whenever called / Discontinue the loop"
      ],
      "metadata": {
        "id": "4Wo-NtZF7Pci"
      }
    },
    {
      "cell_type": "code",
      "source": [
        "for i in range(1,11):\n",
        "  print(i)\n",
        "  if i == 6:\n",
        "    break"
      ],
      "metadata": {
        "colab": {
          "base_uri": "https://localhost:8080/"
        },
        "id": "xE6ILSFF2kEx",
        "outputId": "f8edba7a-f0ec-4a11-84d6-e9b92ff51807"
      },
      "execution_count": null,
      "outputs": [
        {
          "output_type": "stream",
          "name": "stdout",
          "text": [
            "1\n",
            "2\n",
            "3\n",
            "4\n",
            "5\n",
            "6\n"
          ]
        }
      ]
    },
    {
      "cell_type": "markdown",
      "source": [
        "**Continue** - It will skip the current iteration"
      ],
      "metadata": {
        "id": "69cbxMLF7y2d"
      }
    },
    {
      "cell_type": "code",
      "source": [
        "for i in range(1,11):\n",
        "  if i == 6:\n",
        "    continue # skip the iteration 6\n",
        "  print(i)"
      ],
      "metadata": {
        "colab": {
          "base_uri": "https://localhost:8080/"
        },
        "id": "BW06sLxh7YS_",
        "outputId": "74e96e8f-3222-4c38-d3ea-05de4d00923a"
      },
      "execution_count": null,
      "outputs": [
        {
          "output_type": "stream",
          "name": "stdout",
          "text": [
            "1\n",
            "2\n",
            "3\n",
            "4\n",
            "5\n",
            "7\n",
            "8\n",
            "9\n",
            "10\n"
          ]
        }
      ]
    },
    {
      "cell_type": "markdown",
      "source": [
        "**Pass** - If you have not decided what to do at a certain iteration, then we use pass statement rather than keeping it empty"
      ],
      "metadata": {
        "id": "Irtoa_Ze8ag0"
      }
    },
    {
      "cell_type": "code",
      "source": [
        "for i in range(1,11):\n",
        "  print(i)\n",
        "  if i == 5:\n",
        "    pass"
      ],
      "metadata": {
        "colab": {
          "base_uri": "https://localhost:8080/"
        },
        "id": "KiDSncTw8EkR",
        "outputId": "b0e520b1-5194-40aa-abb8-7459a2ad83c6"
      },
      "execution_count": null,
      "outputs": [
        {
          "output_type": "stream",
          "name": "stdout",
          "text": [
            "1\n",
            "2\n",
            "3\n",
            "4\n",
            "5\n",
            "6\n",
            "7\n",
            "8\n",
            "9\n",
            "10\n"
          ]
        }
      ]
    },
    {
      "cell_type": "code",
      "source": [
        "# keyword alert: range()\n",
        "# (start , stop, step)\n",
        "# range(1,11,2)\n",
        "for num in range(1,11): # apart from i you can use any variable\n",
        "  print(f'The value of num is {num}')"
      ],
      "metadata": {
        "colab": {
          "base_uri": "https://localhost:8080/"
        },
        "id": "FkgKM0RtSL9h",
        "outputId": "bc6f61db-714f-4a7d-eb86-9a7cdf6c560e"
      },
      "execution_count": null,
      "outputs": [
        {
          "output_type": "stream",
          "name": "stdout",
          "text": [
            "The value of num is 1\n",
            "The value of num is 2\n",
            "The value of num is 3\n",
            "The value of num is 4\n",
            "The value of num is 5\n",
            "The value of num is 6\n",
            "The value of num is 7\n",
            "The value of num is 8\n",
            "The value of num is 9\n",
            "The value of num is 10\n"
          ]
        }
      ]
    },
    {
      "cell_type": "markdown",
      "source": [
        "##**Functions**\n",
        "* To reuse a certain block of code by just calling it\n",
        "    * **pre-defined function:** print(), len(), type(), input(), int(), tuple()\n",
        "    * **User-defined function:** if we create our own function"
      ],
      "metadata": {
        "id": "EtPQFzVm9GF0"
      }
    },
    {
      "cell_type": "markdown",
      "source": [
        "**Pre defined function**"
      ],
      "metadata": {
        "id": "Cuo1R8cF-ftu"
      }
    },
    {
      "cell_type": "code",
      "source": [
        "# sorted() -> It will sort the data (by default -> ascending order)\n",
        "x = [5,1,4,3,2]\n",
        "print(sorted(x))\n",
        "# in desceding\n",
        "print(sorted(x, reverse=True))"
      ],
      "metadata": {
        "colab": {
          "base_uri": "https://localhost:8080/"
        },
        "id": "oZa3s_u08syi",
        "outputId": "08bf3dde-f7b5-4951-e267-8623b96ce665"
      },
      "execution_count": null,
      "outputs": [
        {
          "output_type": "stream",
          "name": "stdout",
          "text": [
            "[1, 2, 3, 4, 5]\n",
            "[5, 4, 3, 2, 1]\n"
          ]
        }
      ]
    },
    {
      "cell_type": "code",
      "source": [
        "# sum() -> Add all the elements present in the list\n",
        "print(sum(x))"
      ],
      "metadata": {
        "colab": {
          "base_uri": "https://localhost:8080/"
        },
        "id": "s_9yXCcY-sC7",
        "outputId": "e2e74a8b-5061-42ad-fb39-09658952e02b"
      },
      "execution_count": null,
      "outputs": [
        {
          "output_type": "stream",
          "name": "stdout",
          "text": [
            "15\n"
          ]
        }
      ]
    },
    {
      "cell_type": "code",
      "source": [
        "# max() and min() -> largest and smallest value\n",
        "print(max(x))\n",
        "print(min(x))"
      ],
      "metadata": {
        "colab": {
          "base_uri": "https://localhost:8080/"
        },
        "id": "uDfiozqK_E6P",
        "outputId": "bd61e647-1cef-436a-9320-3554916c8df8"
      },
      "execution_count": null,
      "outputs": [
        {
          "output_type": "stream",
          "name": "stdout",
          "text": [
            "5\n",
            "1\n"
          ]
        }
      ]
    },
    {
      "cell_type": "code",
      "source": [
        "# round()\n",
        "x = 2.6579\n",
        "print(round(x))\n",
        "print(round(x,1)) # round(value,uptoDecimal)"
      ],
      "metadata": {
        "colab": {
          "base_uri": "https://localhost:8080/"
        },
        "id": "L0K4nHQl_Nr5",
        "outputId": "e0131e07-1e3f-4516-e054-eb6a5dfd1da7"
      },
      "execution_count": null,
      "outputs": [
        {
          "output_type": "stream",
          "name": "stdout",
          "text": [
            "3\n",
            "2.7\n"
          ]
        }
      ]
    },
    {
      "cell_type": "code",
      "source": [
        "# abs() -> Convert the -ve sign convection into positive\n",
        "x = -24\n",
        "print(abs(x))"
      ],
      "metadata": {
        "colab": {
          "base_uri": "https://localhost:8080/"
        },
        "id": "iZkAdoUj_Uwn",
        "outputId": "5d69f926-8e06-4615-c638-b692f336c89e"
      },
      "execution_count": null,
      "outputs": [
        {
          "output_type": "stream",
          "name": "stdout",
          "text": [
            "24\n"
          ]
        }
      ]
    },
    {
      "cell_type": "markdown",
      "source": [
        "**UserDefined Function**"
      ],
      "metadata": {
        "id": "S-l_WZN7_v2F"
      }
    },
    {
      "cell_type": "code",
      "source": [
        "# keyword : def\n",
        "# we just defined our function\n",
        "def add(x,y):\n",
        "  print(f'{x} + {y} = {x+y}')\n",
        "  print('hey added one line more')"
      ],
      "metadata": {
        "id": "ZzSCBco5_nYE"
      },
      "execution_count": null,
      "outputs": []
    },
    {
      "cell_type": "code",
      "source": [
        "# we will call our function\n",
        "add(5,4)\n",
        "add(6,7)\n",
        "result = add(5,2)\n",
        "print(result)"
      ],
      "metadata": {
        "colab": {
          "base_uri": "https://localhost:8080/"
        },
        "id": "WKB0bYpzABqN",
        "outputId": "f559edb0-1ba9-4c6e-bd0e-b7c2a91512f0"
      },
      "execution_count": null,
      "outputs": [
        {
          "output_type": "stream",
          "name": "stdout",
          "text": [
            "5 + 4 = 9\n",
            "hey added one line more\n",
            "6 + 7 = 13\n",
            "hey added one line more\n",
            "5 + 2 = 7\n",
            "hey added one line more\n",
            "None\n"
          ]
        }
      ]
    },
    {
      "cell_type": "code",
      "source": [
        "def sub(x,y):\n",
        "  return f'{x} - {y} = {x-y}'"
      ],
      "metadata": {
        "id": "56vZA-_AAIdH"
      },
      "execution_count": null,
      "outputs": []
    },
    {
      "cell_type": "code",
      "source": [
        "result = sub(5,2)\n",
        "print(result)"
      ],
      "metadata": {
        "colab": {
          "base_uri": "https://localhost:8080/"
        },
        "id": "o2gDHYScAXaD",
        "outputId": "24258ad2-aab7-40e0-a801-e045c55f31b3"
      },
      "execution_count": null,
      "outputs": [
        {
          "output_type": "stream",
          "name": "stdout",
          "text": [
            "5 - 2 = 3\n"
          ]
        }
      ]
    },
    {
      "cell_type": "code",
      "source": [
        "def sub(x,y):\n",
        "  print(f'{x} - {y} = {x-y}')"
      ],
      "metadata": {
        "id": "pRK5uvA0VRpM"
      },
      "execution_count": null,
      "outputs": []
    },
    {
      "cell_type": "code",
      "source": [
        "x = sub(4,2)\n",
        "print(x)"
      ],
      "metadata": {
        "colab": {
          "base_uri": "https://localhost:8080/"
        },
        "id": "z-P_MestVUNI",
        "outputId": "ea91da82-d054-4382-bb28-f5b3bbb4b28c"
      },
      "execution_count": null,
      "outputs": [
        {
          "output_type": "stream",
          "name": "stdout",
          "text": [
            "4 - 2 = 2\n",
            "None\n"
          ]
        }
      ]
    },
    {
      "cell_type": "markdown",
      "source": [
        "**Session 3 - notes**"
      ],
      "metadata": {
        "id": "waUfcqbjUyKk"
      }
    },
    {
      "cell_type": "code",
      "source": [
        "def numList(x,y):\n",
        "  z = []\n",
        "  z.append(x)\n",
        "  z.append(y)\n",
        "  return z"
      ],
      "metadata": {
        "id": "mWjz6pOOWUhf"
      },
      "execution_count": null,
      "outputs": []
    },
    {
      "cell_type": "code",
      "source": [
        "var = numList(3,4)\n",
        "print(var)"
      ],
      "metadata": {
        "colab": {
          "base_uri": "https://localhost:8080/"
        },
        "id": "OS8v4VX9Weod",
        "outputId": "4f2e1747-904f-4e92-edfa-4672139f5c97"
      },
      "execution_count": null,
      "outputs": [
        {
          "output_type": "stream",
          "name": "stdout",
          "text": [
            "[3, 4]\n"
          ]
        }
      ]
    },
    {
      "cell_type": "markdown",
      "source": [
        "**Non Parametrized**"
      ],
      "metadata": {
        "id": "6C9P_Z1gUfh4"
      }
    },
    {
      "cell_type": "code",
      "source": [
        "def show():\n",
        "  print('Hey i am showing the output of non parameterized functions')"
      ],
      "metadata": {
        "id": "tPFAS7joAimH"
      },
      "execution_count": null,
      "outputs": []
    },
    {
      "cell_type": "code",
      "source": [
        "show()"
      ],
      "metadata": {
        "colab": {
          "base_uri": "https://localhost:8080/"
        },
        "id": "wE0E-izrU2io",
        "outputId": "896b2b5d-1ad1-410b-8fc5-8e18b7e5df4d"
      },
      "execution_count": null,
      "outputs": [
        {
          "output_type": "stream",
          "name": "stdout",
          "text": [
            "Hey i am showing the output of non parameterized functions\n"
          ]
        }
      ]
    },
    {
      "cell_type": "markdown",
      "source": [
        "**Parameterized function**"
      ],
      "metadata": {
        "id": "EihHmz94W3mB"
      }
    },
    {
      "cell_type": "code",
      "source": [
        "def floorDiv(x,y): #x and y are my parameters\n",
        "  print(x//y)"
      ],
      "metadata": {
        "id": "2K9gBMa1U3Zz"
      },
      "execution_count": null,
      "outputs": []
    },
    {
      "cell_type": "code",
      "source": [
        "floorDiv(5,2)"
      ],
      "metadata": {
        "colab": {
          "base_uri": "https://localhost:8080/"
        },
        "id": "vcVv5RQ7XD_9",
        "outputId": "03946b51-8c99-4ea4-e5ef-71f4d688c6aa"
      },
      "execution_count": null,
      "outputs": [
        {
          "output_type": "stream",
          "name": "stdout",
          "text": [
            "2\n"
          ]
        }
      ]
    },
    {
      "cell_type": "markdown",
      "source": [
        "**Default parameterized function**\n",
        "\n",
        "Note: Default parameters value should be written at the end of the parameters"
      ],
      "metadata": {
        "id": "4eD8bS6rYDe5"
      }
    },
    {
      "cell_type": "code",
      "source": [
        "def div(x=1,y=2):\n",
        "  print(x/y)"
      ],
      "metadata": {
        "id": "C6-xsYs9XH7U"
      },
      "execution_count": null,
      "outputs": []
    },
    {
      "cell_type": "code",
      "source": [
        "div(5,2)"
      ],
      "metadata": {
        "colab": {
          "base_uri": "https://localhost:8080/"
        },
        "id": "-JFFG9QrXfOZ",
        "outputId": "f0b44710-d416-4284-cba6-c2320530d40d"
      },
      "execution_count": null,
      "outputs": [
        {
          "output_type": "stream",
          "name": "stdout",
          "text": [
            "2.5\n"
          ]
        }
      ]
    },
    {
      "cell_type": "markdown",
      "source": [
        "**`*args` (Non-Keyword Arguments)**\n",
        "* *args let you pass multiple values into a function\n",
        "* inisde the function, args will be `tuple`\n",
        "* it can be useful when you don't know how many arguments we have to pass"
      ],
      "metadata": {
        "id": "FADRFm-dYd0a"
      }
    },
    {
      "cell_type": "code",
      "source": [
        "def numList(*args):\n",
        "  print(f'Arguments: {args}')\n",
        "  print(f'Data type of args: {type(args)}')\n",
        "  print(f'Data type converted to list: {type(list(args))}')\n",
        "  print(f'sum: {sum(args)}')"
      ],
      "metadata": {
        "id": "B3tA_4-NXkTU"
      },
      "execution_count": null,
      "outputs": []
    },
    {
      "cell_type": "code",
      "source": [
        "# numList(1,2,5,7,9,10,12,14,'a','b')"
      ],
      "metadata": {
        "id": "6u0r5y4-Z1N7"
      },
      "execution_count": null,
      "outputs": []
    },
    {
      "cell_type": "markdown",
      "source": [
        "**`**kwargs` (Keyword Arguments)**\n",
        "* **kwargs lets you pass mulitiple named arguments (key=value)\n",
        "* inside the function, kwargs will be a dictionary\n",
        "* It is useful when we don't know the names of argument in advance"
      ],
      "metadata": {
        "id": "vatYwhRLbd7W"
      }
    },
    {
      "cell_type": "code",
      "source": [
        "def displayInformations(**kwargs):\n",
        "  print(f'Keyword arguments: {kwargs}')\n",
        "  print(f'Type of kwargs: {type(kwargs)}')"
      ],
      "metadata": {
        "id": "pHWbenuZZ9oS"
      },
      "execution_count": null,
      "outputs": []
    },
    {
      "cell_type": "code",
      "source": [
        "displayInformations(name='Aryan',age=25,city='Bangalore')"
      ],
      "metadata": {
        "colab": {
          "base_uri": "https://localhost:8080/"
        },
        "id": "-DmI8PE_cZPu",
        "outputId": "f61ae980-da13-496e-a808-7c8de31bf13f"
      },
      "execution_count": null,
      "outputs": [
        {
          "output_type": "stream",
          "name": "stdout",
          "text": [
            "Keyword arguments: {'name': 'Aryan', 'age': 25, 'city': 'Bangalore'}\n",
            "Type of kwargs: <class 'dict'>\n"
          ]
        }
      ]
    },
    {
      "cell_type": "code",
      "source": [
        "def mixedElement(*args,**kwargs):\n",
        "  print(f'args: {args}')\n",
        "  print(f'kwargs: {kwargs}')"
      ],
      "metadata": {
        "id": "6WWQRd3Lciy4"
      },
      "execution_count": null,
      "outputs": []
    },
    {
      "cell_type": "code",
      "source": [
        "mixedElement(10,20,30,40,name='Aryan',Age=25)"
      ],
      "metadata": {
        "colab": {
          "base_uri": "https://localhost:8080/"
        },
        "id": "rusXOBLjc2Rq",
        "outputId": "6e7b843e-dbed-45dd-a5b7-0e9de86cdaca"
      },
      "execution_count": null,
      "outputs": [
        {
          "output_type": "stream",
          "name": "stdout",
          "text": [
            "args: (10, 20, 30, 40)\n",
            "kwargs: {'name': 'Aryan', 'Age': 25}\n"
          ]
        }
      ]
    },
    {
      "cell_type": "markdown",
      "source": [
        "**Lambda function**\n",
        "* A lambda is small, anonymous(nameless) function\n",
        "* It can take any number of argments but operation should be in one line (not multiple lines)"
      ],
      "metadata": {
        "id": "TKcfwXsodVyQ"
      }
    },
    {
      "cell_type": "code",
      "source": [
        "# lambda arguments: operation\n",
        "def add(x,y):\n",
        "  return x+y\n",
        "print(add(5,4))"
      ],
      "metadata": {
        "colab": {
          "base_uri": "https://localhost:8080/"
        },
        "id": "v7RQbWQgdBhl",
        "outputId": "5b69a65a-19a9-411b-c96f-9c73ff0eaaad"
      },
      "execution_count": null,
      "outputs": [
        {
          "output_type": "stream",
          "name": "stdout",
          "text": [
            "9\n"
          ]
        }
      ]
    },
    {
      "cell_type": "code",
      "source": [
        "add = lambda x,y: x+y\n",
        "add(7,9)"
      ],
      "metadata": {
        "colab": {
          "base_uri": "https://localhost:8080/"
        },
        "id": "-9lCqvZJhM65",
        "outputId": "72c9682a-fd3d-4524-a0f1-af7ae03a4ccd"
      },
      "execution_count": null,
      "outputs": [
        {
          "output_type": "execute_result",
          "data": {
            "text/plain": [
              "16"
            ]
          },
          "metadata": {},
          "execution_count": 121
        }
      ]
    },
    {
      "cell_type": "code",
      "source": [
        "square = lambda n: n**2\n",
        "square(3)"
      ],
      "metadata": {
        "colab": {
          "base_uri": "https://localhost:8080/"
        },
        "id": "L1Sr2p4jhYWP",
        "outputId": "1469fd70-a590-4c88-8d77-2f5d565ca226"
      },
      "execution_count": null,
      "outputs": [
        {
          "output_type": "execute_result",
          "data": {
            "text/plain": [
              "9"
            ]
          },
          "metadata": {},
          "execution_count": 122
        }
      ]
    },
    {
      "cell_type": "code",
      "source": [
        "power = lambda n,m: n**m\n",
        "power(5,2)"
      ],
      "metadata": {
        "colab": {
          "base_uri": "https://localhost:8080/"
        },
        "id": "iqE0faePhsag",
        "outputId": "d21b8299-4e74-4282-98be-36ba304b925c"
      },
      "execution_count": null,
      "outputs": [
        {
          "output_type": "execute_result",
          "data": {
            "text/plain": [
              "25"
            ]
          },
          "metadata": {},
          "execution_count": 123
        }
      ]
    },
    {
      "cell_type": "code",
      "source": [
        "# lambda implementation:\n",
        "operations =  {\n",
        "    'add' : lambda x,y:x+y,\n",
        "    'sub' : lambda x,y: x-y,\n",
        "    'mul' : lambda x,y: x*y,\n",
        "    'div' : lambda x,y : x/y if y!= 0 else 'Error'\n",
        "}"
      ],
      "metadata": {
        "id": "7ZlxwEGIiEwQ"
      },
      "execution_count": null,
      "outputs": []
    },
    {
      "cell_type": "code",
      "source": [
        "x = operations['add'](2,2)\n",
        "y = operations['mul'](1,4)\n",
        "print(operations['sub'](x,y))"
      ],
      "metadata": {
        "colab": {
          "base_uri": "https://localhost:8080/"
        },
        "id": "9-5Zdwq6jfkI",
        "outputId": "8b184633-7b2b-4fae-ee2b-8c886a08ab29"
      },
      "execution_count": null,
      "outputs": [
        {
          "output_type": "stream",
          "name": "stdout",
          "text": [
            "0\n"
          ]
        }
      ]
    },
    {
      "cell_type": "code",
      "source": [
        "x = lambda a,b,c,d : a+b-c*d\n",
        "x(2,2,1,4)"
      ],
      "metadata": {
        "colab": {
          "base_uri": "https://localhost:8080/"
        },
        "id": "MLPf5zYXjjoS",
        "outputId": "4f758133-a39d-4570-9a03-a966d39c05bb"
      },
      "execution_count": null,
      "outputs": [
        {
          "output_type": "execute_result",
          "data": {
            "text/plain": [
              "0"
            ]
          },
          "metadata": {},
          "execution_count": 126
        }
      ]
    },
    {
      "cell_type": "code",
      "source": [
        "displayOut = lambda : print('Hey')"
      ],
      "metadata": {
        "id": "mpJcridSkRPC"
      },
      "execution_count": null,
      "outputs": []
    },
    {
      "cell_type": "code",
      "source": [
        "displayOut()"
      ],
      "metadata": {
        "colab": {
          "base_uri": "https://localhost:8080/"
        },
        "id": "w_1xMXA8kb2S",
        "outputId": "bc0c33c9-96a2-446b-ea90-744adaae3fc5"
      },
      "execution_count": null,
      "outputs": [
        {
          "output_type": "stream",
          "name": "stdout",
          "text": [
            "Hey\n"
          ]
        }
      ]
    },
    {
      "cell_type": "markdown",
      "source": [
        "Date - 24th Sept"
      ],
      "metadata": {
        "id": "tErV8_QNnMe4"
      }
    },
    {
      "cell_type": "markdown",
      "source": [
        "**Modules, Importing Modules and Comprehension Techniques**"
      ],
      "metadata": {
        "id": "0ZxncdE0m4j3"
      }
    },
    {
      "cell_type": "markdown",
      "source": [
        "**Use Conditional logic in dictionary using lambda function**\n",
        "* TO check a number x is positive, negative or zero"
      ],
      "metadata": {
        "id": "HdJo-SpKnSyw"
      }
    },
    {
      "cell_type": "markdown",
      "source": [
        "**Check whether there is vowel in word or not**"
      ],
      "metadata": {
        "id": "PdphmC9rnn4w"
      }
    },
    {
      "cell_type": "code",
      "source": [
        "x = 10\n",
        "while x>=0:\n",
        "  print(x)\n",
        "  if x == 5:\n",
        "    print('I have the called the conditional statement')\n",
        "  x-=1"
      ],
      "metadata": {
        "id": "VSKs5u-okc18",
        "colab": {
          "base_uri": "https://localhost:8080/"
        },
        "outputId": "98b0576e-26e8-4e4d-ebdd-72df52ebf682"
      },
      "execution_count": null,
      "outputs": [
        {
          "output_type": "stream",
          "name": "stdout",
          "text": [
            "10\n",
            "9\n",
            "8\n",
            "7\n",
            "6\n",
            "5\n",
            "I have the called the conditional statement\n",
            "4\n",
            "3\n",
            "2\n",
            "1\n",
            "0\n"
          ]
        }
      ]
    },
    {
      "cell_type": "markdown",
      "source": [
        "**Use Conditional logic in dictionary using lambda function**\n",
        "* TO check a number x is positive, negative or zero"
      ],
      "metadata": {
        "id": "BoQm7woabEDC"
      }
    },
    {
      "cell_type": "markdown",
      "source": [
        "Option-1"
      ],
      "metadata": {
        "id": "vvVKGiT8a5Od"
      }
    },
    {
      "cell_type": "code",
      "source": [
        "x=int(input(\"enter a number: \"))\n",
        "check_number={\n",
        "    'positive':lambda x:x>0,\n",
        "    'negative':lambda x:x<0,\n",
        "    'zero':lambda x:x==0\n",
        "}\n",
        "for key,value in check_number.items():\n",
        "  print(f'{key}:{value(x)}')"
      ],
      "metadata": {
        "colab": {
          "base_uri": "https://localhost:8080/"
        },
        "id": "bTYjrIruZL-O",
        "outputId": "e01f4c1d-73dc-4939-d584-b8fe40b9656c"
      },
      "execution_count": null,
      "outputs": [
        {
          "output_type": "stream",
          "name": "stdout",
          "text": [
            "enter a number: -5\n",
            "positive:False\n",
            "negative:True\n",
            "zero:False\n"
          ]
        }
      ]
    },
    {
      "cell_type": "markdown",
      "source": [
        "Option-2"
      ],
      "metadata": {
        "id": "-Em1CEC-a7_e"
      }
    },
    {
      "cell_type": "code",
      "source": [
        "check_num = lambda x: {x > 0: \"Positive\", x < 0: \"Negative\"}.get(True, \"Zero\")"
      ],
      "metadata": {
        "id": "pGr_0k_rZyBr"
      },
      "execution_count": null,
      "outputs": []
    },
    {
      "cell_type": "code",
      "source": [
        "check_num(5)"
      ],
      "metadata": {
        "colab": {
          "base_uri": "https://localhost:8080/",
          "height": 36
        },
        "id": "Qaj3TOhHa1eE",
        "outputId": "5987cb8d-276b-4827-fd1b-95e80a1066fd"
      },
      "execution_count": null,
      "outputs": [
        {
          "output_type": "execute_result",
          "data": {
            "text/plain": [
              "'Positive'"
            ],
            "application/vnd.google.colaboratory.intrinsic+json": {
              "type": "string"
            }
          },
          "metadata": {},
          "execution_count": 142
        }
      ]
    },
    {
      "cell_type": "code",
      "source": [
        "#Even or Odd\n",
        "x=int(input(\"Enter the value\"))\n",
        "even_odd = lambda x: \"even\" if x%2 == 0 else \"odd\"\n",
        "print(even_odd(x))"
      ],
      "metadata": {
        "colab": {
          "base_uri": "https://localhost:8080/"
        },
        "id": "23TxR0UMZ6uH",
        "outputId": "768ac78f-42d0-4a4a-9b88-5eac4a8a6267"
      },
      "execution_count": null,
      "outputs": [
        {
          "output_type": "stream",
          "name": "stdout",
          "text": [
            "Enter the value5\n",
            "odd\n"
          ]
        }
      ]
    },
    {
      "cell_type": "markdown",
      "source": [
        "Check whether there is vowel letter or not"
      ],
      "metadata": {
        "id": "_OKMsmQ2bIU6"
      }
    },
    {
      "cell_type": "code",
      "source": [
        "vowel = lambda word: 'vowel' if any(letter in 'aeiouAEIOU' for letter in word.lower()) else 'consonant'\n",
        "print(vowel('apple'))\n",
        "print(vowel('EXAMPLE'))\n",
        "print(vowel('try'))"
      ],
      "metadata": {
        "colab": {
          "base_uri": "https://localhost:8080/"
        },
        "id": "jvsmqKZoZ9xD",
        "outputId": "f8eff834-10cd-4440-f4cf-904314ad0fea"
      },
      "execution_count": null,
      "outputs": [
        {
          "output_type": "stream",
          "name": "stdout",
          "text": [
            "vowel\n",
            "vowel\n",
            "consonant\n"
          ]
        }
      ]
    },
    {
      "cell_type": "code",
      "source": [
        "check_vowel = lambda w: any(v in w.lower() for v in \"aeiou\")"
      ],
      "metadata": {
        "id": "rY-ZRUvYbUlI"
      },
      "execution_count": null,
      "outputs": []
    },
    {
      "cell_type": "code",
      "source": [
        "check_vowel('hey')"
      ],
      "metadata": {
        "colab": {
          "base_uri": "https://localhost:8080/"
        },
        "id": "w21NKH_8bdeu",
        "outputId": "b4cc1d00-77f7-4e6d-9726-b4f73f938672"
      },
      "execution_count": null,
      "outputs": [
        {
          "output_type": "execute_result",
          "data": {
            "text/plain": [
              "True"
            ]
          },
          "metadata": {},
          "execution_count": 146
        }
      ]
    },
    {
      "cell_type": "markdown",
      "source": [
        "Simple way to solve it\n",
        "\n",
        "**We are checking letters**"
      ],
      "metadata": {
        "id": "Rcio_Ezkbhzo"
      }
    },
    {
      "cell_type": "code",
      "source": [
        "def vowelCheck(x):\n",
        "  if x in'aeiou':\n",
        "    print('Vowel')\n",
        "  else:\n",
        "    print('consonant')\n"
      ],
      "metadata": {
        "id": "Nsay1Li_bcbW"
      },
      "execution_count": null,
      "outputs": []
    },
    {
      "cell_type": "code",
      "source": [
        "vowelCheck('i')"
      ],
      "metadata": {
        "colab": {
          "base_uri": "https://localhost:8080/"
        },
        "id": "ENW014gJesDT",
        "outputId": "4889295a-e214-4419-d7c8-42d726366c76"
      },
      "execution_count": null,
      "outputs": [
        {
          "output_type": "stream",
          "name": "stdout",
          "text": [
            "Vowel\n"
          ]
        }
      ]
    },
    {
      "cell_type": "code",
      "source": [
        "x = input('Enter any word: ').lower()\n",
        "for i in x:\n",
        "  if i in 'aeiou':\n",
        "    print(i)"
      ],
      "metadata": {
        "colab": {
          "base_uri": "https://localhost:8080/"
        },
        "id": "juwYEmBWcBrJ",
        "outputId": "f22027f3-8155-450f-e261-cf069ca8a8fc"
      },
      "execution_count": null,
      "outputs": [
        {
          "output_type": "stream",
          "name": "stdout",
          "text": [
            "Enter any word: Apple\n",
            "a\n",
            "e\n"
          ]
        }
      ]
    },
    {
      "cell_type": "code",
      "source": [],
      "metadata": {
        "colab": {
          "base_uri": "https://localhost:8080/"
        },
        "id": "Te_q91hadOfe",
        "outputId": "cb365fff-b210-4877-beba-e9015a5130fe"
      },
      "execution_count": null,
      "outputs": [
        {
          "output_type": "stream",
          "name": "stdout",
          "text": [
            "Enter any word: apple\n",
            "Vowel\n"
          ]
        }
      ]
    },
    {
      "cell_type": "markdown",
      "source": [
        "**List Comprehension**\n",
        "* It is a shorter and cleaner way to create list in python\n",
        "* Instead of using loops, you write the expression in one line"
      ],
      "metadata": {
        "id": "rauJVB-Td96U"
      }
    },
    {
      "cell_type": "code",
      "source": [
        "# Basic way to find squares of number\n",
        "sqaures = []\n",
        "for i in range(5):\n",
        "  sqaures.append(i**2)\n",
        "print(sqaures)"
      ],
      "metadata": {
        "colab": {
          "base_uri": "https://localhost:8080/"
        },
        "id": "oEX24I4SdrzW",
        "outputId": "9f681ce8-99ba-4449-d86d-6a44b4d9a41a"
      },
      "execution_count": null,
      "outputs": [
        {
          "output_type": "stream",
          "name": "stdout",
          "text": [
            "[0, 1, 4, 9, 16]\n"
          ]
        }
      ]
    },
    {
      "cell_type": "code",
      "source": [
        "# [expression for item in List if condition]\n",
        "squares = [i**2 for i in range(5)]\n",
        "squares"
      ],
      "metadata": {
        "colab": {
          "base_uri": "https://localhost:8080/"
        },
        "id": "46-Oho_Uf986",
        "outputId": "24eb5578-7d2f-4ea9-e69b-364aa1803253"
      },
      "execution_count": null,
      "outputs": [
        {
          "output_type": "execute_result",
          "data": {
            "text/plain": [
              "[0, 1, 4, 9, 16]"
            ]
          },
          "metadata": {},
          "execution_count": 176
        }
      ]
    },
    {
      "cell_type": "markdown",
      "source": [
        "**Let's Get Even Number**"
      ],
      "metadata": {
        "id": "8ooYaRiJhCnE"
      }
    },
    {
      "cell_type": "code",
      "source": [
        "evenNums = []\n",
        "for i in range(10):\n",
        "  if i%2 == 0:\n",
        "    evenNums.append(i)\n",
        "print(evenNums)"
      ],
      "metadata": {
        "colab": {
          "base_uri": "https://localhost:8080/"
        },
        "id": "UnIP-gFSggXA",
        "outputId": "c67056ad-f802-46ea-96c3-38184af916fa"
      },
      "execution_count": null,
      "outputs": [
        {
          "output_type": "stream",
          "name": "stdout",
          "text": [
            "[0, 2, 4, 6, 8]\n"
          ]
        }
      ]
    },
    {
      "cell_type": "code",
      "source": [
        "evenNumber = [i for i in range(10) if i %2 ==0]\n",
        "print(evenNumber)"
      ],
      "metadata": {
        "colab": {
          "base_uri": "https://localhost:8080/"
        },
        "id": "o9dUQxvBhpQA",
        "outputId": "c40106cb-61fd-4f52-c3c3-8fbdbad36778"
      },
      "execution_count": null,
      "outputs": [
        {
          "output_type": "stream",
          "name": "stdout",
          "text": [
            "[0, 2, 4, 6, 8]\n"
          ]
        }
      ]
    },
    {
      "cell_type": "markdown",
      "source": [
        "**Apply capitalized method for each element of the list**"
      ],
      "metadata": {
        "id": "v0mghpB2illo"
      }
    },
    {
      "cell_type": "code",
      "source": [
        "words = ['aryan','abdul','vijay']\n",
        "CapitalizedWords = [i.capitalize() for i in words ]\n",
        "print(CapitalizedWords)"
      ],
      "metadata": {
        "colab": {
          "base_uri": "https://localhost:8080/"
        },
        "id": "weKB8Ul1h9OH",
        "outputId": "4e41618c-f75e-4ea5-80be-87c7f9e3706c"
      },
      "execution_count": null,
      "outputs": [
        {
          "output_type": "stream",
          "name": "stdout",
          "text": [
            "['Aryan', 'Abdul', 'Vijay']\n"
          ]
        }
      ]
    },
    {
      "cell_type": "markdown",
      "source": [
        "**Nested loop**"
      ],
      "metadata": {
        "id": "SRHCGARpjmf2"
      }
    },
    {
      "cell_type": "code",
      "source": [
        "for i in range(1,5): # table number\n",
        "  for j in range(1,3): # multiplications\n",
        "    print(f'{i} and {j}')"
      ],
      "metadata": {
        "colab": {
          "base_uri": "https://localhost:8080/"
        },
        "id": "7psCaCnCjhNu",
        "outputId": "ab3525a2-04d8-4853-ad54-f54bd988bde9"
      },
      "execution_count": null,
      "outputs": [
        {
          "output_type": "stream",
          "name": "stdout",
          "text": [
            "1 and 1\n",
            "1 and 2\n",
            "2 and 1\n",
            "2 and 2\n",
            "3 and 1\n",
            "3 and 2\n",
            "4 and 1\n",
            "4 and 2\n"
          ]
        }
      ]
    },
    {
      "cell_type": "code",
      "source": [
        "for i in range(2,6):\n",
        "  print(f'Table of {i}')\n",
        "  for j in range(1,11):\n",
        "    print(f'{i} x {j} = {i*j}')\n",
        "  print()"
      ],
      "metadata": {
        "colab": {
          "base_uri": "https://localhost:8080/"
        },
        "id": "vv7d6QjUjtQg",
        "outputId": "d1d97656-a589-4330-fff8-8db494dc8cc1"
      },
      "execution_count": null,
      "outputs": [
        {
          "output_type": "stream",
          "name": "stdout",
          "text": [
            "Table of 2\n",
            "2 x 1 = 2\n",
            "2 x 2 = 4\n",
            "2 x 3 = 6\n",
            "2 x 4 = 8\n",
            "2 x 5 = 10\n",
            "2 x 6 = 12\n",
            "2 x 7 = 14\n",
            "2 x 8 = 16\n",
            "2 x 9 = 18\n",
            "2 x 10 = 20\n",
            "\n",
            "Table of 3\n",
            "3 x 1 = 3\n",
            "3 x 2 = 6\n",
            "3 x 3 = 9\n",
            "3 x 4 = 12\n",
            "3 x 5 = 15\n",
            "3 x 6 = 18\n",
            "3 x 7 = 21\n",
            "3 x 8 = 24\n",
            "3 x 9 = 27\n",
            "3 x 10 = 30\n",
            "\n",
            "Table of 4\n",
            "4 x 1 = 4\n",
            "4 x 2 = 8\n",
            "4 x 3 = 12\n",
            "4 x 4 = 16\n",
            "4 x 5 = 20\n",
            "4 x 6 = 24\n",
            "4 x 7 = 28\n",
            "4 x 8 = 32\n",
            "4 x 9 = 36\n",
            "4 x 10 = 40\n",
            "\n",
            "Table of 5\n",
            "5 x 1 = 5\n",
            "5 x 2 = 10\n",
            "5 x 3 = 15\n",
            "5 x 4 = 20\n",
            "5 x 5 = 25\n",
            "5 x 6 = 30\n",
            "5 x 7 = 35\n",
            "5 x 8 = 40\n",
            "5 x 9 = 45\n",
            "5 x 10 = 50\n",
            "\n"
          ]
        }
      ]
    },
    {
      "cell_type": "markdown",
      "source": [
        "**Modules**\n",
        "* A set of program including functions, classes, methods that we can use in any other python file, we use module\n",
        "* Whenever we create module -> we use .py extension\n",
        "* We can import module to any file where we want"
      ],
      "metadata": {
        "id": "rnqbnJuCoNIc"
      }
    },
    {
      "cell_type": "code",
      "source": [
        "print('hello')"
      ],
      "metadata": {
        "colab": {
          "base_uri": "https://localhost:8080/"
        },
        "id": "mbxjTaLvmMQK",
        "outputId": "772d80a3-893a-4733-9bdf-e2d6e4fbe82c"
      },
      "execution_count": null,
      "outputs": [
        {
          "output_type": "stream",
          "name": "stdout",
          "text": [
            "hello\n"
          ]
        }
      ]
    },
    {
      "cell_type": "code",
      "source": [
        "import myPythonCode"
      ],
      "metadata": {
        "id": "LayWjqVRsmIS"
      },
      "execution_count": null,
      "outputs": []
    },
    {
      "cell_type": "code",
      "source": [
        "myPythonCode.displayHello()"
      ],
      "metadata": {
        "colab": {
          "base_uri": "https://localhost:8080/"
        },
        "id": "1tCBaLpRthm1",
        "outputId": "0d6cee99-5c6e-47e8-8ba0-9028ac82ba33"
      },
      "execution_count": null,
      "outputs": [
        {
          "output_type": "stream",
          "name": "stdout",
          "text": [
            "Hey i am coming from module\n"
          ]
        }
      ]
    },
    {
      "cell_type": "code",
      "source": [
        "myPythonCode.powerOpp(5,2)"
      ],
      "metadata": {
        "colab": {
          "base_uri": "https://localhost:8080/"
        },
        "id": "WwJuRxNkt7p0",
        "outputId": "339cd5f2-4be2-41d7-9fd9-8df24eae63a3"
      },
      "execution_count": null,
      "outputs": [
        {
          "output_type": "stream",
          "name": "stdout",
          "text": [
            "5 to the power 2 = 25\n"
          ]
        }
      ]
    },
    {
      "cell_type": "markdown",
      "source": [
        "We can import module and give any kind of alias name that is suitable for us"
      ],
      "metadata": {
        "id": "R4Axb4KxuDrh"
      }
    },
    {
      "cell_type": "code",
      "source": [
        "import myPythonCode as m"
      ],
      "metadata": {
        "id": "9DiwIMYUuAF5"
      },
      "execution_count": null,
      "outputs": []
    },
    {
      "cell_type": "code",
      "source": [
        "m.displayHello()"
      ],
      "metadata": {
        "colab": {
          "base_uri": "https://localhost:8080/"
        },
        "id": "oMGCXFLrueWL",
        "outputId": "f921f335-9044-4e7f-8621-a55bc37939de"
      },
      "execution_count": null,
      "outputs": [
        {
          "output_type": "stream",
          "name": "stdout",
          "text": [
            "Hey i am coming from module\n"
          ]
        }
      ]
    },
    {
      "cell_type": "code",
      "source": [
        "m.powerOpp(2,4)"
      ],
      "metadata": {
        "colab": {
          "base_uri": "https://localhost:8080/"
        },
        "id": "8J7FN3JTuhfl",
        "outputId": "770507ad-2fb7-4068-f739-be8ae5018b37"
      },
      "execution_count": null,
      "outputs": [
        {
          "output_type": "stream",
          "name": "stdout",
          "text": [
            "2 to the power 4 = 16\n"
          ]
        }
      ]
    },
    {
      "cell_type": "markdown",
      "source": [
        "if you want to import a complete function directly to my file"
      ],
      "metadata": {
        "id": "71qfygtMvNfR"
      }
    },
    {
      "cell_type": "code",
      "source": [
        "from myPythonCode import powerOpp"
      ],
      "metadata": {
        "id": "LHx4F_jGui_f"
      },
      "execution_count": null,
      "outputs": []
    },
    {
      "cell_type": "code",
      "source": [
        "powerOpp(5,6)"
      ],
      "metadata": {
        "colab": {
          "base_uri": "https://localhost:8080/"
        },
        "id": "NgmPyKEevw9O",
        "outputId": "23ac84b7-d851-4376-aafd-3352f959cc95"
      },
      "execution_count": null,
      "outputs": [
        {
          "output_type": "stream",
          "name": "stdout",
          "text": [
            "5 to the power 6 = 15625\n"
          ]
        }
      ]
    },
    {
      "cell_type": "code",
      "source": [
        "bool(0)"
      ],
      "metadata": {
        "id": "3Bd-JPqav0pW",
        "colab": {
          "base_uri": "https://localhost:8080/"
        },
        "outputId": "b41f2869-0225-490f-f998-680131840aa9"
      },
      "execution_count": null,
      "outputs": [
        {
          "output_type": "execute_result",
          "data": {
            "text/plain": [
              "False"
            ]
          },
          "metadata": {},
          "execution_count": 4
        }
      ]
    },
    {
      "cell_type": "code",
      "source": [
        "if 0 or \"Hello\":\n",
        "    print(\"Yes\")\n",
        "else:\n",
        "    print(\"No\")"
      ],
      "metadata": {
        "colab": {
          "base_uri": "https://localhost:8080/"
        },
        "id": "fTIOCmDNFXSI",
        "outputId": "b2b3976d-740d-4601-e706-69d5ee2b92ab"
      },
      "execution_count": null,
      "outputs": [
        {
          "output_type": "stream",
          "name": "stdout",
          "text": [
            "Yes\n"
          ]
        }
      ]
    },
    {
      "cell_type": "code",
      "source": [],
      "metadata": {
        "id": "8yCcmH1WFjXp"
      },
      "execution_count": null,
      "outputs": []
    }
  ]
}