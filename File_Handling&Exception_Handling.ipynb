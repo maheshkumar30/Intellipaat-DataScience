{
  "nbformat": 4,
  "nbformat_minor": 0,
  "metadata": {
    "colab": {
      "provenance": [],
      "authorship_tag": "ABX9TyOkTNlhY5kRduHpjmg/TUVB",
      "include_colab_link": true
    },
    "kernelspec": {
      "name": "python3",
      "display_name": "Python 3"
    },
    "language_info": {
      "name": "python"
    }
  },
  "cells": [
    {
      "cell_type": "markdown",
      "metadata": {
        "id": "view-in-github",
        "colab_type": "text"
      },
      "source": [
        "<a href=\"https://colab.research.google.com/github/maheshkumar30/Intellipaat-DataScience/blob/main/File_Handling%26Exception_Handling.ipynb\" target=\"_parent\"><img src=\"https://colab.research.google.com/assets/colab-badge.svg\" alt=\"Open In Colab\"/></a>"
      ]
    },
    {
      "cell_type": "markdown",
      "source": [
        "##**File Handling in python**\n",
        "File handling in python is one of the essentials for working with the files like read, write, manipulate and also delete the data from the files\n",
        "1. step-1: We are going to upload our data in python directory\n"
      ],
      "metadata": {
        "id": "3WMPzCqnpABH"
      }
    },
    {
      "cell_type": "code",
      "source": [
        "# open(path,method)\n",
        "f = open('/content/file1.txt','w')"
      ],
      "metadata": {
        "id": "C2ErC6kjpPAe"
      },
      "execution_count": 1,
      "outputs": []
    },
    {
      "cell_type": "code",
      "source": [
        "f"
      ],
      "metadata": {
        "colab": {
          "base_uri": "https://localhost:8080/"
        },
        "id": "5nXnAhnHpQ8o",
        "outputId": "4917ad44-a0c1-4367-c5fa-81120e5f3cf2"
      },
      "execution_count": 2,
      "outputs": [
        {
          "output_type": "execute_result",
          "data": {
            "text/plain": [
              "<_io.TextIOWrapper name='/content/file1.txt' mode='w' encoding='utf-8'>"
            ]
          },
          "metadata": {},
          "execution_count": 2
        }
      ]
    },
    {
      "cell_type": "markdown",
      "source": [
        "###**There are four different methods or modes for opening the file**\n",
        "* 'r' -> Reading -> This is a default more, open the file and read the data.\n",
        "    * it will give you an error when the file is not present in the directory\n",
        "\n",
        "* 'w' -> Write -> it will open the file for writting(it will overwrite the previous data)\n",
        "    * It will create file if it is not present in the directory\n",
        "\n",
        "* 'a' -> Append -> Open the file for appending(Add the data in the file)\n",
        "    * It will also create the file if it is not present in the directory\n",
        "\n",
        "* 'x' -> Create -> it creates the specific file\n",
        "    * it will return an error if the file already exist\n",
        "---\n",
        "**Note: We can specify the file should be in binary mode or text**\n",
        "* 't' -> Text: default value | Text mode\n",
        "* 'b' -> Binary mode: 'wb' | (when we want to open any image)\n"
      ],
      "metadata": {
        "id": "Sdmze5G8pYPA"
      }
    },
    {
      "cell_type": "code",
      "source": [
        "f = open('/content/file1.txt','r')"
      ],
      "metadata": {
        "id": "UPzvSWyBpp58"
      },
      "execution_count": 3,
      "outputs": []
    },
    {
      "cell_type": "code",
      "source": [
        "print(f)"
      ],
      "metadata": {
        "colab": {
          "base_uri": "https://localhost:8080/"
        },
        "id": "SYD2avU5ptw2",
        "outputId": "38a1cdf7-80b9-4740-eef9-5363b93457ce"
      },
      "execution_count": 4,
      "outputs": [
        {
          "output_type": "stream",
          "name": "stdout",
          "text": [
            "<_io.TextIOWrapper name='/content/file1.txt' mode='r' encoding='utf-8'>\n"
          ]
        }
      ]
    },
    {
      "cell_type": "code",
      "source": [
        "# To read entire data\n",
        "# .read()\n",
        "fileText = f.read()"
      ],
      "metadata": {
        "id": "BLMoqGsoD02z"
      },
      "execution_count": 5,
      "outputs": []
    },
    {
      "cell_type": "code",
      "source": [
        "f.read()"
      ],
      "metadata": {
        "colab": {
          "base_uri": "https://localhost:8080/",
          "height": 35
        },
        "id": "RgT7DwK4D9Qf",
        "outputId": "5f6da3bc-17cd-48a0-e72e-5f507eb4fede"
      },
      "execution_count": 6,
      "outputs": [
        {
          "output_type": "execute_result",
          "data": {
            "text/plain": [
              "''"
            ],
            "application/vnd.google.colaboratory.intrinsic+json": {
              "type": "string"
            }
          },
          "metadata": {},
          "execution_count": 6
        }
      ]
    },
    {
      "cell_type": "code",
      "source": [
        "f.close() # Whenever we are done with file -> close it"
      ],
      "metadata": {
        "id": "qFAK6R-gEAqV"
      },
      "execution_count": 7,
      "outputs": []
    },
    {
      "cell_type": "code",
      "source": [
        "fileText"
      ],
      "metadata": {
        "colab": {
          "base_uri": "https://localhost:8080/",
          "height": 35
        },
        "id": "MQ3gNlPgECMV",
        "outputId": "e696499a-b010-49e0-ad61-19ddd8bdf969"
      },
      "execution_count": 8,
      "outputs": [
        {
          "output_type": "execute_result",
          "data": {
            "text/plain": [
              "''"
            ],
            "application/vnd.google.colaboratory.intrinsic+json": {
              "type": "string"
            }
          },
          "metadata": {},
          "execution_count": 8
        }
      ]
    },
    {
      "cell_type": "markdown",
      "source": [
        "**Whenever you want to read a file line by line**\n"
      ],
      "metadata": {
        "id": "oB7RjCJCEIhC"
      }
    },
    {
      "cell_type": "code",
      "source": [
        "# To read data line by line\n",
        "# .readline()\n",
        "f = open('file1.txt','r')\n",
        "print(f.readline())"
      ],
      "metadata": {
        "colab": {
          "base_uri": "https://localhost:8080/"
        },
        "id": "CVzNvU5QEF-5",
        "outputId": "7780f8a1-91a4-4516-b3c0-a7d99aa26110"
      },
      "execution_count": 9,
      "outputs": [
        {
          "output_type": "stream",
          "name": "stdout",
          "text": [
            "\n"
          ]
        }
      ]
    },
    {
      "cell_type": "code",
      "source": [
        "print(f.readline())"
      ],
      "metadata": {
        "colab": {
          "base_uri": "https://localhost:8080/"
        },
        "id": "aLUYuGR5ESGh",
        "outputId": "85b34ff2-2bfe-4175-b945-5358def7f2f7"
      },
      "execution_count": 10,
      "outputs": [
        {
          "output_type": "stream",
          "name": "stdout",
          "text": [
            "\n"
          ]
        }
      ]
    },
    {
      "cell_type": "code",
      "source": [
        "print(f.readline())"
      ],
      "metadata": {
        "colab": {
          "base_uri": "https://localhost:8080/"
        },
        "id": "Pgx3vH0xEVIA",
        "outputId": "9c787557-225d-4155-d185-933c69a89383"
      },
      "execution_count": 11,
      "outputs": [
        {
          "output_type": "stream",
          "name": "stdout",
          "text": [
            "\n"
          ]
        }
      ]
    },
    {
      "cell_type": "code",
      "source": [
        "print(f.readline()) # Already Reached the last line"
      ],
      "metadata": {
        "colab": {
          "base_uri": "https://localhost:8080/"
        },
        "id": "jRnJ99krEYz3",
        "outputId": "2a317551-9e40-444c-a56e-5534ace63f90"
      },
      "execution_count": 12,
      "outputs": [
        {
          "output_type": "stream",
          "name": "stdout",
          "text": [
            "\n"
          ]
        }
      ]
    },
    {
      "cell_type": "code",
      "source": [
        "f.close()"
      ],
      "metadata": {
        "id": "Gg6hbRu4EcPl"
      },
      "execution_count": 13,
      "outputs": []
    },
    {
      "cell_type": "markdown",
      "source": [
        "**Reading multiple lines**"
      ],
      "metadata": {
        "id": "kAPbE6ajFp4O"
      }
    },
    {
      "cell_type": "code",
      "source": [
        "f = open('file1.txt','r')"
      ],
      "metadata": {
        "id": "CdzJO1c3Frrh"
      },
      "execution_count": 14,
      "outputs": []
    },
    {
      "cell_type": "code",
      "source": [
        "# print(f.readlines()) -> it gives you the lines in a list"
      ],
      "metadata": {
        "id": "uzjgUY5eFx9W"
      },
      "execution_count": 15,
      "outputs": []
    },
    {
      "cell_type": "code",
      "source": [
        "for i in f.readlines():\n",
        "  print(i)"
      ],
      "metadata": {
        "id": "4EffXlFNGEnj"
      },
      "execution_count": 16,
      "outputs": []
    },
    {
      "cell_type": "code",
      "source": [
        "f.close()"
      ],
      "metadata": {
        "id": "CAMBLd-yGKIr"
      },
      "execution_count": 17,
      "outputs": []
    },
    {
      "cell_type": "markdown",
      "source": [
        "###**How we can write something in existing files:**\n",
        "1. 'a': append"
      ],
      "metadata": {
        "id": "0bms3g3mGRMi"
      }
    },
    {
      "cell_type": "code",
      "source": [
        "f = open('file1.txt','a')"
      ],
      "metadata": {
        "id": "GPwT-7uEGLz6"
      },
      "execution_count": 18,
      "outputs": []
    },
    {
      "cell_type": "code",
      "source": [
        "f.write('Aryan Raj')"
      ],
      "metadata": {
        "colab": {
          "base_uri": "https://localhost:8080/"
        },
        "id": "JBk94XQoGgXa",
        "outputId": "fee37594-30c9-4647-9d4a-1977b64979c0"
      },
      "execution_count": 19,
      "outputs": [
        {
          "output_type": "execute_result",
          "data": {
            "text/plain": [
              "9"
            ]
          },
          "metadata": {},
          "execution_count": 19
        }
      ]
    },
    {
      "cell_type": "code",
      "source": [
        "f.close()"
      ],
      "metadata": {
        "id": "Eeijc64VGjov"
      },
      "execution_count": 20,
      "outputs": []
    },
    {
      "cell_type": "code",
      "source": [
        "f = open('file1.txt','a')\n",
        "f.write('\\nThis will be in new line')"
      ],
      "metadata": {
        "colab": {
          "base_uri": "https://localhost:8080/"
        },
        "id": "7Oq9F24BGnKM",
        "outputId": "634d32c9-2f14-4645-ce08-f9555f58fc1c"
      },
      "execution_count": 21,
      "outputs": [
        {
          "output_type": "execute_result",
          "data": {
            "text/plain": [
              "25"
            ]
          },
          "metadata": {},
          "execution_count": 21
        }
      ]
    },
    {
      "cell_type": "code",
      "source": [
        "f.close()"
      ],
      "metadata": {
        "id": "-w3FPDiMGqdZ"
      },
      "execution_count": 22,
      "outputs": []
    },
    {
      "cell_type": "markdown",
      "source": [
        "**'w': Write**"
      ],
      "metadata": {
        "id": "HTp3BrtDGxyh"
      }
    },
    {
      "cell_type": "code",
      "source": [
        "f = open('newFile.txt','w')"
      ],
      "metadata": {
        "id": "Y75aQTCoGz4p"
      },
      "execution_count": 23,
      "outputs": []
    },
    {
      "cell_type": "code",
      "source": [
        "f.write('Hey this is the text in my new file')"
      ],
      "metadata": {
        "colab": {
          "base_uri": "https://localhost:8080/"
        },
        "id": "qhrtcIPTG4j1",
        "outputId": "4c262dab-5e23-41d0-9761-4d71399b1432"
      },
      "execution_count": 24,
      "outputs": [
        {
          "output_type": "execute_result",
          "data": {
            "text/plain": [
              "35"
            ]
          },
          "metadata": {},
          "execution_count": 24
        }
      ]
    },
    {
      "cell_type": "code",
      "source": [
        "f.close()"
      ],
      "metadata": {
        "id": "xM32LvRqG7oC"
      },
      "execution_count": 25,
      "outputs": []
    },
    {
      "cell_type": "markdown",
      "source": [
        "**If i reuse this write method, it will replace the previous data with new data**"
      ],
      "metadata": {
        "id": "aXZcAw4tHDgq"
      }
    },
    {
      "cell_type": "code",
      "source": [
        "f = open('newFile.txt','w')"
      ],
      "metadata": {
        "id": "2EiTLTspG-ir"
      },
      "execution_count": 26,
      "outputs": []
    },
    {
      "cell_type": "code",
      "source": [
        "f.write('This is new text after erasing previous one')"
      ],
      "metadata": {
        "colab": {
          "base_uri": "https://localhost:8080/"
        },
        "id": "7MMFNWVrHIYJ",
        "outputId": "85babd45-38b4-4cb9-f7ee-4bcb3a562e9b"
      },
      "execution_count": 27,
      "outputs": [
        {
          "output_type": "execute_result",
          "data": {
            "text/plain": [
              "43"
            ]
          },
          "metadata": {},
          "execution_count": 27
        }
      ]
    },
    {
      "cell_type": "code",
      "source": [
        "f.close()"
      ],
      "metadata": {
        "id": "qA3o2iPVHOqw"
      },
      "execution_count": 28,
      "outputs": []
    },
    {
      "cell_type": "markdown",
      "source": [
        "**Delete the file**\n",
        "* if you want to delete file you must import os module"
      ],
      "metadata": {
        "id": "Ky8VVBJNHVDN"
      }
    },
    {
      "cell_type": "code",
      "source": [
        "import os # os module have a lot of methods to impelement error handling, file handling or arranging the folders"
      ],
      "metadata": {
        "id": "1NYA7pO9HW5U"
      },
      "execution_count": 29,
      "outputs": []
    },
    {
      "cell_type": "code",
      "source": [
        "os.remove('newFile.txt')"
      ],
      "metadata": {
        "id": "maXM5RmYHdwY"
      },
      "execution_count": 30,
      "outputs": []
    },
    {
      "cell_type": "code",
      "source": [
        "# A way to handle error when data is already deleted or not\n",
        "if os.path.exists('newFile.txt'):\n",
        "  os.remove('newFile.txt')\n",
        "else:\n",
        "  print(f'The file does not exist')"
      ],
      "metadata": {
        "colab": {
          "base_uri": "https://localhost:8080/"
        },
        "id": "_IKnuMgnHfPD",
        "outputId": "e4526aa8-5d28-42ca-f9f1-2346ca6bd029"
      },
      "execution_count": 31,
      "outputs": [
        {
          "output_type": "stream",
          "name": "stdout",
          "text": [
            "The file does not exist\n"
          ]
        }
      ]
    },
    {
      "cell_type": "code",
      "source": [
        "os.rmdir('experiment') # for deleting the folder"
      ],
      "metadata": {
        "colab": {
          "base_uri": "https://localhost:8080/",
          "height": 141
        },
        "id": "D_uwnogNHjZh",
        "outputId": "1e828804-929a-4fd0-bf35-60d99a1c09f0"
      },
      "execution_count": 1,
      "outputs": [
        {
          "output_type": "error",
          "ename": "NameError",
          "evalue": "name 'os' is not defined",
          "traceback": [
            "\u001b[0;31m---------------------------------------------------------------------------\u001b[0m",
            "\u001b[0;31mNameError\u001b[0m                                 Traceback (most recent call last)",
            "\u001b[0;32m/tmp/ipython-input-3808192008.py\u001b[0m in \u001b[0;36m<cell line: 0>\u001b[0;34m()\u001b[0m\n\u001b[0;32m----> 1\u001b[0;31m \u001b[0mos\u001b[0m\u001b[0;34m.\u001b[0m\u001b[0mrmdir\u001b[0m\u001b[0;34m(\u001b[0m\u001b[0;34m'experiment'\u001b[0m\u001b[0;34m)\u001b[0m \u001b[0;31m# for deleting the folder\u001b[0m\u001b[0;34m\u001b[0m\u001b[0;34m\u001b[0m\u001b[0m\n\u001b[0m",
            "\u001b[0;31mNameError\u001b[0m: name 'os' is not defined"
          ]
        }
      ]
    },
    {
      "cell_type": "markdown",
      "source": [
        "**Inserting the value in between**"
      ],
      "metadata": {
        "id": "k0xZG5sa7-hA"
      }
    },
    {
      "cell_type": "code",
      "source": [
        "f = open('file1.txt','r')"
      ],
      "metadata": {
        "id": "F5792Zgl7_y7"
      },
      "execution_count": 2,
      "outputs": []
    },
    {
      "cell_type": "code",
      "source": [
        "f.readlines(1)"
      ],
      "metadata": {
        "colab": {
          "base_uri": "https://localhost:8080/"
        },
        "id": "ZHFU9Dyg8Sgf",
        "outputId": "eaca04fc-1a07-4522-d8f0-c7e508fd8c08"
      },
      "execution_count": 3,
      "outputs": [
        {
          "output_type": "execute_result",
          "data": {
            "text/plain": [
              "[]"
            ]
          },
          "metadata": {},
          "execution_count": 3
        }
      ]
    },
    {
      "cell_type": "markdown",
      "source": [
        "**insert**"
      ],
      "metadata": {
        "id": "KpFOeFBe8WgI"
      }
    },
    {
      "cell_type": "code",
      "source": [
        "f = open('sampel.txt','x')"
      ],
      "metadata": {
        "id": "hlq5RdgL8Xyn"
      },
      "execution_count": 4,
      "outputs": []
    },
    {
      "cell_type": "code",
      "source": [
        "f.close()"
      ],
      "metadata": {
        "id": "ggDcsjVP8bTx"
      },
      "execution_count": 5,
      "outputs": []
    },
    {
      "cell_type": "code",
      "source": [
        "f = open('sampel.txt','w')"
      ],
      "metadata": {
        "id": "oTjuKamM8eva"
      },
      "execution_count": 6,
      "outputs": []
    },
    {
      "cell_type": "code",
      "source": [
        "f.write('Hello Namaste')"
      ],
      "metadata": {
        "colab": {
          "base_uri": "https://localhost:8080/"
        },
        "id": "G1X6XpZf8ht3",
        "outputId": "07797b1d-a44f-49ab-dfba-9eb88daa73fd"
      },
      "execution_count": 7,
      "outputs": [
        {
          "output_type": "execute_result",
          "data": {
            "text/plain": [
              "13"
            ]
          },
          "metadata": {},
          "execution_count": 7
        }
      ]
    },
    {
      "cell_type": "code",
      "source": [
        "f.close()"
      ],
      "metadata": {
        "id": "dd_67A8e8kgE"
      },
      "execution_count": 8,
      "outputs": []
    },
    {
      "cell_type": "code",
      "source": [
        "f = open('sampel.txt','r')\n",
        "x = f.read()"
      ],
      "metadata": {
        "id": "2vIlvJ1X8nZX"
      },
      "execution_count": 9,
      "outputs": []
    },
    {
      "cell_type": "code",
      "source": [
        "x"
      ],
      "metadata": {
        "colab": {
          "base_uri": "https://localhost:8080/",
          "height": 35
        },
        "id": "o4YD2ai08r1c",
        "outputId": "46e3b841-6d06-4a4b-c782-e01242364110"
      },
      "execution_count": 10,
      "outputs": [
        {
          "output_type": "execute_result",
          "data": {
            "text/plain": [
              "'Hello Namaste'"
            ],
            "application/vnd.google.colaboratory.intrinsic+json": {
              "type": "string"
            }
          },
          "metadata": {},
          "execution_count": 10
        }
      ]
    },
    {
      "cell_type": "code",
      "source": [
        "f.close()"
      ],
      "metadata": {
        "id": "DIh9rFyh8uqv"
      },
      "execution_count": 11,
      "outputs": []
    },
    {
      "cell_type": "code",
      "source": [
        "new = x.replace('Hello', 'Hey i am aryan')"
      ],
      "metadata": {
        "id": "InqMYtGe8xOl"
      },
      "execution_count": 12,
      "outputs": []
    },
    {
      "cell_type": "code",
      "source": [
        "new"
      ],
      "metadata": {
        "colab": {
          "base_uri": "https://localhost:8080/",
          "height": 35
        },
        "id": "QVX5-Ajb80h3",
        "outputId": "61fc6cba-8ba7-49eb-e5b1-fb6e19feb805"
      },
      "execution_count": 13,
      "outputs": [
        {
          "output_type": "execute_result",
          "data": {
            "text/plain": [
              "'Hey i am aryan Namaste'"
            ],
            "application/vnd.google.colaboratory.intrinsic+json": {
              "type": "string"
            }
          },
          "metadata": {},
          "execution_count": 13
        }
      ]
    },
    {
      "cell_type": "code",
      "source": [
        "f = open('sampel.txt','w')\n",
        "f.write(new)\n",
        "f.close()"
      ],
      "metadata": {
        "id": "OlEAs2_G84s_"
      },
      "execution_count": 14,
      "outputs": []
    },
    {
      "cell_type": "markdown",
      "source": [
        "## **Binary**\n",
        "1. How to load a binary file\n",
        "\n",
        "**Two modes we are having**\n",
        "* \"rb\"\n",
        "* \"wb\""
      ],
      "metadata": {
        "id": "YcElEZ9IKG9c"
      }
    },
    {
      "cell_type": "code",
      "execution_count": 21,
      "metadata": {
        "id": "xXM428NqIa5X"
      },
      "outputs": [],
      "source": [
        "f=open(\"images.jpeg\",\"rb\")"
      ]
    },
    {
      "cell_type": "code",
      "source": [
        "x = f.read()"
      ],
      "metadata": {
        "id": "1hPf5cvx9z7Y"
      },
      "execution_count": 22,
      "outputs": []
    },
    {
      "cell_type": "code",
      "source": [
        "x"
      ],
      "metadata": {
        "colab": {
          "base_uri": "https://localhost:8080/"
        },
        "id": "eY7RiHz692Ws",
        "outputId": "6b99dc1e-6421-4b36-f4ac-9273f8c3e40f"
      },
      "execution_count": 23,
      "outputs": [
        {
          "output_type": "execute_result",
          "data": {
            "text/plain": [
              "b'\\xff\\xd8\\xff\\xe0\\x00\\x10JFIF\\x00\\x01\\x01\\x00\\x00\\x01\\x00\\x01\\x00\\x00\\xff\\xdb\\x00\\x84\\x00\\t\\x06\\x07\\x12\\x10\\x10\\x15\\x10\\x10\\x10\\x15\\x15\\x15\\x16\\x15\\x15\\x17\\x15\\x18\\x18\\x15\\x18\\x15\\x17\\x15\\x16\\x17\\x15\\x16\\x18\\x15\\x15\\x18\\x16\\x18\\x1d( \\x18\\x1a%\\x1b\\x15\\x15\"1\"%)+...\\x17\\x1f383-7(-.+\\x01\\n\\n\\n\\x0e\\r\\x0e\\x1b\\x10\\x10\\x1b-% &/--+0.----------/--/----------------+-------------\\xff\\xc0\\x00\\x11\\x08\\x00\\xb1\\x01\\x1c\\x03\\x01\\x11\\x00\\x02\\x11\\x01\\x03\\x11\\x01\\xff\\xc4\\x00\\x1b\\x00\\x00\\x02\\x02\\x03\\x01\\x00\\x00\\x00\\x00\\x00\\x00\\x00\\x00\\x00\\x00\\x00\\x00\\x01\\x04\\x05\\x02\\x03\\x06\\x07\\xff\\xc4\\x00:\\x10\\x00\\x01\\x03\\x02\\x05\\x02\\x03\\x07\\x03\\x03\\x01\\t\\x00\\x00\\x00\\x00\\x01\\x00\\x02\\x11\\x03!\\x04\\x05\\x121AQq\"a\\x81\\x06\\x132\\x91\\xa1\\xb1\\xf0B\\xc1\\xd1R\\xe1\\xf1#\\x14\\x153Crs\\x92\\xa2\\xc2\\xff\\xc4\\x00\\x1a\\x01\\x01\\x00\\x02\\x03\\x01\\x00\\x00\\x00\\x00\\x00\\x00\\x00\\x00\\x00\\x00\\x00\\x00\\x01\\x04\\x02\\x03\\x05\\x06\\xff\\xc4\\x002\\x11\\x00\\x02\\x02\\x01\\x03\\x02\\x04\\x04\\x06\\x02\\x03\\x01\\x01\\x00\\x00\\x00\\x00\\x01\\x02\\x03\\x11\\x04!1\\x12A\\x05\\x13\"Qaq\\x81\\xf02\\x91\\xa1\\xb1\\xc1\\xd1\\xe1\\xf1\\x14#R\\x15\\x06\\xff\\xda\\x00\\x0c\\x03\\x01\\x00\\x02\\x11\\x03\\x11\\x00?\\x00\\xf2Uh\\xa0\\x08\\x06\\x84\\x02\\x904\\x03\\x94 h\\x01H\\x04 a\\x00\\xd0\\x02d5\\x83\"\\x89\\x92\\xd7q)1\\x1a\\x10\\n@\\xc0L\\x81\\xa0\\x04 \\x10\\x81\\xa9\\x01(\\x07(@\\xd0\\x02\\x92\\x06\\x80\\x10\\r\\x08\\x00\\xa4\\x0eP\\r\\x08\\x05 h\\x01\\x08\\x1a\\x00R\\n\\xb5X\\xba4\\x18\\x04 h@)\\x00\\x80`\\xa1\\x03\\x05\\x00\\xd0\\x1b\\xe8\\x99\\x11\\xeb\\xfc\\xadS\\xdbs\\x1e\\x1eL\\x86\\x14\\xbb\\xe1\\xe7a\\xfcYG\\x9c\\x97\\xe23\\xc6\\xe6b\\x8e\\xa6\\xc7\\xea\\x1f^\\n\\xc3\\xccq\\x96\\xfc2\\xf7\\x95\\x1b*\\xdb\\x94\\x14\\xb0\\xa5\\xcd\\x90\\xa6W\\xa8\\xcf\\x0c\\x8a\\xb4\\x92\\x9d}H\\xd2\\x19\\xb8V\\x14\\xb3\\xb9QA\\xef\\x16a\\nMx3\\x01\\x06\\t\\x14h\\xcd\\xd6\\x0eX6F\\x196\\xd6\\xc0\\xb84:\\r\\xc4\\xf5\\xb7U\\x11\\xb17\\x839S\\x84\\x99\\x11\\xc1mL\\xd1$\\x91\\x8a\\x93\\x10B\\x06\\xa4\\x80@fY\\x00\\x13\\xce\\xc8d\\xe0\\xd2\\xcb\\xee$0\\x05$\\r\\x00 \\x04 j@\\xe5\\x00\\xd0\\x80R\\x01\\x00\\xd0`hAW*\\xb9t\\x10\\x02\\x01\\xa1\\x00\\x84\\r\\x00)\\x03@9B\\r\\x94\\x1d\\x05a5\\x94:r]`\\xdb\\x05\\xaen\\xf7\\x83\\xc4\\xf9\\x8eU\\x1b\\xe3\\xb7K-N\\x97\\x07\\x1c{{\\x19\\xe3pZj7\\xc4\\\\\\x1d\\x06{\\xf5\\xeaA\\x95\\xa6\\x9b\\xba\\xa0\\xd60\\xd1\\xbe\\x8f\\xc4\\xb3\\xdf\\xef\\xf4\\'d\\xf8Xyk\\xb6w\\xc2g\\xae\\xd1\\xf4Z\\xf52\\xf3\\x12k\\x94z_\\x0c\\xd3\\xb8\\xc6I\\xf1\\xc9\\x179\\xca\\xfd\\xd9\\'\\xa6\\xfek~\\x93P\\xdf\\xa5\\x9c\\xcf\\x13\\xd1\\xa8>\\xb8\\xf6)j1t\\x94\\x8e\\x1c\\xabx\\xce\\x0c\\xd9J\\xd77\\xfbz~l\\x8eD\\xaa\\xd62\\xfe\\xfe\\xff\\x00\\x83\\xa1\\xc9\\xb2\\xc2\\xf6\\x81\\x17q\\x03\\xb72\\xa8\\xdfz\\x8b::],\\xa6\\xbegx\\xcc\\xba\\x93Di\\x9f\\x08o\\xc9r\\x96\\xaf,\\xed\\xad\\nH\\xf3\\xcfk\\xb2\\xe1J\\xb1s\\x1b\\r7=\\xd7kGw\\\\7<\\xe7\\x88i\\x95s\\xd9lPJ\\xb8s\\x8cVF\\xb0BpJ\\xc1a\\xb5\\x19u\\x9a>\\xbeK$\\xb2Y\\xd3i\\xfa\\xdfT\\xb8D\\xdcv\\x0bC=\\xedA\\x1a\\xac\\xc6\\xecE\\xad+)G\\x0b,\\xbb\\xab\\xd1\\xba\\xaaWZ\\xbf\\x16\\xd1]\\xd7\\xb6J\\x95\\x81\\xc7\\x1c\\xa1\\x03@\\nH\\x1a\\x00@\\x12\\x84\\x0c\\x15 `\\xa0\\x1a\\x10\\n@\\xd0\\x15J\\xb1t\\xc8\\x15$\\x02\\x00@4\\x18\\x04 h@)\\x00\\x80`\\xa3\\x0bb\\xcf\\x03\\\\\\xec\\xb4\\xce\\xbe\\xa4^\\xaf6E\\xe7|~GC\\x96\\xe2@\\x8dVko\\xb0$\\x8b\\xcd\\xfa|\\xa5s\\xed\\xd2u\\xec\\xb9\\xfa\\xfd\\xfe\\xf8.\\xe9b\\xbf\\x0b\\xe7\\xef\\xe2N\\xa6\\xd6U|\\xb2@ \\xf0=!c\\n\\xa5_\\xa2Gn\\x9b\\x9d,\\xd5\\x8c~\\xaf\\x0b\\x9c\\x0cq\\xdb\\xfc\\xac\\x14Z\\x9e\\x11\\x85\\xee9\\xeae>a\\x85\\r1\\xd3\\xf3uu\\xb7\\t\\x14c\\\\.\\x86\\xdc\\x90\\xa8\\xd3\\x97E\\xf6\\xf3\\xf9-\\xd9\\xca9\\xb6T\\xe3<3\\xbd\\xc9\\xa9\\x06\\x89\\xf2\\xfd\\x87\\xf0\\xb8z\\xb9o\\x83\\xd2\\xe8\\xeaQK\\x05\\xc7\\xbe\\x1dU>\\x86\\x91\\xd1\\xe9)}\\xac\\xc1\\xb5\\xf4\\xf6\\xef\\xf7\\x0b\\xa1\\xa0\\xb5\\xa3\\x85\\xe2t)D\\xe2\\x86\\x045\\x8eq\\xdcm\\xd9wagtF\\x87\\xc2\"\\xf46j\\'\\xb3\\xdf\\x1fLo\\xf5\\xdd\\x15\\xb5)\\xc3C\\xba\\xcc\\x8e\\x97\\xb2\\xcd=\\xf0p/\\xd2*\\xe8\\x85\\x99\\xdeY\\xdb\\xdb}\\xbf5\\xfe\\tX\\x0c\\xb1\\xf5O\\xc3\\x00o\\xe6\\xb6\\xc2\\x0eF\\xdd?\\x86\\xd9t\\x92K\\tru\\x98L\\x0bi\\xb4XY[QH\\xf5\\xfa}\\x1c)\\x8a\\xd8\\xe7\\xfd\\xa3\\xc7\\n\\xaf\\x0ci\\xf8LG\\x9e\\xdf\\x9d\\xd5{g\\x96y\\x8f\\x1b\\xd6\\xadE\\x8a\\x11|~\\xe52\\xd6p\\x01\\x00\\xe5\\x00!\\x03R@ \\x1a\\x00B\\x06\\xa4\\x0eP\\r\\x08\\x059\\x05Z\\xac]\\x04\\x03\\x94\\x03R@ \\x04\\x03B\\x01\\x08\\x1a\\x00\\nB$\\xe1\\xaa\\xc7\\xe7\\xe7U\\x94K\\xda[\"\\xb6\\x97\\x05\\xad\\'L\\x1dV\\x8f\\x9a\\xcaQIe\\x1e\\x9a\\x8d4\\x1a\\xcfg\\xf7\\xd8\\x9b\\x85\\xc7h;\\xfetZ/\\xaa3\\x8eW%;\\xe0\\xebo\\x06X,D\\xd6pq\\xdfi\\xdco\\x17\\\\\\xf5\\xe9\\x9e\\x18\\x92\\x94\\xe1\\x8e\\xe8\\x9d\\x99e\\xe4\\x8d`\\xf9\\x8bD\\xf5\\xe7\\xb2\\xb3%)pQ\\xf4\\xc1\\xe7<\\x99`r\\xcfy\\xee\\xde\\x04K\\x81\\x826\\xf1\\x00G\\xddm\\xae\\x99>8+ju\\x95\\xc5z\\xf9\\xf7\\xfe\\xfe\\'c\\x88\\xc1{\\xaao\\xd2\\xd3gX\\x9eZ-+\\x89\\xab\\xa7\\x16\\xf4\\xa5\\xc1\\xdf\\xf0\\xbdZ\\xbe1y\\xe5\\x10\\xb0\\xad\\xd7\\x0bE\\x9dQq\\xdbg\\xc9\\xda\\x93\\xc1\\xb78\\xa2K\\x1c\\xdf%\\xba\\x98b\\xc6\\xfb\\x1450\\xf3#\\xb1\\xc4f\\x8c,d\\x11\\xd0\\x0e\\xeb\\xb1\\x17\\xdc\\xec\\xea\\x14)\\xd1F\\xaf\\x92 \\xe0hN\\xe2o\\xb1W*\\x8eO,\\xa9\\x8c\\xaci-\\x96\\xdf\\x91\\xd1aF\\x91e~+\\x08\\xecT\\xba\\x16Q\\xab1\\xc5\\xe8at\\x89\\x85\\xaa\\xc9\\xe0\\xad\\xad\\xd5:\\xaar\\xce\\xe7\\x17Q\\xd2I\\xea\\xaa\\x9e\\x0eo-\\xb1!\\x80)\\x03B\\x01\\x00\\xc2\\x104\\x00\\xa4\\x81\\xa0\\x04\\x03B\\x02T\\x81\\xca\\x02\\xadV.\\x02\\x904\\x03@0\\xa5\\x10\\x08\\x01\\x00\\xda%\\tQrxD\\xf1\\x96T\\x80\\xe8\\x96\\x9eE\\xe3\\xcdN\\x1f\\'v?\\xfe\\x7fQ\\xe8\\x93Y\\x8b\\xef\\x17\\xc6~\\xfbd\\xc3\\x15\\x82,\\x9e@;\\xf5\\n85k\\xbc\\x1a\\xcd4\\x1c\\xb9I\\xf3\\xee\\xbd\\xfe\\x18#\\xb0\\xac\\x91\\xcb\\xad\\xeeO\\xc2\\xbc\\x82\\x04\\xdaVNXG\\xa4\\xf0\\xfb\\\\Z\\x87V\\xdf\\xa7\\xdf\\xd3\\xb9:\\xbd \\xef\\x13wZ$\\xf2\\xf6;\\x9a\\xad\\x1cg\\x178\\x8b\\rQ\\xa4\\x9b\\\\\\x91\\xbf\\x1d\\x82\\xd3|#5\\x93\\xce\\xd7\\x9a\\xe4\\xd7\\xb7\\xde{\\x9d^_XU\\x04G\\xc2\\xd0;\\x8f\\xcf\\xbai\\xe5\\x87\\xd1\\xce\\rZ\\xba\\xd3\\x8b\\x9f\\x05\\xaeJ\\xd0j\\xb1\\x81\\xa0\\t\\x9f+\\x91\\xb6\\xdd\\xf9]\\x1a\\xff\\x00\\x16\\xc7\\x9a\\xf1\\x0c\\xc6\\x8c\\xe7s\\xb2\\xc7\\xe1\\x9c\\xf6\\x16^9\\xe2\\xff\\x00\\x81R\\xd4\\xd4\\xe5\\xeaF\\xff\\x00\\x03\\xd4y?\\xc1\\xcd\\x9a>\\xea\\xb6\\x9e-\\x04\\x0f!\\xbf\\xac\\xae;\\x86W\\xab\\xdc\\xf7U\\xea<\\xda\\xf3\\xdc\\x91\\x8ex\\'\\xc26\\x04\\x9f=\\x96\\xe8>\\xb6\\x97dl\\xa9w\\x91\\xc2{ED\\xec\\x06\\xc6~|\\xab\\xf0\\x8b\\xc1sU\\x07mI\\xc7|<\\xff\\x00\\x04<\\x05\"nL~\\xeb\\xa7L\\x1e\\x0ev\\x9fG7\\xeb{\"\\xcc\\xc9\\xd8\\x18[\\xe5\\x94]\\x95\\x13odRg\\x14k<\\xea\\xd3\\xe0\\x8fK\\x05BM\\xb6p\\xf5\\xfe\\x1b\\xab\\xd4[\\xb6:\\x7fE\\x82\\x91\\xf3\\x1a\\x8e\\xc0\\xe9\\xdec\\xc8_\\xf2V1k\\x83\\xcb\\xdb\\tc\\xa9\\xf1\\xc1\\x80+<\\x95\\xf0\\xc0\\x14\\r\\r\\x08\\x05$\\r\\x00 2B\\x01H\\x1a\\x10\\x08\\x01\\x00\\xd4\\x90V*\\xc5\\xd0@\\nH\\x1a\\x00@0P\\x81\\xa9\\x06\\xdat\\xc9\\xb8<\\xf6\\xbf\\x17Q\\x93}5Nr]\\x1c\\xfc\\xf1\\xfa\\xf6,\\xb0\\x18\\xaa\\xad:\\x0bK\\x80\\xbe\\xd3\\x13\\xd9d\\x9b=g\\x86k5\\xd5\\xcb\\xc8\\xba\\x1dIo\\xf1_U\\xfc\\xfee\\xe7\\xfb#^\\xc3\\xe1\\xb1\\x0bz\\x82h\\xf53\\xa2\\xab \\xe2\\xd2\\xc3)+\\xe4\\x95\\x01%\\x90G\\x17\\xbcp\\xb44\\xd1\\xe1\\xf5\\xbe\\x01usr\\xa7x\\xf6Y\\xdf\\x06\\x9a4\\\\\\x080z\\xa9\\x97\\x1b\\x954\\xae\\xc8IIr\\\\\\xe1\\xc6\\xa1\\xb5\\xf9U\\xf2\\xa2{\\x9a\\xb5\\x10u\\xae\\xaex\\x7f?\\xbfr\\xbb\\x1dGC\\x83\\x9b\\xe1\\xea?=\\x12k\\xbaG#\\xc4t\\xb1\\x84\\xba\\xe2\\xb1\\xf0/}\\x9f\\xc4\\x8f\\xd4x\\xfa\\x1f\\xcf\\xa2\\xc2\\x84\\x94\\x9b\\xc7\\x07\\'W\\x16\\xb1\\x1fs\\xa9\\xc25\\xda\\x87\\xba:\\x8d\\xb4\\xda\\xe7\\x98]\\x8a\\x92\\xf7\\xd8\\xf2~!W\\x98\\xbaR\\xdf\\x8f\\x81\\xe8\\x9879\\xcd\\xb8\\xb9UmK$\\xe8a\\x9c\"\\x8f:\\xc2\\x90K\\x80\\xb3E\\xcf2M\\xa1sn\\xa5\\xcb-\\x1e\\xb3E\\'\\x85\\x12\\x93\\x13[M\"\\x07\\xc4\"z\\xc1\\xbc}\\x92\\xaa\\xb0\\xb0\\x8e\\xf5\\x15fI\\xcb\\x86Sb\\xf0\\x15*9\\xce\\x02y7]:#\\x85\\xb9~\\x16\\xd7\\x08\\xa8\\xb3\\x1c.J\\xe7\\x18\"!\\\\vF(\\xce\\xcdEq\\x8e;\\x17X|\\x00\\x16\"DB\\xa5}\\xcd\\xf0R\\x9d\\xed\\xf0W\\xe6X\\x16Tk\\x98\\x08\\x166\\x1f\\x9b-P\\xcfsj\\x9c\\xba\\x1eW\\'\\x11\\x8d\\xca\\x1bA\\x84\\xbc\\x97\\x12wn\\xde\\x8aZ\\xc1\\xc3\\x97\\x85\\xe9\\xea\\xaeS\\xb5u7\\xf4*}\\xd6\\xf6\\xbfx<p\\xb0L\\xe0]\\xa5\\x8a\\xcbK\\xfb\\xc1\\xb2\\x8e\\x1d\\xc4\\xc3Zgq\\xcc\\x8b\\xfc\\xcc\\x05\\xb5#G\\x919\\xb5\\x18G\\xf6\\xdf\\xfc\\x99S\\xc1\\xb8\\xf0\\x7fk\\xa94\\xc3I9l\\x91\\xa2\\xb5=\\'I\\xdco\\xc5\\xf9B\\xb5\\xb5\\xf9r\\xe9|\\xae~f\\nMcB\\x01\\x00\\xc1B\\x06\\x80\\x14\\x904\\x00\\x80\\xacU\\xcb\\x80\\x80h\\x01\\x08\\x05 h\\x01\\x01\\xb6\\x85H;\\xdb\\xd6>A\\x0bZ;\\xddV\\'\\x9c.\\xfc\\xfe\\xc8\\xeb2\\xec](>\\xec\\xb4\\x98\\x1b\\xcc\\x9f \\x16\\xce\\xb5\\x1e\\x0f{O\\x89\\xe9^#C\\xce\\xdb\\xfd\\xbf\\xd8\\x9b\\x83\\xa7/!\\xde\\x12OB7\\xef\\xb2F\\xc2\\xd5Z\\xb5)a4^T\\xc9\\x9a`2\\xe7\\xeb\\xbf2\\xb1\\x94\\x8dV[)-\\xf6!\\xe6\\x19!\\x1at\\xbbLZ\\xe6|=>kT\\xac\\xe99z\\x8d4d\\xd3\\x81X\\xfc+X\\xed\\x88\\xbf<\\xfeYU\\x9d\\xb90\\x82px\\xce\\xfc\\xfc>O\\xe3\\xf9\\x90q\\x8c\\x06\\xc4Yn\\xaa\\xcc\\xac3\\xae\\xa6\\xaf\\xa9u\\xa3,\\x0c\\x02,~\\x18\\xf9\\x91\\xcf\\xa2\\xb4\\xa3\\x16\\xf6<\\xfe\\xa7M.#\\xdb\\x8c\\x9dNO\\x8b-\\xaa\\xd0\\x0e\\x92o3\\xb4\\xf4\\xea\\xadS\\x86p5U\\xb8\\xa4\\xe5\\xd9\\x9e\\x97\\x93?X\\r\\xd4\\x0c\\x03p#\\xf2\\xc5i\\xbdcs\\n+Q\\x93h\\xdd\\x8e\\xa4\\xc83y;-Q:\\xd4\\xb9.\\x0eO\\x13GUj\\x87L\\x02m\\xc7\\x91\\xfb(H\\xee\\xc2\\xc6\\xaa\\x8a\\xc9\\x1a\\xa1-0\\x1aoi\\x03~\\xaa\\xdc\\x11\\xb6\\x11RYl\\x96\\xcaZ\\x01\\xa8\\xf3\\x16\\x9b\\xda\\x02\\xd3k\\xc6\\xc6\\xb7>\\xa7\\xd3\\x12\\xa7\\x13\\x9bjo\\xfab\\t\\x1c\\xfetZ\\xfa1\\xc9j:n\\x97\\xea+\\x0e$\\x81\\xad\\xd3{\\x08\\xeb\\xd1g\\x8c#m\\x93\\x8ax]\\x8a,\\xcf\\x14_\\x00\\x11\\xea-$\\xdf\\xf3\\xc9j\\x9c\\xb0\\x8en\\xa6\\xf9c\\xd2\\xff\\x002\\rl\\x13\\\\\\xe6\\x80\\xedN?\\x11\\x9b\\\\\\x99\\xe3`\\x06\\xcbT%-\\xdb_#\\x8f\\xa9\\xa7\\xcf\\x9cRy}\\xfd\\xbf\\xd2\\xc1kS\\x0e)\\xc6\\x82%\\xd6\\xd2<\\xc6\\xe1o\\xae\\xcft_\\x9dKN\\xfd\\ro\\xd9\\x11\\xb18\\xb0X.\\x01\\x1f\\xa8\\xc1\\x8e\\xdb\\xcf\\xf7[\\x9bL\\xd3v\\xaa.\\xa5\\xbe\\x1a\\xee\\xfb|\\xb9\\xc9\\xccb\\x1d.7\\x95\\x81\\xe4o\\x97T\\xdb5\\xa1\\xa4h\\x01I\\x03@\\x01\\x01\\x92\\x10\\n@!\\x05Z\\xac]2\\x95 \\x10\\x81\\xa0\\x04\\x00\\xa4\\x81\\xa03\\xa3L\\xbc\\x86\\x8d\\xca\\xc6RQYd\\xc69xD\\xf1\\x96Wd9\\xa3\\xcc\\x10V\\xa5\\xa8\\xad\\xf77\\xaam\\x8e\\xe8\\xef\\xf2|\\xec\\xd6h\\xa0\\xfae\\x84\\x8dN>\\xecU.x\\xfd\\xa0\\x9b\\x00\\xa3\\xcc\\x8ffv\\xf4\\xb7JRI\\xac2\\xc6\\x8dFR$\\xb2\\xa0\\xaa\\xdb\\x02H,w\\xc8\\xef\\xfd\\x94YwI\\xd8\\xf3\\xec^\\x99G\\x7f\\xcc\\x99\\x84\\xc4\\xb5\\xe5\\xc4\\x81\\x11\\x17\\xd8z\\xfc\\xd5\\'\\xa9\\x9fQ\\xaawH\\xaf\\xccp\\xed|\\x10&\\xfd\\xa0\\xadN\\xc7\\x9c\\x95\\xe7)\\xc9c\\x05a\\xcb\\x03\\xad\\xeb=V\\xea\\\\\\xfa\\xb0Y\\xd3\\xcey\\xc1\\x13\\x11\\x83\\xd1v\\x81?\\x7fE\\xd6\\xaeI`\\xb98\\xc6K/\\x93V\\x12\\xa3\\xdfQ\\xad\\xa7\\x01\\xc4\\xdaL\\x0f\\x9a\\xb5\\x19{\\x1eo\\xc4)r{\\x1e\\x9d\\x91\\xe2*QcY\\x00\\x91\\xb9\\x1b:o3\\xba\\xc6\\xdc3\\x96\\xa5\\x184t\\x14i\\x97x\\x9d\\xd3e\\xa5\\xcb\\x11:P\\x9f\\xa4\\xab\\xcdKX\\xe3h<\\xf9\\x93\\xd1cRr\\xdc\\xe8\\xe9\\xf2\\xd6MxL6\\xb8\\xd8^L\\xef\\x0bs\\x97H\\x9d\\xdd,\\x8d\\x9aa\\xbd\\xe8.\\x9f\\x0bD4}\\xcf\\xddk\\x9c\\xb2\\xd2,\\xe9\\xacU\\xe1w\\xeeT\\xe5\\xb9&\\xbf\\x11>\\x19\\xb7\\x16\\xfc\\x8f\\x92\\xd7[Wg\\xd9\\x16\\xb5Z\\xc7\\x07\\xb7?\\xc9\\xa3\\xda,\\x13i\\xd24\\xdb\\r\\x13&bw\\x01\\xa3\\xbd\\xcf\\xc9L\\xaf\\xcd\\x91\\xae/l?\\xbf\\xa1CK\\x1e\\xa9J\\xc9\\xf2\\xff\\x00C\\x8b\\xa7D9\\xe4\\x83\\xb7_%\\x13YfR]Sm~\\xa4\\xaaT\\x83o\\xb7\\x06\\xdfHG\\xb2\"1Kw\\xb7\\xd0\\xae\\xcc\\xb1\\xa2\\x99\\x81{\\x10H\\xd8\\x9b\\xdaA\\xb7E\\x8a\\x93|\\x94u6\\xf4>\\x98\\xf6\\xce_\\xdb\\xfc\\xca\\x8cN(9\\xc2Y\\r\\x88\\xd2\\t\\xe2y<\\xc9[\\x12x\\xc6w8w\\xeaT\\xe6\\xb3\\x1cG\\xdb?\\x7f^\\x08+a\\xcf\\x04 h\\x06\\x80\\x14\\x904\\x00\\x80r\\x84\\r\\x01V\\xab\\x97A\\x08\\x1c\\xa9\\x03B\\x01\\x00\\xd0\\x02\\x02vTt\\xd5i\\xb1\\x13u\\xa6\\xe5\\xd5\\x06\\x8d\\xf4\\xc5\\xf5&z6\\x1f\\x06\\xc7\\x80A\\x07\\xa8+\\x83)\\xb8\\xbc3\\xbd\\n\\x93D\\xca4t\\xbc\\x10\\x00\\xec\\xacUeo\\xf1~y:T\\xc2\\xbca\\xac?rm]\\xaf\\x07\\xb8Va\\x1a\\xe7\\xb2\\x91\\xb5S\\x0c\\xec\\xc85\\xc0\\xfd0\\xd8\\xfe\\x91c\\xddoZj\\xa3\\xcbbUV\\xb9cs\\xc8\\x02\\xd7>G\\xf2Ui\\xd5\\x18\\xbcnU\\x92^\\xe1I\\x84;\\xc5c\\xe7\\xc2\\xdd\\x19(=\\xcc\\xbc\\xce\\x93*\\xd8R\\xe9$\\x0bl\\xb6B}Y4KR\\x97r\\xa6\\x8e\\x10\\xb6\\xb3^\\xc6\\x89\\x0e\\x13\\xeac\\x8e\\x15\\xfa\\xa5\\xb6J\\x17_\\xdc\\xf4\\xea4Z\\xca`\\xce\\xc3u\\x12\\x9eY\\xc1\\xb5\\xf9\\x92\\xcb9\\xec\\x7f\\xb5\\x7f\\x15:R^\\'\\x9d%\\x91\\x17 \\x8b\\xad\\xf5\\xd5\\xd7\\x1e\\xa7\\xc1\\xea4\\x14\\xc6\\xc8\\xa7\\xd8\\xc3\\'uW\\xb4T\\xabS[\\x89\\xfdFLv\\xe1L\\xa5\\x15\\xb2:\\x17J\\xb8\\xfac\\xb13\\x1b\\x99\\x16;H\\xa6d\\x00Lo\\xdc}V\\xa9N8\\xd8\\xa2\\xa1\\x19o\\x93\\x1c\\x16=\\xe1\\x85\\xd5\\x1aH2\\x00#\\xa9\\x80\\x177Q\\x99\\xb5\\x18\\x16cRxI\\xeeI\\xf7\\xcdh\\x11\\xb6\\xfeK|\\xa5\\xe5\\xd6\\xaa\\x8f=\\xc9\\xe5\\xb6\\xce{>\\xc4\\xb6\\xa5\\xb8\\xdc\\x99\\x9f(\\x95\\xa7g,\\xfble\\x05\\xd0\\xba_s\\x93\\xc4=\\x83\\xe1\\x1b\\x92\\xaeG&\\xb7\\xebx\\x82\\xe4\\xd5S\\x16t\\xf4\\xe6c\\x8e\\xb0\\xa1\\xc3\\x0b,\\xbd^\\x9aJ>\\xaey(+\\x12\\xf7Z\\xe0\\xba\\x04\\xccz\\xc7+T7nL\\xf3\\xbe%7\\xd6\\xea\\x8b\\xcb\\x93\\xc3\\xf6\\xf9\\x18\\xe6\\x0c{HmA\\x0eh\\x00\\x08\\x17o\\x06F\\xf7Y\\xd5(\\xb5\\x98w8\\xfa\\xaa\\xec\\x83P\\xbbf\\x96\\x16\\xcb\\x8f\\x9a\\xe4\\x8c\\xe6\\x11\\x12\"@#\\xcc\\x1d\\x8a\\xdc\\x9aeIA\\xc7\\x94%\\x91\\x80!\\x03@\\x08\\x06\\x80jH\\x04\\x01(\\n\\xc5\\\\\\xb8\\x08\\x06\\x84\\x0c\\x14\\x01*@\\xd0\\x81\\xa07a\\x8c8\\x19\\x8fI\\xfa,d\\xb62\\x87\\'}\\xec\\xedz\\x82\\x18b\\xff\\x00\\x9bp\\xb8\\xba\\xaaw\\xca;\\xbag(\\xfadu\\xf4\\xf0/0\\xe1\\xb1Tv\\\\\\xb3\\xa2\\xa4L\\x14KlB\\x954\\x8c\\xba\\xc8x\\xca%\\x930\\'\\x8e\\xcbto}\\x8c\\xe1\\x1e\\xbe\\xc4VQk\\xa4j\\x03\\xe5\\xf4\\x0bz\\xberyfR\\xae+l\\x95\\xb8\\xaa\\x8e\\xd7\\x02{\\xf1\\x13\\xcfE\\x8c\\xba\\xdc\\x8a\\x12,\\xf0\\x95\\x81\\x96\\x93&$\\xae\\x8e\\x9e+\\x189\\xba\\xa9\\xb8\\x96\\x99~[&H\\x99\\x02\\x15\\xf85\\x15\\xb9\\xca\\xb6\\xc9\\xcbd\\x8b\\x1cEB\\x1aZI\\xb0\\xbf\\xf0\\xb2m2\\x94ac\\xb3\\xf79\\xdc]ju4\\x9b\\x12\\x01\\x12\\x04L\\x1e\\xbc\\xa7\\x9a\\xe0\\xb0{m\\n\\xe9\\xadt\\x993\\x13yo\\x87\\xb7\\xd5hm\\xbeM\\xf2\\xa2Rb\\xc4ga\\x96\\x1f\\x14D\\x9d\\xd65\\xc2R\\x96Y\\xba\\xbd\\x16!\\xb9\\xa6\\x96e\\xafw\\x13\\xdd_\\x94\\x12Y\\x89\\x8fJ\\xe0\\x85\\x99fO\\xa6t\\xc7H=\\xac\\xb8\\xfa\\x9f22\\xe9\\x8f~\\xe6\\xda\\xe3\\x0cz\\x8aj\\xd9\\x83\\xaaH\\x8bO&\\xebv\\x96\\xae\\x9d\\xe4\\xcb\\x1az|\\xe9e\\xad\\x88\\xd1\\x1b\\x8bu#\\x95jVcdt\\xa3\\xe5\\xd0\\xf0\\x92\\xcf\\xf2A\\xc7\\xcb\\x88\\x00\\x1b~~\\xcbD\\xe7\\xd5\\xb39\\xda\\xddzK>\\xdc#\\x06eOh\\x0f\\x00\\x92<@\\x81~\\xb0\\xb5\\xbb\\xa2\\xbd=\\xb8<\\xa3\\xd3Y\\xd5\\xe6>s\\x9c\\xae~F\\x83\\x86\\x15^MG\\x111\\xe2-\\xd8\\xd8]\\xb31\\xfeVjn\\x11]?\\x91\\xaat\\xadE\\xb2v6\\xbe8\\xe3\\x8eW>\\xeb\\xb7\\xbfb\\xbe\\xbd\\x02\\xd2A\\xe3c\\x07\\xc5\\xd2%X\\x8c\\x93[\\x1c\\xcbi\\x94\\x1bR\\xfa|~_{w59\\xa4\\x12\\x0f\\x1b\\xac\\x93\\xce\\xe6\\x99E\\xc5\\xe1\\x84\\xa91\\x05 \\x10\\x81\\xa0\\x1a\\x00R@\\xd0\\x15\\x8a\\xb1p\\x14\\x80@4\\x00\\x84\\x17\\x99\\x1eD1\\x01\\xd3]\\xad \\x02\\xd6\\xf2n$\\x13\\xc5\\xbb\\xaa\\xd7j<\\xbe\\xc5\\xdd>\\x93\\xcd\\xce\\xe6\\xea\\x1e\\xcc\\xb9\\xce\\x12\\xf0\\x04\\xde\\xc6\\xc2@0\\xed\\xa7~8Z\\xe5\\xadIpm\\x87\\x87JOvt\\xd4}\\x9a\\xc2\\x03Q\\xa4\\x18\\xfd\\x06o\\xa6N\\xf1\\xb9\\xf3Te\\xad\\xb1\\xe0\\xe8G\\xc3\\xabY;/g2\\x1c=:\\x10\\xd6\\xc8q\\xb9\\'\\xc4}}\\x02\\xa5n\\xaa\\xc9\\xcb,\\xde\\xaa\\x8dk\\xa6%\\x95|Ci\\xc3\\x06\\xc0[\\xb7\\x92\\xa5\\x896m\\x8cs\\xb9\\x1a\\xbe0\\xd9\\xedsI\\xe8d~\\xebbO\\x87\\x93$\\x92\\xd8\\xa2\\xaf\\x8b\\x0fy\\x15\\x08\\x99\\xdeg\\xd1]\\xaf\\xa5,`\\xd8\\xdbQ\\xd8\\xc2\\xa3\\x83o\\xd3\\xeb\\xf9eo\\xabc\\x99\\xa9\\xd4J/\\xe0G/\\x05\\xe5\\xa7\\xbf\\xd2\\xd0\\xaeQD\\xa5\\xc1\\xca\\xb7\\xc4T\\x1e\\xe4\\x9a\\x18\\x11\\xac<:vW#\\xa4py*\\xd9\\xae\\xf3v;\\\\%R\\xc64\\x1f\\t?8\\xfd\\x95-E\\xe9K\\x07WM\\xa7\\xea\\x86Z3\\xc5a\\x83\\x9aI>\\x15\\x96\\x9anO,\\xc6\\xf8B\\x1c\\xa3\\x8d\\xcc\\x9aX\\xe1\\xa24\\x82}|\\xd7E\\xc7+r\\xf6\\x8b^\\xa3\\x0e\\x94\\x91\\x02\\xab\\x8b\\xbe\\x11\\xe2\\xf2\\xdb\\xba\\xc3)l\\xcb\\x8f[\\x0cerU\\xe6\\x18*\\xba\\xb5\\x10mu\\x94f\\x9f\\x06\\x87\\xad\\x9f\\x08Tk\\x96\\xb5\\xa6/\\xb7\\xf7Yy\\xf1\\x96\\xd9,U\\x17=\\xd9q\\x87\\xc2\\x9c@\\x02\"\\xf1>\\x8b\\x97\\xae\\xd4\\xc2\\x1c\\xbd\\xfb#\\xaa\\x94!\\x0c0\\xaf\\x91\\xe9$\\xcc\\xbb\\x80\\x04Os\\xc2\\xe5\\xff\\x00\\xf5,\\x96#\\x18\\xe3\\xdc\\xdb\\x1b\\xd66\\xd8\\x8a\\xcc\\x0b\\x1c&\\xa3\\x81\\x13\\xb0>\\x7fU\\xd1We-\\xcaW[9v\\x1e/\\x0bE\\x80\\xb5\\xa3S\\xb91\\xcfE\\x87\\x9a\\xf3\\xb1\\xcc\\x9cV7\\xe4\\x8f\\x86\\x02\\x08\\xb8=\\x7fh\\xf4Zl\\x93\\xceY\\xae2\\xc2\\xc21\\xa9\\x974\\xc9\\x04\\xc972g\\xeb\\xd9\\x16\\xa2Kc\\tA\\xc9\\xb7\\x97\\x97\\xdc\\xa5\\xc7\\xe4\\xee\\x1f\\xa9\\xc4\\x19\\x11\\xdeo\\xe4\\xae\\xd5\\xaa\\x8b\\xecso\\xd3\\xcf\\x1b\\xb6\\xff\\x00?\\xec\\xa4\\xa9\\x84p$\\x01\\xb4}\\x95\\xf5bk99\\x92\\xaaY\\xc6\\r>\\xec\\xfc\\x96y5t\\xb3\\x19Rb5 \\x10\\x81\\xa0\\x04\\x03@V*\\xe5\\xb0@5 \\x9d\\x83}6\\x89s\\x03\\xcd\\xecI\\x00[\\xa7%h\\xb3\\xad\\xbc\\'\\x82\\xdd>\\\\c\\x99,\\x92\\xa8f\\ru\\x8e\\x1a\\x91\\x88\\x8f\\x07N\\xabL\\xeb\\x9c_\\xe3e\\x9a\\xad\\xae\\\\\\xd6\\x8b\\x8c\\xab\\x13P\\xc9cCE\\xa6\"\\x02\\xa3}y\\xd9\\xb3\\xa7\\xa6\\xb5Ee\"\\xe1\\xb8\\xfa\\x9e\\xec\\x87| \\xcc\\r\\x84\\xf5\\xfa\\xadq\\xa7s)\\\\\\xb7dg\\xe6`\\rn\\xb4|\\xd6\\xd8\\xe9\\xdb\\xd8\\xd5=\\\\b\\xb2\\xc9\\x14\\xfd\\xb8yn\\x8an\\r;\\t\\x1bZ&\\xdb\\xa9\\xff\\x00\\x80\\x96\\xec\\xae\\xfcC\\xa9\\xe1\\x179Fhj\\xf8\\xab<\\x18\\x1b\\xf1\\xf5\\xee\\xb4YKO\\x11E\\xdaor\\xd9rK\\xa9\\x99\\x832\\xe2\\x07O\\xbd\\xf6X:d\\xb9F\\x16]\\xd3\\xbb)s\\x1cc>\"\\xe6\\xc4Z\\xff\\x00u\\xbe\\x9a\\x8aWk\"\\xa3\\xca*1y\\x9dB\\xdbH\\x1cF\\xc6\\xca\\xf4t\\xab\\x1b\\x94\\xa5;g\\xf2-2\\xa0K\\x1a\\xf7\\x19.\\x02<\\xac\\xbb\\x9a]2\\xae\\'\\x03Yfn\\xc1\\x7f\\x93\\xb5\\xfe\\xf0xI\\xe5N\\xa6IG&Ze\\x89\\xafs\\xac\\xa5\\xaa\\xa3\\x83\\x9e<\\xba/37\\xe6\\xcb8=}o\\xcb\\x82M\\x93\\xf1$\\ng\\xb2\\xdfB\\xc3*\\xea\\xbdQ8\\x9a\\xed\\x05\\xc5\\xc4O\\x97\\x0b\\xa4\\xe6sk\\x9e*\\xdb\\xe2\\x19uV\\xea\\x88\\x89\\xf2\\x9bwTn\\xb9\\xa7\\xb1cOr\\x96\\xcd\\x9d%L57\\xb6\\xe0\\t\\x11\\xb0\\xba\\xe7\\xce\\xd7\\xd9\\x9d\\xaa\\xe2\\x9e\\xf8\\xc9\\xcf\\xe2\\xbd\\x9c\\x99kD4\\x88\\xde:_o%FS\\xbb\\xa95\\xd8\\xeaWej;\\x93\\xb0\\x18\\x11E\\xb1;yE\\xf9\\xdbu\\x8cj\\xdf\\xaaos\\x1bo\\xeax\\x8a5f\\xf5%\\x96\\xe7\\xf7\\xdc\\xf7\\xfeV6O\\xa6;\\x1bt\\xf5\\xe6^\\xa3\\x9b\\xab\\x87\\x99\\x00\\x06\\xf3\\'u\\xa1Z\\xd4\\xbb\\x9di\\xcf\\x10\\xfb\\xc1_^@\\x93\\xbf\\xed\\xea\\xbbu\\xb6\\xd6\\xe8\\xf2\\xba\\x8f\\xc4\\xderEn.\\x08[\\x1dy*y\\x84\\xdax\\xa9\\x1b\\xad.\\xb3r\\x9eA\\xf8\\x907!\\x143\\xc1\\x12\\x9a\\\\\\x95\\xd8\\xca\\x8c\\x17\\x8b\\x9d\\xed>\\x8a\\xd5JL\\xa9k\\x82\\xdf\\x05M\\\\\\x15\\x12\\t\\x0e\\xd2w\\xfc\\n\\xdcm\\xb1=\\xd6J2\\xa2\\xa6\\x9bO\\x0c\\xac\\xafKL^~^\\x96\\xddZ\\x8c\\xb2R\\x9c\\x14MAfk\\x18(@)\\x00\\x84\\r\\x01X\\xab\\x97\\x01\\x00\\xd0\\x80@f\\xca\\x84lH\\xb4(\\xc2d\\xa6\\xd7\\x06T\\xeb9\\xbf\\x0b\\x88\\xecHR\\xe2\\x9f(\\x95).\\x19$f/\\x17\\x06\\x0cD\\x82~\\xbdV\\xbf)\\x1b<\\xe9\\x11\\xeaV.\\xdc\\xed\\xb2\\xd8\\xa2\\x91\\xa9\\xc9\\xbeLZO\\nY\\x08\\xe92,[\\xe9\\xfcN\\x00:7\\x1a\\x8cv\\x95N\\xd4\\xb3\\x98\\xf2u4\\x9ed\\x1a\\x92x:\\x9c\\xcc\\xb1\\xd4\\xb5Ss\\x9a]\\xb4u\\x8d\\xc0;\\x1d\\xfc\\x95Jk\\x94\\xec\\xc4\\x96KW\\xe9\\xa34\\xeck\\xf5e#\\x9aH\\x1e\\xf1\\xb0\\x1b\\xcb\\xa0\\x93\\xf2\\xf3\\x95\\xd6\\xabL\\xa3\\xc28\\xf5\\xc2\\x11\\x9bi\\xe7\\xf8\\xfb\\xec`\\xe7\\x079\\xa2\\xe4t\\x1b\\x1eo\\xd1Z\\x84\\x17RX6\\xea.\\x8fKr\\x97\\x07OC\\xc4\\xd0\\xe7Cc\\x8e\\xca\\xdc\\xedPY\\x96\\xc7\\x98\\xb6.\\xe9\\xe2\\xa4\\xdf\\xc4\\xed\\xf2g3\\xdd\\xb5\\xa3\\xc8\\x82>\\xcb\\x91\\xa8\\xd5Bo\\xd2u\\xf4\\x9a;c\\x87c%\\xe2+E\\xc5\\xbbs\\xba\\xe7F\\xce\\x94\\xce\\xce\\x13h\\xc7\\x17\\x8a\\x1e\\xe8\\x187\\xe3\\x9d\\xb7[jX\\xdd\\x9a5\\x1a\\x8f\\xfc\\x9c\\xf5f\\x96\\x83n\\t?++N\\xcc\\x94\\xb1\\x1f)\\xe7\\xdc\\xcf+\\xc0\\x9a\\xcc\\x03h\\xbf\\xf9Z\\x9djDh\\xa0\\xd4\\x13|\\x9b\\xf3L\\x03\\x853\\xfe\\xa3\\xad\\xb4\\x18\\x16\\x9eU[(h\\xecWl\\x91\\x1f$\\xce^\\x18\\x1a\\xf0\\\\d\\xf3}\\xedrW2nU\\xcbu\\xb1\\xd3\\xad\\xc2\\xc5\\xc9\\xaf<\\xcc}\\xd3K\\xddh\\xf5\\xdc\\xed\\xde\\x16\\xd8\\xb8\\xcfn\\xe7N\\x98W\\xcb\\xe0xL\\xda\\x9df\\x8d\\x07arD|\\x8a\\xd8\\xe8RX\\x0e\\xb6\\xbdFO\\xcb\\x81\\xbc_{\\xdeU\\x0b4\\x12\\xec\\xcc\\xe3\\xab\\xecD\\xc4` \\xf8\\xc0\\xb8\\xfe\\x90{L\\xaa\\xf5\\xdb~\\x97t\\xbf=\\xc8\\xb2\\x15\\xde\\xb0p\\xf9\\xd9,y\\xd2\\xd1\\xa4\\x7fO\\x86\\xfd\\xa7\\xec\\xbd.\\x9a\\xd5|\\x14\\x9aI\\xfe\\x87\\x97\\xd6\\xc5\\xd3,-\\xd1H37\\x82H\\xdb\\xa1W|\\x88\\xb4s?\\xe5M3]|\\xc1\\xef\\x897\\x1bB\\xca4\\xc6&\\xb9\\xea\\'<d\\xc5\\xd8\\xc7\\x1eo\\xd5d\\xabH\\xc5\\xdd\\'\\xf30\\xad\\\\\\xbe&-\\xcc}\\xd6Q\\x82\\x8f\\x063\\xb1\\xcb\\x93\\\\\\xac\\x8dl\\x14\\x90\\x08\\x07(@\\xd4\\x80B\\n\\xd5\\\\\\xb8\\x08\\x01\\x00\\xd0\\x02\\x105 \\x10\\x191\\xa4\\x98\\x08\\xde\\tQrxD\\xdat\\x83\\x06\\xa7\\x11\\xfczn\\xb596\\xf0\\x8b\\x90\\xaa5\\xc7\\xaaL\\x99\\x84\\xcdZ\\xc2\"\\x9c\\x9f\\xea<vo\\xeeJ\\xd5:\\\\\\xb9f\\xf8k\\xa3\\r\\xa3\\x1c\\xfc\\x7f\\xa4]R\\xa8\\xfcU=07\\x12I\"\\xfb\\x88?5\\x9e\\x9bO>\\xbfC\\xf9\\x9a5~!\\x1a\\xeb\\xcc\\xb3\\xbf\\xb7\\xfbY,r\\x9fgYN\\rZ\\x9a\\xa2\\xfao~\\xfa\\x8d\\xfd\\x02\\xed\\xd5\\xa6Q^\\xa3\\xc6j\\xbcR\\xc9\\xb6\\xabM|\\x7f\\xd1f\\xfa\\xf8z$CZO\\x01\\xa2\\xe7\\xd5k\\xbe\\xfa\\xeb\\xe0\\xdb\\xa3\\xd2\\xdfr\\xf5\\xe7\\x7fr\\xc0\\x96\\xd5\\x01\\xcc\\xa7\\x1d\\t\\xf3\\x89\\xb2\\xe5j5*\\xc5\\x8c\\x1e\\x83E\\xa2t4\\xdb:<\\x15=\\x00^\\xc0.zYgJ\\xf9(\\xad\\xcc1X\\xed\\x03`\\\\O\\xa0\\xdb\\xf9R\\xaa\\x93eG\\xa9\\x8a[\\x9b\\xc8\\xd4\\x1au\\x1d\\xbd:\\xf2\\xb3\\xbd\\xb4\\xfaQ\\xcf\\xa9\\xf5>\\xbc\\x98\\xb5\\xa1\\xc7LOY\\xe8\\xb2\\xa6\\xdc\\xecm\\x87\\xfd\\x8b\\xa3\\xea\\x89\\x18\\x06{\\xa2!\\xc2\\xe4\\xabQ{\\x1d}\\x1dI\\xd5\\xd2\\xf9F\\xafh\\x9d\\xa6\\x8e\\x9d\\xe7oT\\x9e%\\x1c\\x9d\\x1d5\\nr\\xc3(r\\xeae\\x8e\\x05\\xf1\\x16\\xd8lf\\xfc\\xf9\\xf4Uza(<\\x9c\\xed\\\\,\\xa6\\xe5\\xd3\\xc1w\\x99e\\x94\\xab\\xd3\\xf1\\xb6\\x0f\\x91\\xf4\\x929\\xb2\\xe5\\\\\\xa3\\xd3\\xd5\\xc3:\\xba=M\\x90\\x9e9G\\x9cf\\x98g\\xe1*\\xba\\x97\\x11 \\x83b\\xd3\\xf7W\\xb4\\x9f\\xf7G\\x9d\\xd1oS\\xaa\\xf2\\xb0\\xd7\\x0f\\xef\\x06\\xdf\\xf7\\xd3\\xa5\\xa4\\x01m\\xc7S\\xc9\\xf26W\\x958\\xe4\\xa5n\\xa5Il\\xf0\\xff\\x00O\\x91\\xb7\\x1f\\x9f\\xba\\xa4\\x16\\xba\\x00\\x1e/(\\xdc\\x9e\\xb6Z\\xa5\\xa4\\xaek\\x05)k5\\x10\\xddG+\\xe0i\\xc5c(U\\xa6\\x0e\\x80\\xef\\x0e\\xe1\\xd6\\x9f\\xbfU\\xcbZME3\\xc2\\x96#\\x9e\\xc8\\xb3\\xff\\x002\\x8b\\xe1\\x99G/\\xe2r\\x19\\x8e\\x10\\x02Kv\\xef%w(\\xb5\\xb5\\x89rp\\xf5\\x14\\xa4\\xdb\\x8f\\x05z\\xb2S\\x05 \\x10\\x81\\xa0\\x04\\x03R@ \\x1c\\xa0\\x1c\\xa1\\x05b\\xd0\\\\\\x18(\\x01\\x08\\x04\\x03@\\x08@\\xd0\\x195\\xe4lQ\\xac\\x99FN<\\nT\\x91\\x9c\\x9b(\\x00H\\x9d\\xb9X\\xc9\\xed\\xb11[\\xeez\\x0f\\xb1E\\x8fxeF\\x07\\xb4\\xdd\\xb0\\xed\\x1aGy\\x0b\\x93v\\xa6\\xfa^k\\x93^\\xe7j\\xbd-\\x17\\xc3\\x16G>\\xdd\\xbf\\xc9\\xd2\\xe7\\xf4\\xb0\\xd8J^\\xf4\\xe8\\xf7\\x8e\\x10\\xc6:\\x06\\xb1\\xa8x\\x9b\\xa8\\xccA\\x82E\\xd6Uju6?\\xc6\\xf6)[\\xa4\\xd3C\\xd1\\x18G/\\xe0\\x8eK\\x0b[\\xdeU\\xd4E\\x83E\\xba\\xc7k\\x0fN![\\xab~J\\xba\\x8fBX/\\xf08\\x990\\xdb\\x83\\xf4\\xed\\xf5Y:\\x934\\xff\\x00\\xcbp[\\xa2\\xca\\xb6`[nc\\xfc,\\xe3RH\\xe7\\xdd\\xabsf\\x18\\':\\xb5@&\\xc0\\xdey\\xbe\\xc0\\x80\\xb6F\\x185+<\\xcex.\\xb18\\xa0\\xc2\\xc64\\x8d\\xc97\\xe26\\xfa\\xad3I\\xc6RgUN\\xa8V\\x96B\\x96$I3x\\x04\\x83\\xcf*\\x87R\\xe5\\x1b\\xe1\\xaa\\x8c\\xa3\\'\\x05\\xfe\\x05\\x88\\xc7i\\xa9\\xa2\\xc2\\x04\\x997\\xe0\\x91\\xd9t\\xab\\x92\\xc1wH\\xfc\\x9a\\xd4\\xa7\\xbb\\x93)\\xb3\\x1c\\xf4\\xbe\\xa8dxZ\\xd0]\\xb4\\xcc\\xdb\\x9d\\xa1g(\\xf5K\\x08\\xb5~\\xaa4by\\xc6Y\\x89\\xccC\\xa9U\\xac\\\\\\xd0\\x1al\\x01\\x93\\x00\\t6U\\xed\\xa7\\xff\\x00<\\x94\\xa3\\xe2J\\xec\\xf9\\x98\\xc1\\x85\\x1fk)\\x96\\xb4\\x17I\\xdb\\xf8^\\x7fU\\\\\\xf8\\xc1\\xd9\\xd1\\xca\\xbc\\xf3\\x82\\xbb;\\xaa+\\xd2\\xd46k\\xa4\\x9eZ6\\xf9IS\\xe1O\\xca\\xd4\\xfa\\x9f+\\xf3|\\x97|B\\x15\\xdb\\xa7\\xca\\xf7[\\xa3\\x9a}SO\\xe2\\x82\\x0c\\xc1\\x17\\x05z\\xe8\\xa8\\xc8\\xf2\\xd3\\xf3+\\xe7\\x7f\\x89KW\\x1aC\\x89\\xbc\\xf5\\xd9kp5-T\\xa2\\xcd^\\xf8\\x1b\\x82AQ\\x83\\tN\\x13\\xdf\\x86lv,\\xba\\x01#\\xb8\\xe7\\xba\\xc5V\\x97\\x06\\x12\\xb1\\xb7\\x825A\\x05mF\\x89-\\xccARb4\\x00\\xa4\\x80@4\\x03A\\x80R@ +Ur\\xe0\\xd4\\x90\\x12\\x80h@ \\x04\\x03@\\x08@\\xd0\\x0c\\x15$\\x96\\xb9^cQ\\x8fk\\xc0\\xd6\\xe0\\xf0Z].hq\\xb0\\x10dLLztU\\xed\\xae->\\xdb\\x1b\\xa1l\\xd3E\\x86#\\x11\\x88\\xadQ\\xde\\xff\\x00T\\x8f\\xf8\\x85\\xc4\\xb9\\xc4\\xc1\\x897\\x81\\x1cXX\\xc0\\xde4%\\\\Rq\\xdf<}\\xff\\x00\\xb3j\\xebm\\xe7\\xeaXe\\xb8\\xf0\\xe2|;xD\\xef\\xe7y6\\x91\\xb7\\x0be5\\xb8e\\xfb\\x94\\xf5v\\xf5\\xe1{\\x17Yv\"\\x9bo\\xaa\\xe2\\xd1\\xd7\\xd5Y\\x82\\xc9\\xcb\\xd4\\xc9\\xa0\\xac\\x1eD\\x83\\xba\\xdf\\xe5\\x9c\\xc5z\\xea\\xdc\\xb6\\xcb\\xaa9\\x8dm\\xf6\\x07\\xf70\\xb3Q\\xc2+\\xcbT\\xdb\\xe9\\xf6\"cq\\x1e \\x01\\x10\\xd6\\r[\\xee\\xee>\\xa1Q\\xd4\\xafC\\xc1\\xd8\\xd1\\xb7\\x8f\\x98\\x9b\\x8fu\\xc9v\\x90\\xd07\\xeb\\xb2\\xab\\xe5b9=\\x15uF0O\\xb7\\xeeG\\xcd\\xf3-U\\xcf\\xfd\\xb3$u\\xd3rg\\xf3e\\xb3L\\xf3&\\xdf\\xc4\\xb3\\xa6jx\\x97e(\\xac}M\\x14\\x1c)C\\x9e5\\x12%\\xd1\\x13\\xa4\\xf7V)\\xb5Fy}\\xcd~9\\xa3\\x9e\\xa2\\x1e]o\\re\\x95\\xf5\\xc3\\\\\\xe7\\xb9\\x8e\\x00j\\x81\"$lGyV,\\x82\\x93\\x96\\x0f+\\x1b\\xa7\\x0e\\x8e\\xb5\\xdbr\\xbb4\\x81\\xa3\\x87\\x08\\xe9\\x0b\\x8beN-\\xa3\\xd1\\xe95\\x1ed\\x13:<#\\xa9\\xe2po\\xf7\\x90\\x1e\\xd6\\x02\\xd7Z\\x06\\x83\\x10H\\xeb&\\xfeak\\xd0\\xb5\\x1dGKE\\xab\\xa58\\xc54\\xf6{4Q3\\x0f\\xaa\\x93\\x80 \\x87\\x1byG#\\xcfu\\xe8\\xa1J~\\xa3\\t\\xcd\\xf4t\\xae\\xe5\\x06.\\x81\\x0e\\xea\\xb1\\x94J\\x13\\x8bL\\x8c\\x16\\x06\\x96\\x86\\x84\\x19j\\xb4J\\x12%&#\\x94\\x03@\\n@!\\x03@\\x08\\x06\\xa4\\x8c\\x15\\xaa\\xb9p\\x10\\x02\\x105 a\\x08\\x04\\x00\\x80h\\x01\\x083\\xa6$\\x80\\x01$\\x98\\x81\\xb9\\xf2\\x1eh\\xde\\x16IK,\\xbe\\xc3\\xbd\\xdab\\x9bH\\x0f\\x863\\xe0\\xd6\\xf2\\xd6\\xbd\\xa2N\\xec\\x8f\\x10\\xb4Z/\\xb14\\xa4\\x96}O\\x8d\\xdf8\\\\?\\xaf\\xf6Z\\x8eq\\x85\\xdf\\xe5\\xf6\\x8d\\xb8\\xbcc\\xa8R\\xd1\\xa9\\xd2\\xf6\\x82i\\xba\\xd1\\xad\\x8d\\xff\\x00Sr\\r\\xac\\x01?\\xaa`E\\xf0\\x85j\\xd9\\xf5am\\xdd|\\x1b\\xdb\\xe1\\xf1\\xf9cs)M\\xd7\\x1ce\\xef\\xfc\\xaeJ\\xaa8\\xf7S\\x03Ds\\xf9\\x1c+\\xe5\\tA2\\xc7+\\xc7\\x92\\xff\\x00\\x15\\xec\\'\\xf3\\xd5n\\x86\\xc5\\rUy\\x89\\xdf\\xe1i\\x83LuVR\\xd8\\xf3\\x16\\xbcH\\xdb\\x89x\\xa5H\\xbd\\xde\\x9f8Q\\'\\x84M\\x15;lK\\xb1\\xcbW\\xc7\\xfb\\xedDy\\x1e\\xe0_\\xf6Tm\\xd9$z\\x8a\\xa1\\xd3-\\x8a\\xdc\\xb3\\x1a\\xea\\xa44\\xc9\\x1a\\xc1\\xbf\\xd8\\xfa\\x8f\\xaa\\xd5n\\xd0:v\\xda\\xdc\\x12\\xcf\\x08\\x93\\xed\\r}5\\x99\\xa6\\xfb\\xea\\xf3\\x04\\xd8v\\xb2\\xa9\\xa4Rqy\\xf77x.\\xaauBR{\\xef\\xfd\\x9as\\\\\\xc0\\xc6\\xf7p\\xfa\\x01\\xfe\\x15\\xe5\\x12\\xd6\\xa6\\xec<\\xe7vc\\x92\\xd0\\xa8\\xfaO\\xff\\x00\\xca\\x94\\x98\\x977x\\xea&\\x15\\xaap\\xb3\\x93\\x81\\xa9\\xa1\\xcd\\xa9\\xaf\\x93\\xf9?\\xe8\\xdb\\x9aQk\\xaaj;\\xc1\\x91\\xd0\\x88\\x92:\\xcc\\x83\\xf3X\\xcfM\\x17&T\\xa6\\xcb*]8\\xe1\\xfd\\xa2;\\xf1\\x15\\xb0\\xd8}\\r\\xb0\\xd4\\xe6\\x93\\xc9\\x0el\\x8e\\xddDr\\xb9q\\xd3\\xc2W<\\xf6\\xfb\\xfa\\xa7\\xdc\\xef\\xc2\\xf9:\\x94\\x97u\\xfb\\xff\\x00+\\xb1Y\\x84\\xcc\\x1c!\\x84\\xf8\\x7f\\x95\\xd6\\x84\\xf0\\xb0\\xf8+\\xc2\\xc6\\x9e\\xc6\\xda\\x94\\xc9\\xdb\\x9d\\xbb,Zi\\xecYmI\\x11j\\xb4q\\xc6\\xe9\\x94\\xf8+\\xce\\x18Du\\x06\\x81\\xa1\\x00\\xa4\\x02\\x01\\x82\\x84\\x0eP\\r\\x00) \\x10\\r\\x01Z\\xb4\\x16\\xc6\\x80\\x10\\x02\\x01\\xa9 \\x02\\x01\\xa1\\x00\\x80\\x10\\x0c\\x14\\x03\\x08\\t5\\xb1%\\xcdk\\r\\xf4\\xc8\\x04\\x1d\\xdb$\\xe9=`\\xc9\\x1d\\xfbF\\x11\\x82Rmw2\\x94\\xb2\\xb0G\\x0ba\\x89?)y\\x15\\x9a\\x07$,\\xa2\\xf7+jb\\xbc\\xb7\\x93\\xd3p\\r\\'\\x98\\n\\xdcx<}\\xedd\\xac\\xf6\\xab\\x1a=\\xdb\\xa97\\xc4\\xebm\\xb8\\xe4\\xacl\\x96\\xc5\\xcf\\x0e\\xa1\\xf5\\xa9\\xbd\\x91\\xcd`qMf\\x1a\\xa1p\\xf1\\x90\\xe6\\x89\\x99\\x1f\\x08\\xff\\x00\\xe8\\xfc\\x976\\xd4\\xe54\\x8fQ\\x18a\\xacph\\xc8\\xeb\\xc3\\x9a4\\xff\\x00\\xcci=|\\x84|\\x92\\xd5\\x98\\xb3;?\\x0b\\x1ec\\x8b\\xd5]\\xda\\xb8\\x10\\x7f\\xea\\x12\\x0f\\xf0\\xb0\\xd3\\xc5\\xf9d\\xe8d\\xe3\\x1fW\\x0c\\xad\\xc4\\xd7%\\xdb\\xab1\\xe0\\xce\\xd9fD\\xfc\\xaf6\\xaa\\x0bi\\x02#f\\xdbbH\\xbd\\xb9Y\\xa6`\\xa4\\xf86\\xfbQ\\x8a\\x7f\\xbe\\x00\\xd8\\x86\\xde\\xc0N\\xa0gn \\xa9or&\\x93\\xd8\\xa8n!\\xdc\\x92GBea\\xd2\\xb92\\x8c\\xda\\xf9\\x1a\\xca\\x93\\x07\\xce\\xc6\\xdc=H;\\xff\\x00e\\x9a~\\xe4\\xc6M3:\\xfb\\x9d\\'\\xfb\\x8f%\\xa9\\xc3\\xa5\\xb6\\x8d\\xfdjF\\x80B\\xcd2\\xbc\\x96\\x06\\xa4\\xc0h@ \\x05 h@\\xe5\\x00\\xd0\\x02\\x90\\x08A\\\\\\xb4\\x17\\x01\\x00\\xd0\\x80@\\x08\\x012@\\xd4\\x81\\x82\\x84\\x02\\x03h\\xa0\\xed\\x06\\xa4xC\\x83I\\x91g\\x10H\\x11\\xbe\\xc0\\xdfk(\\xea]]=\\xf92\\xe9}90\\xa6\\xe0\\x08$H\\x9b\\x8b\\x89\\x1d$l\\xa5\\xf0B\\xd9\\x89\\x08\\x1a\\x02\\xcb f\\xacC|\\xa4\\xfd?\\xba\\xce\\xb5\\x96U\\xd6\\xcb\\x14\\xbc\\x1d\\xdea\\x9a\\xb6\\x8b4O\\x88\\xb4}J\\xb4\\xe5\\x84y\\xba\\xb4\\x92\\xb6}]\\x8e\\x1b\\x17\\x98\\x12\\xf7:O }\\x89U\\x9c\\x8fEU\\n1K\\x04a\\x89q\\xa7\\xa3\\xf4\\x82H\\xf2.\"d\\xf9\\xe9\\x1f%\\xa9\\xad\\xcb\\x86\\xfc\\xbe\\xb3l\\x0e\\xfa\\x89\\xff\\x00\\xd2\\xdfU\\x8d\\x8bc\\x19pE5\\x0cI\\xdc\\xfen\\xb3I-\\x91<-\\x8dK#\\x13e\\n\\xa5\\x8e\\x0f\\x11 \\x82&\\xe2B\\x03~e\\x8c}j\\x86\\xa5C$\\x81\\xf2\\xf2\\xf2\\xddHdT h\\x01\\x01\\x93]\\xca\\x0c\\x8d\\xd1\\xb8\\xb2\\x84\\x8c\\xe5$\\xc4\\xb25\\x8d\\x06\\x01\\x08\\x1a\\x10\\n@ \\x18(@\\xc2\\x01\\xa0+V\\x82\\xd8)\\x03@\\x08@\\xd0\\x02\\x00@\\nH\\x18@4\\x00\\x84\\r\\x00 6\\xe1\\xeb\\xba\\x9b\\xb54\\xc1Y\\'\\x83\\t\\xc1Ma\\x99T\\xc5=\\xce.s\\x89\\'t\\xcb\"5\\xc6+\\t\\x1a\\xe6\\xf7P\\xcc\\xd0\\x07n?\\x05\\xd0\\x93*U\\x0bHp\\xdc(k+\\x0c\\xc5\\xa3\\x12T\\x81\\xa9 \\x10\\x0eP\\x02\\x00R@\\xd0\\x02\\x01\\xcad\\x81\\xa9\\x00\\x80h\\x01\\x08\\x1a\\x10\\x08\\x01H\\x18@9B\\n\\xe5\\xa0\\xb6\\x08\\x01\\x00\\xd4\\x80@\\x08@\\xd0\\x02\\x00B\\x07*@\\xc1B\\x01\\x01\\x93\\xa2\\xd1\\xeb\\xdf\\xf2\\x13r^\\x04\\x84\\x02\\x104$\\x14\\x80B\\x06\\x83\\x00\\x84\\x0c\\x15 h@ \\x1a\\x00R@ \\x1a\\x01\\xca\\x01\\x82\\xa4\\x80@\\x08\\x06\\x84`\\x10\\r\\x08\\x05 \\x10\\x10\\x16\\x82\\xd0 \\x04\\x00\\xa4\\r\\x00 cB\\x01\\x00 \\x05$\\x0c \\x1a\\x10\\x08\\x01\\x00\\xd0\\x80BF\\x84\\x02\\x90\\x08\\x06\\x84\\x02\\x03% \\x10\\x81\\xa0\\x04\\x00\\xa4\\x81\\xa0\\x00\\x80a\\x08\\x1a\\x90\\x08\\x01\\x00\\xd0\\x80@4 \\x10\\x1f\\xff\\xd9'"
            ]
          },
          "metadata": {},
          "execution_count": 23
        }
      ]
    },
    {
      "cell_type": "code",
      "source": [
        "f.close()"
      ],
      "metadata": {
        "id": "7WcWc92297FF"
      },
      "execution_count": 24,
      "outputs": []
    },
    {
      "cell_type": "code",
      "source": [
        "from PIL import Image\n",
        "import io"
      ],
      "metadata": {
        "id": "ndeE1MGg98O7"
      },
      "execution_count": 25,
      "outputs": []
    },
    {
      "cell_type": "code",
      "source": [
        "img = Image.open(io.BytesIO(x))"
      ],
      "metadata": {
        "id": "JewV3FF5-Amk"
      },
      "execution_count": 26,
      "outputs": []
    },
    {
      "cell_type": "code",
      "source": [
        "print(img)"
      ],
      "metadata": {
        "colab": {
          "base_uri": "https://localhost:8080/"
        },
        "id": "S_-U5ofz-GFj",
        "outputId": "049bdbda-6e98-4b4e-b0fa-c2476b0c5515"
      },
      "execution_count": 27,
      "outputs": [
        {
          "output_type": "stream",
          "name": "stdout",
          "text": [
            "<PIL.JpegImagePlugin.JpegImageFile image mode=RGB size=284x177 at 0x7CC5A89B55E0>\n"
          ]
        }
      ]
    },
    {
      "cell_type": "code",
      "source": [
        "display(img)"
      ],
      "metadata": {
        "colab": {
          "base_uri": "https://localhost:8080/",
          "height": 194
        },
        "id": "yL0kLhLI-KCI",
        "outputId": "af81bce3-cd45-4804-9843-f397675dec83"
      },
      "execution_count": 28,
      "outputs": [
        {
          "output_type": "display_data",
          "data": {
            "text/plain": [
              "<PIL.JpegImagePlugin.JpegImageFile image mode=RGB size=284x177>"
            ],
            "image/png": "[encoded data removed]",
            "image/jpeg": "[encoded data removed]"
          },
          "metadata": {}
        }
      ]
    },
    {
      "cell_type": "code",
      "source": [
        "img"
      ],
      "metadata": {
        "id": "_o3vPqQW-N7j",
        "outputId": "3438aeab-0b7c-45d9-b3ac-e886c60fb199",
        "colab": {
          "base_uri": "https://localhost:8080/",
          "height": 194
        }
      },
      "execution_count": 29,
      "outputs": [
        {
          "output_type": "execute_result",
          "data": {
            "text/plain": [
              "<PIL.JpegImagePlugin.JpegImageFile image mode=RGB size=284x177>"
            ],
            "image/png": "[encoded data removed]",
            "image/jpeg": "[encoded data removed]"
          },
          "metadata": {},
          "execution_count": 29
        }
      ]
    },
    {
      "cell_type": "markdown",
      "source": [
        "# **Exception**\n",
        "1. It is a way to handle the errors\n",
        "* Value Error : If a function won't get correct parameters\n",
        "* Syntex error :\n",
        "* Name error : if a variable/function is not defined\n",
        "* ZeroDivisionError : when we try to divide the value by 0\n",
        "* TypeError : when we use operator for wrong values\n",
        "* FileNotFound : If you try to read some file that does not exist in directory\n",
        "* IndentationError :\n"
      ],
      "metadata": {
        "id": "CPx1UuvxLtW9"
      }
    },
    {
      "cell_type": "code",
      "source": [],
      "metadata": {
        "id": "ulmV5PNLMeA6"
      },
      "execution_count": null,
      "outputs": []
    },
    {
      "cell_type": "markdown",
      "source": [
        "**To Handle these errors we have few keyword**\n",
        "1. try\n",
        "2. except\n",
        "3. else\n",
        "4. finally\n",
        "5. raise"
      ],
      "metadata": {
        "id": "Q_Q50BVqO5xa"
      }
    },
    {
      "cell_type": "code",
      "source": [
        "#when we are excepting one error\n",
        "try:                                               # It is testing a particular operation\n",
        "  x = 10/0                                         # zero Division error\n",
        "except ZeroDivisionError:                          # If we encounter this error what we have to do\n",
        "  print(\"You can not divide a number by zero\")"
      ],
      "metadata": {
        "colab": {
          "base_uri": "https://localhost:8080/"
        },
        "id": "j63q7xBIPOGd",
        "outputId": "0dff5ab3-e8f7-4085-d191-81edcc5d0bed"
      },
      "execution_count": 4,
      "outputs": [
        {
          "output_type": "stream",
          "name": "stdout",
          "text": [
            "You can not divide a number by zero\n"
          ]
        }
      ]
    },
    {
      "cell_type": "code",
      "source": [
        "# When we are excepting more then one error\n",
        "try:\n",
        "  number = int(input())\n",
        "  result = 10/number\n",
        "  print(result)\n",
        "except ZeroDivisionError:\n",
        "  print(\"You cannot divide a number by zero\")\n",
        "except ValueError:\n",
        "  print(\"Invald Input\")\n"
      ],
      "metadata": {
        "colab": {
          "base_uri": "https://localhost:8080/"
        },
        "id": "nYikcMeTQKUo",
        "outputId": "bf41a3bb-4743-452a-db35-78f6167e80bd"
      },
      "execution_count": 9,
      "outputs": [
        {
          "output_type": "stream",
          "name": "stdout",
          "text": [
            "8\n",
            "1.25\n"
          ]
        }
      ]
    },
    {
      "cell_type": "code",
      "source": [
        "# If we are not getting any error\n",
        "try:\n",
        "  number = int(input())\n",
        "  result = 10/number\n",
        "except ZeroDivisionError:\n",
        "  print(\"You cannot divide a number by zero\")\n",
        "except ValueError:\n",
        "  print(\"Invald Input\")\n",
        "else:\n",
        "  print(result)\n"
      ],
      "metadata": {
        "colab": {
          "base_uri": "https://localhost:8080/"
        },
        "id": "LEN59qjBQ79l",
        "outputId": "a8832535-2038-4bea-e983-e7b36a562f0b"
      },
      "execution_count": 10,
      "outputs": [
        {
          "output_type": "stream",
          "name": "stdout",
          "text": [
            "3\n",
            "3.3333333333333335\n"
          ]
        }
      ]
    },
    {
      "cell_type": "code",
      "source": [
        "# If we ar\n",
        "try:\n",
        "  number = int(input())\n",
        "  result = 10/number\n",
        "except ZeroDivisionError:\n",
        "  print(\"You cannot divide a number by zero\")\n",
        "except ValueError:\n",
        "  print(\"Invald Input\")\n",
        "else:\n",
        "  print(result)\n",
        "finally:\n",
        "  print(\"I will print always\")\n"
      ],
      "metadata": {
        "colab": {
          "base_uri": "https://localhost:8080/"
        },
        "id": "jA5SY1kgRMkj",
        "outputId": "c4327623-6eb1-41c8-caee-130620cffd57"
      },
      "execution_count": 12,
      "outputs": [
        {
          "output_type": "stream",
          "name": "stdout",
          "text": [
            "0\n",
            "You cannot divide a number by zero\n",
            "I will print always\n"
          ]
        }
      ]
    },
    {
      "cell_type": "markdown",
      "source": [
        "**Lets a create own error**"
      ],
      "metadata": {
        "id": "DdJflkUOReZQ"
      }
    },
    {
      "cell_type": "code",
      "source": [
        "x=int(input(\"Enter any positive number :\"))\n",
        "if x<0:\n",
        "  raise ValueError(\"That the number must be positive and you have entered negativenumber\")\n",
        "else:\n",
        "  print(\"The number is:\",x)"
      ],
      "metadata": {
        "colab": {
          "base_uri": "https://localhost:8080/",
          "height": 228
        },
        "id": "0fwdODKnRj7O",
        "outputId": "1323a371-9390-4820-b806-7f5fc4d3c9b3"
      },
      "execution_count": 14,
      "outputs": [
        {
          "name": "stdout",
          "output_type": "stream",
          "text": [
            "Enter any positive number :-1\n"
          ]
        },
        {
          "output_type": "error",
          "ename": "ValueError",
          "evalue": "That the number must be positive and you have entered negativenumber",
          "traceback": [
            "\u001b[0;31m---------------------------------------------------------------------------\u001b[0m",
            "\u001b[0;31mValueError\u001b[0m                                Traceback (most recent call last)",
            "\u001b[0;32m/tmp/ipython-input-129866562.py\u001b[0m in \u001b[0;36m<cell line: 0>\u001b[0;34m()\u001b[0m\n\u001b[1;32m      1\u001b[0m \u001b[0mx\u001b[0m\u001b[0;34m=\u001b[0m\u001b[0mint\u001b[0m\u001b[0;34m(\u001b[0m\u001b[0minput\u001b[0m\u001b[0;34m(\u001b[0m\u001b[0;34m\"Enter any positive number :\"\u001b[0m\u001b[0;34m)\u001b[0m\u001b[0;34m)\u001b[0m\u001b[0;34m\u001b[0m\u001b[0;34m\u001b[0m\u001b[0m\n\u001b[1;32m      2\u001b[0m \u001b[0;32mif\u001b[0m \u001b[0mx\u001b[0m\u001b[0;34m<\u001b[0m\u001b[0;36m0\u001b[0m\u001b[0;34m:\u001b[0m\u001b[0;34m\u001b[0m\u001b[0;34m\u001b[0m\u001b[0m\n\u001b[0;32m----> 3\u001b[0;31m   \u001b[0;32mraise\u001b[0m \u001b[0mValueError\u001b[0m\u001b[0;34m(\u001b[0m\u001b[0;34m\"That the number must be positive and you have entered negativenumber\"\u001b[0m\u001b[0;34m)\u001b[0m\u001b[0;34m\u001b[0m\u001b[0;34m\u001b[0m\u001b[0m\n\u001b[0m\u001b[1;32m      4\u001b[0m \u001b[0;32melse\u001b[0m\u001b[0;34m:\u001b[0m\u001b[0;34m\u001b[0m\u001b[0;34m\u001b[0m\u001b[0m\n\u001b[1;32m      5\u001b[0m   \u001b[0mprint\u001b[0m\u001b[0;34m(\u001b[0m\u001b[0;34m\"The number is:\"\u001b[0m\u001b[0;34m,\u001b[0m\u001b[0mx\u001b[0m\u001b[0;34m)\u001b[0m\u001b[0;34m\u001b[0m\u001b[0;34m\u001b[0m\u001b[0m\n",
            "\u001b[0;31mValueError\u001b[0m: That the number must be positive and you have entered negativenumber"
          ]
        }
      ]
    },
    {
      "cell_type": "code",
      "source": [
        "age = int(input(\"Enter your age: \"))\n",
        "if age < 18:\n",
        "  raise ValueError(\"You are not an adult\")\n",
        "else:\n",
        "  print(\"You can apply for DL\")\n",
        "try:\n",
        "  age\n",
        "except ValueError:\n",
        "  print(\"Age must be greater than 18\")"
      ],
      "metadata": {
        "colab": {
          "base_uri": "https://localhost:8080/",
          "height": 228
        },
        "id": "2nJ6aEinSO4_",
        "outputId": "8ed0786a-8bd7-4bfb-c296-b30a6c91cb8b"
      },
      "execution_count": 40,
      "outputs": [
        {
          "name": "stdout",
          "output_type": "stream",
          "text": [
            "Enter your age: 11\n"
          ]
        },
        {
          "output_type": "error",
          "ename": "ValueError",
          "evalue": "You are not an adult",
          "traceback": [
            "\u001b[0;31m---------------------------------------------------------------------------\u001b[0m",
            "\u001b[0;31mValueError\u001b[0m                                Traceback (most recent call last)",
            "\u001b[0;32m/tmp/ipython-input-2232403977.py\u001b[0m in \u001b[0;36m<cell line: 0>\u001b[0;34m()\u001b[0m\n\u001b[1;32m      1\u001b[0m \u001b[0mage\u001b[0m \u001b[0;34m=\u001b[0m \u001b[0mint\u001b[0m\u001b[0;34m(\u001b[0m\u001b[0minput\u001b[0m\u001b[0;34m(\u001b[0m\u001b[0;34m\"Enter your age: \"\u001b[0m\u001b[0;34m)\u001b[0m\u001b[0;34m)\u001b[0m\u001b[0;34m\u001b[0m\u001b[0;34m\u001b[0m\u001b[0m\n\u001b[1;32m      2\u001b[0m \u001b[0;32mif\u001b[0m \u001b[0mage\u001b[0m \u001b[0;34m<\u001b[0m \u001b[0;36m18\u001b[0m\u001b[0;34m:\u001b[0m\u001b[0;34m\u001b[0m\u001b[0;34m\u001b[0m\u001b[0m\n\u001b[0;32m----> 3\u001b[0;31m   \u001b[0;32mraise\u001b[0m \u001b[0mValueError\u001b[0m\u001b[0;34m(\u001b[0m\u001b[0;34m\"You are not an adult\"\u001b[0m\u001b[0;34m)\u001b[0m\u001b[0;34m\u001b[0m\u001b[0;34m\u001b[0m\u001b[0m\n\u001b[0m\u001b[1;32m      4\u001b[0m \u001b[0;32melse\u001b[0m\u001b[0;34m:\u001b[0m\u001b[0;34m\u001b[0m\u001b[0;34m\u001b[0m\u001b[0m\n\u001b[1;32m      5\u001b[0m   \u001b[0mprint\u001b[0m\u001b[0;34m(\u001b[0m\u001b[0;34m\"You can apply for DL\"\u001b[0m\u001b[0;34m)\u001b[0m\u001b[0;34m\u001b[0m\u001b[0;34m\u001b[0m\u001b[0m\n",
            "\u001b[0;31mValueError\u001b[0m: You are not an adult"
          ]
        }
      ]
    },
    {
      "cell_type": "markdown",
      "source": [
        "Write a code that\n",
        "1. Tries to convert input value to intger\n",
        "2. if successful,Then tries to divide 100 by that number\n",
        "3. at last,handle both the conversion and division error"
      ],
      "metadata": {
        "id": "ialP5gwmV6sm"
      }
    },
    {
      "cell_type": "code",
      "source": [
        "try:\n",
        "  a=int(input())\n",
        "  b=int(a)\n",
        "  try:\n",
        "    c=100/a\n",
        "    print(c)\n",
        "  except ZeroDivisionError:\n",
        "    print(\"Enter a Valid Number\")\n",
        "except:\n",
        "  print(\"Invalid Input\")\n"
      ],
      "metadata": {
        "colab": {
          "base_uri": "https://localhost:8080/"
        },
        "id": "TsIboT1MV6Wp",
        "outputId": "96f46aa8-7f53-4f27-82cb-8c89b3522ab4"
      },
      "execution_count": 50,
      "outputs": [
        {
          "output_type": "stream",
          "name": "stdout",
          "text": [
            "h\n",
            "Invalid Input\n"
          ]
        }
      ]
    },
    {
      "cell_type": "markdown",
      "source": [
        "**Create a class name Movie,it stores name and available seats**\n",
        "* method -> book_tickets(num)\n",
        "* attributes -> (Name,AvailableSeats)"
      ],
      "metadata": {
        "id": "sUMyh6raY76t"
      }
    },
    {
      "cell_type": "code",
      "source": [
        "class Movie:\n",
        "  def __init__(self,Name,AvailableSeats):\n",
        "    self.Name=Name\n",
        "    self.AvailableSeats=AvailableSeats\n",
        "  def BookTicket(self,ticket):\n",
        "    self.ticket=ticket\n",
        "    if self.ticket <= self.AvailableSeats:\n",
        "      print(\"Booked Succesfully:\",self.ticket)\n",
        "      print(f\"Avaialbe Tickets Now : {self.AvailableSeats-self.ticket}\")\n",
        "    else:\n",
        "      print(\"Not avaialable\")"
      ],
      "metadata": {
        "id": "xTqAf9YQZk9e"
      },
      "execution_count": 74,
      "outputs": []
    },
    {
      "cell_type": "code",
      "source": [
        "a=Movie(\"Movie\",10)\n",
        "a.BookTicket(5)\n"
      ],
      "metadata": {
        "colab": {
          "base_uri": "https://localhost:8080/"
        },
        "id": "b7RsO45Ta06C",
        "outputId": "362df2fa-8b69-4362-fa26-6bce48f2cb62"
      },
      "execution_count": 75,
      "outputs": [
        {
          "output_type": "stream",
          "name": "stdout",
          "text": [
            "Booked Succesfully: 5\n",
            "Avaialbe Tickets Now : 5\n"
          ]
        }
      ]
    },
    {
      "cell_type": "markdown",
      "source": [
        "**Random Method**"
      ],
      "metadata": {
        "id": "CeIzedj6edsI"
      }
    },
    {
      "cell_type": "code",
      "source": [
        "import random\n",
        "random.randint(1,50)"
      ],
      "metadata": {
        "colab": {
          "base_uri": "https://localhost:8080/"
        },
        "id": "L_RW1TPceh7w",
        "outputId": "6217e66c-2d84-4bb6-8a16-185f8bc98129"
      },
      "execution_count": 104,
      "outputs": [
        {
          "output_type": "execute_result",
          "data": {
            "text/plain": [
              "29"
            ]
          },
          "metadata": {},
          "execution_count": 104
        }
      ]
    },
    {
      "cell_type": "code",
      "source": [
        "import random\n",
        "a=int(input(\"Enter a Nember: \"))\n",
        "b=random.randint(1,50)\n",
        "print(b)\n",
        "if a == b:\n",
        "  print(\"Congratulation You won\")\n",
        "\n",
        "else:\n",
        "  print(\"Better Luck Next Time\")"
      ],
      "metadata": {
        "colab": {
          "base_uri": "https://localhost:8080/"
        },
        "id": "zKNU1Ex1fixV",
        "outputId": "a4d1cdc7-99b4-44e7-9de9-107bfdbf2ba3"
      },
      "execution_count": 120,
      "outputs": [
        {
          "output_type": "stream",
          "name": "stdout",
          "text": [
            "Enter a Nember: 22\n",
            "24\n",
            "Better Luck Next Time\n"
          ]
        }
      ]
    },
    {
      "cell_type": "code",
      "source": [
        "class Game:\n",
        "  def __init__(self):\n",
        "    self.__attemp=0\n",
        "\n",
        "    self.__b=random.randint(1,50)\n",
        "    print(self.__b)\n",
        "  def Guess(self,Number):\n",
        "    self.Number=Number\n",
        "    if self.Number == self.__b:\n",
        "      print(f\"Congratualtion you Have Won \")\n",
        "    else:\n",
        "      print(\"Better Luck Next time\")"
      ],
      "metadata": {
        "id": "2mJmBIVogZit"
      },
      "execution_count": 144,
      "outputs": []
    },
    {
      "cell_type": "code",
      "source": [
        "a=Game()\n",
        "a.Guess(10)\n",
        "a.Guess(22)\n",
        "a.Guess(5)"
      ],
      "metadata": {
        "colab": {
          "base_uri": "https://localhost:8080/"
        },
        "id": "zaMD_-Nqhshl",
        "outputId": "0d5ad671-01c0-492a-9f8c-9f8a7a2e47d5"
      },
      "execution_count": 188,
      "outputs": [
        {
          "output_type": "stream",
          "name": "stdout",
          "text": [
            "5\n",
            "Better Luck Next time\n",
            "Better Luck Next time\n",
            "Congratualtion you Have Won \n"
          ]
        }
      ]
    }
  ]
}