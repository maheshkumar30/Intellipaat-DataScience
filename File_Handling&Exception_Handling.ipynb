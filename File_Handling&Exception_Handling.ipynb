{
  "nbformat": 4,
  "nbformat_minor": 0,
  "metadata": {
    "colab": {
      "provenance": [],
      "authorship_tag": "ABX9TyN2ecPDWrCqWJrgAFyL1sBI",
      "include_colab_link": true
    },
    "kernelspec": {
      "name": "python3",
      "display_name": "Python 3"
    },
    "language_info": {
      "name": "python"
    }
  },
  "cells": [
    {
      "cell_type": "markdown",
      "metadata": {
        "id": "view-in-github",
        "colab_type": "text"
      },
      "source": [
        "<a href=\"https://colab.research.google.com/github/maheshkumar30/Intellipaat-DataScience/blob/main/File_Handling%26Exception_Handling.ipynb\" target=\"_parent\"><img src=\"https://colab.research.google.com/assets/colab-badge.svg\" alt=\"Open In Colab\"/></a>"
      ]
    },
    {
      "cell_type": "markdown",
      "source": [
        "## **Binary**\n",
        "1. How to load a binary file\n",
        "\n",
        "**Two modes we are having**\n",
        "* \"rb\"\n",
        "* \"wb\""
      ],
      "metadata": {
        "id": "YcElEZ9IKG9c"
      }
    },
    {
      "cell_type": "code",
      "execution_count": null,
      "metadata": {
        "id": "xXM428NqIa5X"
      },
      "outputs": [],
      "source": [
        "f=open()"
      ]
    },
    {
      "cell_type": "markdown",
      "source": [
        "# **Exception**\n",
        "1. It is a way to handle the errors\n",
        "* Value Error : If a function won't get correct parameters\n",
        "* Syntex error :\n",
        "* Name error : if a variable/function is not defined\n",
        "* ZeroDivisionError : when we try to divide the value by 0\n",
        "* TypeError : when we use operator for wrong values\n",
        "* FileNotFound : If you try to read some file that does not exist in directory\n",
        "* IndentationError :\n"
      ],
      "metadata": {
        "id": "CPx1UuvxLtW9"
      }
    },
    {
      "cell_type": "code",
      "source": [],
      "metadata": {
        "id": "ulmV5PNLMeA6"
      },
      "execution_count": null,
      "outputs": []
    },
    {
      "cell_type": "markdown",
      "source": [
        "**To Handle these errors we have few keyword**\n",
        "1. try\n",
        "2. except\n",
        "3. else\n",
        "4. finally\n",
        "5. raise"
      ],
      "metadata": {
        "id": "Q_Q50BVqO5xa"
      }
    },
    {
      "cell_type": "code",
      "source": [
        "#when we are excepting one error\n",
        "try:                                               # It is testing a particular operation\n",
        "  x = 10/0                                         # zero Division error\n",
        "except ZeroDivisionError:                          # If we encounter this error what we have to do\n",
        "  print(\"You can not divide a number by zero\")"
      ],
      "metadata": {
        "colab": {
          "base_uri": "https://localhost:8080/"
        },
        "id": "j63q7xBIPOGd",
        "outputId": "0dff5ab3-e8f7-4085-d191-81edcc5d0bed"
      },
      "execution_count": 4,
      "outputs": [
        {
          "output_type": "stream",
          "name": "stdout",
          "text": [
            "You can not divide a number by zero\n"
          ]
        }
      ]
    },
    {
      "cell_type": "code",
      "source": [
        "# When we are excepting more then one error\n",
        "try:\n",
        "  number = int(input())\n",
        "  result = 10/number\n",
        "  print(result)\n",
        "except ZeroDivisionError:\n",
        "  print(\"You cannot divide a number by zero\")\n",
        "except ValueError:\n",
        "  print(\"Invald Input\")\n"
      ],
      "metadata": {
        "colab": {
          "base_uri": "https://localhost:8080/"
        },
        "id": "nYikcMeTQKUo",
        "outputId": "bf41a3bb-4743-452a-db35-78f6167e80bd"
      },
      "execution_count": 9,
      "outputs": [
        {
          "output_type": "stream",
          "name": "stdout",
          "text": [
            "8\n",
            "1.25\n"
          ]
        }
      ]
    },
    {
      "cell_type": "code",
      "source": [
        "# If we are not getting any error\n",
        "try:\n",
        "  number = int(input())\n",
        "  result = 10/number\n",
        "except ZeroDivisionError:\n",
        "  print(\"You cannot divide a number by zero\")\n",
        "except ValueError:\n",
        "  print(\"Invald Input\")\n",
        "else:\n",
        "  print(result)\n"
      ],
      "metadata": {
        "colab": {
          "base_uri": "https://localhost:8080/"
        },
        "id": "LEN59qjBQ79l",
        "outputId": "a8832535-2038-4bea-e983-e7b36a562f0b"
      },
      "execution_count": 10,
      "outputs": [
        {
          "output_type": "stream",
          "name": "stdout",
          "text": [
            "3\n",
            "3.3333333333333335\n"
          ]
        }
      ]
    },
    {
      "cell_type": "code",
      "source": [
        "# If we ar\n",
        "try:\n",
        "  number = int(input())\n",
        "  result = 10/number\n",
        "except ZeroDivisionError:\n",
        "  print(\"You cannot divide a number by zero\")\n",
        "except ValueError:\n",
        "  print(\"Invald Input\")\n",
        "else:\n",
        "  print(result)\n",
        "finally:\n",
        "  print(\"I will print always\")\n"
      ],
      "metadata": {
        "colab": {
          "base_uri": "https://localhost:8080/"
        },
        "id": "jA5SY1kgRMkj",
        "outputId": "c4327623-6eb1-41c8-caee-130620cffd57"
      },
      "execution_count": 12,
      "outputs": [
        {
          "output_type": "stream",
          "name": "stdout",
          "text": [
            "0\n",
            "You cannot divide a number by zero\n",
            "I will print always\n"
          ]
        }
      ]
    },
    {
      "cell_type": "markdown",
      "source": [
        "**Lets a create own error**"
      ],
      "metadata": {
        "id": "DdJflkUOReZQ"
      }
    },
    {
      "cell_type": "code",
      "source": [
        "x=int(input(\"Enter any positive number :\"))\n",
        "if x<0:\n",
        "  raise ValueError(\"That the number must be positive and you have entered negativenumber\")\n",
        "else:\n",
        "  print(\"The number is:\",x)"
      ],
      "metadata": {
        "colab": {
          "base_uri": "https://localhost:8080/",
          "height": 228
        },
        "id": "0fwdODKnRj7O",
        "outputId": "1323a371-9390-4820-b806-7f5fc4d3c9b3"
      },
      "execution_count": 14,
      "outputs": [
        {
          "name": "stdout",
          "output_type": "stream",
          "text": [
            "Enter any positive number :-1\n"
          ]
        },
        {
          "output_type": "error",
          "ename": "ValueError",
          "evalue": "That the number must be positive and you have entered negativenumber",
          "traceback": [
            "\u001b[0;31m---------------------------------------------------------------------------\u001b[0m",
            "\u001b[0;31mValueError\u001b[0m                                Traceback (most recent call last)",
            "\u001b[0;32m/tmp/ipython-input-129866562.py\u001b[0m in \u001b[0;36m<cell line: 0>\u001b[0;34m()\u001b[0m\n\u001b[1;32m      1\u001b[0m \u001b[0mx\u001b[0m\u001b[0;34m=\u001b[0m\u001b[0mint\u001b[0m\u001b[0;34m(\u001b[0m\u001b[0minput\u001b[0m\u001b[0;34m(\u001b[0m\u001b[0;34m\"Enter any positive number :\"\u001b[0m\u001b[0;34m)\u001b[0m\u001b[0;34m)\u001b[0m\u001b[0;34m\u001b[0m\u001b[0;34m\u001b[0m\u001b[0m\n\u001b[1;32m      2\u001b[0m \u001b[0;32mif\u001b[0m \u001b[0mx\u001b[0m\u001b[0;34m<\u001b[0m\u001b[0;36m0\u001b[0m\u001b[0;34m:\u001b[0m\u001b[0;34m\u001b[0m\u001b[0;34m\u001b[0m\u001b[0m\n\u001b[0;32m----> 3\u001b[0;31m   \u001b[0;32mraise\u001b[0m \u001b[0mValueError\u001b[0m\u001b[0;34m(\u001b[0m\u001b[0;34m\"That the number must be positive and you have entered negativenumber\"\u001b[0m\u001b[0;34m)\u001b[0m\u001b[0;34m\u001b[0m\u001b[0;34m\u001b[0m\u001b[0m\n\u001b[0m\u001b[1;32m      4\u001b[0m \u001b[0;32melse\u001b[0m\u001b[0;34m:\u001b[0m\u001b[0;34m\u001b[0m\u001b[0;34m\u001b[0m\u001b[0m\n\u001b[1;32m      5\u001b[0m   \u001b[0mprint\u001b[0m\u001b[0;34m(\u001b[0m\u001b[0;34m\"The number is:\"\u001b[0m\u001b[0;34m,\u001b[0m\u001b[0mx\u001b[0m\u001b[0;34m)\u001b[0m\u001b[0;34m\u001b[0m\u001b[0;34m\u001b[0m\u001b[0m\n",
            "\u001b[0;31mValueError\u001b[0m: That the number must be positive and you have entered negativenumber"
          ]
        }
      ]
    },
    {
      "cell_type": "code",
      "source": [
        "age = int(input(\"Enter your age: \"))\n",
        "if age < 18:\n",
        "  raise ValueError(\"You are not an adult\")\n",
        "else:\n",
        "  print(\"You can apply for DL\")\n",
        "try:\n",
        "  age\n",
        "except ValueError:\n",
        "  print(\"Age must be greater than 18\")"
      ],
      "metadata": {
        "colab": {
          "base_uri": "https://localhost:8080/",
          "height": 228
        },
        "id": "2nJ6aEinSO4_",
        "outputId": "8ed0786a-8bd7-4bfb-c296-b30a6c91cb8b"
      },
      "execution_count": 40,
      "outputs": [
        {
          "name": "stdout",
          "output_type": "stream",
          "text": [
            "Enter your age: 11\n"
          ]
        },
        {
          "output_type": "error",
          "ename": "ValueError",
          "evalue": "You are not an adult",
          "traceback": [
            "\u001b[0;31m---------------------------------------------------------------------------\u001b[0m",
            "\u001b[0;31mValueError\u001b[0m                                Traceback (most recent call last)",
            "\u001b[0;32m/tmp/ipython-input-2232403977.py\u001b[0m in \u001b[0;36m<cell line: 0>\u001b[0;34m()\u001b[0m\n\u001b[1;32m      1\u001b[0m \u001b[0mage\u001b[0m \u001b[0;34m=\u001b[0m \u001b[0mint\u001b[0m\u001b[0;34m(\u001b[0m\u001b[0minput\u001b[0m\u001b[0;34m(\u001b[0m\u001b[0;34m\"Enter your age: \"\u001b[0m\u001b[0;34m)\u001b[0m\u001b[0;34m)\u001b[0m\u001b[0;34m\u001b[0m\u001b[0;34m\u001b[0m\u001b[0m\n\u001b[1;32m      2\u001b[0m \u001b[0;32mif\u001b[0m \u001b[0mage\u001b[0m \u001b[0;34m<\u001b[0m \u001b[0;36m18\u001b[0m\u001b[0;34m:\u001b[0m\u001b[0;34m\u001b[0m\u001b[0;34m\u001b[0m\u001b[0m\n\u001b[0;32m----> 3\u001b[0;31m   \u001b[0;32mraise\u001b[0m \u001b[0mValueError\u001b[0m\u001b[0;34m(\u001b[0m\u001b[0;34m\"You are not an adult\"\u001b[0m\u001b[0;34m)\u001b[0m\u001b[0;34m\u001b[0m\u001b[0;34m\u001b[0m\u001b[0m\n\u001b[0m\u001b[1;32m      4\u001b[0m \u001b[0;32melse\u001b[0m\u001b[0;34m:\u001b[0m\u001b[0;34m\u001b[0m\u001b[0;34m\u001b[0m\u001b[0m\n\u001b[1;32m      5\u001b[0m   \u001b[0mprint\u001b[0m\u001b[0;34m(\u001b[0m\u001b[0;34m\"You can apply for DL\"\u001b[0m\u001b[0;34m)\u001b[0m\u001b[0;34m\u001b[0m\u001b[0;34m\u001b[0m\u001b[0m\n",
            "\u001b[0;31mValueError\u001b[0m: You are not an adult"
          ]
        }
      ]
    },
    {
      "cell_type": "markdown",
      "source": [
        "Write a code that\n",
        "1. Tries to convert input value to intger\n",
        "2. if successful,Then tries to divide 100 by that number\n",
        "3. at last,handle both the conversion and division error"
      ],
      "metadata": {
        "id": "ialP5gwmV6sm"
      }
    },
    {
      "cell_type": "code",
      "source": [
        "try:\n",
        "  a=int(input())\n",
        "  b=int(a)\n",
        "  try:\n",
        "    c=100/a\n",
        "    print(c)\n",
        "  except ZeroDivisionError:\n",
        "    print(\"Enter a Valid Number\")\n",
        "except:\n",
        "  print(\"Invalid Input\")\n"
      ],
      "metadata": {
        "colab": {
          "base_uri": "https://localhost:8080/"
        },
        "id": "TsIboT1MV6Wp",
        "outputId": "96f46aa8-7f53-4f27-82cb-8c89b3522ab4"
      },
      "execution_count": 50,
      "outputs": [
        {
          "output_type": "stream",
          "name": "stdout",
          "text": [
            "h\n",
            "Invalid Input\n"
          ]
        }
      ]
    },
    {
      "cell_type": "markdown",
      "source": [
        "**Create a class name Movie,it stores name and available seats**\n",
        "* method -> book_tickets(num)\n",
        "* attributes -> (Name,AvailableSeats)"
      ],
      "metadata": {
        "id": "sUMyh6raY76t"
      }
    },
    {
      "cell_type": "code",
      "source": [
        "class Movie:\n",
        "  def __init__(self,Name,AvailableSeats):\n",
        "    self.Name=Name\n",
        "    self.AvailableSeats=AvailableSeats\n",
        "  def BookTicket(self,ticket):\n",
        "    self.ticket=ticket\n",
        "    if self.ticket <= self.AvailableSeats:\n",
        "      print(\"Booked Succesfully:\",self.ticket)\n",
        "      print(f\"Avaialbe Tickets Now : {self.AvailableSeats-self.ticket}\")\n",
        "    else:\n",
        "      print(\"Not avaialable\")"
      ],
      "metadata": {
        "id": "xTqAf9YQZk9e"
      },
      "execution_count": 74,
      "outputs": []
    },
    {
      "cell_type": "code",
      "source": [
        "a=Movie(\"Movie\",10)\n",
        "a.BookTicket(5)\n"
      ],
      "metadata": {
        "colab": {
          "base_uri": "https://localhost:8080/"
        },
        "id": "b7RsO45Ta06C",
        "outputId": "362df2fa-8b69-4362-fa26-6bce48f2cb62"
      },
      "execution_count": 75,
      "outputs": [
        {
          "output_type": "stream",
          "name": "stdout",
          "text": [
            "Booked Succesfully: 5\n",
            "Avaialbe Tickets Now : 5\n"
          ]
        }
      ]
    },
    {
      "cell_type": "markdown",
      "source": [
        "**Random Method**"
      ],
      "metadata": {
        "id": "CeIzedj6edsI"
      }
    },
    {
      "cell_type": "code",
      "source": [
        "import random\n",
        "random.randint(1,50)"
      ],
      "metadata": {
        "colab": {
          "base_uri": "https://localhost:8080/"
        },
        "id": "L_RW1TPceh7w",
        "outputId": "6217e66c-2d84-4bb6-8a16-185f8bc98129"
      },
      "execution_count": 104,
      "outputs": [
        {
          "output_type": "execute_result",
          "data": {
            "text/plain": [
              "29"
            ]
          },
          "metadata": {},
          "execution_count": 104
        }
      ]
    },
    {
      "cell_type": "code",
      "source": [
        "import random\n",
        "a=int(input(\"Enter a Nember: \"))\n",
        "b=random.randint(1,50)\n",
        "print(b)\n",
        "if a == b:\n",
        "  print(\"Congratulation You won\")\n",
        "\n",
        "else:\n",
        "  print(\"Better Luck Next Time\")"
      ],
      "metadata": {
        "colab": {
          "base_uri": "https://localhost:8080/"
        },
        "id": "zKNU1Ex1fixV",
        "outputId": "a4d1cdc7-99b4-44e7-9de9-107bfdbf2ba3"
      },
      "execution_count": 120,
      "outputs": [
        {
          "output_type": "stream",
          "name": "stdout",
          "text": [
            "Enter a Nember: 22\n",
            "24\n",
            "Better Luck Next Time\n"
          ]
        }
      ]
    },
    {
      "cell_type": "code",
      "source": [
        "class Game:\n",
        "  def __init__(self):\n",
        "    self.__attemp=0\n",
        "\n",
        "    self.__b=random.randint(1,50)\n",
        "    print(self.__b)\n",
        "  def Guess(self,Number):\n",
        "    self.Number=Number\n",
        "    if self.Number == self.__b:\n",
        "      print(f\"Congratualtion you Have Won \")\n",
        "    else:\n",
        "      print(\"Better Luck Next time\")"
      ],
      "metadata": {
        "id": "2mJmBIVogZit"
      },
      "execution_count": 144,
      "outputs": []
    },
    {
      "cell_type": "code",
      "source": [
        "a=Game()\n",
        "a.Guess(10)\n",
        "a.Guess(22)\n",
        "a.Guess(5)"
      ],
      "metadata": {
        "colab": {
          "base_uri": "https://localhost:8080/"
        },
        "id": "zaMD_-Nqhshl",
        "outputId": "0d5ad671-01c0-492a-9f8c-9f8a7a2e47d5"
      },
      "execution_count": 188,
      "outputs": [
        {
          "output_type": "stream",
          "name": "stdout",
          "text": [
            "5\n",
            "Better Luck Next time\n",
            "Better Luck Next time\n",
            "Congratualtion you Have Won \n"
          ]
        }
      ]
    }
  ]
}