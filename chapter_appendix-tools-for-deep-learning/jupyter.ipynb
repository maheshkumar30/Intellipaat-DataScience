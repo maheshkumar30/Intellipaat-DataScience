{
  "cells": [
    {
      "cell_type": "markdown",
      "metadata": {
        "id": "view-in-github",
        "colab_type": "text"
      },
      "source": [
        "<a href=\"https://colab.research.google.com/github/maheshkumar30/Intellipaat-DataScience/blob/main/chapter_appendix-tools-for-deep-learning/jupyter.ipynb\" target=\"_parent\"><img src=\"https://colab.research.google.com/assets/colab-badge.svg\" alt=\"Open In Colab\"/></a>"
      ]
    },
    {
      "cell_type": "markdown",
      "source": [
        "# **File Handling in Python**\n",
        "1. File handling in python is one of the essentials for working with the files like read,write,manipulate and also delete the data from the files\n",
        "* step-1: We are going to upload our data in python directory"
      ],
      "metadata": {
        "id": "v1UxyQW9OR65"
      },
      "id": "v1UxyQW9OR65"
    },
    {
      "cell_type": "code",
      "source": [],
      "metadata": {
        "id": "8ASAyCrvOE0T"
      },
      "id": "8ASAyCrvOE0T",
      "execution_count": null,
      "outputs": []
    },
    {
      "cell_type": "markdown",
      "source": [
        "## **There are four methods or modes for opening the file**\n",
        "* \"r\" -> Reading -> This is a default more,open the file and the read the data.\n",
        "    * it will give you an error when the file is not present in the directory\n",
        "* \"w\" -> Write -> It will open the file for writing(It will overwrite the previous data)\n",
        "    * It will create the file if it is not present in the directory\n",
        "* \"a\" -> Append -> Open the file for appending(Add the data in the file)\n",
        "    * It will also create the file it is not present in the directory\n",
        "* \"x\" ->Create -> it creates the specific file\n",
        "    * It will return an error if the file already exist.\n",
        "---\n",
        "###**Note:We can specify the file should be in binary mode or test**\n",
        "1. \"t\" -->"
      ],
      "metadata": {
        "id": "r0A6Lw5sQqHo"
      },
      "id": "r0A6Lw5sQqHo"
    },
    {
      "cell_type": "code",
      "source": [
        "f=open(\"/content/file1.txt\")"
      ],
      "metadata": {
        "id": "0zv3aRDPTdFL"
      },
      "id": "0zv3aRDPTdFL",
      "execution_count": 1,
      "outputs": []
    }
  ],
  "metadata": {
    "kernelspec": {
      "display_name": "Python 3",
      "name": "python3"
    },
    "language_info": {
      "name": "python"
    },
    "required_libs": [],
    "colab": {
      "provenance": [],
      "include_colab_link": true
    }
  },
  "nbformat": 4,
  "nbformat_minor": 5
}