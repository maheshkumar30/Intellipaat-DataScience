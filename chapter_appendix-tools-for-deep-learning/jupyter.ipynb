{
  "cells": [
    {
      "cell_type": "markdown",
      "source": [
        "# Oops\n",
        "\n",
        "\n",
        "*   It is an approach to solve real world problem\n",
        "*   It mainly focuses on the term **Class and Object**\n",
        "\n",
        "\n",
        "1. Class : A blueprint of real world object\n",
        "2. object:Objects are the entities that allow us to use the property of class\n",
        "## Pillars of Oops\n",
        "1. Inheritance\n",
        "2. Polymorphism\n",
        "3. Abstaction\n",
        "4. encapsulation\n"
      ],
      "metadata": {
        "id": "Sh3FvqyfyFpB"
      },
      "id": "Sh3FvqyfyFpB"
    },
    {
      "cell_type": "markdown",
      "source": [
        "# Steps that we follow in Oops\n",
        "*  We will create the class which tells about the data members(Attributes+Methods) which gives us the blueprint\n",
        "* Now,We will create the objects to access the data members\n",
        "\n",
        "**Note**\n",
        "* Methods are the functions that we create inside the class\n",
        "* Attributes are the variables that we create inside the class\n"
      ],
      "metadata": {
        "id": "HiZKmkMG4lOi"
      },
      "id": "HiZKmkMG4lOi"
    },
    {
      "cell_type": "code",
      "source": [
        "class Vehicle:\n",
        "  doors=4\n",
        "  wheels=4\n",
        "  def display(self):\n",
        "    self.doors=doors\n",
        "    print(f\"{self.doors},{wheels}\")\n",
        "car=Vehicle()\n",
        "print(car.doors)\n",
        "print(car.wheels)\n",
        "car.display()\n"
      ],
      "metadata": {
        "id": "__Gbt3zx0b2d",
        "outputId": "9b96ce80-d8b6-431c-e251-0f02a5f52c2f",
        "colab": {
          "base_uri": "https://localhost:8080/",
          "height": 332
        }
      },
      "id": "__Gbt3zx0b2d",
      "execution_count": 25,
      "outputs": [
        {
          "output_type": "stream",
          "name": "stdout",
          "text": [
            "4\n",
            "4\n"
          ]
        },
        {
          "output_type": "error",
          "ename": "NameError",
          "evalue": "name 'doors' is not defined",
          "traceback": [
            "\u001b[0;31m---------------------------------------------------------------------------\u001b[0m",
            "\u001b[0;31mNameError\u001b[0m                                 Traceback (most recent call last)",
            "\u001b[0;32m/tmp/ipython-input-406683596.py\u001b[0m in \u001b[0;36m<cell line: 0>\u001b[0;34m()\u001b[0m\n\u001b[1;32m      8\u001b[0m \u001b[0mprint\u001b[0m\u001b[0;34m(\u001b[0m\u001b[0mcar\u001b[0m\u001b[0;34m.\u001b[0m\u001b[0mdoors\u001b[0m\u001b[0;34m)\u001b[0m\u001b[0;34m\u001b[0m\u001b[0;34m\u001b[0m\u001b[0m\n\u001b[1;32m      9\u001b[0m \u001b[0mprint\u001b[0m\u001b[0;34m(\u001b[0m\u001b[0mcar\u001b[0m\u001b[0;34m.\u001b[0m\u001b[0mwheels\u001b[0m\u001b[0;34m)\u001b[0m\u001b[0;34m\u001b[0m\u001b[0;34m\u001b[0m\u001b[0m\n\u001b[0;32m---> 10\u001b[0;31m \u001b[0mcar\u001b[0m\u001b[0;34m.\u001b[0m\u001b[0mdisplay\u001b[0m\u001b[0;34m(\u001b[0m\u001b[0;34m)\u001b[0m\u001b[0;34m\u001b[0m\u001b[0;34m\u001b[0m\u001b[0m\n\u001b[0m",
            "\u001b[0;32m/tmp/ipython-input-406683596.py\u001b[0m in \u001b[0;36mdisplay\u001b[0;34m(self)\u001b[0m\n\u001b[1;32m      3\u001b[0m   \u001b[0mwheels\u001b[0m\u001b[0;34m=\u001b[0m\u001b[0;36m4\u001b[0m\u001b[0;34m\u001b[0m\u001b[0;34m\u001b[0m\u001b[0m\n\u001b[1;32m      4\u001b[0m   \u001b[0;32mdef\u001b[0m \u001b[0mdisplay\u001b[0m\u001b[0;34m(\u001b[0m\u001b[0mself\u001b[0m\u001b[0;34m)\u001b[0m\u001b[0;34m:\u001b[0m\u001b[0;34m\u001b[0m\u001b[0;34m\u001b[0m\u001b[0m\n\u001b[0;32m----> 5\u001b[0;31m     \u001b[0mself\u001b[0m\u001b[0;34m.\u001b[0m\u001b[0mdoors\u001b[0m\u001b[0;34m=\u001b[0m\u001b[0mdoors\u001b[0m\u001b[0;34m\u001b[0m\u001b[0;34m\u001b[0m\u001b[0m\n\u001b[0m\u001b[1;32m      6\u001b[0m     \u001b[0mprint\u001b[0m\u001b[0;34m(\u001b[0m\u001b[0;34mf\"{self.doors},{wheels}\"\u001b[0m\u001b[0;34m)\u001b[0m\u001b[0;34m\u001b[0m\u001b[0;34m\u001b[0m\u001b[0m\n\u001b[1;32m      7\u001b[0m \u001b[0mcar\u001b[0m\u001b[0;34m=\u001b[0m\u001b[0mVehicle\u001b[0m\u001b[0;34m(\u001b[0m\u001b[0;34m)\u001b[0m\u001b[0;34m\u001b[0m\u001b[0;34m\u001b[0m\u001b[0m\n",
            "\u001b[0;31mNameError\u001b[0m: name 'doors' is not defined"
          ]
        }
      ]
    },
    {
      "cell_type": "markdown",
      "source": [
        "We can create multiple objects but all of them are having same properties.If we have to change(manual).\n",
        "\n",
        "We can use Connstructor to assign the values to the properties of object"
      ],
      "metadata": {
        "id": "YFbFD0KP9EiZ"
      },
      "id": "YFbFD0KP9EiZ"
    },
    {
      "cell_type": "markdown",
      "source": [
        "# **Constuctor \\__init__**\n",
        "* To initialize the attributes of a class whenever we will create an object\n",
        "* Here,__init__() is method that we create inside the class\n"
      ],
      "metadata": {
        "id": "8VA-NAhc-1OR"
      },
      "id": "8VA-NAhc-1OR"
    },
    {
      "cell_type": "code",
      "source": [
        "class Emp:\n",
        "  def __init__(self,empName,empDomain,empSalary):\n",
        "    self.empName=empName\n",
        "    self.empDomain=empDomain\n",
        "    self.empSalary=empSalary\n",
        "  def display(self):\n",
        "    print(f\"{self.empName},{self.empDomain},{self.empSalary}\")\n",
        "e1=Emp(\"Mahesh\",\"Data Science\",\"12lpa\")\n",
        "e1.display()"
      ],
      "metadata": {
        "id": "nvBILgp7AL4o",
        "outputId": "c2525261-2942-4207-929b-6dbeb20a2ee1",
        "colab": {
          "base_uri": "https://localhost:8080/"
        }
      },
      "id": "nvBILgp7AL4o",
      "execution_count": 12,
      "outputs": [
        {
          "output_type": "stream",
          "name": "stdout",
          "text": [
            "Mahesh,Data Science,12lpa\n"
          ]
        }
      ]
    },
    {
      "cell_type": "code",
      "source": [
        "class Cal:\n",
        "  def __init__(self,a,b):\n",
        "    self.a=a\n",
        "    self.b=b\n",
        "\n",
        "  def display(self):\n",
        "    print(f\"Multiplication:{self.a*self.b},Division:{self.a/self.b},Floor Division:{self.a//self.b}\")\n",
        "\n",
        "\n",
        "a1=Cal(10,20)\n",
        "a1.display()"
      ],
      "metadata": {
        "id": "I5_ZOSjZCLBz",
        "outputId": "ec9a480b-758f-48ba-fb88-c6e8720021a8",
        "colab": {
          "base_uri": "https://localhost:8080/"
        }
      },
      "id": "I5_ZOSjZCLBz",
      "execution_count": 17,
      "outputs": [
        {
          "output_type": "stream",
          "name": "stdout",
          "text": [
            "Multiplication:200,Division:0.5,Floor Division:0\n"
          ]
        }
      ]
    },
    {
      "cell_type": "markdown",
      "source": [
        "# **Pillars of Oops**\n",
        "## **Inheritence**\n",
        "Passing on the data members from the parent class(base) to child class\n",
        "1. Single\n",
        "2. Multi level\n",
        "3. Multiple\n",
        "4. Hierarichal\n",
        "5. Hybrid\n",
        "\n",
        "\n"
      ],
      "metadata": {
        "id": "KWGwJG11HLLb"
      },
      "id": "KWGwJG11HLLb"
    },
    {
      "cell_type": "code",
      "source": [
        "class Parent:\n",
        "  def display(self):\n",
        "    print(\"Parent class\")\n",
        "class Child(Parent):\n",
        "  def show(self):\n",
        "    print(\"Child class\")\n",
        "a=Child()\n",
        "a.display()\n",
        "a.show()\n"
      ],
      "metadata": {
        "id": "T769J7pzJ9SY",
        "outputId": "ab113aa3-ce42-46f9-9b4c-811127270adc",
        "colab": {
          "base_uri": "https://localhost:8080/"
        }
      },
      "id": "T769J7pzJ9SY",
      "execution_count": 28,
      "outputs": [
        {
          "output_type": "stream",
          "name": "stdout",
          "text": [
            "Parent class\n",
            "Child class\n"
          ]
        }
      ]
    },
    {
      "cell_type": "markdown",
      "source": [
        "## **Multi**\n",
        "Parent --> Child --> Grand Child\n"
      ],
      "metadata": {
        "id": "eh8N5tP1L2YP"
      },
      "id": "eh8N5tP1L2YP"
    },
    {
      "cell_type": "code",
      "source": [],
      "metadata": {
        "id": "Sj1mwVZwC5id"
      },
      "id": "Sj1mwVZwC5id",
      "execution_count": null,
      "outputs": []
    },
    {
      "cell_type": "markdown",
      "source": [
        "#**Multiple inheritance**\n",
        "**Parent1+Parent2+Parent3+.....+Parentn**\n",
        "1. Combination of 1 or more Class"
      ],
      "metadata": {
        "id": "jy4IU8CrDco0"
      },
      "id": "jy4IU8CrDco0"
    },
    {
      "cell_type": "code",
      "source": [
        "class Parent1:\n",
        "  def display(self):\n",
        "    print(\"Parent1\")\n",
        "class Parent2:\n",
        "  def show(self):\n",
        "    print(\"Parent2\")\n",
        "class Child(Parent1,Parent2):\n",
        "  def output(self):\n",
        "    print(\"child\")"
      ],
      "metadata": {
        "id": "uDy_19L-Dxxi"
      },
      "id": "uDy_19L-Dxxi",
      "execution_count": 2,
      "outputs": []
    },
    {
      "cell_type": "code",
      "source": [
        "a=Parent1()\n",
        "a.display()\n",
        "b=Parent2()\n",
        "b.show()\n",
        "c=Child()\n",
        "c.output()"
      ],
      "metadata": {
        "id": "6Cy0uBc5EP6H",
        "outputId": "f32f3866-449a-46cc-da97-691f37caa157",
        "colab": {
          "base_uri": "https://localhost:8080/"
        }
      },
      "id": "6Cy0uBc5EP6H",
      "execution_count": 5,
      "outputs": [
        {
          "output_type": "stream",
          "name": "stdout",
          "text": [
            "Parent1\n",
            "Parent2\n",
            "child\n"
          ]
        }
      ]
    },
    {
      "cell_type": "code",
      "source": [
        "class Parent:\n",
        "  def show(self):\n",
        "    print(\"Parent\")\n",
        "class Child1(Parent):\n",
        "  def output(self):\n",
        "    print(\"Child1\")\n",
        "class Child2(Parent):\n",
        "  def display(self):\n",
        "    print(\"Child2\")\n",
        "a=Parent()\n",
        "a.show()\n",
        "a.output()\n",
        "a.display()\n",
        "\n"
      ],
      "metadata": {
        "id": "PLBsbVXsFDwD",
        "outputId": "03756c89-19e0-4564-8fb9-0b1fec22a859",
        "colab": {
          "base_uri": "https://localhost:8080/",
          "height": 228
        }
      },
      "id": "PLBsbVXsFDwD",
      "execution_count": 21,
      "outputs": [
        {
          "output_type": "stream",
          "name": "stdout",
          "text": [
            "Parent\n"
          ]
        },
        {
          "output_type": "error",
          "ename": "AttributeError",
          "evalue": "'Parent' object has no attribute 'output'",
          "traceback": [
            "\u001b[0;31m---------------------------------------------------------------------------\u001b[0m",
            "\u001b[0;31mAttributeError\u001b[0m                            Traceback (most recent call last)",
            "\u001b[0;32m/tmp/ipython-input-2015274922.py\u001b[0m in \u001b[0;36m<cell line: 0>\u001b[0;34m()\u001b[0m\n\u001b[1;32m     10\u001b[0m \u001b[0ma\u001b[0m\u001b[0;34m=\u001b[0m\u001b[0mParent\u001b[0m\u001b[0;34m(\u001b[0m\u001b[0;34m)\u001b[0m\u001b[0;34m\u001b[0m\u001b[0;34m\u001b[0m\u001b[0m\n\u001b[1;32m     11\u001b[0m \u001b[0ma\u001b[0m\u001b[0;34m.\u001b[0m\u001b[0mshow\u001b[0m\u001b[0;34m(\u001b[0m\u001b[0;34m)\u001b[0m\u001b[0;34m\u001b[0m\u001b[0;34m\u001b[0m\u001b[0m\n\u001b[0;32m---> 12\u001b[0;31m \u001b[0ma\u001b[0m\u001b[0;34m.\u001b[0m\u001b[0moutput\u001b[0m\u001b[0;34m(\u001b[0m\u001b[0;34m)\u001b[0m\u001b[0;34m\u001b[0m\u001b[0;34m\u001b[0m\u001b[0m\n\u001b[0m\u001b[1;32m     13\u001b[0m \u001b[0ma\u001b[0m\u001b[0;34m.\u001b[0m\u001b[0mdisplay\u001b[0m\u001b[0;34m(\u001b[0m\u001b[0;34m)\u001b[0m\u001b[0;34m\u001b[0m\u001b[0;34m\u001b[0m\u001b[0m\n\u001b[1;32m     14\u001b[0m \u001b[0;34m\u001b[0m\u001b[0m\n",
            "\u001b[0;31mAttributeError\u001b[0m: 'Parent' object has no attribute 'output'"
          ]
        }
      ]
    },
    {
      "cell_type": "markdown",
      "source": [
        "#**Hierarichal Inheritance**\n",
        "**Parent Class ----> Child1+Child2+....."
      ],
      "metadata": {
        "id": "VB21L4ZdGTEw"
      },
      "id": "VB21L4ZdGTEw"
    },
    {
      "cell_type": "code",
      "source": [
        "class Parent:\n",
        "  def output(self):\n",
        "    print(\"Parent\")\n",
        "class Child1:\n",
        "  def show(self):\n",
        "    print(\"Child1\")\n",
        "class Child2:\n",
        "  def display(self):\n",
        "    print(\"Child2\")\n",
        "a=Parent()\n",
        "a.output()\n",
        "a.show()"
      ],
      "metadata": {
        "id": "7W70BOpXGSau",
        "outputId": "cd4762c0-819b-48b6-f59e-b324d4ca1bf7",
        "colab": {
          "base_uri": "https://localhost:8080/",
          "height": 193
        }
      },
      "id": "7W70BOpXGSau",
      "execution_count": 9,
      "outputs": [
        {
          "output_type": "stream",
          "name": "stdout",
          "text": [
            "Parent\n"
          ]
        },
        {
          "output_type": "error",
          "ename": "AttributeError",
          "evalue": "'Parent' object has no attribute 'show'",
          "traceback": [
            "\u001b[0;31m---------------------------------------------------------------------------\u001b[0m",
            "\u001b[0;31mAttributeError\u001b[0m                            Traceback (most recent call last)",
            "\u001b[0;32m/tmp/ipython-input-2412504212.py\u001b[0m in \u001b[0;36m<cell line: 0>\u001b[0;34m()\u001b[0m\n\u001b[1;32m     10\u001b[0m \u001b[0ma\u001b[0m\u001b[0;34m=\u001b[0m\u001b[0mParent\u001b[0m\u001b[0;34m(\u001b[0m\u001b[0;34m)\u001b[0m\u001b[0;34m\u001b[0m\u001b[0;34m\u001b[0m\u001b[0m\n\u001b[1;32m     11\u001b[0m \u001b[0ma\u001b[0m\u001b[0;34m.\u001b[0m\u001b[0moutput\u001b[0m\u001b[0;34m(\u001b[0m\u001b[0;34m)\u001b[0m\u001b[0;34m\u001b[0m\u001b[0;34m\u001b[0m\u001b[0m\n\u001b[0;32m---> 12\u001b[0;31m \u001b[0ma\u001b[0m\u001b[0;34m.\u001b[0m\u001b[0mshow\u001b[0m\u001b[0;34m(\u001b[0m\u001b[0;34m)\u001b[0m\u001b[0;34m\u001b[0m\u001b[0;34m\u001b[0m\u001b[0m\n\u001b[0m",
            "\u001b[0;31mAttributeError\u001b[0m: 'Parent' object has no attribute 'show'"
          ]
        }
      ]
    },
    {
      "cell_type": "code",
      "source": [
        "class Shape:\n",
        "  def square(self,a):\n",
        "    print(\"area of square\",a*a)\n",
        "  def rectangle(self,l,b):\n",
        "    print(\"area of rectangle\",l*b)\n",
        "a=Shape()\n",
        "a.square(5)\n",
        "a.rectangle(3,4)"
      ],
      "metadata": {
        "id": "KythIJ2WIS6W",
        "outputId": "5ed0fcab-1870-4aa5-a9d2-91498e3869a7",
        "colab": {
          "base_uri": "https://localhost:8080/"
        }
      },
      "id": "KythIJ2WIS6W",
      "execution_count": 20,
      "outputs": [
        {
          "output_type": "stream",
          "name": "stdout",
          "text": [
            "area of square 25\n",
            "area of rectangle 12\n"
          ]
        }
      ]
    },
    {
      "cell_type": "code",
      "source": [
        "class Shape:\n",
        "  def area(self):\n",
        "    print(\"area\")\n",
        "class Square(Shape):\n",
        "  def dispaly(self,a):\n",
        "    print(\"Area of Square\",a*a)\n",
        "class Rectangle(Shape):\n",
        "  def show(self,l,b):\n",
        "    print(\"Area of Rectangle\",l*b)\n",
        "a=Sqaure()\n",
        "a.area()\n",
        "a.display(4)\n",
        "a.show(3,4)\n"
      ],
      "metadata": {
        "id": "SJGoJBEnJ39y",
        "outputId": "92faee88-71ff-42cd-c431-7db83b2fbc0b",
        "colab": {
          "base_uri": "https://localhost:8080/",
          "height": 211
        }
      },
      "id": "SJGoJBEnJ39y",
      "execution_count": 24,
      "outputs": [
        {
          "output_type": "error",
          "ename": "NameError",
          "evalue": "name 'Sqaure' is not defined",
          "traceback": [
            "\u001b[0;31m---------------------------------------------------------------------------\u001b[0m",
            "\u001b[0;31mNameError\u001b[0m                                 Traceback (most recent call last)",
            "\u001b[0;32m/tmp/ipython-input-730898517.py\u001b[0m in \u001b[0;36m<cell line: 0>\u001b[0;34m()\u001b[0m\n\u001b[1;32m      8\u001b[0m   \u001b[0;32mdef\u001b[0m \u001b[0mshow\u001b[0m\u001b[0;34m(\u001b[0m\u001b[0mself\u001b[0m\u001b[0;34m,\u001b[0m\u001b[0ml\u001b[0m\u001b[0;34m,\u001b[0m\u001b[0mb\u001b[0m\u001b[0;34m)\u001b[0m\u001b[0;34m:\u001b[0m\u001b[0;34m\u001b[0m\u001b[0;34m\u001b[0m\u001b[0m\n\u001b[1;32m      9\u001b[0m     \u001b[0mprint\u001b[0m\u001b[0;34m(\u001b[0m\u001b[0;34m\"Area of Rectangle\"\u001b[0m\u001b[0;34m,\u001b[0m\u001b[0ml\u001b[0m\u001b[0;34m*\u001b[0m\u001b[0mb\u001b[0m\u001b[0;34m)\u001b[0m\u001b[0;34m\u001b[0m\u001b[0;34m\u001b[0m\u001b[0m\n\u001b[0;32m---> 10\u001b[0;31m \u001b[0ma\u001b[0m\u001b[0;34m=\u001b[0m\u001b[0mSqaure\u001b[0m\u001b[0;34m(\u001b[0m\u001b[0;34m)\u001b[0m\u001b[0;34m\u001b[0m\u001b[0;34m\u001b[0m\u001b[0m\n\u001b[0m\u001b[1;32m     11\u001b[0m \u001b[0ma\u001b[0m\u001b[0;34m.\u001b[0m\u001b[0marea\u001b[0m\u001b[0;34m(\u001b[0m\u001b[0;34m)\u001b[0m\u001b[0;34m\u001b[0m\u001b[0;34m\u001b[0m\u001b[0m\n\u001b[1;32m     12\u001b[0m \u001b[0ma\u001b[0m\u001b[0;34m.\u001b[0m\u001b[0mdisplay\u001b[0m\u001b[0;34m(\u001b[0m\u001b[0;36m4\u001b[0m\u001b[0;34m)\u001b[0m\u001b[0;34m\u001b[0m\u001b[0;34m\u001b[0m\u001b[0m\n",
            "\u001b[0;31mNameError\u001b[0m: name 'Sqaure' is not defined"
          ]
        }
      ]
    },
    {
      "cell_type": "markdown",
      "source": [
        "#**Polymorphism**\n",
        "1. A method having same name but different functionality(one method with multiple forms)\n",
        "2. Method overloading : Same method name but different parameter\n",
        "3. **Note:**In python,it is not possible --> Interpreter(Line by line execution)"
      ],
      "metadata": {
        "id": "Xc2V7iZLO-Pf"
      },
      "id": "Xc2V7iZLO-Pf"
    },
    {
      "cell_type": "code",
      "source": [
        "class Shape:\n",
        "  def area(self):\n",
        "    print(\"Shape class area\")\n",
        "class Square(Shape):\n",
        "  def area(self,a):\n",
        "    super().area()\n",
        "    print(\"Area of Sqaure is:\",a*a)\n",
        "a=Sqaure()\n",
        "#a.area()\n",
        "a.area(5)"
      ],
      "metadata": {
        "id": "BszsUBCjQNRm",
        "outputId": "2c280432-4801-4685-b157-1a55f75df063",
        "colab": {
          "base_uri": "https://localhost:8080/",
          "height": 211
        }
      },
      "id": "BszsUBCjQNRm",
      "execution_count": 28,
      "outputs": [
        {
          "output_type": "error",
          "ename": "NameError",
          "evalue": "name 'Sqaure' is not defined",
          "traceback": [
            "\u001b[0;31m---------------------------------------------------------------------------\u001b[0m",
            "\u001b[0;31mNameError\u001b[0m                                 Traceback (most recent call last)",
            "\u001b[0;32m/tmp/ipython-input-1725144000.py\u001b[0m in \u001b[0;36m<cell line: 0>\u001b[0;34m()\u001b[0m\n\u001b[1;32m      6\u001b[0m     \u001b[0msuper\u001b[0m\u001b[0;34m(\u001b[0m\u001b[0;34m)\u001b[0m\u001b[0;34m.\u001b[0m\u001b[0marea\u001b[0m\u001b[0;34m(\u001b[0m\u001b[0;34m)\u001b[0m\u001b[0;34m\u001b[0m\u001b[0;34m\u001b[0m\u001b[0m\n\u001b[1;32m      7\u001b[0m     \u001b[0mprint\u001b[0m\u001b[0;34m(\u001b[0m\u001b[0;34m\"Area of Sqaure is:\"\u001b[0m\u001b[0;34m,\u001b[0m\u001b[0ma\u001b[0m\u001b[0;34m*\u001b[0m\u001b[0ma\u001b[0m\u001b[0;34m)\u001b[0m\u001b[0;34m\u001b[0m\u001b[0;34m\u001b[0m\u001b[0m\n\u001b[0;32m----> 8\u001b[0;31m \u001b[0ma\u001b[0m\u001b[0;34m=\u001b[0m\u001b[0mSqaure\u001b[0m\u001b[0;34m(\u001b[0m\u001b[0;34m)\u001b[0m\u001b[0;34m\u001b[0m\u001b[0;34m\u001b[0m\u001b[0m\n\u001b[0m\u001b[1;32m      9\u001b[0m \u001b[0;31m#a.area()\u001b[0m\u001b[0;34m\u001b[0m\u001b[0;34m\u001b[0m\u001b[0m\n\u001b[1;32m     10\u001b[0m \u001b[0ma\u001b[0m\u001b[0;34m.\u001b[0m\u001b[0marea\u001b[0m\u001b[0;34m(\u001b[0m\u001b[0;36m5\u001b[0m\u001b[0;34m)\u001b[0m\u001b[0;34m\u001b[0m\u001b[0;34m\u001b[0m\u001b[0m\n",
            "\u001b[0;31mNameError\u001b[0m: name 'Sqaure' is not defined"
          ]
        }
      ]
    }
  ],
  "metadata": {
    "kernelspec": {
      "display_name": "Python 3",
      "name": "python3"
    },
    "language_info": {
      "name": "python"
    },
    "required_libs": [],
    "colab": {
      "provenance": []
    }
  },
  "nbformat": 4,
  "nbformat_minor": 5
}