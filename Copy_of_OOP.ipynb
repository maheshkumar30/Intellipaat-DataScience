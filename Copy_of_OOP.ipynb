{
  "nbformat": 4,
  "nbformat_minor": 0,
  "metadata": {
    "colab": {
      "provenance": [],
      "include_colab_link": true
    },
    "kernelspec": {
      "name": "python3",
      "display_name": "Python 3"
    },
    "language_info": {
      "name": "python"
    }
  },
  "cells": [
    {
      "cell_type": "markdown",
      "metadata": {
        "id": "view-in-github",
        "colab_type": "text"
      },
      "source": [
        "<a href=\"https://colab.research.google.com/github/maheshkumar30/Intellipaat-DataScience/blob/main/Copy_of_OOP.ipynb\" target=\"_parent\"><img src=\"https://colab.research.google.com/assets/colab-badge.svg\" alt=\"Open In Colab\"/></a>"
      ]
    },
    {
      "cell_type": "markdown",
      "source": [
        "##**Object oriented Programming**\n",
        "* It is an approach to solve real world problem\n",
        "* It mainly focuses on the term **class and object**\n",
        "    * Class: A blueprint of real world object\n",
        "    * Object: Objects are the entities that allow us to use the property of class\n",
        "###**Pillars of Object Oriented Programming**\n",
        "* Inheritance\n",
        "* Polymorphism\n",
        "* Abstraction\n",
        "* Encapsulation"
      ],
      "metadata": {
        "id": "nMoSlf602RvL"
      }
    },
    {
      "cell_type": "markdown",
      "source": [
        "###**Steps that we follow in OOP**\n",
        "* We will create the class which tells about the data members(Attibutes + Methods) Which gives us the blueprint\n",
        "* Now, We will create the objects to access the data members"
      ],
      "metadata": {
        "id": "l-JIuIKs4h3X"
      }
    },
    {
      "cell_type": "markdown",
      "source": [
        "**Note**\n",
        "* Methods are the functions that we create inside the class\n",
        "* Attributes are the variables that we create inside the class"
      ],
      "metadata": {
        "id": "BP7s5F6t5B8w"
      }
    },
    {
      "cell_type": "code",
      "execution_count": null,
      "metadata": {
        "colab": {
          "base_uri": "https://localhost:8080/"
        },
        "id": "spwDxz5ByHSi",
        "outputId": "c93924f2-8dd8-4e91-cc82-c561aee8a293"
      },
      "outputs": [
        {
          "output_type": "stream",
          "name": "stdout",
          "text": [
            "<class 'list'>\n"
          ]
        }
      ],
      "source": [
        "list1 = [1,2,3,4,5]\n",
        "print(type(list1))"
      ]
    },
    {
      "cell_type": "code",
      "source": [
        "## Structural\n",
        "x = 10\n",
        "print(x)"
      ],
      "metadata": {
        "colab": {
          "base_uri": "https://localhost:8080/"
        },
        "id": "w0B47mXO5e0w",
        "outputId": "f4770117-b584-49ab-9883-d74d311121d0"
      },
      "execution_count": null,
      "outputs": [
        {
          "output_type": "stream",
          "name": "stdout",
          "text": [
            "10\n"
          ]
        }
      ]
    },
    {
      "cell_type": "code",
      "source": [
        "# Functional Prog\n",
        "def functionality():\n",
        "  x = 10\n",
        "  print(x)\n",
        "\n",
        "functionality()\n",
        "functionality()\n",
        "functionality()"
      ],
      "metadata": {
        "colab": {
          "base_uri": "https://localhost:8080/"
        },
        "id": "SNeolDdB54yD",
        "outputId": "430e62f6-c506-4b11-8288-a8c5941893f3"
      },
      "execution_count": null,
      "outputs": [
        {
          "output_type": "stream",
          "name": "stdout",
          "text": [
            "10\n",
            "10\n",
            "10\n"
          ]
        }
      ]
    },
    {
      "cell_type": "markdown",
      "source": [
        "**Keyword alert** - class"
      ],
      "metadata": {
        "id": "aQ9KUSkP6O-J"
      }
    },
    {
      "cell_type": "code",
      "source": [
        "class Vehicle:\n",
        "  # These are my attrubutes(variable)\n",
        "  door = 4\n",
        "  wheels = 4\n",
        "\n",
        "  # Methods\n",
        "  def display(self):\n",
        "    print(f'Hi this is the method with door: {self.door} and wheel: {self.wheels}')"
      ],
      "metadata": {
        "id": "30-4LPjf6GJg"
      },
      "execution_count": null,
      "outputs": []
    },
    {
      "cell_type": "markdown",
      "source": [
        "**Objects**"
      ],
      "metadata": {
        "id": "DxEKpM2w7UmJ"
      }
    },
    {
      "cell_type": "code",
      "source": [
        "car = Vehicle()\n",
        "print(car.door)\n",
        "print(car.wheels)\n",
        "car.display()"
      ],
      "metadata": {
        "colab": {
          "base_uri": "https://localhost:8080/"
        },
        "id": "AbB7lERW7TeS",
        "outputId": "ec17ebc6-c481-4dff-cfb9-8405cee24886"
      },
      "execution_count": null,
      "outputs": [
        {
          "output_type": "stream",
          "name": "stdout",
          "text": [
            "4\n",
            "4\n",
            "Hi this is the method with door: 4 and wheel: 4\n"
          ]
        }
      ]
    },
    {
      "cell_type": "code",
      "source": [
        "bike = Vehicle()\n",
        "print(bike.door)\n",
        "print(bike.wheels)\n",
        "bike.display()"
      ],
      "metadata": {
        "colab": {
          "base_uri": "https://localhost:8080/"
        },
        "id": "24T8Y0SJ7pCU",
        "outputId": "b9f41acb-48f7-4ccc-ed6e-3bf965a73def"
      },
      "execution_count": null,
      "outputs": [
        {
          "output_type": "stream",
          "name": "stdout",
          "text": [
            "4\n",
            "4\n",
            "Hi this is the method with door: 4 and wheel: 4\n"
          ]
        }
      ]
    },
    {
      "cell_type": "code",
      "source": [
        "bike.wheels = 2\n",
        "bike.display()"
      ],
      "metadata": {
        "colab": {
          "base_uri": "https://localhost:8080/"
        },
        "id": "9biLd3x58nA-",
        "outputId": "3f1a2daa-457f-474d-bdbb-6bdb1a5d784f"
      },
      "execution_count": null,
      "outputs": [
        {
          "output_type": "stream",
          "name": "stdout",
          "text": [
            "Hi this is the method with door: 4 and wheel: 2\n"
          ]
        }
      ]
    },
    {
      "cell_type": "markdown",
      "source": [
        "We can create multiple objects but all of them are having same properties. If we have to change, (Manual).\n",
        "\n",
        "We can use Constructor to assign the values to the properties of object"
      ],
      "metadata": {
        "id": "w1cnP7XB8-L9"
      }
    },
    {
      "cell_type": "markdown",
      "source": [
        "##**Constructor `__init__()`**\n",
        "* To initialize the attributes of a class whenever we will create an object\n",
        "* here, `__init__()` is method that we create inside the class"
      ],
      "metadata": {
        "id": "ZLSyMidh-OzJ"
      }
    },
    {
      "cell_type": "code",
      "source": [
        "class Employee:\n",
        "  def __init__(self,empName,empDomain,empSalary):\n",
        "    self.empName = empName\n",
        "    self.empDomain = empDomain\n",
        "    self.empSalary = empSalary # self.empSalary -> This is my attribute\n",
        "\n",
        "  def display(self):\n",
        "    print(f'Name: {self.empName}, Domain: {self.empDomain} and Salary: {self.empSalary}')"
      ],
      "metadata": {
        "id": "DqGoHvhX8x_J"
      },
      "execution_count": null,
      "outputs": []
    },
    {
      "cell_type": "code",
      "source": [
        "emp1 = Employee('Aryan','MLE','12 LPA')\n",
        "emp2 = Employee('Rudra','Data Scientist','30 LPA')"
      ],
      "metadata": {
        "id": "AL4nV2aV80Ao"
      },
      "execution_count": null,
      "outputs": []
    },
    {
      "cell_type": "code",
      "source": [
        "emp1.display()"
      ],
      "metadata": {
        "colab": {
          "base_uri": "https://localhost:8080/"
        },
        "id": "Eujy_r3yAp6v",
        "outputId": "675b5c5d-06a7-4ce3-8906-3d4fefa93a2d"
      },
      "execution_count": null,
      "outputs": [
        {
          "output_type": "stream",
          "name": "stdout",
          "text": [
            "Name: Aryan, Domain: MLE and Salary: 12 LPA\n"
          ]
        }
      ]
    },
    {
      "cell_type": "code",
      "source": [
        "emp2.display()"
      ],
      "metadata": {
        "colab": {
          "base_uri": "https://localhost:8080/"
        },
        "id": "ZfDAE8mBAstf",
        "outputId": "f35f4088-df55-49a2-8245-433b49ed3d24"
      },
      "execution_count": null,
      "outputs": [
        {
          "output_type": "stream",
          "name": "stdout",
          "text": [
            "Name: Rudra, Domain: Data Scientist and Salary: 30 LPA\n"
          ]
        }
      ]
    },
    {
      "cell_type": "markdown",
      "source": [
        "###**Calculator Question**"
      ],
      "metadata": {
        "id": "OPqTg5DYEY_R"
      }
    },
    {
      "cell_type": "code",
      "source": [
        "class Calculator:\n",
        "  def __init__(self,num1, num2):\n",
        "    self.num1 = num1\n",
        "    self.num2 = num2\n",
        "    print('Constructor called')\n",
        "\n",
        "  def multiply(self):\n",
        "    print(f'{self.num1} x {self.num2} = {self.num1 * self.num2}')\n",
        "\n",
        "  def division(self):\n",
        "    print(f'{self.num1} / {self.num2} = {self.num1 / self.num2}')"
      ],
      "metadata": {
        "id": "9M-O17GwAvXn"
      },
      "execution_count": null,
      "outputs": []
    },
    {
      "cell_type": "code",
      "source": [
        "ob = Calculator(5,2)\n",
        "ob.multiply()\n",
        "ob.division()"
      ],
      "metadata": {
        "colab": {
          "base_uri": "https://localhost:8080/"
        },
        "id": "FRcCVB1jGKZ0",
        "outputId": "8ad1c8f0-b793-4eb2-a61f-3c8faaddb581"
      },
      "execution_count": null,
      "outputs": [
        {
          "output_type": "stream",
          "name": "stdout",
          "text": [
            "Constructor called\n",
            "5 x 2 = 10\n",
            "5 / 2 = 2.5\n"
          ]
        }
      ]
    },
    {
      "cell_type": "code",
      "source": [
        "\n",
        "x = 10\n",
        "y = 10\n",
        "print('the value of x is',x,'and the value of y is',y)\n",
        "print(f'the value of x is {x} and the value of y is {y}')"
      ],
      "metadata": {
        "colab": {
          "base_uri": "https://localhost:8080/"
        },
        "id": "hVQ9Ks-7Fhvc",
        "outputId": "70ee6f14-513b-4c56-8e1d-f113c2d3d3ea"
      },
      "execution_count": null,
      "outputs": [
        {
          "output_type": "stream",
          "name": "stdout",
          "text": [
            "the value of x is 10 and the value of y is 10\n",
            "the value of x is 10 and the value of y is 10\n"
          ]
        }
      ]
    },
    {
      "cell_type": "code",
      "source": [
        "class Test:\n",
        "  def __init__(abc,name):\n",
        "    abc.name = name\n",
        "\n",
        "  def display(abc):\n",
        "    print(abc.name)"
      ],
      "metadata": {
        "id": "bsnUAbdpFtF6"
      },
      "execution_count": null,
      "outputs": []
    },
    {
      "cell_type": "code",
      "source": [
        "ob = Test('Aryan')\n",
        "ob.display()"
      ],
      "metadata": {
        "colab": {
          "base_uri": "https://localhost:8080/"
        },
        "id": "rQdAwy4qG5_K",
        "outputId": "faedc5fb-c891-49ff-9db5-3a9bb41e61f2"
      },
      "execution_count": null,
      "outputs": [
        {
          "output_type": "stream",
          "name": "stdout",
          "text": [
            "Aryan\n"
          ]
        }
      ]
    },
    {
      "cell_type": "markdown",
      "source": [
        "##**Pillars of OOP**\n",
        "###**Inheritane**\n",
        "Passing on the data members from the parent class (Base) to the child class (Derived)\n",
        "\n",
        "**Types of Inheritance**\n",
        "* Single Level Inheritance\n",
        "* Mulit Level Inheritance\n",
        "* Multiple Inheritance\n",
        "* Hierarichal Inheritance\n",
        "* Hybrid Inheritance"
      ],
      "metadata": {
        "id": "vneOfwZRHI1T"
      }
    },
    {
      "cell_type": "markdown",
      "source": [
        "**Single Level Inheritance**\n",
        "\n",
        "Parent class ------> Child class"
      ],
      "metadata": {
        "id": "a8c7FvXyJu7n"
      }
    },
    {
      "cell_type": "code",
      "source": [
        "class Parent: # Parent class\n",
        "  def display(self):\n",
        "    print('Parent class')\n",
        "\n",
        "# Child class\n",
        "class Child(Parent):\n",
        "  def show(self):\n",
        "    print('Child class')"
      ],
      "metadata": {
        "id": "V8TVVGrRG9qK"
      },
      "execution_count": null,
      "outputs": []
    },
    {
      "cell_type": "code",
      "source": [
        "ob = Child()\n",
        "ob.show()\n",
        "ob.display()"
      ],
      "metadata": {
        "colab": {
          "base_uri": "https://localhost:8080/"
        },
        "id": "CM1Xi6kYKal2",
        "outputId": "3a2660b8-c6d5-4ce4-942d-47ccc675079c"
      },
      "execution_count": null,
      "outputs": [
        {
          "output_type": "stream",
          "name": "stdout",
          "text": [
            "Child class\n",
            "Parent class\n"
          ]
        }
      ]
    },
    {
      "cell_type": "markdown",
      "source": [
        "**MultiLevel Inheritance**\n",
        "\n",
        "Parent Class -----> Child class ------> Grand Child Class"
      ],
      "metadata": {
        "id": "0Em7Hgd5LPw1"
      }
    },
    {
      "cell_type": "code",
      "source": [
        "class Parent: # Parent class\n",
        "  def display(self):\n",
        "    print('Parent class')\n",
        "\n",
        "# Child class\n",
        "class Child(Parent):\n",
        "  def show(self):\n",
        "    print('Child class')\n",
        "\n",
        "class GrandChild(Child):\n",
        "  def output(self):\n",
        "    print('Grand Child')"
      ],
      "metadata": {
        "id": "zzdGvfvJKhov"
      },
      "execution_count": null,
      "outputs": []
    },
    {
      "cell_type": "code",
      "source": [
        "ob = GrandChild()\n",
        "ob.display()\n",
        "ob.show()\n",
        "ob.output()"
      ],
      "metadata": {
        "colab": {
          "base_uri": "https://localhost:8080/"
        },
        "id": "t3v87i3oLmhd",
        "outputId": "5846aed0-9426-41bc-b8f6-c04089b9bffb"
      },
      "execution_count": null,
      "outputs": [
        {
          "output_type": "stream",
          "name": "stdout",
          "text": [
            "Parent class\n",
            "Child class\n",
            "Grand Child\n"
          ]
        }
      ]
    },
    {
      "cell_type": "markdown",
      "source": [
        "**Multiple Inheritance**\n",
        "\n",
        "Parent1 + Parent2 + ....Parent n ---------> Child Class"
      ],
      "metadata": {
        "id": "sTn1OAQ3DZcZ"
      }
    },
    {
      "cell_type": "code",
      "source": [
        "class Parent1:\n",
        "  def display(self):\n",
        "    print('Parent1')\n",
        "\n",
        "class Parent2:\n",
        "  def show(self):\n",
        "    print('Parent2')\n",
        "\n",
        "class Child(Parent1,Parent2):\n",
        "  def output(self):\n",
        "    print('Child')"
      ],
      "metadata": {
        "id": "aPuq0S4_LsDC"
      },
      "execution_count": null,
      "outputs": []
    },
    {
      "cell_type": "code",
      "source": [
        "ob = Child()\n",
        "ob.display()\n",
        "ob.show()\n",
        "ob.output()"
      ],
      "metadata": {
        "colab": {
          "base_uri": "https://localhost:8080/"
        },
        "id": "rfr3Zw37EIsC",
        "outputId": "cd264c4b-e30e-4211-cad3-7b99ba76f1c0"
      },
      "execution_count": null,
      "outputs": [
        {
          "output_type": "stream",
          "name": "stdout",
          "text": [
            "Parent1\n",
            "Parent2\n",
            "Child\n"
          ]
        }
      ]
    },
    {
      "cell_type": "markdown",
      "source": [
        "**Hierarichal Inheritance**\n",
        "\n",
        "Parent class -----> Child1 + child2 + ...."
      ],
      "metadata": {
        "id": "BhhzqwayGDg1"
      }
    },
    {
      "cell_type": "code",
      "source": [
        "class Parent:\n",
        "  def display(self):\n",
        "    print('Parent')\n",
        "\n",
        "class Child1(Parent):\n",
        "  def show(self):\n",
        "    print('Child 1')\n",
        "\n",
        "\n",
        "class Child2(Parent):\n",
        "  def output(self,b):\n",
        "    print(f'Child2 and the value is {b}')"
      ],
      "metadata": {
        "id": "lkecJ8WwEutw"
      },
      "execution_count": null,
      "outputs": []
    },
    {
      "cell_type": "code",
      "source": [
        "p1 = Child1()\n",
        "p1.display()\n",
        "p1.show()"
      ],
      "metadata": {
        "colab": {
          "base_uri": "https://localhost:8080/"
        },
        "id": "AdCPfR4-Gl-f",
        "outputId": "40768c9c-1d4f-42ec-f652-40c6121ee98e"
      },
      "execution_count": null,
      "outputs": [
        {
          "output_type": "stream",
          "name": "stdout",
          "text": [
            "Parent\n",
            "Child 1\n"
          ]
        }
      ]
    },
    {
      "cell_type": "code",
      "source": [
        "p2 = Child2()\n",
        "p2.display()\n",
        "p2.output(5)"
      ],
      "metadata": {
        "colab": {
          "base_uri": "https://localhost:8080/"
        },
        "id": "LWasKobgG1Te",
        "outputId": "0f77749e-6761-4fd8-9a09-61c167c92036"
      },
      "execution_count": null,
      "outputs": [
        {
          "output_type": "stream",
          "name": "stdout",
          "text": [
            "Parent\n",
            "Child2 and the value is 5\n"
          ]
        }
      ]
    },
    {
      "cell_type": "markdown",
      "source": [
        "###**Polymorphism**\n",
        "* A method having same name but different functionality (One method with multiple forms)\n",
        "* Method overloding: Same method name but different parameter\n",
        "\n",
        "**Note**: In Python, it is not possible --> Interpreter(Line by line execution)"
      ],
      "metadata": {
        "id": "sYNavomlOEyC"
      }
    },
    {
      "cell_type": "markdown",
      "source": [
        "**Area Example**"
      ],
      "metadata": {
        "id": "I2D_S0RbL0el"
      }
    },
    {
      "cell_type": "code",
      "source": [
        "class Shape:\n",
        "  def area(self):\n",
        "    print('Shape class area')\n",
        "\n",
        "\n",
        "class Square(Shape):\n",
        "  def area(self,a):\n",
        "    super().area() # super() function help us to call parent class method\n",
        "    print(f'Area of square with side {a} is {a*a}')\n"
      ],
      "metadata": {
        "id": "hz5NMOnPG-jn"
      },
      "execution_count": null,
      "outputs": []
    },
    {
      "cell_type": "code",
      "source": [
        "ob = Square()\n",
        "# ob.area()\n",
        "ob.area(5)"
      ],
      "metadata": {
        "colab": {
          "base_uri": "https://localhost:8080/"
        },
        "id": "5FtAiQ9aMuGt",
        "outputId": "d4b134b3-82fa-4587-adfb-09c0ae319dfc"
      },
      "execution_count": null,
      "outputs": [
        {
          "output_type": "stream",
          "name": "stdout",
          "text": [
            "Shape class area\n",
            "Area of square with side 5 is 25\n"
          ]
        }
      ]
    },
    {
      "cell_type": "markdown",
      "source": [
        "**We will create two child classes where we will take input through constructor**"
      ],
      "metadata": {
        "id": "kvoL0uheQZQd"
      }
    },
    {
      "cell_type": "code",
      "source": [
        "class Shape:\n",
        "  def area(self):\n",
        "    print('Shape class area')\n",
        "\n",
        "\n",
        "class Square:\n",
        "  def area(self,a):\n",
        "    print(f'Area of square with side {a} is {a*a}')\n",
        "\n",
        "\n",
        "class Rectangle(Shape,Square):\n",
        "  def area(self,l,b):\n",
        "    super().area() # It will call the area method of Shape\n",
        "    print(f'area of rectangle: {l*b}')"
      ],
      "metadata": {
        "id": "QMItPLi-N3vU"
      },
      "execution_count": null,
      "outputs": []
    },
    {
      "cell_type": "code",
      "source": [
        "ob = Rectangle()\n",
        "ob.area(5,4)"
      ],
      "metadata": {
        "colab": {
          "base_uri": "https://localhost:8080/"
        },
        "id": "e36YS0ddQ9Gg",
        "outputId": "31cf8f9c-1a1e-4d8d-fd53-70136939d531"
      },
      "execution_count": null,
      "outputs": [
        {
          "output_type": "stream",
          "name": "stdout",
          "text": [
            "Shape class area\n",
            "area of rectangle: 20\n"
          ]
        }
      ]
    },
    {
      "cell_type": "markdown",
      "source": [
        "When we perform multiple inheritance where both parent class is having same method name ---> Then `super()` will call only the first parent class passed while creating child class"
      ],
      "metadata": {
        "id": "k5UKgUN8R0u_"
      }
    },
    {
      "cell_type": "markdown",
      "source": [
        "**To handle above case-- we use `Parent.method(self,para)`**"
      ],
      "metadata": {
        "id": "tBz4sx_YSLr6"
      }
    },
    {
      "cell_type": "code",
      "source": [
        "class Shape:\n",
        "  def area(self):\n",
        "    print('Shape class area')\n",
        "\n",
        "\n",
        "class Square:\n",
        "  def area(self,a):\n",
        "    print(f'Area of square with side {a} is {a*a}')\n",
        "\n",
        "\n",
        "class Rectangle(Shape,Square):\n",
        "  def area(self,l,b):\n",
        "    Shape.area(self) # It will call SHape class area method\n",
        "    Square.area(self,l) # it will call Square class area method\n",
        "    print(f'area of rectangle: {l*b}')"
      ],
      "metadata": {
        "id": "oGKUKU4zRAUR"
      },
      "execution_count": null,
      "outputs": []
    },
    {
      "cell_type": "code",
      "source": [
        "ob = Rectangle()\n",
        "ob.area(5,4)"
      ],
      "metadata": {
        "colab": {
          "base_uri": "https://localhost:8080/"
        },
        "id": "G5i9C5iGSjJF",
        "outputId": "983572f6-b8cf-42ce-8e75-7cf7d78e0ee7"
      },
      "execution_count": null,
      "outputs": [
        {
          "output_type": "stream",
          "name": "stdout",
          "text": [
            "Shape class area\n",
            "Area of square with side 5 is 25\n",
            "area of rectangle: 20\n"
          ]
        }
      ]
    },
    {
      "cell_type": "code",
      "source": [
        "class Square:\n",
        "  def __init__(self,a):\n",
        "    self.a=a\n",
        "    print(\"Area of Square\",self.a*self.a)\n",
        "class Rectangle(Square):\n",
        "  def __init__(self,l,b,a):\n",
        "    self.l=l\n",
        "    self.b=b\n",
        "    print(\"Area of Rectangle\",self.l*self.b)\n",
        "    super().__init__(a)\n",
        "a=Rectangle(2,3,4)\n",
        "\n"
      ],
      "metadata": {
        "id": "R2oIuGcmkyAU",
        "colab": {
          "base_uri": "https://localhost:8080/"
        },
        "outputId": "1969ee75-b7c0-4181-f1b4-e78b0e57ed07"
      },
      "execution_count": null,
      "outputs": [
        {
          "output_type": "stream",
          "name": "stdout",
          "text": [
            "Area of Rectangle 6\n",
            "Area of Square 16\n"
          ]
        }
      ]
    },
    {
      "cell_type": "markdown",
      "source": [
        "#**Abstraction**\n",
        "1. abstract method\n",
        "2. static method\n",
        "**both called as decorator**\n",
        "##**Hiding the unnecessary(function/class) from the user**\n",
        "* abc --> abstract base class library name\n",
        "* ABC --> it is the class that we will inherit tp perform abstraction\n",
        "* abstarct method --> Decorator that he will call inside the class(abstract method)\n",
        "* **from abc import ABC,abstract method**"
      ],
      "metadata": {
        "id": "KewVp3cfG2Ag"
      }
    },
    {
      "cell_type": "code",
      "source": [
        "#step 1\n",
        "from abc import ABC,abstractmethod\n",
        "#step 2\n",
        "class Sample(ABC):\n",
        "  @abstractmethod\n",
        "  def display():\n",
        "    print(\"Abstracted\")\n",
        "#Create a child class\n",
        "class Child(Sample):\n",
        "  def display():\n",
        "    super().display()"
      ],
      "metadata": {
        "id": "Bfe-aBSvSrpk"
      },
      "execution_count": null,
      "outputs": []
    },
    {
      "cell_type": "markdown",
      "source": [
        "**Note:"
      ],
      "metadata": {
        "id": "BepvRoP0LohC"
      }
    },
    {
      "cell_type": "code",
      "source": [
        "ob=Child()\n",
        "ob.display()"
      ],
      "metadata": {
        "colab": {
          "base_uri": "https://localhost:8080/",
          "height": 158
        },
        "id": "CaUi7z0rKmoD",
        "outputId": "a8179a64-c63c-4c1d-ceaa-7ad6da773814"
      },
      "execution_count": null,
      "outputs": [
        {
          "output_type": "error",
          "ename": "TypeError",
          "evalue": "Child.display() takes 0 positional arguments but 1 was given",
          "traceback": [
            "\u001b[0;31m---------------------------------------------------------------------------\u001b[0m",
            "\u001b[0;31mTypeError\u001b[0m                                 Traceback (most recent call last)",
            "\u001b[0;32m/tmp/ipython-input-4293915183.py\u001b[0m in \u001b[0;36m<cell line: 0>\u001b[0;34m()\u001b[0m\n\u001b[1;32m      1\u001b[0m \u001b[0mob\u001b[0m\u001b[0;34m=\u001b[0m\u001b[0mChild\u001b[0m\u001b[0;34m(\u001b[0m\u001b[0;34m)\u001b[0m\u001b[0;34m\u001b[0m\u001b[0;34m\u001b[0m\u001b[0m\n\u001b[0;32m----> 2\u001b[0;31m \u001b[0mob\u001b[0m\u001b[0;34m.\u001b[0m\u001b[0mdisplay\u001b[0m\u001b[0;34m(\u001b[0m\u001b[0;34m)\u001b[0m\u001b[0;34m\u001b[0m\u001b[0;34m\u001b[0m\u001b[0m\n\u001b[0m",
            "\u001b[0;31mTypeError\u001b[0m: Child.display() takes 0 positional arguments but 1 was given"
          ]
        }
      ]
    },
    {
      "cell_type": "markdown",
      "source": [
        "#**Encapsulation**\n",
        "Wrapping up of the data members into one single unit(Attribute + Method)--> Capsule(Class)\n",
        "* we can specify which method,attribute we shoul pass to the child class with the helf of **access specifier**\n",
        "1. public() : the date that are accessible anywhere(within the class,child class,outside of the class)\n",
        "2. Private() : When the data accessible within the class\n",
        "3. Protected()\n",
        "## **self.name -> public**\n",
        "## **self._name -> protected**\n",
        "## **self.__name -> private**\n"
      ],
      "metadata": {
        "id": "cMgONlaEMbdD"
      }
    },
    {
      "cell_type": "code",
      "source": [
        "class Person:\n",
        "  def __init__(self,name,age,salary):\n",
        "    self.name=name\n",
        "    self._age=age\n",
        "    self.__salary=salary\n",
        "  def display(self):\n",
        "    print(f\"Your name:{self.name} and your age:{self._age}\")\n",
        "    print()\n",
        "    print(f\"Salary:{self.__salary}\")\n",
        "\n"
      ],
      "metadata": {
        "id": "MR7yBeOrQXZd"
      },
      "execution_count": null,
      "outputs": []
    },
    {
      "cell_type": "code",
      "source": [
        "ob=Person(\"Aryan\",30,22000)\n",
        "print(ob.name)\n",
        "print(ob._age)\n",
        "#print(ob.__salary)\n",
        "ob.display()"
      ],
      "metadata": {
        "colab": {
          "base_uri": "https://localhost:8080/"
        },
        "id": "t6pmfYBxRQNC",
        "outputId": "a100b867-ff34-4cb4-f4e0-1017f7d4f96c"
      },
      "execution_count": null,
      "outputs": [
        {
          "output_type": "stream",
          "name": "stdout",
          "text": [
            "Aryan\n",
            "30\n",
            "Your name:Aryan and your age:30\n",
            "\n",
            "Salary:22000\n"
          ]
        }
      ]
    },
    {
      "cell_type": "code",
      "source": [
        "class BankAccount:\n",
        "  def amount(self,amount=50000):\n",
        "    self.amount=amount\n",
        "    print(amount)\n",
        "  def deposite(self,amount):\n",
        "    self.amount += amount\n",
        "    print(amount)\n",
        "    print(\"Updated balance\",self.amount)\n",
        "  def withdraw(self,amount):\n",
        "    self.amount=amount\n",
        "    if amount<=self.amount:\n",
        "      print(\"Withdrawl successful\")\n",
        "    else:\n",
        "      print(\"insuffuencient amount\")\n",
        "  def checkbalance(self):\n",
        "\n",
        "    print(\"Available Balance\",self.amount)\n",
        "  def display(self):\n",
        "    print(\"Transaction Successfull\")"
      ],
      "metadata": {
        "id": "i9b8Cgj_TzWm"
      },
      "execution_count": null,
      "outputs": []
    },
    {
      "cell_type": "code",
      "source": [
        "a=BankAccount()\n",
        "a.amount()\n",
        "a.deposite(10000)\n",
        "a.withdraw(50000)\n",
        "a.checkbalance()\n",
        "a.deposite(100000)\n",
        "a.display()\n",
        "\n"
      ],
      "metadata": {
        "colab": {
          "base_uri": "https://localhost:8080/"
        },
        "id": "HBZXEvliasTs",
        "outputId": "47a459dc-9134-4f36-bb9f-1b568b35256c"
      },
      "execution_count": null,
      "outputs": [
        {
          "output_type": "stream",
          "name": "stdout",
          "text": [
            "50000\n",
            "10000\n",
            "Updated balance 60000\n",
            "Withdrawl successful\n",
            "Available Balance 50000\n",
            "100000\n",
            "Updated balance 150000\n",
            "Transaction Successfull\n"
          ]
        }
      ]
    },
    {
      "cell_type": "markdown",
      "source": [],
      "metadata": {
        "id": "-h4r5Y4nkAq3"
      }
    },
    {
      "cell_type": "code",
      "source": [
        "class Student:\n",
        "  def __init__(self,name,marks):\n",
        "    self.name=name\n",
        "    self.marks=marks\n",
        "  def percentage(self):\n",
        "    x=(sum(self.marks)/(len(self.marks)*100))*100\n",
        "    return f\"Name:{self.name} and the Percentage is:{x}\"\n",
        "a=Student(\"Mahesh\",[70,69,98,47,50,70])\n",
        "a.percentage()\n"
      ],
      "metadata": {
        "colab": {
          "base_uri": "https://localhost:8080/",
          "height": 35
        },
        "id": "JsWxGg5OikgM",
        "outputId": "e3b8a788-d2c4-48ef-c327-c9f99ba04009"
      },
      "execution_count": null,
      "outputs": [
        {
          "output_type": "execute_result",
          "data": {
            "text/plain": [
              "'Name:Mahesh and the Percentage is:67.33333333333333'"
            ],
            "application/vnd.google.colaboratory.intrinsic+json": {
              "type": "string"
            }
          },
          "metadata": {},
          "execution_count": 3
        }
      ]
    },
    {
      "cell_type": "markdown",
      "source": [],
      "metadata": {
        "id": "dKHvi-J8iI63"
      }
    }
  ]
}